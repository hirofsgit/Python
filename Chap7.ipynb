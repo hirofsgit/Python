{
  "nbformat": 4,
  "nbformat_minor": 0,
  "metadata": {
    "colab": {
      "provenance": [],
      "toc_visible": true,
      "mount_file_id": "1onk6hAjpD6Hw7F0HGemGAtKyBHK2E8s8",
      "authorship_tag": "ABX9TyOj+Fy7+exdt3FjlLzWHvKo",
      "include_colab_link": true
    },
    "kernelspec": {
      "name": "python3",
      "display_name": "Python 3"
    },
    "language_info": {
      "name": "python"
    }
  },
  "cells": [
    {
      "cell_type": "markdown",
      "metadata": {
        "id": "view-in-github",
        "colab_type": "text"
      },
      "source": [
        "<a href=\"https://colab.research.google.com/github/hirofsgit/Python_1/blob/main/Chap7.ipynb\" target=\"_parent\"><img src=\"https://colab.research.google.com/assets/colab-badge.svg\" alt=\"Open In Colab\"/></a>"
      ]
    },
    {
      "cell_type": "code",
      "source": [
        "!pip install japanize-matplotlib"
      ],
      "metadata": {
        "id": "mAdxNV2GXgKU",
        "colab": {
          "base_uri": "https://localhost:8080/"
        },
        "outputId": "d7dbf144-cfd8-49c7-8c41-e835fc8201eb"
      },
      "execution_count": null,
      "outputs": [
        {
          "output_type": "stream",
          "name": "stdout",
          "text": [
            "Looking in indexes: https://pypi.org/simple, https://us-python.pkg.dev/colab-wheels/public/simple/\n",
            "Collecting japanize-matplotlib\n",
            "  Downloading japanize-matplotlib-1.1.3.tar.gz (4.1 MB)\n",
            "\u001b[2K     \u001b[90m━━━━━━━━━━━━━━━━━━━━━━━━━━━━━━━━━━━━━━━━\u001b[0m \u001b[32m4.1/4.1 MB\u001b[0m \u001b[31m55.3 MB/s\u001b[0m eta \u001b[36m0:00:00\u001b[0m\n",
            "\u001b[?25h  Preparing metadata (setup.py) ... \u001b[?25l\u001b[?25hdone\n",
            "Requirement already satisfied: matplotlib in /usr/local/lib/python3.10/dist-packages (from japanize-matplotlib) (3.7.1)\n",
            "Requirement already satisfied: contourpy>=1.0.1 in /usr/local/lib/python3.10/dist-packages (from matplotlib->japanize-matplotlib) (1.0.7)\n",
            "Requirement already satisfied: cycler>=0.10 in /usr/local/lib/python3.10/dist-packages (from matplotlib->japanize-matplotlib) (0.11.0)\n",
            "Requirement already satisfied: fonttools>=4.22.0 in /usr/local/lib/python3.10/dist-packages (from matplotlib->japanize-matplotlib) (4.39.3)\n",
            "Requirement already satisfied: kiwisolver>=1.0.1 in /usr/local/lib/python3.10/dist-packages (from matplotlib->japanize-matplotlib) (1.4.4)\n",
            "Requirement already satisfied: numpy>=1.20 in /usr/local/lib/python3.10/dist-packages (from matplotlib->japanize-matplotlib) (1.22.4)\n",
            "Requirement already satisfied: packaging>=20.0 in /usr/local/lib/python3.10/dist-packages (from matplotlib->japanize-matplotlib) (23.1)\n",
            "Requirement already satisfied: pillow>=6.2.0 in /usr/local/lib/python3.10/dist-packages (from matplotlib->japanize-matplotlib) (8.4.0)\n",
            "Requirement already satisfied: pyparsing>=2.3.1 in /usr/local/lib/python3.10/dist-packages (from matplotlib->japanize-matplotlib) (3.0.9)\n",
            "Requirement already satisfied: python-dateutil>=2.7 in /usr/local/lib/python3.10/dist-packages (from matplotlib->japanize-matplotlib) (2.8.2)\n",
            "Requirement already satisfied: six>=1.5 in /usr/local/lib/python3.10/dist-packages (from python-dateutil>=2.7->matplotlib->japanize-matplotlib) (1.16.0)\n",
            "Building wheels for collected packages: japanize-matplotlib\n",
            "  Building wheel for japanize-matplotlib (setup.py) ... \u001b[?25l\u001b[?25hdone\n",
            "  Created wheel for japanize-matplotlib: filename=japanize_matplotlib-1.1.3-py3-none-any.whl size=4120257 sha256=03481fecc79e1418bf9711c0a401bab97ed8190d91d1f288f1101973c67984a5\n",
            "  Stored in directory: /root/.cache/pip/wheels/61/7a/6b/df1f79be9c59862525070e157e62b08eab8ece27c1b68fbb94\n",
            "Successfully built japanize-matplotlib\n",
            "Installing collected packages: japanize-matplotlib\n",
            "Successfully installed japanize-matplotlib-1.1.3\n"
          ]
        }
      ]
    },
    {
      "cell_type": "code",
      "execution_count": null,
      "metadata": {
        "id": "ZEBMkLeLVkUi"
      },
      "outputs": [],
      "source": [
        "import numpy as np\n",
        "import pandas as pd\n",
        "import matplotlib\n",
        "import matplotlib.pyplot as plt\n",
        "import seaborn as sns\n",
        "import japanize_matplotlib\n",
        "import math\n",
        "from scipy.stats import beta\n",
        "from math import factorial, log\n",
        "from scipy import special, optimize\n",
        "%matplotlib inline"
      ]
    },
    {
      "cell_type": "code",
      "source": [
        "pd.options.display.float_format = '{:.3f}'.format"
      ],
      "metadata": {
        "id": "o5c45W7zXkl5"
      },
      "execution_count": null,
      "outputs": []
    },
    {
      "cell_type": "markdown",
      "source": [
        "# 7.1"
      ],
      "metadata": {
        "id": "CD-EwM5GXydo"
      }
    },
    {
      "cell_type": "markdown",
      "source": [
        "分散Bの確認"
      ],
      "metadata": {
        "id": "W-NxjUpB775m"
      }
    },
    {
      "cell_type": "code",
      "source": [
        "x=np.linspace(0.1,10,100)\n",
        "y=x/(x+1)\n",
        "plt.plot(x,y)"
      ],
      "metadata": {
        "colab": {
          "base_uri": "https://localhost:8080/",
          "height": 447
        },
        "id": "6Qkepw9mX3SZ",
        "outputId": "bed7c4c4-f320-488e-c663-50903e16e8e9"
      },
      "execution_count": null,
      "outputs": [
        {
          "output_type": "execute_result",
          "data": {
            "text/plain": [
              "[<matplotlib.lines.Line2D at 0x7f060edae370>]"
            ]
          },
          "metadata": {},
          "execution_count": 4
        },
        {
          "output_type": "display_data",
          "data": {
            "text/plain": [
              "<Figure size 640x480 with 1 Axes>"
            ],
            "image/png": "[encoded data removed]"
          },
          "metadata": {}
        }
      ]
    },
    {
      "cell_type": "markdown",
      "source": [
        "# 7.2"
      ],
      "metadata": {
        "id": "2oXP2rUn7vLB"
      }
    },
    {
      "cell_type": "markdown",
      "source": [
        "## 表7.1"
      ],
      "metadata": {
        "id": "CtnsrQDi70Dg"
      }
    },
    {
      "cell_type": "code",
      "source": [
        "a = range(1,19)\n",
        "mle = [0.345,0.333,0.322,0.311,0.289,0.289,0.278,0.255,0.244,0.233,0.233,0.222,0.222,0.222,0.211,0.211,0.200,0.145]\n",
        "baseball = pd.DataFrame({'MLE':mle},index=a)"
      ],
      "metadata": {
        "id": "5Zah40xfZPDE"
      },
      "execution_count": null,
      "outputs": []
    },
    {
      "cell_type": "code",
      "source": [
        "p = baseball['MLE']\n",
        "p_bar = p.mean().round(3)"
      ],
      "metadata": {
        "id": "r-T0K3xx-SE0"
      },
      "execution_count": null,
      "outputs": []
    },
    {
      "cell_type": "code",
      "source": [
        "sigma_0 = p_bar * (1-p_bar)/90"
      ],
      "metadata": {
        "id": "Cm03JrSDAloV"
      },
      "execution_count": null,
      "outputs": []
    },
    {
      "cell_type": "code",
      "source": [
        "N = 18\n",
        "p_js = p_bar + (1 - (N-3)*sigma_0/sum((p - p_bar)**2))*(p-p_bar)"
      ],
      "metadata": {
        "id": "Zt6RHLBxA4Rw"
      },
      "execution_count": null,
      "outputs": []
    },
    {
      "cell_type": "code",
      "source": [
        "baseball['JS'] = p_js"
      ],
      "metadata": {
        "id": "h93GcW8rBg3u"
      },
      "execution_count": null,
      "outputs": []
    },
    {
      "cell_type": "code",
      "source": [
        " truth = [0.298,0.346,0.222,0.276,0.263,0.273,0.303,0.270,0.230,0.264,0.264,0.210,0.256,0.269,0.316,0.226,0.285,0.200]"
      ],
      "metadata": {
        "id": "ZwSVPbG6CDn-"
      },
      "execution_count": null,
      "outputs": []
    },
    {
      "cell_type": "code",
      "source": [
        "baseball['TRUTH'] = truth"
      ],
      "metadata": {
        "id": "IuOQk2D4Dy34"
      },
      "execution_count": null,
      "outputs": []
    },
    {
      "cell_type": "code",
      "source": [
        "n=90\n",
        "x = 2*(np.sqrt(n + 0.5))*np.arcsin(np.sqrt((n*p + 0.375)/(n+0.75)))"
      ],
      "metadata": {
        "id": "q0mGAqa9D5fb"
      },
      "execution_count": null,
      "outputs": []
    },
    {
      "cell_type": "code",
      "source": [
        "baseball['x'] = x"
      ],
      "metadata": {
        "id": "eL9K_oDDE9aS"
      },
      "execution_count": null,
      "outputs": []
    },
    {
      "cell_type": "code",
      "source": [
        "baseball"
      ],
      "metadata": {
        "colab": {
          "base_uri": "https://localhost:8080/",
          "height": 614
        },
        "id": "Ye65pZSqGLFl",
        "outputId": "9e5c5a45-437a-4eae-d7c9-932e0a563d02"
      },
      "execution_count": null,
      "outputs": [
        {
          "output_type": "execute_result",
          "data": {
            "text/plain": [
              "     MLE    JS  TRUTH      x\n",
              "1  0.345 0.285  0.298 11.970\n",
              "2  0.333 0.281  0.346 11.731\n",
              "3  0.322 0.277  0.222 11.511\n",
              "4  0.311 0.273  0.276 11.288\n",
              "5  0.289 0.266  0.263 10.835\n",
              "6  0.289 0.266  0.273 10.835\n",
              "7  0.278 0.262  0.303 10.606\n",
              "8  0.255 0.254  0.270 10.116\n",
              "9  0.244 0.251  0.230  9.877\n",
              "10 0.233 0.247  0.264  9.634\n",
              "11 0.233 0.247  0.264  9.634\n",
              "12 0.222 0.243  0.210  9.387\n",
              "13 0.222 0.243  0.256  9.387\n",
              "14 0.222 0.243  0.269  9.387\n",
              "15 0.211 0.239  0.316  9.136\n",
              "16 0.211 0.239  0.226  9.136\n",
              "17 0.200 0.236  0.285  8.880\n",
              "18 0.145 0.217  0.200  7.512"
            ],
            "text/html": [
              "\n",
              "  <div id=\"df-130b14f8-4583-4414-85ba-e8dfb16c77da\">\n",
              "    <div class=\"colab-df-container\">\n",
              "      <div>\n",
              "<style scoped>\n",
              "    .dataframe tbody tr th:only-of-type {\n",
              "        vertical-align: middle;\n",
              "    }\n",
              "\n",
              "    .dataframe tbody tr th {\n",
              "        vertical-align: top;\n",
              "    }\n",
              "\n",
              "    .dataframe thead th {\n",
              "        text-align: right;\n",
              "    }\n",
              "</style>\n",
              "<table border=\"1\" class=\"dataframe\">\n",
              "  <thead>\n",
              "    <tr style=\"text-align: right;\">\n",
              "      <th></th>\n",
              "      <th>MLE</th>\n",
              "      <th>JS</th>\n",
              "      <th>TRUTH</th>\n",
              "      <th>x</th>\n",
              "    </tr>\n",
              "  </thead>\n",
              "  <tbody>\n",
              "    <tr>\n",
              "      <th>1</th>\n",
              "      <td>0.345</td>\n",
              "      <td>0.285</td>\n",
              "      <td>0.298</td>\n",
              "      <td>11.970</td>\n",
              "    </tr>\n",
              "    <tr>\n",
              "      <th>2</th>\n",
              "      <td>0.333</td>\n",
              "      <td>0.281</td>\n",
              "      <td>0.346</td>\n",
              "      <td>11.731</td>\n",
              "    </tr>\n",
              "    <tr>\n",
              "      <th>3</th>\n",
              "      <td>0.322</td>\n",
              "      <td>0.277</td>\n",
              "      <td>0.222</td>\n",
              "      <td>11.511</td>\n",
              "    </tr>\n",
              "    <tr>\n",
              "      <th>4</th>\n",
              "      <td>0.311</td>\n",
              "      <td>0.273</td>\n",
              "      <td>0.276</td>\n",
              "      <td>11.288</td>\n",
              "    </tr>\n",
              "    <tr>\n",
              "      <th>5</th>\n",
              "      <td>0.289</td>\n",
              "      <td>0.266</td>\n",
              "      <td>0.263</td>\n",
              "      <td>10.835</td>\n",
              "    </tr>\n",
              "    <tr>\n",
              "      <th>6</th>\n",
              "      <td>0.289</td>\n",
              "      <td>0.266</td>\n",
              "      <td>0.273</td>\n",
              "      <td>10.835</td>\n",
              "    </tr>\n",
              "    <tr>\n",
              "      <th>7</th>\n",
              "      <td>0.278</td>\n",
              "      <td>0.262</td>\n",
              "      <td>0.303</td>\n",
              "      <td>10.606</td>\n",
              "    </tr>\n",
              "    <tr>\n",
              "      <th>8</th>\n",
              "      <td>0.255</td>\n",
              "      <td>0.254</td>\n",
              "      <td>0.270</td>\n",
              "      <td>10.116</td>\n",
              "    </tr>\n",
              "    <tr>\n",
              "      <th>9</th>\n",
              "      <td>0.244</td>\n",
              "      <td>0.251</td>\n",
              "      <td>0.230</td>\n",
              "      <td>9.877</td>\n",
              "    </tr>\n",
              "    <tr>\n",
              "      <th>10</th>\n",
              "      <td>0.233</td>\n",
              "      <td>0.247</td>\n",
              "      <td>0.264</td>\n",
              "      <td>9.634</td>\n",
              "    </tr>\n",
              "    <tr>\n",
              "      <th>11</th>\n",
              "      <td>0.233</td>\n",
              "      <td>0.247</td>\n",
              "      <td>0.264</td>\n",
              "      <td>9.634</td>\n",
              "    </tr>\n",
              "    <tr>\n",
              "      <th>12</th>\n",
              "      <td>0.222</td>\n",
              "      <td>0.243</td>\n",
              "      <td>0.210</td>\n",
              "      <td>9.387</td>\n",
              "    </tr>\n",
              "    <tr>\n",
              "      <th>13</th>\n",
              "      <td>0.222</td>\n",
              "      <td>0.243</td>\n",
              "      <td>0.256</td>\n",
              "      <td>9.387</td>\n",
              "    </tr>\n",
              "    <tr>\n",
              "      <th>14</th>\n",
              "      <td>0.222</td>\n",
              "      <td>0.243</td>\n",
              "      <td>0.269</td>\n",
              "      <td>9.387</td>\n",
              "    </tr>\n",
              "    <tr>\n",
              "      <th>15</th>\n",
              "      <td>0.211</td>\n",
              "      <td>0.239</td>\n",
              "      <td>0.316</td>\n",
              "      <td>9.136</td>\n",
              "    </tr>\n",
              "    <tr>\n",
              "      <th>16</th>\n",
              "      <td>0.211</td>\n",
              "      <td>0.239</td>\n",
              "      <td>0.226</td>\n",
              "      <td>9.136</td>\n",
              "    </tr>\n",
              "    <tr>\n",
              "      <th>17</th>\n",
              "      <td>0.200</td>\n",
              "      <td>0.236</td>\n",
              "      <td>0.285</td>\n",
              "      <td>8.880</td>\n",
              "    </tr>\n",
              "    <tr>\n",
              "      <th>18</th>\n",
              "      <td>0.145</td>\n",
              "      <td>0.217</td>\n",
              "      <td>0.200</td>\n",
              "      <td>7.512</td>\n",
              "    </tr>\n",
              "  </tbody>\n",
              "</table>\n",
              "</div>\n",
              "      <button class=\"colab-df-convert\" onclick=\"convertToInteractive('df-130b14f8-4583-4414-85ba-e8dfb16c77da')\"\n",
              "              title=\"Convert this dataframe to an interactive table.\"\n",
              "              style=\"display:none;\">\n",
              "        \n",
              "  <svg xmlns=\"http://www.w3.org/2000/svg\" height=\"24px\"viewBox=\"0 0 24 24\"\n",
              "       width=\"24px\">\n",
              "    <path d=\"M0 0h24v24H0V0z\" fill=\"none\"/>\n",
              "    <path d=\"M18.56 5.44l.94 2.06.94-2.06 2.06-.94-2.06-.94-.94-2.06-.94 2.06-2.06.94zm-11 1L8.5 8.5l.94-2.06 2.06-.94-2.06-.94L8.5 2.5l-.94 2.06-2.06.94zm10 10l.94 2.06.94-2.06 2.06-.94-2.06-.94-.94-2.06-.94 2.06-2.06.94z\"/><path d=\"M17.41 7.96l-1.37-1.37c-.4-.4-.92-.59-1.43-.59-.52 0-1.04.2-1.43.59L10.3 9.45l-7.72 7.72c-.78.78-.78 2.05 0 2.83L4 21.41c.39.39.9.59 1.41.59.51 0 1.02-.2 1.41-.59l7.78-7.78 2.81-2.81c.8-.78.8-2.07 0-2.86zM5.41 20L4 18.59l7.72-7.72 1.47 1.35L5.41 20z\"/>\n",
              "  </svg>\n",
              "      </button>\n",
              "      \n",
              "  <style>\n",
              "    .colab-df-container {\n",
              "      display:flex;\n",
              "      flex-wrap:wrap;\n",
              "      gap: 12px;\n",
              "    }\n",
              "\n",
              "    .colab-df-convert {\n",
              "      background-color: #E8F0FE;\n",
              "      border: none;\n",
              "      border-radius: 50%;\n",
              "      cursor: pointer;\n",
              "      display: none;\n",
              "      fill: #1967D2;\n",
              "      height: 32px;\n",
              "      padding: 0 0 0 0;\n",
              "      width: 32px;\n",
              "    }\n",
              "\n",
              "    .colab-df-convert:hover {\n",
              "      background-color: #E2EBFA;\n",
              "      box-shadow: 0px 1px 2px rgba(60, 64, 67, 0.3), 0px 1px 3px 1px rgba(60, 64, 67, 0.15);\n",
              "      fill: #174EA6;\n",
              "    }\n",
              "\n",
              "    [theme=dark] .colab-df-convert {\n",
              "      background-color: #3B4455;\n",
              "      fill: #D2E3FC;\n",
              "    }\n",
              "\n",
              "    [theme=dark] .colab-df-convert:hover {\n",
              "      background-color: #434B5C;\n",
              "      box-shadow: 0px 1px 3px 1px rgba(0, 0, 0, 0.15);\n",
              "      filter: drop-shadow(0px 1px 2px rgba(0, 0, 0, 0.3));\n",
              "      fill: #FFFFFF;\n",
              "    }\n",
              "  </style>\n",
              "\n",
              "      <script>\n",
              "        const buttonEl =\n",
              "          document.querySelector('#df-130b14f8-4583-4414-85ba-e8dfb16c77da button.colab-df-convert');\n",
              "        buttonEl.style.display =\n",
              "          google.colab.kernel.accessAllowed ? 'block' : 'none';\n",
              "\n",
              "        async function convertToInteractive(key) {\n",
              "          const element = document.querySelector('#df-130b14f8-4583-4414-85ba-e8dfb16c77da');\n",
              "          const dataTable =\n",
              "            await google.colab.kernel.invokeFunction('convertToInteractive',\n",
              "                                                     [key], {});\n",
              "          if (!dataTable) return;\n",
              "\n",
              "          const docLinkHtml = 'Like what you see? Visit the ' +\n",
              "            '<a target=\"_blank\" href=https://colab.research.google.com/notebooks/data_table.ipynb>data table notebook</a>'\n",
              "            + ' to learn more about interactive tables.';\n",
              "          element.innerHTML = '';\n",
              "          dataTable['output_type'] = 'display_data';\n",
              "          await google.colab.output.renderOutput(dataTable, element);\n",
              "          const docLink = document.createElement('div');\n",
              "          docLink.innerHTML = docLinkHtml;\n",
              "          element.appendChild(docLink);\n",
              "        }\n",
              "      </script>\n",
              "    </div>\n",
              "  </div>\n",
              "  "
            ]
          },
          "metadata": {},
          "execution_count": 58
        }
      ]
    },
    {
      "cell_type": "code",
      "source": [
        "baseball.to_csv('/content/drive/MyDrive/baseball.csv')"
      ],
      "metadata": {
        "id": "wRa7siGJGN_B"
      },
      "execution_count": null,
      "outputs": []
    },
    {
      "cell_type": "code",
      "source": [
        "baseball = pd.read_csv('/content/baseball.csv', index_col=0)\n",
        "baseball.head()"
      ],
      "metadata": {
        "colab": {
          "base_uri": "https://localhost:8080/",
          "height": 206
        },
        "id": "CK1_G9e4Iw3b",
        "outputId": "18c86182-e6e8-4980-a462-9632a0f9d1d8"
      },
      "execution_count": null,
      "outputs": [
        {
          "output_type": "execute_result",
          "data": {
            "text/plain": [
              "    MLE    JS  TRUTH      x\n",
              "1 0.345 0.285  0.298 11.970\n",
              "2 0.333 0.281  0.346 11.731\n",
              "3 0.322 0.277  0.222 11.511\n",
              "4 0.311 0.273  0.276 11.288\n",
              "5 0.289 0.266  0.263 10.835"
            ],
            "text/html": [
              "\n",
              "  <div id=\"df-1440ecfe-5714-4b38-94d2-7ac49543a142\">\n",
              "    <div class=\"colab-df-container\">\n",
              "      <div>\n",
              "<style scoped>\n",
              "    .dataframe tbody tr th:only-of-type {\n",
              "        vertical-align: middle;\n",
              "    }\n",
              "\n",
              "    .dataframe tbody tr th {\n",
              "        vertical-align: top;\n",
              "    }\n",
              "\n",
              "    .dataframe thead th {\n",
              "        text-align: right;\n",
              "    }\n",
              "</style>\n",
              "<table border=\"1\" class=\"dataframe\">\n",
              "  <thead>\n",
              "    <tr style=\"text-align: right;\">\n",
              "      <th></th>\n",
              "      <th>MLE</th>\n",
              "      <th>JS</th>\n",
              "      <th>TRUTH</th>\n",
              "      <th>x</th>\n",
              "    </tr>\n",
              "  </thead>\n",
              "  <tbody>\n",
              "    <tr>\n",
              "      <th>1</th>\n",
              "      <td>0.345</td>\n",
              "      <td>0.285</td>\n",
              "      <td>0.298</td>\n",
              "      <td>11.970</td>\n",
              "    </tr>\n",
              "    <tr>\n",
              "      <th>2</th>\n",
              "      <td>0.333</td>\n",
              "      <td>0.281</td>\n",
              "      <td>0.346</td>\n",
              "      <td>11.731</td>\n",
              "    </tr>\n",
              "    <tr>\n",
              "      <th>3</th>\n",
              "      <td>0.322</td>\n",
              "      <td>0.277</td>\n",
              "      <td>0.222</td>\n",
              "      <td>11.511</td>\n",
              "    </tr>\n",
              "    <tr>\n",
              "      <th>4</th>\n",
              "      <td>0.311</td>\n",
              "      <td>0.273</td>\n",
              "      <td>0.276</td>\n",
              "      <td>11.288</td>\n",
              "    </tr>\n",
              "    <tr>\n",
              "      <th>5</th>\n",
              "      <td>0.289</td>\n",
              "      <td>0.266</td>\n",
              "      <td>0.263</td>\n",
              "      <td>10.835</td>\n",
              "    </tr>\n",
              "  </tbody>\n",
              "</table>\n",
              "</div>\n",
              "      <button class=\"colab-df-convert\" onclick=\"convertToInteractive('df-1440ecfe-5714-4b38-94d2-7ac49543a142')\"\n",
              "              title=\"Convert this dataframe to an interactive table.\"\n",
              "              style=\"display:none;\">\n",
              "        \n",
              "  <svg xmlns=\"http://www.w3.org/2000/svg\" height=\"24px\"viewBox=\"0 0 24 24\"\n",
              "       width=\"24px\">\n",
              "    <path d=\"M0 0h24v24H0V0z\" fill=\"none\"/>\n",
              "    <path d=\"M18.56 5.44l.94 2.06.94-2.06 2.06-.94-2.06-.94-.94-2.06-.94 2.06-2.06.94zm-11 1L8.5 8.5l.94-2.06 2.06-.94-2.06-.94L8.5 2.5l-.94 2.06-2.06.94zm10 10l.94 2.06.94-2.06 2.06-.94-2.06-.94-.94-2.06-.94 2.06-2.06.94z\"/><path d=\"M17.41 7.96l-1.37-1.37c-.4-.4-.92-.59-1.43-.59-.52 0-1.04.2-1.43.59L10.3 9.45l-7.72 7.72c-.78.78-.78 2.05 0 2.83L4 21.41c.39.39.9.59 1.41.59.51 0 1.02-.2 1.41-.59l7.78-7.78 2.81-2.81c.8-.78.8-2.07 0-2.86zM5.41 20L4 18.59l7.72-7.72 1.47 1.35L5.41 20z\"/>\n",
              "  </svg>\n",
              "      </button>\n",
              "      \n",
              "  <style>\n",
              "    .colab-df-container {\n",
              "      display:flex;\n",
              "      flex-wrap:wrap;\n",
              "      gap: 12px;\n",
              "    }\n",
              "\n",
              "    .colab-df-convert {\n",
              "      background-color: #E8F0FE;\n",
              "      border: none;\n",
              "      border-radius: 50%;\n",
              "      cursor: pointer;\n",
              "      display: none;\n",
              "      fill: #1967D2;\n",
              "      height: 32px;\n",
              "      padding: 0 0 0 0;\n",
              "      width: 32px;\n",
              "    }\n",
              "\n",
              "    .colab-df-convert:hover {\n",
              "      background-color: #E2EBFA;\n",
              "      box-shadow: 0px 1px 2px rgba(60, 64, 67, 0.3), 0px 1px 3px 1px rgba(60, 64, 67, 0.15);\n",
              "      fill: #174EA6;\n",
              "    }\n",
              "\n",
              "    [theme=dark] .colab-df-convert {\n",
              "      background-color: #3B4455;\n",
              "      fill: #D2E3FC;\n",
              "    }\n",
              "\n",
              "    [theme=dark] .colab-df-convert:hover {\n",
              "      background-color: #434B5C;\n",
              "      box-shadow: 0px 1px 3px 1px rgba(0, 0, 0, 0.15);\n",
              "      filter: drop-shadow(0px 1px 2px rgba(0, 0, 0, 0.3));\n",
              "      fill: #FFFFFF;\n",
              "    }\n",
              "  </style>\n",
              "\n",
              "      <script>\n",
              "        const buttonEl =\n",
              "          document.querySelector('#df-1440ecfe-5714-4b38-94d2-7ac49543a142 button.colab-df-convert');\n",
              "        buttonEl.style.display =\n",
              "          google.colab.kernel.accessAllowed ? 'block' : 'none';\n",
              "\n",
              "        async function convertToInteractive(key) {\n",
              "          const element = document.querySelector('#df-1440ecfe-5714-4b38-94d2-7ac49543a142');\n",
              "          const dataTable =\n",
              "            await google.colab.kernel.invokeFunction('convertToInteractive',\n",
              "                                                     [key], {});\n",
              "          if (!dataTable) return;\n",
              "\n",
              "          const docLinkHtml = 'Like what you see? Visit the ' +\n",
              "            '<a target=\"_blank\" href=https://colab.research.google.com/notebooks/data_table.ipynb>data table notebook</a>'\n",
              "            + ' to learn more about interactive tables.';\n",
              "          element.innerHTML = '';\n",
              "          dataTable['output_type'] = 'display_data';\n",
              "          await google.colab.output.renderOutput(dataTable, element);\n",
              "          const docLink = document.createElement('div');\n",
              "          docLink.innerHTML = docLinkHtml;\n",
              "          element.appendChild(docLink);\n",
              "        }\n",
              "      </script>\n",
              "    </div>\n",
              "  </div>\n",
              "  "
            ]
          },
          "metadata": {},
          "execution_count": 4
        }
      ]
    },
    {
      "cell_type": "markdown",
      "source": [
        "## 図7.1"
      ],
      "metadata": {
        "id": "SJphG7UUL8Vr"
      }
    },
    {
      "cell_type": "code",
      "source": [
        "plt.scatter(x=baseball['MLE'], y=[1]*18, label='MLE')\n",
        "plt.scatter(x=baseball['JS'], y=[0]*18, label='JS')\n",
        "plt.scatter(x=baseball['TRUTH'], y=[-1]*18, label='真値')\n",
        "ax = plt.gca()\n",
        "ax.axes.yaxis.set_visible(False)\n",
        "plt.legend()"
      ],
      "metadata": {
        "colab": {
          "base_uri": "https://localhost:8080/",
          "height": 447
        },
        "id": "stT6GW2cMAgk",
        "outputId": "6ddc7802-2d08-4ca1-a5af-9f8c008e35cc"
      },
      "execution_count": null,
      "outputs": [
        {
          "output_type": "execute_result",
          "data": {
            "text/plain": [
              "<matplotlib.legend.Legend at 0x7f3bd8968a30>"
            ]
          },
          "metadata": {},
          "execution_count": 10
        },
        {
          "output_type": "display_data",
          "data": {
            "text/plain": [
              "<Figure size 640x480 with 1 Axes>"
            ],
            "image/png": "[encoded data removed]"
          },
          "metadata": {}
        }
      ]
    },
    {
      "cell_type": "code",
      "source": [
        "p_bar = baseball['MLE'].mean()"
      ],
      "metadata": {
        "id": "MuxugzrwJB1T"
      },
      "execution_count": null,
      "outputs": []
    },
    {
      "cell_type": "code",
      "source": [
        "p_bar"
      ],
      "metadata": {
        "colab": {
          "base_uri": "https://localhost:8080/"
        },
        "id": "CWPIDgm0JSGe",
        "outputId": "d62edbce-3db0-4c1b-c0ab-4cc802d5cf37"
      },
      "execution_count": null,
      "outputs": [
        {
          "output_type": "execute_result",
          "data": {
            "text/plain": [
              "0.2536111111111111"
            ]
          },
          "metadata": {},
          "execution_count": 59
        }
      ]
    },
    {
      "cell_type": "code",
      "source": [
        "np.linalg.norm(baseball['TRUTH'] - p_bar)**2"
      ],
      "metadata": {
        "colab": {
          "base_uri": "https://localhost:8080/"
        },
        "id": "1hiegvXBJVTp",
        "outputId": "b54501f5-c2c1-4da6-97f1-055bc34e5463"
      },
      "execution_count": null,
      "outputs": [
        {
          "output_type": "execute_result",
          "data": {
            "text/plain": [
              "0.026610499999999992"
            ]
          },
          "metadata": {},
          "execution_count": 60
        }
      ]
    },
    {
      "cell_type": "code",
      "source": [
        "N = 18\n",
        "p = baseball['MLE']\n",
        "sigma_0 = p_bar * (1-p_bar)/90\n",
        "B_hat =  1 - (N-3)*sigma_0/sum((p - p_bar)**2)"
      ],
      "metadata": {
        "id": "3ZZfQeMFWp3m"
      },
      "execution_count": null,
      "outputs": []
    },
    {
      "cell_type": "code",
      "source": [
        "B_hat"
      ],
      "metadata": {
        "colab": {
          "base_uri": "https://localhost:8080/"
        },
        "id": "IkLJI3sAX8dJ",
        "outputId": "f7f7c7da-6766-4cad-f8af-91895732233b"
      },
      "execution_count": null,
      "outputs": [
        {
          "output_type": "execute_result",
          "data": {
            "text/plain": [
              "0.3422996606596531"
            ]
          },
          "metadata": {},
          "execution_count": 17
        }
      ]
    },
    {
      "cell_type": "markdown",
      "source": [
        "# 7.3"
      ],
      "metadata": {
        "id": "EiuCRxgwIZxg"
      }
    },
    {
      "cell_type": "markdown",
      "source": [
        "## 表７.2\n",
        "\n",
        "糖尿病の研究におけるn=442人の患者のうちの最初の7人。\n",
        "\n",
        " age, sex, ..., gluからなる10個の基本ん計測項目により、1年後の疾病進行progを予測する"
      ],
      "metadata": {
        "id": "W0MJ1G_3IgHf"
      }
    },
    {
      "cell_type": "code",
      "source": [
        "diabetes = pd.read_csv('/content/diabetes.csv',index_col=0)"
      ],
      "metadata": {
        "id": "LenXrfd5IXtO"
      },
      "execution_count": null,
      "outputs": []
    },
    {
      "cell_type": "code",
      "source": [
        "diabetes"
      ],
      "metadata": {
        "id": "QtoXD_LGHtsx",
        "colab": {
          "base_uri": "https://localhost:8080/",
          "height": 424
        },
        "outputId": "24046d6f-c17a-421d-92d8-5fa2dd276dbe"
      },
      "execution_count": null,
      "outputs": [
        {
          "output_type": "execute_result",
          "data": {
            "text/plain": [
              "     age  sex    bmi     map   tc     ldl    hdl   tch   ltg  glu  prog\n",
              "1     59    1 32.100 101.000  157  93.200 38.000 4.000 2.111   87   151\n",
              "2     48    0 21.600  87.000  183 103.200 70.000 3.000 1.690   69    75\n",
              "3     72    1 30.500  93.000  156  93.600 41.000 4.000 2.029   85   141\n",
              "4     24    0 25.300  84.000  198 131.400 40.000 5.000 2.124   89   206\n",
              "5     50    0 23.000 101.000  192 125.400 52.000 4.000 1.863   80   135\n",
              "..   ...  ...    ...     ...  ...     ...    ...   ...   ...  ...   ...\n",
              "438   60    1 28.200 112.000  185 113.800 42.000 4.000 2.164   93   178\n",
              "439   47    1 24.900  75.000  225 166.000 42.000 5.000 1.929  102   104\n",
              "440   60    1 24.900  99.667  162 106.600 43.000 3.770 1.792   95   132\n",
              "441   36    0 30.000  95.000  201 125.200 42.000 4.790 2.228   85   220\n",
              "442   36    0 19.600  71.000  250 133.200 97.000 3.000 1.996   92    57\n",
              "\n",
              "[442 rows x 11 columns]"
            ],
            "text/html": [
              "\n",
              "  <div id=\"df-7e672ee6-6605-4e84-a102-a87171a381d5\">\n",
              "    <div class=\"colab-df-container\">\n",
              "      <div>\n",
              "<style scoped>\n",
              "    .dataframe tbody tr th:only-of-type {\n",
              "        vertical-align: middle;\n",
              "    }\n",
              "\n",
              "    .dataframe tbody tr th {\n",
              "        vertical-align: top;\n",
              "    }\n",
              "\n",
              "    .dataframe thead th {\n",
              "        text-align: right;\n",
              "    }\n",
              "</style>\n",
              "<table border=\"1\" class=\"dataframe\">\n",
              "  <thead>\n",
              "    <tr style=\"text-align: right;\">\n",
              "      <th></th>\n",
              "      <th>age</th>\n",
              "      <th>sex</th>\n",
              "      <th>bmi</th>\n",
              "      <th>map</th>\n",
              "      <th>tc</th>\n",
              "      <th>ldl</th>\n",
              "      <th>hdl</th>\n",
              "      <th>tch</th>\n",
              "      <th>ltg</th>\n",
              "      <th>glu</th>\n",
              "      <th>prog</th>\n",
              "    </tr>\n",
              "  </thead>\n",
              "  <tbody>\n",
              "    <tr>\n",
              "      <th>1</th>\n",
              "      <td>59</td>\n",
              "      <td>1</td>\n",
              "      <td>32.100</td>\n",
              "      <td>101.000</td>\n",
              "      <td>157</td>\n",
              "      <td>93.200</td>\n",
              "      <td>38.000</td>\n",
              "      <td>4.000</td>\n",
              "      <td>2.111</td>\n",
              "      <td>87</td>\n",
              "      <td>151</td>\n",
              "    </tr>\n",
              "    <tr>\n",
              "      <th>2</th>\n",
              "      <td>48</td>\n",
              "      <td>0</td>\n",
              "      <td>21.600</td>\n",
              "      <td>87.000</td>\n",
              "      <td>183</td>\n",
              "      <td>103.200</td>\n",
              "      <td>70.000</td>\n",
              "      <td>3.000</td>\n",
              "      <td>1.690</td>\n",
              "      <td>69</td>\n",
              "      <td>75</td>\n",
              "    </tr>\n",
              "    <tr>\n",
              "      <th>3</th>\n",
              "      <td>72</td>\n",
              "      <td>1</td>\n",
              "      <td>30.500</td>\n",
              "      <td>93.000</td>\n",
              "      <td>156</td>\n",
              "      <td>93.600</td>\n",
              "      <td>41.000</td>\n",
              "      <td>4.000</td>\n",
              "      <td>2.029</td>\n",
              "      <td>85</td>\n",
              "      <td>141</td>\n",
              "    </tr>\n",
              "    <tr>\n",
              "      <th>4</th>\n",
              "      <td>24</td>\n",
              "      <td>0</td>\n",
              "      <td>25.300</td>\n",
              "      <td>84.000</td>\n",
              "      <td>198</td>\n",
              "      <td>131.400</td>\n",
              "      <td>40.000</td>\n",
              "      <td>5.000</td>\n",
              "      <td>2.124</td>\n",
              "      <td>89</td>\n",
              "      <td>206</td>\n",
              "    </tr>\n",
              "    <tr>\n",
              "      <th>5</th>\n",
              "      <td>50</td>\n",
              "      <td>0</td>\n",
              "      <td>23.000</td>\n",
              "      <td>101.000</td>\n",
              "      <td>192</td>\n",
              "      <td>125.400</td>\n",
              "      <td>52.000</td>\n",
              "      <td>4.000</td>\n",
              "      <td>1.863</td>\n",
              "      <td>80</td>\n",
              "      <td>135</td>\n",
              "    </tr>\n",
              "    <tr>\n",
              "      <th>...</th>\n",
              "      <td>...</td>\n",
              "      <td>...</td>\n",
              "      <td>...</td>\n",
              "      <td>...</td>\n",
              "      <td>...</td>\n",
              "      <td>...</td>\n",
              "      <td>...</td>\n",
              "      <td>...</td>\n",
              "      <td>...</td>\n",
              "      <td>...</td>\n",
              "      <td>...</td>\n",
              "    </tr>\n",
              "    <tr>\n",
              "      <th>438</th>\n",
              "      <td>60</td>\n",
              "      <td>1</td>\n",
              "      <td>28.200</td>\n",
              "      <td>112.000</td>\n",
              "      <td>185</td>\n",
              "      <td>113.800</td>\n",
              "      <td>42.000</td>\n",
              "      <td>4.000</td>\n",
              "      <td>2.164</td>\n",
              "      <td>93</td>\n",
              "      <td>178</td>\n",
              "    </tr>\n",
              "    <tr>\n",
              "      <th>439</th>\n",
              "      <td>47</td>\n",
              "      <td>1</td>\n",
              "      <td>24.900</td>\n",
              "      <td>75.000</td>\n",
              "      <td>225</td>\n",
              "      <td>166.000</td>\n",
              "      <td>42.000</td>\n",
              "      <td>5.000</td>\n",
              "      <td>1.929</td>\n",
              "      <td>102</td>\n",
              "      <td>104</td>\n",
              "    </tr>\n",
              "    <tr>\n",
              "      <th>440</th>\n",
              "      <td>60</td>\n",
              "      <td>1</td>\n",
              "      <td>24.900</td>\n",
              "      <td>99.667</td>\n",
              "      <td>162</td>\n",
              "      <td>106.600</td>\n",
              "      <td>43.000</td>\n",
              "      <td>3.770</td>\n",
              "      <td>1.792</td>\n",
              "      <td>95</td>\n",
              "      <td>132</td>\n",
              "    </tr>\n",
              "    <tr>\n",
              "      <th>441</th>\n",
              "      <td>36</td>\n",
              "      <td>0</td>\n",
              "      <td>30.000</td>\n",
              "      <td>95.000</td>\n",
              "      <td>201</td>\n",
              "      <td>125.200</td>\n",
              "      <td>42.000</td>\n",
              "      <td>4.790</td>\n",
              "      <td>2.228</td>\n",
              "      <td>85</td>\n",
              "      <td>220</td>\n",
              "    </tr>\n",
              "    <tr>\n",
              "      <th>442</th>\n",
              "      <td>36</td>\n",
              "      <td>0</td>\n",
              "      <td>19.600</td>\n",
              "      <td>71.000</td>\n",
              "      <td>250</td>\n",
              "      <td>133.200</td>\n",
              "      <td>97.000</td>\n",
              "      <td>3.000</td>\n",
              "      <td>1.996</td>\n",
              "      <td>92</td>\n",
              "      <td>57</td>\n",
              "    </tr>\n",
              "  </tbody>\n",
              "</table>\n",
              "<p>442 rows × 11 columns</p>\n",
              "</div>\n",
              "      <button class=\"colab-df-convert\" onclick=\"convertToInteractive('df-7e672ee6-6605-4e84-a102-a87171a381d5')\"\n",
              "              title=\"Convert this dataframe to an interactive table.\"\n",
              "              style=\"display:none;\">\n",
              "        \n",
              "  <svg xmlns=\"http://www.w3.org/2000/svg\" height=\"24px\"viewBox=\"0 0 24 24\"\n",
              "       width=\"24px\">\n",
              "    <path d=\"M0 0h24v24H0V0z\" fill=\"none\"/>\n",
              "    <path d=\"M18.56 5.44l.94 2.06.94-2.06 2.06-.94-2.06-.94-.94-2.06-.94 2.06-2.06.94zm-11 1L8.5 8.5l.94-2.06 2.06-.94-2.06-.94L8.5 2.5l-.94 2.06-2.06.94zm10 10l.94 2.06.94-2.06 2.06-.94-2.06-.94-.94-2.06-.94 2.06-2.06.94z\"/><path d=\"M17.41 7.96l-1.37-1.37c-.4-.4-.92-.59-1.43-.59-.52 0-1.04.2-1.43.59L10.3 9.45l-7.72 7.72c-.78.78-.78 2.05 0 2.83L4 21.41c.39.39.9.59 1.41.59.51 0 1.02-.2 1.41-.59l7.78-7.78 2.81-2.81c.8-.78.8-2.07 0-2.86zM5.41 20L4 18.59l7.72-7.72 1.47 1.35L5.41 20z\"/>\n",
              "  </svg>\n",
              "      </button>\n",
              "      \n",
              "  <style>\n",
              "    .colab-df-container {\n",
              "      display:flex;\n",
              "      flex-wrap:wrap;\n",
              "      gap: 12px;\n",
              "    }\n",
              "\n",
              "    .colab-df-convert {\n",
              "      background-color: #E8F0FE;\n",
              "      border: none;\n",
              "      border-radius: 50%;\n",
              "      cursor: pointer;\n",
              "      display: none;\n",
              "      fill: #1967D2;\n",
              "      height: 32px;\n",
              "      padding: 0 0 0 0;\n",
              "      width: 32px;\n",
              "    }\n",
              "\n",
              "    .colab-df-convert:hover {\n",
              "      background-color: #E2EBFA;\n",
              "      box-shadow: 0px 1px 2px rgba(60, 64, 67, 0.3), 0px 1px 3px 1px rgba(60, 64, 67, 0.15);\n",
              "      fill: #174EA6;\n",
              "    }\n",
              "\n",
              "    [theme=dark] .colab-df-convert {\n",
              "      background-color: #3B4455;\n",
              "      fill: #D2E3FC;\n",
              "    }\n",
              "\n",
              "    [theme=dark] .colab-df-convert:hover {\n",
              "      background-color: #434B5C;\n",
              "      box-shadow: 0px 1px 3px 1px rgba(0, 0, 0, 0.15);\n",
              "      filter: drop-shadow(0px 1px 2px rgba(0, 0, 0, 0.3));\n",
              "      fill: #FFFFFF;\n",
              "    }\n",
              "  </style>\n",
              "\n",
              "      <script>\n",
              "        const buttonEl =\n",
              "          document.querySelector('#df-7e672ee6-6605-4e84-a102-a87171a381d5 button.colab-df-convert');\n",
              "        buttonEl.style.display =\n",
              "          google.colab.kernel.accessAllowed ? 'block' : 'none';\n",
              "\n",
              "        async function convertToInteractive(key) {\n",
              "          const element = document.querySelector('#df-7e672ee6-6605-4e84-a102-a87171a381d5');\n",
              "          const dataTable =\n",
              "            await google.colab.kernel.invokeFunction('convertToInteractive',\n",
              "                                                     [key], {});\n",
              "          if (!dataTable) return;\n",
              "\n",
              "          const docLinkHtml = 'Like what you see? Visit the ' +\n",
              "            '<a target=\"_blank\" href=https://colab.research.google.com/notebooks/data_table.ipynb>data table notebook</a>'\n",
              "            + ' to learn more about interactive tables.';\n",
              "          element.innerHTML = '';\n",
              "          dataTable['output_type'] = 'display_data';\n",
              "          await google.colab.output.renderOutput(dataTable, element);\n",
              "          const docLink = document.createElement('div');\n",
              "          docLink.innerHTML = docLinkHtml;\n",
              "          element.appendChild(docLink);\n",
              "        }\n",
              "      </script>\n",
              "    </div>\n",
              "  </div>\n",
              "  "
            ]
          },
          "metadata": {},
          "execution_count": 19
        }
      ]
    },
    {
      "cell_type": "markdown",
      "source": [
        "## 図7.2"
      ],
      "metadata": {
        "id": "U6RMCR3Xj8NJ"
      }
    },
    {
      "cell_type": "code",
      "source": [
        "X = diabetes.drop('prog',axis=1)\n",
        "y = diabetes['prog']"
      ],
      "metadata": {
        "id": "E9NmHz3RAClh"
      },
      "execution_count": null,
      "outputs": []
    },
    {
      "cell_type": "code",
      "source": [
        "from sklearn.model_selection import train_test_split, cross_validate, KFold, GridSearchCV"
      ],
      "metadata": {
        "id": "S34fbFBujFWd"
      },
      "execution_count": null,
      "outputs": []
    },
    {
      "cell_type": "code",
      "source": [
        "X_train, X_test, y_train, y_test = train_test_split(X, y, test_size=0.3, random_state=1234)"
      ],
      "metadata": {
        "id": "SIuiELCUCVWy"
      },
      "execution_count": null,
      "outputs": []
    },
    {
      "cell_type": "code",
      "source": [
        "n=len(X_train)\n",
        "\n",
        "X_train_sc = (X_train - X_train.mean())/(np.sqrt(n-1) * X_train.std())\n",
        "X_test_sc = (X_test - X_train.mean())/(np.sqrt(n-1) * X_train.std())\n",
        "y_train_sc = y_train - y_train.mean()\n",
        "y_test_sc = y_test - y_train.mean()"
      ],
      "metadata": {
        "id": "Sey57W7zMqg1"
      },
      "execution_count": null,
      "outputs": []
    },
    {
      "cell_type": "code",
      "source": [
        "S = X_train_sc.T @ X_train_sc\n",
        "S"
      ],
      "metadata": {
        "colab": {
          "base_uri": "https://localhost:8080/",
          "height": 363
        },
        "id": "2BUFsiHJHxpi",
        "outputId": "d2284648-90ac-492a-cbaf-71d4c2de2135"
      },
      "execution_count": null,
      "outputs": [
        {
          "output_type": "execute_result",
          "data": {
            "text/plain": [
              "       age    sex    bmi    map    tc    ldl    hdl    tch    ltg    glu\n",
              "age  1.000  0.189  0.167  0.344 0.273  0.240 -0.102  0.240  0.264  0.288\n",
              "sex  0.189  1.000  0.051  0.218 0.045  0.143 -0.354  0.317  0.142  0.227\n",
              "bmi  0.167  0.051  1.000  0.386 0.262  0.264 -0.367  0.422  0.451  0.393\n",
              "map  0.344  0.218  0.386  1.000 0.276  0.248 -0.255  0.328  0.397  0.390\n",
              "tc   0.273  0.045  0.262  0.276 1.000  0.890  0.055  0.533  0.523  0.297\n",
              "ldl  0.240  0.143  0.264  0.248 0.890  1.000 -0.200  0.645  0.318  0.287\n",
              "hdl -0.102 -0.354 -0.367 -0.255 0.055 -0.200  1.000 -0.739 -0.400 -0.354\n",
              "tch  0.240  0.317  0.422  0.328 0.533  0.645 -0.739  1.000  0.632  0.483\n",
              "ltg  0.264  0.142  0.451  0.397 0.523  0.318 -0.400  0.632  1.000  0.452\n",
              "glu  0.288  0.227  0.393  0.390 0.297  0.287 -0.354  0.483  0.452  1.000"
            ],
            "text/html": [
              "\n",
              "  <div id=\"df-89c2da9c-34bb-498f-9cd6-78586f56119c\">\n",
              "    <div class=\"colab-df-container\">\n",
              "      <div>\n",
              "<style scoped>\n",
              "    .dataframe tbody tr th:only-of-type {\n",
              "        vertical-align: middle;\n",
              "    }\n",
              "\n",
              "    .dataframe tbody tr th {\n",
              "        vertical-align: top;\n",
              "    }\n",
              "\n",
              "    .dataframe thead th {\n",
              "        text-align: right;\n",
              "    }\n",
              "</style>\n",
              "<table border=\"1\" class=\"dataframe\">\n",
              "  <thead>\n",
              "    <tr style=\"text-align: right;\">\n",
              "      <th></th>\n",
              "      <th>age</th>\n",
              "      <th>sex</th>\n",
              "      <th>bmi</th>\n",
              "      <th>map</th>\n",
              "      <th>tc</th>\n",
              "      <th>ldl</th>\n",
              "      <th>hdl</th>\n",
              "      <th>tch</th>\n",
              "      <th>ltg</th>\n",
              "      <th>glu</th>\n",
              "    </tr>\n",
              "  </thead>\n",
              "  <tbody>\n",
              "    <tr>\n",
              "      <th>age</th>\n",
              "      <td>1.000</td>\n",
              "      <td>0.189</td>\n",
              "      <td>0.167</td>\n",
              "      <td>0.344</td>\n",
              "      <td>0.273</td>\n",
              "      <td>0.240</td>\n",
              "      <td>-0.102</td>\n",
              "      <td>0.240</td>\n",
              "      <td>0.264</td>\n",
              "      <td>0.288</td>\n",
              "    </tr>\n",
              "    <tr>\n",
              "      <th>sex</th>\n",
              "      <td>0.189</td>\n",
              "      <td>1.000</td>\n",
              "      <td>0.051</td>\n",
              "      <td>0.218</td>\n",
              "      <td>0.045</td>\n",
              "      <td>0.143</td>\n",
              "      <td>-0.354</td>\n",
              "      <td>0.317</td>\n",
              "      <td>0.142</td>\n",
              "      <td>0.227</td>\n",
              "    </tr>\n",
              "    <tr>\n",
              "      <th>bmi</th>\n",
              "      <td>0.167</td>\n",
              "      <td>0.051</td>\n",
              "      <td>1.000</td>\n",
              "      <td>0.386</td>\n",
              "      <td>0.262</td>\n",
              "      <td>0.264</td>\n",
              "      <td>-0.367</td>\n",
              "      <td>0.422</td>\n",
              "      <td>0.451</td>\n",
              "      <td>0.393</td>\n",
              "    </tr>\n",
              "    <tr>\n",
              "      <th>map</th>\n",
              "      <td>0.344</td>\n",
              "      <td>0.218</td>\n",
              "      <td>0.386</td>\n",
              "      <td>1.000</td>\n",
              "      <td>0.276</td>\n",
              "      <td>0.248</td>\n",
              "      <td>-0.255</td>\n",
              "      <td>0.328</td>\n",
              "      <td>0.397</td>\n",
              "      <td>0.390</td>\n",
              "    </tr>\n",
              "    <tr>\n",
              "      <th>tc</th>\n",
              "      <td>0.273</td>\n",
              "      <td>0.045</td>\n",
              "      <td>0.262</td>\n",
              "      <td>0.276</td>\n",
              "      <td>1.000</td>\n",
              "      <td>0.890</td>\n",
              "      <td>0.055</td>\n",
              "      <td>0.533</td>\n",
              "      <td>0.523</td>\n",
              "      <td>0.297</td>\n",
              "    </tr>\n",
              "    <tr>\n",
              "      <th>ldl</th>\n",
              "      <td>0.240</td>\n",
              "      <td>0.143</td>\n",
              "      <td>0.264</td>\n",
              "      <td>0.248</td>\n",
              "      <td>0.890</td>\n",
              "      <td>1.000</td>\n",
              "      <td>-0.200</td>\n",
              "      <td>0.645</td>\n",
              "      <td>0.318</td>\n",
              "      <td>0.287</td>\n",
              "    </tr>\n",
              "    <tr>\n",
              "      <th>hdl</th>\n",
              "      <td>-0.102</td>\n",
              "      <td>-0.354</td>\n",
              "      <td>-0.367</td>\n",
              "      <td>-0.255</td>\n",
              "      <td>0.055</td>\n",
              "      <td>-0.200</td>\n",
              "      <td>1.000</td>\n",
              "      <td>-0.739</td>\n",
              "      <td>-0.400</td>\n",
              "      <td>-0.354</td>\n",
              "    </tr>\n",
              "    <tr>\n",
              "      <th>tch</th>\n",
              "      <td>0.240</td>\n",
              "      <td>0.317</td>\n",
              "      <td>0.422</td>\n",
              "      <td>0.328</td>\n",
              "      <td>0.533</td>\n",
              "      <td>0.645</td>\n",
              "      <td>-0.739</td>\n",
              "      <td>1.000</td>\n",
              "      <td>0.632</td>\n",
              "      <td>0.483</td>\n",
              "    </tr>\n",
              "    <tr>\n",
              "      <th>ltg</th>\n",
              "      <td>0.264</td>\n",
              "      <td>0.142</td>\n",
              "      <td>0.451</td>\n",
              "      <td>0.397</td>\n",
              "      <td>0.523</td>\n",
              "      <td>0.318</td>\n",
              "      <td>-0.400</td>\n",
              "      <td>0.632</td>\n",
              "      <td>1.000</td>\n",
              "      <td>0.452</td>\n",
              "    </tr>\n",
              "    <tr>\n",
              "      <th>glu</th>\n",
              "      <td>0.288</td>\n",
              "      <td>0.227</td>\n",
              "      <td>0.393</td>\n",
              "      <td>0.390</td>\n",
              "      <td>0.297</td>\n",
              "      <td>0.287</td>\n",
              "      <td>-0.354</td>\n",
              "      <td>0.483</td>\n",
              "      <td>0.452</td>\n",
              "      <td>1.000</td>\n",
              "    </tr>\n",
              "  </tbody>\n",
              "</table>\n",
              "</div>\n",
              "      <button class=\"colab-df-convert\" onclick=\"convertToInteractive('df-89c2da9c-34bb-498f-9cd6-78586f56119c')\"\n",
              "              title=\"Convert this dataframe to an interactive table.\"\n",
              "              style=\"display:none;\">\n",
              "        \n",
              "  <svg xmlns=\"http://www.w3.org/2000/svg\" height=\"24px\"viewBox=\"0 0 24 24\"\n",
              "       width=\"24px\">\n",
              "    <path d=\"M0 0h24v24H0V0z\" fill=\"none\"/>\n",
              "    <path d=\"M18.56 5.44l.94 2.06.94-2.06 2.06-.94-2.06-.94-.94-2.06-.94 2.06-2.06.94zm-11 1L8.5 8.5l.94-2.06 2.06-.94-2.06-.94L8.5 2.5l-.94 2.06-2.06.94zm10 10l.94 2.06.94-2.06 2.06-.94-2.06-.94-.94-2.06-.94 2.06-2.06.94z\"/><path d=\"M17.41 7.96l-1.37-1.37c-.4-.4-.92-.59-1.43-.59-.52 0-1.04.2-1.43.59L10.3 9.45l-7.72 7.72c-.78.78-.78 2.05 0 2.83L4 21.41c.39.39.9.59 1.41.59.51 0 1.02-.2 1.41-.59l7.78-7.78 2.81-2.81c.8-.78.8-2.07 0-2.86zM5.41 20L4 18.59l7.72-7.72 1.47 1.35L5.41 20z\"/>\n",
              "  </svg>\n",
              "      </button>\n",
              "      \n",
              "  <style>\n",
              "    .colab-df-container {\n",
              "      display:flex;\n",
              "      flex-wrap:wrap;\n",
              "      gap: 12px;\n",
              "    }\n",
              "\n",
              "    .colab-df-convert {\n",
              "      background-color: #E8F0FE;\n",
              "      border: none;\n",
              "      border-radius: 50%;\n",
              "      cursor: pointer;\n",
              "      display: none;\n",
              "      fill: #1967D2;\n",
              "      height: 32px;\n",
              "      padding: 0 0 0 0;\n",
              "      width: 32px;\n",
              "    }\n",
              "\n",
              "    .colab-df-convert:hover {\n",
              "      background-color: #E2EBFA;\n",
              "      box-shadow: 0px 1px 2px rgba(60, 64, 67, 0.3), 0px 1px 3px 1px rgba(60, 64, 67, 0.15);\n",
              "      fill: #174EA6;\n",
              "    }\n",
              "\n",
              "    [theme=dark] .colab-df-convert {\n",
              "      background-color: #3B4455;\n",
              "      fill: #D2E3FC;\n",
              "    }\n",
              "\n",
              "    [theme=dark] .colab-df-convert:hover {\n",
              "      background-color: #434B5C;\n",
              "      box-shadow: 0px 1px 3px 1px rgba(0, 0, 0, 0.15);\n",
              "      filter: drop-shadow(0px 1px 2px rgba(0, 0, 0, 0.3));\n",
              "      fill: #FFFFFF;\n",
              "    }\n",
              "  </style>\n",
              "\n",
              "      <script>\n",
              "        const buttonEl =\n",
              "          document.querySelector('#df-89c2da9c-34bb-498f-9cd6-78586f56119c button.colab-df-convert');\n",
              "        buttonEl.style.display =\n",
              "          google.colab.kernel.accessAllowed ? 'block' : 'none';\n",
              "\n",
              "        async function convertToInteractive(key) {\n",
              "          const element = document.querySelector('#df-89c2da9c-34bb-498f-9cd6-78586f56119c');\n",
              "          const dataTable =\n",
              "            await google.colab.kernel.invokeFunction('convertToInteractive',\n",
              "                                                     [key], {});\n",
              "          if (!dataTable) return;\n",
              "\n",
              "          const docLinkHtml = 'Like what you see? Visit the ' +\n",
              "            '<a target=\"_blank\" href=https://colab.research.google.com/notebooks/data_table.ipynb>data table notebook</a>'\n",
              "            + ' to learn more about interactive tables.';\n",
              "          element.innerHTML = '';\n",
              "          dataTable['output_type'] = 'display_data';\n",
              "          await google.colab.output.renderOutput(dataTable, element);\n",
              "          const docLink = document.createElement('div');\n",
              "          docLink.innerHTML = docLinkHtml;\n",
              "          element.appendChild(docLink);\n",
              "        }\n",
              "      </script>\n",
              "    </div>\n",
              "  </div>\n",
              "  "
            ]
          },
          "metadata": {},
          "execution_count": 25
        }
      ]
    },
    {
      "cell_type": "code",
      "source": [
        "from sklearn.linear_model import Ridge"
      ],
      "metadata": {
        "id": "7APamvsFbFH9"
      },
      "execution_count": null,
      "outputs": []
    },
    {
      "cell_type": "code",
      "source": [
        "alpha_vals = [i * 1.0 / 100 for i in range(0, 26)]"
      ],
      "metadata": {
        "id": "jOrZx8-_cAPV"
      },
      "execution_count": null,
      "outputs": []
    },
    {
      "cell_type": "code",
      "source": [
        "skl_model = Ridge(alpha=0.0, fit_intercept=False)\n",
        "skl_model.fit(X_train_sc, y_train_sc)"
      ],
      "metadata": {
        "colab": {
          "base_uri": "https://localhost:8080/",
          "height": 75
        },
        "id": "797Sl280b8OT",
        "outputId": "151cbb80-5089-4250-b7e9-fb1da00cf684"
      },
      "execution_count": null,
      "outputs": [
        {
          "output_type": "execute_result",
          "data": {
            "text/plain": [
              "Ridge(alpha=0.0, fit_intercept=False)"
            ],
            "text/html": [
              "<style>#sk-container-id-3 {color: black;background-color: white;}#sk-container-id-3 pre{padding: 0;}#sk-container-id-3 div.sk-toggleable {background-color: white;}#sk-container-id-3 label.sk-toggleable__label {cursor: pointer;display: block;width: 100%;margin-bottom: 0;padding: 0.3em;box-sizing: border-box;text-align: center;}#sk-container-id-3 label.sk-toggleable__label-arrow:before {content: \"▸\";float: left;margin-right: 0.25em;color: #696969;}#sk-container-id-3 label.sk-toggleable__label-arrow:hover:before {color: black;}#sk-container-id-3 div.sk-estimator:hover label.sk-toggleable__label-arrow:before {color: black;}#sk-container-id-3 div.sk-toggleable__content {max-height: 0;max-width: 0;overflow: hidden;text-align: left;background-color: #f0f8ff;}#sk-container-id-3 div.sk-toggleable__content pre {margin: 0.2em;color: black;border-radius: 0.25em;background-color: #f0f8ff;}#sk-container-id-3 input.sk-toggleable__control:checked~div.sk-toggleable__content {max-height: 200px;max-width: 100%;overflow: auto;}#sk-container-id-3 input.sk-toggleable__control:checked~label.sk-toggleable__label-arrow:before {content: \"▾\";}#sk-container-id-3 div.sk-estimator input.sk-toggleable__control:checked~label.sk-toggleable__label {background-color: #d4ebff;}#sk-container-id-3 div.sk-label input.sk-toggleable__control:checked~label.sk-toggleable__label {background-color: #d4ebff;}#sk-container-id-3 input.sk-hidden--visually {border: 0;clip: rect(1px 1px 1px 1px);clip: rect(1px, 1px, 1px, 1px);height: 1px;margin: -1px;overflow: hidden;padding: 0;position: absolute;width: 1px;}#sk-container-id-3 div.sk-estimator {font-family: monospace;background-color: #f0f8ff;border: 1px dotted black;border-radius: 0.25em;box-sizing: border-box;margin-bottom: 0.5em;}#sk-container-id-3 div.sk-estimator:hover {background-color: #d4ebff;}#sk-container-id-3 div.sk-parallel-item::after {content: \"\";width: 100%;border-bottom: 1px solid gray;flex-grow: 1;}#sk-container-id-3 div.sk-label:hover label.sk-toggleable__label {background-color: #d4ebff;}#sk-container-id-3 div.sk-serial::before {content: \"\";position: absolute;border-left: 1px solid gray;box-sizing: border-box;top: 0;bottom: 0;left: 50%;z-index: 0;}#sk-container-id-3 div.sk-serial {display: flex;flex-direction: column;align-items: center;background-color: white;padding-right: 0.2em;padding-left: 0.2em;position: relative;}#sk-container-id-3 div.sk-item {position: relative;z-index: 1;}#sk-container-id-3 div.sk-parallel {display: flex;align-items: stretch;justify-content: center;background-color: white;position: relative;}#sk-container-id-3 div.sk-item::before, #sk-container-id-3 div.sk-parallel-item::before {content: \"\";position: absolute;border-left: 1px solid gray;box-sizing: border-box;top: 0;bottom: 0;left: 50%;z-index: -1;}#sk-container-id-3 div.sk-parallel-item {display: flex;flex-direction: column;z-index: 1;position: relative;background-color: white;}#sk-container-id-3 div.sk-parallel-item:first-child::after {align-self: flex-end;width: 50%;}#sk-container-id-3 div.sk-parallel-item:last-child::after {align-self: flex-start;width: 50%;}#sk-container-id-3 div.sk-parallel-item:only-child::after {width: 0;}#sk-container-id-3 div.sk-dashed-wrapped {border: 1px dashed gray;margin: 0 0.4em 0.5em 0.4em;box-sizing: border-box;padding-bottom: 0.4em;background-color: white;}#sk-container-id-3 div.sk-label label {font-family: monospace;font-weight: bold;display: inline-block;line-height: 1.2em;}#sk-container-id-3 div.sk-label-container {text-align: center;}#sk-container-id-3 div.sk-container {/* jupyter's `normalize.less` sets `[hidden] { display: none; }` but bootstrap.min.css set `[hidden] { display: none !important; }` so we also need the `!important` here to be able to override the default hidden behavior on the sphinx rendered scikit-learn.org. See: https://github.com/scikit-learn/scikit-learn/issues/21755 */display: inline-block !important;position: relative;}#sk-container-id-3 div.sk-text-repr-fallback {display: none;}</style><div id=\"sk-container-id-3\" class=\"sk-top-container\"><div class=\"sk-text-repr-fallback\"><pre>Ridge(alpha=0.0, fit_intercept=False)</pre><b>In a Jupyter environment, please rerun this cell to show the HTML representation or trust the notebook. <br />On GitHub, the HTML representation is unable to render, please try loading this page with nbviewer.org.</b></div><div class=\"sk-container\" hidden><div class=\"sk-item\"><div class=\"sk-estimator sk-toggleable\"><input class=\"sk-toggleable__control sk-hidden--visually\" id=\"sk-estimator-id-3\" type=\"checkbox\" checked><label for=\"sk-estimator-id-3\" class=\"sk-toggleable__label sk-toggleable__label-arrow\">Ridge</label><div class=\"sk-toggleable__content\"><pre>Ridge(alpha=0.0, fit_intercept=False)</pre></div></div></div></div></div>"
            ]
          },
          "metadata": {},
          "execution_count": 42
        }
      ]
    },
    {
      "cell_type": "code",
      "source": [
        "paths = np.zeros((X_train_sc.shape[1], len(alpha_vals)))\n",
        "for i, alpha in enumerate(alpha_vals):\n",
        "    model = Ridge(alpha=alpha, fit_intercept=False)\n",
        "    model.fit(X_train_sc, y_train_sc)\n",
        "    paths[:, i] = model.coef_"
      ],
      "metadata": {
        "id": "cdQVoXEOb7Ln"
      },
      "execution_count": null,
      "outputs": []
    },
    {
      "cell_type": "code",
      "source": [
        "x_columns = [col for col in diabetes.columns if col != \"prog\"]\n",
        "fig, ax = plt.subplots(figsize=(12, 8))\n",
        "\n",
        "ax.axvline(0.10, c=\"r\", linestyle=\":\")\n",
        "\n",
        "for column, line in zip(x_columns, paths):\n",
        "    ax.plot(alpha_vals, line, \"o-\")\n",
        "    ax.text(-0.015, line[0], column, verticalalignment=\"center\")\n",
        "\n",
        "ax.set_xlabel(r\"$\\lambda$\", size=18)\n",
        "ax.set_ylabel(r\"$\\hat{\\beta}(\\lambda)$\", size=18)\n",
        "\n",
        "ax.set_xlim(-0.02, 0.26);"
      ],
      "metadata": {
        "colab": {
          "base_uri": "https://localhost:8080/",
          "height": 695
        },
        "id": "TPo22-FgdZyL",
        "outputId": "e401593c-64a2-41e2-9098-eab789aed6b8"
      },
      "execution_count": null,
      "outputs": [
        {
          "output_type": "display_data",
          "data": {
            "text/plain": [
              "<Figure size 1200x800 with 1 Axes>"
            ],
            "image/png": "[encoded data removed]"
          },
          "metadata": {}
        }
      ]
    },
    {
      "cell_type": "markdown",
      "source": [
        "### 最適なlamdaを求める"
      ],
      "metadata": {
        "id": "zEHlmu_etCKW"
      }
    },
    {
      "cell_type": "code",
      "source": [
        "from sklearn.linear_model import RidgeCV"
      ],
      "metadata": {
        "id": "ORSzDBJtvmlI"
      },
      "execution_count": null,
      "outputs": []
    },
    {
      "cell_type": "code",
      "source": [
        "ridge_cv = RidgeCV(fit_intercept=False)"
      ],
      "metadata": {
        "id": "TFI6p2AUvn6R"
      },
      "execution_count": null,
      "outputs": []
    },
    {
      "cell_type": "code",
      "source": [
        "ridge_cv.fit(X_train_sc, y_train_sc)"
      ],
      "metadata": {
        "colab": {
          "base_uri": "https://localhost:8080/",
          "height": 75
        },
        "id": "YU_atNPOv5it",
        "outputId": "7597fdb6-7823-4c71-f442-b5f7a6ce1ed7"
      },
      "execution_count": null,
      "outputs": [
        {
          "output_type": "execute_result",
          "data": {
            "text/plain": [
              "RidgeCV(fit_intercept=False)"
            ],
            "text/html": [
              "<style>#sk-container-id-4 {color: black;background-color: white;}#sk-container-id-4 pre{padding: 0;}#sk-container-id-4 div.sk-toggleable {background-color: white;}#sk-container-id-4 label.sk-toggleable__label {cursor: pointer;display: block;width: 100%;margin-bottom: 0;padding: 0.3em;box-sizing: border-box;text-align: center;}#sk-container-id-4 label.sk-toggleable__label-arrow:before {content: \"▸\";float: left;margin-right: 0.25em;color: #696969;}#sk-container-id-4 label.sk-toggleable__label-arrow:hover:before {color: black;}#sk-container-id-4 div.sk-estimator:hover label.sk-toggleable__label-arrow:before {color: black;}#sk-container-id-4 div.sk-toggleable__content {max-height: 0;max-width: 0;overflow: hidden;text-align: left;background-color: #f0f8ff;}#sk-container-id-4 div.sk-toggleable__content pre {margin: 0.2em;color: black;border-radius: 0.25em;background-color: #f0f8ff;}#sk-container-id-4 input.sk-toggleable__control:checked~div.sk-toggleable__content {max-height: 200px;max-width: 100%;overflow: auto;}#sk-container-id-4 input.sk-toggleable__control:checked~label.sk-toggleable__label-arrow:before {content: \"▾\";}#sk-container-id-4 div.sk-estimator input.sk-toggleable__control:checked~label.sk-toggleable__label {background-color: #d4ebff;}#sk-container-id-4 div.sk-label input.sk-toggleable__control:checked~label.sk-toggleable__label {background-color: #d4ebff;}#sk-container-id-4 input.sk-hidden--visually {border: 0;clip: rect(1px 1px 1px 1px);clip: rect(1px, 1px, 1px, 1px);height: 1px;margin: -1px;overflow: hidden;padding: 0;position: absolute;width: 1px;}#sk-container-id-4 div.sk-estimator {font-family: monospace;background-color: #f0f8ff;border: 1px dotted black;border-radius: 0.25em;box-sizing: border-box;margin-bottom: 0.5em;}#sk-container-id-4 div.sk-estimator:hover {background-color: #d4ebff;}#sk-container-id-4 div.sk-parallel-item::after {content: \"\";width: 100%;border-bottom: 1px solid gray;flex-grow: 1;}#sk-container-id-4 div.sk-label:hover label.sk-toggleable__label {background-color: #d4ebff;}#sk-container-id-4 div.sk-serial::before {content: \"\";position: absolute;border-left: 1px solid gray;box-sizing: border-box;top: 0;bottom: 0;left: 50%;z-index: 0;}#sk-container-id-4 div.sk-serial {display: flex;flex-direction: column;align-items: center;background-color: white;padding-right: 0.2em;padding-left: 0.2em;position: relative;}#sk-container-id-4 div.sk-item {position: relative;z-index: 1;}#sk-container-id-4 div.sk-parallel {display: flex;align-items: stretch;justify-content: center;background-color: white;position: relative;}#sk-container-id-4 div.sk-item::before, #sk-container-id-4 div.sk-parallel-item::before {content: \"\";position: absolute;border-left: 1px solid gray;box-sizing: border-box;top: 0;bottom: 0;left: 50%;z-index: -1;}#sk-container-id-4 div.sk-parallel-item {display: flex;flex-direction: column;z-index: 1;position: relative;background-color: white;}#sk-container-id-4 div.sk-parallel-item:first-child::after {align-self: flex-end;width: 50%;}#sk-container-id-4 div.sk-parallel-item:last-child::after {align-self: flex-start;width: 50%;}#sk-container-id-4 div.sk-parallel-item:only-child::after {width: 0;}#sk-container-id-4 div.sk-dashed-wrapped {border: 1px dashed gray;margin: 0 0.4em 0.5em 0.4em;box-sizing: border-box;padding-bottom: 0.4em;background-color: white;}#sk-container-id-4 div.sk-label label {font-family: monospace;font-weight: bold;display: inline-block;line-height: 1.2em;}#sk-container-id-4 div.sk-label-container {text-align: center;}#sk-container-id-4 div.sk-container {/* jupyter's `normalize.less` sets `[hidden] { display: none; }` but bootstrap.min.css set `[hidden] { display: none !important; }` so we also need the `!important` here to be able to override the default hidden behavior on the sphinx rendered scikit-learn.org. See: https://github.com/scikit-learn/scikit-learn/issues/21755 */display: inline-block !important;position: relative;}#sk-container-id-4 div.sk-text-repr-fallback {display: none;}</style><div id=\"sk-container-id-4\" class=\"sk-top-container\"><div class=\"sk-text-repr-fallback\"><pre>RidgeCV(fit_intercept=False)</pre><b>In a Jupyter environment, please rerun this cell to show the HTML representation or trust the notebook. <br />On GitHub, the HTML representation is unable to render, please try loading this page with nbviewer.org.</b></div><div class=\"sk-container\" hidden><div class=\"sk-item\"><div class=\"sk-estimator sk-toggleable\"><input class=\"sk-toggleable__control sk-hidden--visually\" id=\"sk-estimator-id-4\" type=\"checkbox\" checked><label for=\"sk-estimator-id-4\" class=\"sk-toggleable__label sk-toggleable__label-arrow\">RidgeCV</label><div class=\"sk-toggleable__content\"><pre>RidgeCV(fit_intercept=False)</pre></div></div></div></div></div>"
            ]
          },
          "metadata": {},
          "execution_count": 72
        }
      ]
    },
    {
      "cell_type": "code",
      "source": [
        "ridge_cv.alpha_"
      ],
      "metadata": {
        "colab": {
          "base_uri": "https://localhost:8080/"
        },
        "id": "Xz1BLXIBsrI6",
        "outputId": "5b026871-9d9d-4cb8-d334-c0394d6854f2"
      },
      "execution_count": null,
      "outputs": [
        {
          "output_type": "execute_result",
          "data": {
            "text/plain": [
              "0.1"
            ]
          },
          "metadata": {},
          "execution_count": 73
        }
      ]
    },
    {
      "cell_type": "code",
      "source": [
        "from yellowbrick.regressor import AlphaSelection"
      ],
      "metadata": {
        "id": "oSQR6SOfiwSS"
      },
      "execution_count": null,
      "outputs": []
    },
    {
      "cell_type": "code",
      "source": [
        "alphas = [i * 1.0 / 100 for i in range(1, 26)]\n",
        "\n",
        "# 訓練データを交差検証し、最適な alpha を求める\n",
        "ridgeCV = RidgeCV(alphas = alphas)\n",
        "\n",
        "# alpha をプロットする\n",
        "visualizer = AlphaSelection(ridgeCV)\n",
        "visualizer.fit(X_train_sc, y_train_sc)\n",
        "\n",
        "visualizer.show()\n",
        "plt.show()"
      ],
      "metadata": {
        "colab": {
          "base_uri": "https://localhost:8080/",
          "height": 524
        },
        "id": "G_dKZR3ei0TB",
        "outputId": "17eea3a4-3d4a-4cf6-f862-301516bc0ef7"
      },
      "execution_count": null,
      "outputs": [
        {
          "output_type": "display_data",
          "data": {
            "text/plain": [
              "<Figure size 800x550 with 1 Axes>"
            ],
            "image/png": "[encoded data removed]"
          },
          "metadata": {}
        }
      ]
    },
    {
      "cell_type": "code",
      "source": [
        "# Ridge回帰のインスタンスを作成\n",
        "ridge = Ridge(alpha = 0.085)\n",
        "\n",
        "# 訓練データからモデルを生成（最小二乗法＋正則化項）\n",
        "ridge.fit(X_train_sc, y_train_sc)\n",
        "\n",
        "# 切片を出力\n",
        "print(ridge.intercept_)\n",
        "\n",
        "# 回帰係数（傾き）を出力\n",
        "print(ridge.coef_)"
      ],
      "metadata": {
        "colab": {
          "base_uri": "https://localhost:8080/"
        },
        "id": "5PScKKCmjYNO",
        "outputId": "504d77ed-f4e8-4563-cb00-8fc305e9d675"
      },
      "execution_count": null,
      "outputs": [
        {
          "output_type": "stream",
          "name": "stdout",
          "text": [
            "-3.957049891258458e-14\n",
            "[ -13.92702199 -212.04336884  406.84103407  250.70338897  -57.76284233\n",
            "  -61.54256894 -158.48820277   98.47188356  395.98869401   73.97372542]\n"
          ]
        }
      ]
    },
    {
      "cell_type": "code",
      "source": [
        "y_pre = ridge.predict(X_test_sc)\n",
        "error = (np.linalg.norm(y_pre - y_test_sc))**2\n",
        "print('error = ', error)"
      ],
      "metadata": {
        "colab": {
          "base_uri": "https://localhost:8080/"
        },
        "id": "PGJra4JfkQkD",
        "outputId": "df4cb2eb-529b-4112-fd21-bbbdd2bd3819"
      },
      "execution_count": null,
      "outputs": [
        {
          "output_type": "stream",
          "name": "stdout",
          "text": [
            "error =  380298.3972456166\n"
          ]
        }
      ]
    },
    {
      "cell_type": "markdown",
      "source": [
        "### ブートストラップ法で標準誤差を求める"
      ],
      "metadata": {
        "id": "fsGqlBHLj4Jz"
      }
    },
    {
      "cell_type": "code",
      "source": [
        "Xy = pd.concat([X_train,y_train], axis = 1)"
      ],
      "metadata": {
        "id": "VXhb0frQplNa"
      },
      "execution_count": null,
      "outputs": []
    },
    {
      "cell_type": "code",
      "source": [
        "alphas = [i * 1.0 / 100 for i in range(1, 26)]\n",
        "lamdas = []\n",
        "ridge0_b = []\n",
        "ridge1_b = []\n",
        "for i in range(1000):\n",
        "  data = Xy.sample(n=len(Xy), replace = True)\n",
        "  dX = data.drop('prog',axis=1)\n",
        "  dy = data['prog']\n",
        "  n=len(dX)\n",
        "  dX_sc = (dX - dX.mean())/(np.sqrt(n-1) * dX.std())\n",
        "  dy_sc = dy - dy.mean()\n",
        "  ridgeCV = RidgeCV(alphas = alphas)\n",
        "  ridgeCV.fit(dX_sc,dy_sc)\n",
        "  lamdas.append(ridgeCV.alpha_)\n",
        "  ridge0 = Ridge(alpha = 0)\n",
        "  ridge1 = Ridge(alpha = 0.1)\n",
        "  ridge0.fit(dX,dy)\n",
        "  ridge0_b.append(ridge0.coef_)\n",
        "  ridge1.fit(dX,dy)\n",
        "  ridge1_b.append(ridge1.coef_)\n",
        "\n",
        "print('best lamda = ',np.mean(lamdas))"
      ],
      "metadata": {
        "id": "xBCBCWdyjz2S",
        "colab": {
          "base_uri": "https://localhost:8080/"
        },
        "outputId": "a969ae62-ebf5-48e6-e6b1-977159576423"
      },
      "execution_count": null,
      "outputs": [
        {
          "output_type": "stream",
          "name": "stdout",
          "text": [
            "best lamda =  0.04973\n"
          ]
        }
      ]
    },
    {
      "cell_type": "markdown",
      "source": [
        "## 表7.3"
      ],
      "metadata": {
        "id": "REHvl-6bkHuq"
      }
    },
    {
      "cell_type": "code",
      "source": [
        "beta0 = []\n",
        "beta1 = []\n",
        "for i in range(paths.shape[0]):\n",
        "  beta0.append(paths[i][0])\n",
        "  beta1.append(paths[i][10])"
      ],
      "metadata": {
        "id": "FX5otkpYj0Za"
      },
      "execution_count": null,
      "outputs": []
    },
    {
      "cell_type": "code",
      "source": [
        "std0 = np.std(ridge0_b,axis=0,ddof=1)/np.sqrt(1000)\n",
        "std1 =np.std(ridge1_b,axis=0,ddof=1)/np.sqrt(1000)"
      ],
      "metadata": {
        "id": "JFisemnx5zQs"
      },
      "execution_count": null,
      "outputs": []
    },
    {
      "cell_type": "code",
      "source": [
        "df = pd.DataFrame({'β^(0)' : beta0 , 'β^(0.1)' : beta1, 'std(0)':std0 , 'std(0.1)':std1} ,index = x_columns)"
      ],
      "metadata": {
        "id": "fHTfGmckkXva"
      },
      "execution_count": null,
      "outputs": []
    },
    {
      "cell_type": "code",
      "source": [
        "df"
      ],
      "metadata": {
        "colab": {
          "base_uri": "https://localhost:8080/",
          "height": 363
        },
        "id": "j0lfPEiblopR",
        "outputId": "57fde393-301f-4c73-b212-d5f4a5f3f183"
      },
      "execution_count": null,
      "outputs": [
        {
          "output_type": "execute_result",
          "data": {
            "text/plain": [
              "       β^(0)  β^(0.1)  std(0)  std(0.1)\n",
              "age  -21.257  -12.963   0.008     0.008\n",
              "sex -234.161 -208.509   0.209     0.208\n",
              "bmi  429.247  402.700   0.030     0.030\n",
              "map  269.747  248.278   0.008     0.008\n",
              "tc  -569.518  -50.123   0.020     0.018\n",
              "ldl  328.473  -65.021   0.017     0.016\n",
              "hdl   58.471 -159.654   0.027     0.026\n",
              "tch  141.903   99.599   0.222     0.222\n",
              "ltg  624.620  388.139   1.230     1.140\n",
              "glu   63.937   75.521   0.010     0.010"
            ],
            "text/html": [
              "\n",
              "  <div id=\"df-ae28dc44-b104-4e1f-bb98-247c5363595c\">\n",
              "    <div class=\"colab-df-container\">\n",
              "      <div>\n",
              "<style scoped>\n",
              "    .dataframe tbody tr th:only-of-type {\n",
              "        vertical-align: middle;\n",
              "    }\n",
              "\n",
              "    .dataframe tbody tr th {\n",
              "        vertical-align: top;\n",
              "    }\n",
              "\n",
              "    .dataframe thead th {\n",
              "        text-align: right;\n",
              "    }\n",
              "</style>\n",
              "<table border=\"1\" class=\"dataframe\">\n",
              "  <thead>\n",
              "    <tr style=\"text-align: right;\">\n",
              "      <th></th>\n",
              "      <th>β^(0)</th>\n",
              "      <th>β^(0.1)</th>\n",
              "      <th>std(0)</th>\n",
              "      <th>std(0.1)</th>\n",
              "    </tr>\n",
              "  </thead>\n",
              "  <tbody>\n",
              "    <tr>\n",
              "      <th>age</th>\n",
              "      <td>-21.257</td>\n",
              "      <td>-12.963</td>\n",
              "      <td>0.008</td>\n",
              "      <td>0.008</td>\n",
              "    </tr>\n",
              "    <tr>\n",
              "      <th>sex</th>\n",
              "      <td>-234.161</td>\n",
              "      <td>-208.509</td>\n",
              "      <td>0.209</td>\n",
              "      <td>0.208</td>\n",
              "    </tr>\n",
              "    <tr>\n",
              "      <th>bmi</th>\n",
              "      <td>429.247</td>\n",
              "      <td>402.700</td>\n",
              "      <td>0.030</td>\n",
              "      <td>0.030</td>\n",
              "    </tr>\n",
              "    <tr>\n",
              "      <th>map</th>\n",
              "      <td>269.747</td>\n",
              "      <td>248.278</td>\n",
              "      <td>0.008</td>\n",
              "      <td>0.008</td>\n",
              "    </tr>\n",
              "    <tr>\n",
              "      <th>tc</th>\n",
              "      <td>-569.518</td>\n",
              "      <td>-50.123</td>\n",
              "      <td>0.020</td>\n",
              "      <td>0.018</td>\n",
              "    </tr>\n",
              "    <tr>\n",
              "      <th>ldl</th>\n",
              "      <td>328.473</td>\n",
              "      <td>-65.021</td>\n",
              "      <td>0.017</td>\n",
              "      <td>0.016</td>\n",
              "    </tr>\n",
              "    <tr>\n",
              "      <th>hdl</th>\n",
              "      <td>58.471</td>\n",
              "      <td>-159.654</td>\n",
              "      <td>0.027</td>\n",
              "      <td>0.026</td>\n",
              "    </tr>\n",
              "    <tr>\n",
              "      <th>tch</th>\n",
              "      <td>141.903</td>\n",
              "      <td>99.599</td>\n",
              "      <td>0.222</td>\n",
              "      <td>0.222</td>\n",
              "    </tr>\n",
              "    <tr>\n",
              "      <th>ltg</th>\n",
              "      <td>624.620</td>\n",
              "      <td>388.139</td>\n",
              "      <td>1.230</td>\n",
              "      <td>1.140</td>\n",
              "    </tr>\n",
              "    <tr>\n",
              "      <th>glu</th>\n",
              "      <td>63.937</td>\n",
              "      <td>75.521</td>\n",
              "      <td>0.010</td>\n",
              "      <td>0.010</td>\n",
              "    </tr>\n",
              "  </tbody>\n",
              "</table>\n",
              "</div>\n",
              "      <button class=\"colab-df-convert\" onclick=\"convertToInteractive('df-ae28dc44-b104-4e1f-bb98-247c5363595c')\"\n",
              "              title=\"Convert this dataframe to an interactive table.\"\n",
              "              style=\"display:none;\">\n",
              "        \n",
              "  <svg xmlns=\"http://www.w3.org/2000/svg\" height=\"24px\"viewBox=\"0 0 24 24\"\n",
              "       width=\"24px\">\n",
              "    <path d=\"M0 0h24v24H0V0z\" fill=\"none\"/>\n",
              "    <path d=\"M18.56 5.44l.94 2.06.94-2.06 2.06-.94-2.06-.94-.94-2.06-.94 2.06-2.06.94zm-11 1L8.5 8.5l.94-2.06 2.06-.94-2.06-.94L8.5 2.5l-.94 2.06-2.06.94zm10 10l.94 2.06.94-2.06 2.06-.94-2.06-.94-.94-2.06-.94 2.06-2.06.94z\"/><path d=\"M17.41 7.96l-1.37-1.37c-.4-.4-.92-.59-1.43-.59-.52 0-1.04.2-1.43.59L10.3 9.45l-7.72 7.72c-.78.78-.78 2.05 0 2.83L4 21.41c.39.39.9.59 1.41.59.51 0 1.02-.2 1.41-.59l7.78-7.78 2.81-2.81c.8-.78.8-2.07 0-2.86zM5.41 20L4 18.59l7.72-7.72 1.47 1.35L5.41 20z\"/>\n",
              "  </svg>\n",
              "      </button>\n",
              "      \n",
              "  <style>\n",
              "    .colab-df-container {\n",
              "      display:flex;\n",
              "      flex-wrap:wrap;\n",
              "      gap: 12px;\n",
              "    }\n",
              "\n",
              "    .colab-df-convert {\n",
              "      background-color: #E8F0FE;\n",
              "      border: none;\n",
              "      border-radius: 50%;\n",
              "      cursor: pointer;\n",
              "      display: none;\n",
              "      fill: #1967D2;\n",
              "      height: 32px;\n",
              "      padding: 0 0 0 0;\n",
              "      width: 32px;\n",
              "    }\n",
              "\n",
              "    .colab-df-convert:hover {\n",
              "      background-color: #E2EBFA;\n",
              "      box-shadow: 0px 1px 2px rgba(60, 64, 67, 0.3), 0px 1px 3px 1px rgba(60, 64, 67, 0.15);\n",
              "      fill: #174EA6;\n",
              "    }\n",
              "\n",
              "    [theme=dark] .colab-df-convert {\n",
              "      background-color: #3B4455;\n",
              "      fill: #D2E3FC;\n",
              "    }\n",
              "\n",
              "    [theme=dark] .colab-df-convert:hover {\n",
              "      background-color: #434B5C;\n",
              "      box-shadow: 0px 1px 3px 1px rgba(0, 0, 0, 0.15);\n",
              "      filter: drop-shadow(0px 1px 2px rgba(0, 0, 0, 0.3));\n",
              "      fill: #FFFFFF;\n",
              "    }\n",
              "  </style>\n",
              "\n",
              "      <script>\n",
              "        const buttonEl =\n",
              "          document.querySelector('#df-ae28dc44-b104-4e1f-bb98-247c5363595c button.colab-df-convert');\n",
              "        buttonEl.style.display =\n",
              "          google.colab.kernel.accessAllowed ? 'block' : 'none';\n",
              "\n",
              "        async function convertToInteractive(key) {\n",
              "          const element = document.querySelector('#df-ae28dc44-b104-4e1f-bb98-247c5363595c');\n",
              "          const dataTable =\n",
              "            await google.colab.kernel.invokeFunction('convertToInteractive',\n",
              "                                                     [key], {});\n",
              "          if (!dataTable) return;\n",
              "\n",
              "          const docLinkHtml = 'Like what you see? Visit the ' +\n",
              "            '<a target=\"_blank\" href=https://colab.research.google.com/notebooks/data_table.ipynb>data table notebook</a>'\n",
              "            + ' to learn more about interactive tables.';\n",
              "          element.innerHTML = '';\n",
              "          dataTable['output_type'] = 'display_data';\n",
              "          await google.colab.output.renderOutput(dataTable, element);\n",
              "          const docLink = document.createElement('div');\n",
              "          docLink.innerHTML = docLinkHtml;\n",
              "          element.appendChild(docLink);\n",
              "        }\n",
              "      </script>\n",
              "    </div>\n",
              "  </div>\n",
              "  "
            ]
          },
          "metadata": {},
          "execution_count": 52
        }
      ]
    },
    {
      "cell_type": "markdown",
      "source": [
        "もしかしたら標準偏差かもしれない"
      ],
      "metadata": {
        "id": "nl5gurdEZ9ef"
      }
    },
    {
      "cell_type": "code",
      "source": [
        "sigma = 54.1\n",
        "lam1 = 0.1\n",
        "lam0 = 0\n",
        "cov_lam1 = sigma * np.linalg.inv(S + lam1*np.eye(len(S)))*S*np.linalg.inv(S+lam1*np.eye(len(S)))\n",
        "cov_lam0 = sigma * np.linalg.inv(S + lam0*np.eye(len(S)))*S*np.linalg.inv(S+lam0*np.eye(len(S)))"
      ],
      "metadata": {
        "id": "U7FlArRQZ9AB"
      },
      "execution_count": null,
      "outputs": []
    },
    {
      "cell_type": "code",
      "source": [
        "sd1 = np.diag(cov_lam1)\n",
        "sd1"
      ],
      "metadata": {
        "colab": {
          "base_uri": "https://localhost:8080/"
        },
        "id": "4QkfHEyYblFI",
        "outputId": "c5466387-4b12-4aa0-b04a-c40232b290d1"
      },
      "execution_count": null,
      "outputs": [
        {
          "output_type": "execute_result",
          "data": {
            "text/plain": [
              "array([  62.92450418,   63.17130722,   86.31617023,   82.67332473,\n",
              "       1323.66061686,  855.81893042,  432.49791959,  720.88722954,\n",
              "        232.93009397,   90.6875679 ])"
            ]
          },
          "metadata": {},
          "execution_count": 31
        }
      ]
    },
    {
      "cell_type": "code",
      "source": [
        "sd0 = np.diag(cov_lam0)\n",
        "sd0"
      ],
      "metadata": {
        "colab": {
          "base_uri": "https://localhost:8080/"
        },
        "id": "yaMfxVclboov",
        "outputId": "fa653c94-c033-4e62-b89e-0d33e51f00aa"
      },
      "execution_count": null,
      "outputs": [
        {
          "output_type": "execute_result",
          "data": {
            "text/plain": [
              "array([8.09491299e+01, 8.22597225e+01, 1.19573077e+02, 1.14649695e+02,\n",
              "       1.99086682e+05, 8.15604068e+04, 1.48333418e+04, 4.14900526e+03,\n",
              "       5.95464916e+03, 1.24833077e+02])"
            ]
          },
          "metadata": {},
          "execution_count": 33
        }
      ]
    },
    {
      "cell_type": "markdown",
      "source": [
        "# 7.4"
      ],
      "metadata": {
        "id": "kTNWGqpyN903"
      }
    },
    {
      "cell_type": "markdown",
      "source": [
        "## 表7.4"
      ],
      "metadata": {
        "id": "G7EblCA1OChX"
      }
    },
    {
      "cell_type": "markdown",
      "source": [
        "最尤推定量の2乗平方根誤差"
      ],
      "metadata": {
        "id": "iIHfoBfXRuGO"
      }
    },
    {
      "cell_type": "code",
      "source": [
        "n = 90\n",
        "p = baseball['TRUTH']\n",
        "p_star_list =[]\n",
        "mle_error = []\n",
        "for i in range(1,19):\n",
        "  p_star = np.random.binomial(n, p[i], 1000)/90\n",
        "  p_star_list.append(p_star)\n",
        "  mle_error.append(np.sqrt(np.linalg.norm(p_star - p[i])**2))"
      ],
      "metadata": {
        "id": "hfOm-pcuOt2x"
      },
      "execution_count": null,
      "outputs": []
    },
    {
      "cell_type": "code",
      "source": [
        "df = pd.DataFrame({'TRUTH':p, 'rmsMLE':mle_error}, index = range(1,19))"
      ],
      "metadata": {
        "id": "lWeYkfNfSrqy"
      },
      "execution_count": null,
      "outputs": []
    },
    {
      "cell_type": "code",
      "source": [
        "df"
      ],
      "metadata": {
        "colab": {
          "base_uri": "https://localhost:8080/",
          "height": 614
        },
        "id": "0SHDLpzFTjQO",
        "outputId": "4996bbb2-6a0e-4b76-d35e-191160fcbab8"
      },
      "execution_count": null,
      "outputs": [
        {
          "output_type": "execute_result",
          "data": {
            "text/plain": [
              "    TRUTH  rmsMLE\n",
              "1   0.298   1.490\n",
              "2   0.346   1.635\n",
              "3   0.222   1.392\n",
              "4   0.276   1.470\n",
              "5   0.263   1.459\n",
              "6   0.273   1.461\n",
              "7   0.303   1.582\n",
              "8   0.270   1.458\n",
              "9   0.230   1.395\n",
              "10  0.264   1.421\n",
              "11  0.264   1.475\n",
              "12  0.210   1.285\n",
              "13  0.256   1.478\n",
              "14  0.269   1.456\n",
              "15  0.316   1.569\n",
              "16  0.226   1.367\n",
              "17  0.285   1.492\n",
              "18  0.200   1.278"
            ],
            "text/html": [
              "\n",
              "  <div id=\"df-97d9389c-e8ff-44fa-b23d-8552d21b31a3\">\n",
              "    <div class=\"colab-df-container\">\n",
              "      <div>\n",
              "<style scoped>\n",
              "    .dataframe tbody tr th:only-of-type {\n",
              "        vertical-align: middle;\n",
              "    }\n",
              "\n",
              "    .dataframe tbody tr th {\n",
              "        vertical-align: top;\n",
              "    }\n",
              "\n",
              "    .dataframe thead th {\n",
              "        text-align: right;\n",
              "    }\n",
              "</style>\n",
              "<table border=\"1\" class=\"dataframe\">\n",
              "  <thead>\n",
              "    <tr style=\"text-align: right;\">\n",
              "      <th></th>\n",
              "      <th>TRUTH</th>\n",
              "      <th>rmsMLE</th>\n",
              "    </tr>\n",
              "  </thead>\n",
              "  <tbody>\n",
              "    <tr>\n",
              "      <th>1</th>\n",
              "      <td>0.298</td>\n",
              "      <td>1.490</td>\n",
              "    </tr>\n",
              "    <tr>\n",
              "      <th>2</th>\n",
              "      <td>0.346</td>\n",
              "      <td>1.635</td>\n",
              "    </tr>\n",
              "    <tr>\n",
              "      <th>3</th>\n",
              "      <td>0.222</td>\n",
              "      <td>1.392</td>\n",
              "    </tr>\n",
              "    <tr>\n",
              "      <th>4</th>\n",
              "      <td>0.276</td>\n",
              "      <td>1.470</td>\n",
              "    </tr>\n",
              "    <tr>\n",
              "      <th>5</th>\n",
              "      <td>0.263</td>\n",
              "      <td>1.459</td>\n",
              "    </tr>\n",
              "    <tr>\n",
              "      <th>6</th>\n",
              "      <td>0.273</td>\n",
              "      <td>1.461</td>\n",
              "    </tr>\n",
              "    <tr>\n",
              "      <th>7</th>\n",
              "      <td>0.303</td>\n",
              "      <td>1.582</td>\n",
              "    </tr>\n",
              "    <tr>\n",
              "      <th>8</th>\n",
              "      <td>0.270</td>\n",
              "      <td>1.458</td>\n",
              "    </tr>\n",
              "    <tr>\n",
              "      <th>9</th>\n",
              "      <td>0.230</td>\n",
              "      <td>1.395</td>\n",
              "    </tr>\n",
              "    <tr>\n",
              "      <th>10</th>\n",
              "      <td>0.264</td>\n",
              "      <td>1.421</td>\n",
              "    </tr>\n",
              "    <tr>\n",
              "      <th>11</th>\n",
              "      <td>0.264</td>\n",
              "      <td>1.475</td>\n",
              "    </tr>\n",
              "    <tr>\n",
              "      <th>12</th>\n",
              "      <td>0.210</td>\n",
              "      <td>1.285</td>\n",
              "    </tr>\n",
              "    <tr>\n",
              "      <th>13</th>\n",
              "      <td>0.256</td>\n",
              "      <td>1.478</td>\n",
              "    </tr>\n",
              "    <tr>\n",
              "      <th>14</th>\n",
              "      <td>0.269</td>\n",
              "      <td>1.456</td>\n",
              "    </tr>\n",
              "    <tr>\n",
              "      <th>15</th>\n",
              "      <td>0.316</td>\n",
              "      <td>1.569</td>\n",
              "    </tr>\n",
              "    <tr>\n",
              "      <th>16</th>\n",
              "      <td>0.226</td>\n",
              "      <td>1.367</td>\n",
              "    </tr>\n",
              "    <tr>\n",
              "      <th>17</th>\n",
              "      <td>0.285</td>\n",
              "      <td>1.492</td>\n",
              "    </tr>\n",
              "    <tr>\n",
              "      <th>18</th>\n",
              "      <td>0.200</td>\n",
              "      <td>1.278</td>\n",
              "    </tr>\n",
              "  </tbody>\n",
              "</table>\n",
              "</div>\n",
              "      <button class=\"colab-df-convert\" onclick=\"convertToInteractive('df-97d9389c-e8ff-44fa-b23d-8552d21b31a3')\"\n",
              "              title=\"Convert this dataframe to an interactive table.\"\n",
              "              style=\"display:none;\">\n",
              "        \n",
              "  <svg xmlns=\"http://www.w3.org/2000/svg\" height=\"24px\"viewBox=\"0 0 24 24\"\n",
              "       width=\"24px\">\n",
              "    <path d=\"M0 0h24v24H0V0z\" fill=\"none\"/>\n",
              "    <path d=\"M18.56 5.44l.94 2.06.94-2.06 2.06-.94-2.06-.94-.94-2.06-.94 2.06-2.06.94zm-11 1L8.5 8.5l.94-2.06 2.06-.94-2.06-.94L8.5 2.5l-.94 2.06-2.06.94zm10 10l.94 2.06.94-2.06 2.06-.94-2.06-.94-.94-2.06-.94 2.06-2.06.94z\"/><path d=\"M17.41 7.96l-1.37-1.37c-.4-.4-.92-.59-1.43-.59-.52 0-1.04.2-1.43.59L10.3 9.45l-7.72 7.72c-.78.78-.78 2.05 0 2.83L4 21.41c.39.39.9.59 1.41.59.51 0 1.02-.2 1.41-.59l7.78-7.78 2.81-2.81c.8-.78.8-2.07 0-2.86zM5.41 20L4 18.59l7.72-7.72 1.47 1.35L5.41 20z\"/>\n",
              "  </svg>\n",
              "      </button>\n",
              "      \n",
              "  <style>\n",
              "    .colab-df-container {\n",
              "      display:flex;\n",
              "      flex-wrap:wrap;\n",
              "      gap: 12px;\n",
              "    }\n",
              "\n",
              "    .colab-df-convert {\n",
              "      background-color: #E8F0FE;\n",
              "      border: none;\n",
              "      border-radius: 50%;\n",
              "      cursor: pointer;\n",
              "      display: none;\n",
              "      fill: #1967D2;\n",
              "      height: 32px;\n",
              "      padding: 0 0 0 0;\n",
              "      width: 32px;\n",
              "    }\n",
              "\n",
              "    .colab-df-convert:hover {\n",
              "      background-color: #E2EBFA;\n",
              "      box-shadow: 0px 1px 2px rgba(60, 64, 67, 0.3), 0px 1px 3px 1px rgba(60, 64, 67, 0.15);\n",
              "      fill: #174EA6;\n",
              "    }\n",
              "\n",
              "    [theme=dark] .colab-df-convert {\n",
              "      background-color: #3B4455;\n",
              "      fill: #D2E3FC;\n",
              "    }\n",
              "\n",
              "    [theme=dark] .colab-df-convert:hover {\n",
              "      background-color: #434B5C;\n",
              "      box-shadow: 0px 1px 3px 1px rgba(0, 0, 0, 0.15);\n",
              "      filter: drop-shadow(0px 1px 2px rgba(0, 0, 0, 0.3));\n",
              "      fill: #FFFFFF;\n",
              "    }\n",
              "  </style>\n",
              "\n",
              "      <script>\n",
              "        const buttonEl =\n",
              "          document.querySelector('#df-97d9389c-e8ff-44fa-b23d-8552d21b31a3 button.colab-df-convert');\n",
              "        buttonEl.style.display =\n",
              "          google.colab.kernel.accessAllowed ? 'block' : 'none';\n",
              "\n",
              "        async function convertToInteractive(key) {\n",
              "          const element = document.querySelector('#df-97d9389c-e8ff-44fa-b23d-8552d21b31a3');\n",
              "          const dataTable =\n",
              "            await google.colab.kernel.invokeFunction('convertToInteractive',\n",
              "                                                     [key], {});\n",
              "          if (!dataTable) return;\n",
              "\n",
              "          const docLinkHtml = 'Like what you see? Visit the ' +\n",
              "            '<a target=\"_blank\" href=https://colab.research.google.com/notebooks/data_table.ipynb>data table notebook</a>'\n",
              "            + ' to learn more about interactive tables.';\n",
              "          element.innerHTML = '';\n",
              "          dataTable['output_type'] = 'display_data';\n",
              "          await google.colab.output.renderOutput(dataTable, element);\n",
              "          const docLink = document.createElement('div');\n",
              "          docLink.innerHTML = docLinkHtml;\n",
              "          element.appendChild(docLink);\n",
              "        }\n",
              "      </script>\n",
              "    </div>\n",
              "  </div>\n",
              "  "
            ]
          },
          "metadata": {},
          "execution_count": 84
        }
      ]
    },
    {
      "cell_type": "code",
      "source": [
        "np.shape(p_star_list)"
      ],
      "metadata": {
        "colab": {
          "base_uri": "https://localhost:8080/"
        },
        "id": "EcsA5Ud1VGQh",
        "outputId": "df143f66-65ec-4b05-96d7-12d15f4cd65c"
      },
      "execution_count": null,
      "outputs": [
        {
          "output_type": "execute_result",
          "data": {
            "text/plain": [
              "(18, 1000)"
            ]
          },
          "metadata": {},
          "execution_count": 94
        }
      ]
    },
    {
      "cell_type": "code",
      "source": [
        "np.array(p_star_list)[:,0]"
      ],
      "metadata": {
        "colab": {
          "base_uri": "https://localhost:8080/"
        },
        "id": "BZciguTJXGDd",
        "outputId": "f47200f6-cc3a-4a09-9209-66b3c3cd2da7"
      },
      "execution_count": null,
      "outputs": [
        {
          "output_type": "execute_result",
          "data": {
            "text/plain": [
              "array([0.32222222, 0.33333333, 0.23333333, 0.2       , 0.3       ,\n",
              "       0.28888889, 0.31111111, 0.24444444, 0.2       , 0.33333333,\n",
              "       0.23333333, 0.17777778, 0.28888889, 0.27777778, 0.28888889,\n",
              "       0.2       , 0.23333333, 0.22222222])"
            ]
          },
          "metadata": {},
          "execution_count": 99
        }
      ]
    },
    {
      "cell_type": "code",
      "source": [
        "N = 18\n",
        "p_star_bar = np.mean(p_star_list, axis = 0)\n",
        "pp = []\n",
        "for j in range(1000):\n",
        "  sigma_0 = p_star_bar[j] * (1-p_star_bar[j])/90\n",
        "  p_js = p_star_bar[j] + (1 - (N-3)*sigma_0/sum((np.array(p_star_list)[:,j] - p_star_bar[j])**2))*(np.array(p_star_list)[:,j]-p_star_bar[j])\n",
        "  pp.append(p_js)"
      ],
      "metadata": {
        "id": "Hv1ObAyBOxyt"
      },
      "execution_count": null,
      "outputs": []
    },
    {
      "cell_type": "code",
      "source": [
        "np.shape(p_star_bar)"
      ],
      "metadata": {
        "colab": {
          "base_uri": "https://localhost:8080/"
        },
        "id": "WMc2VyW6Z5qy",
        "outputId": "c235c2c7-05f6-46a3-9b69-5763dc09f570"
      },
      "execution_count": null,
      "outputs": [
        {
          "output_type": "execute_result",
          "data": {
            "text/plain": [
              "(1000,)"
            ]
          },
          "metadata": {},
          "execution_count": 107
        }
      ]
    },
    {
      "cell_type": "code",
      "source": [
        "rmsjs = [np.sqrt(np.linalg.norm(np.array(pp)[:,i-1] - p[i])**2) for i in range(1,19) ]"
      ],
      "metadata": {
        "id": "MnPg6d1wZ7_6"
      },
      "execution_count": null,
      "outputs": []
    },
    {
      "cell_type": "code",
      "source": [
        "df['rmsJS'] = rmsjs"
      ],
      "metadata": {
        "id": "8TGfM_T9arvg"
      },
      "execution_count": null,
      "outputs": []
    },
    {
      "cell_type": "code",
      "source": [
        "df"
      ],
      "metadata": {
        "colab": {
          "base_uri": "https://localhost:8080/",
          "height": 614
        },
        "id": "T2FsjW_Daw4c",
        "outputId": "f9502555-e3b5-4b0d-ecf5-f890179f0ee5"
      },
      "execution_count": null,
      "outputs": [
        {
          "output_type": "execute_result",
          "data": {
            "text/plain": [
              "    TRUTH  rmsMLE  rmsJS\n",
              "1   0.298   1.490  1.025\n",
              "2   0.346   1.635  1.801\n",
              "3   0.222   1.392  1.116\n",
              "4   0.276   1.470  0.819\n",
              "5   0.263   1.459  0.767\n",
              "6   0.273   1.461  0.774\n",
              "7   0.303   1.582  1.117\n",
              "8   0.270   1.458  0.762\n",
              "9   0.230   1.395  0.976\n",
              "10  0.264   1.421  0.747\n",
              "11  0.264   1.475  0.800\n",
              "12  0.210   1.285  1.266\n",
              "13  0.256   1.478  0.804\n",
              "14  0.269   1.456  0.775\n",
              "15  0.316   1.569  1.296\n",
              "16  0.226   1.367  1.044\n",
              "17  0.285   1.492  0.877\n",
              "18  0.200   1.278  1.427"
            ],
            "text/html": [
              "\n",
              "  <div id=\"df-376d752c-3231-4f52-a084-43ef3406506d\">\n",
              "    <div class=\"colab-df-container\">\n",
              "      <div>\n",
              "<style scoped>\n",
              "    .dataframe tbody tr th:only-of-type {\n",
              "        vertical-align: middle;\n",
              "    }\n",
              "\n",
              "    .dataframe tbody tr th {\n",
              "        vertical-align: top;\n",
              "    }\n",
              "\n",
              "    .dataframe thead th {\n",
              "        text-align: right;\n",
              "    }\n",
              "</style>\n",
              "<table border=\"1\" class=\"dataframe\">\n",
              "  <thead>\n",
              "    <tr style=\"text-align: right;\">\n",
              "      <th></th>\n",
              "      <th>TRUTH</th>\n",
              "      <th>rmsMLE</th>\n",
              "      <th>rmsJS</th>\n",
              "    </tr>\n",
              "  </thead>\n",
              "  <tbody>\n",
              "    <tr>\n",
              "      <th>1</th>\n",
              "      <td>0.298</td>\n",
              "      <td>1.490</td>\n",
              "      <td>1.025</td>\n",
              "    </tr>\n",
              "    <tr>\n",
              "      <th>2</th>\n",
              "      <td>0.346</td>\n",
              "      <td>1.635</td>\n",
              "      <td>1.801</td>\n",
              "    </tr>\n",
              "    <tr>\n",
              "      <th>3</th>\n",
              "      <td>0.222</td>\n",
              "      <td>1.392</td>\n",
              "      <td>1.116</td>\n",
              "    </tr>\n",
              "    <tr>\n",
              "      <th>4</th>\n",
              "      <td>0.276</td>\n",
              "      <td>1.470</td>\n",
              "      <td>0.819</td>\n",
              "    </tr>\n",
              "    <tr>\n",
              "      <th>5</th>\n",
              "      <td>0.263</td>\n",
              "      <td>1.459</td>\n",
              "      <td>0.767</td>\n",
              "    </tr>\n",
              "    <tr>\n",
              "      <th>6</th>\n",
              "      <td>0.273</td>\n",
              "      <td>1.461</td>\n",
              "      <td>0.774</td>\n",
              "    </tr>\n",
              "    <tr>\n",
              "      <th>7</th>\n",
              "      <td>0.303</td>\n",
              "      <td>1.582</td>\n",
              "      <td>1.117</td>\n",
              "    </tr>\n",
              "    <tr>\n",
              "      <th>8</th>\n",
              "      <td>0.270</td>\n",
              "      <td>1.458</td>\n",
              "      <td>0.762</td>\n",
              "    </tr>\n",
              "    <tr>\n",
              "      <th>9</th>\n",
              "      <td>0.230</td>\n",
              "      <td>1.395</td>\n",
              "      <td>0.976</td>\n",
              "    </tr>\n",
              "    <tr>\n",
              "      <th>10</th>\n",
              "      <td>0.264</td>\n",
              "      <td>1.421</td>\n",
              "      <td>0.747</td>\n",
              "    </tr>\n",
              "    <tr>\n",
              "      <th>11</th>\n",
              "      <td>0.264</td>\n",
              "      <td>1.475</td>\n",
              "      <td>0.800</td>\n",
              "    </tr>\n",
              "    <tr>\n",
              "      <th>12</th>\n",
              "      <td>0.210</td>\n",
              "      <td>1.285</td>\n",
              "      <td>1.266</td>\n",
              "    </tr>\n",
              "    <tr>\n",
              "      <th>13</th>\n",
              "      <td>0.256</td>\n",
              "      <td>1.478</td>\n",
              "      <td>0.804</td>\n",
              "    </tr>\n",
              "    <tr>\n",
              "      <th>14</th>\n",
              "      <td>0.269</td>\n",
              "      <td>1.456</td>\n",
              "      <td>0.775</td>\n",
              "    </tr>\n",
              "    <tr>\n",
              "      <th>15</th>\n",
              "      <td>0.316</td>\n",
              "      <td>1.569</td>\n",
              "      <td>1.296</td>\n",
              "    </tr>\n",
              "    <tr>\n",
              "      <th>16</th>\n",
              "      <td>0.226</td>\n",
              "      <td>1.367</td>\n",
              "      <td>1.044</td>\n",
              "    </tr>\n",
              "    <tr>\n",
              "      <th>17</th>\n",
              "      <td>0.285</td>\n",
              "      <td>1.492</td>\n",
              "      <td>0.877</td>\n",
              "    </tr>\n",
              "    <tr>\n",
              "      <th>18</th>\n",
              "      <td>0.200</td>\n",
              "      <td>1.278</td>\n",
              "      <td>1.427</td>\n",
              "    </tr>\n",
              "  </tbody>\n",
              "</table>\n",
              "</div>\n",
              "      <button class=\"colab-df-convert\" onclick=\"convertToInteractive('df-376d752c-3231-4f52-a084-43ef3406506d')\"\n",
              "              title=\"Convert this dataframe to an interactive table.\"\n",
              "              style=\"display:none;\">\n",
              "        \n",
              "  <svg xmlns=\"http://www.w3.org/2000/svg\" height=\"24px\"viewBox=\"0 0 24 24\"\n",
              "       width=\"24px\">\n",
              "    <path d=\"M0 0h24v24H0V0z\" fill=\"none\"/>\n",
              "    <path d=\"M18.56 5.44l.94 2.06.94-2.06 2.06-.94-2.06-.94-.94-2.06-.94 2.06-2.06.94zm-11 1L8.5 8.5l.94-2.06 2.06-.94-2.06-.94L8.5 2.5l-.94 2.06-2.06.94zm10 10l.94 2.06.94-2.06 2.06-.94-2.06-.94-.94-2.06-.94 2.06-2.06.94z\"/><path d=\"M17.41 7.96l-1.37-1.37c-.4-.4-.92-.59-1.43-.59-.52 0-1.04.2-1.43.59L10.3 9.45l-7.72 7.72c-.78.78-.78 2.05 0 2.83L4 21.41c.39.39.9.59 1.41.59.51 0 1.02-.2 1.41-.59l7.78-7.78 2.81-2.81c.8-.78.8-2.07 0-2.86zM5.41 20L4 18.59l7.72-7.72 1.47 1.35L5.41 20z\"/>\n",
              "  </svg>\n",
              "      </button>\n",
              "      \n",
              "  <style>\n",
              "    .colab-df-container {\n",
              "      display:flex;\n",
              "      flex-wrap:wrap;\n",
              "      gap: 12px;\n",
              "    }\n",
              "\n",
              "    .colab-df-convert {\n",
              "      background-color: #E8F0FE;\n",
              "      border: none;\n",
              "      border-radius: 50%;\n",
              "      cursor: pointer;\n",
              "      display: none;\n",
              "      fill: #1967D2;\n",
              "      height: 32px;\n",
              "      padding: 0 0 0 0;\n",
              "      width: 32px;\n",
              "    }\n",
              "\n",
              "    .colab-df-convert:hover {\n",
              "      background-color: #E2EBFA;\n",
              "      box-shadow: 0px 1px 2px rgba(60, 64, 67, 0.3), 0px 1px 3px 1px rgba(60, 64, 67, 0.15);\n",
              "      fill: #174EA6;\n",
              "    }\n",
              "\n",
              "    [theme=dark] .colab-df-convert {\n",
              "      background-color: #3B4455;\n",
              "      fill: #D2E3FC;\n",
              "    }\n",
              "\n",
              "    [theme=dark] .colab-df-convert:hover {\n",
              "      background-color: #434B5C;\n",
              "      box-shadow: 0px 1px 3px 1px rgba(0, 0, 0, 0.15);\n",
              "      filter: drop-shadow(0px 1px 2px rgba(0, 0, 0, 0.3));\n",
              "      fill: #FFFFFF;\n",
              "    }\n",
              "  </style>\n",
              "\n",
              "      <script>\n",
              "        const buttonEl =\n",
              "          document.querySelector('#df-376d752c-3231-4f52-a084-43ef3406506d button.colab-df-convert');\n",
              "        buttonEl.style.display =\n",
              "          google.colab.kernel.accessAllowed ? 'block' : 'none';\n",
              "\n",
              "        async function convertToInteractive(key) {\n",
              "          const element = document.querySelector('#df-376d752c-3231-4f52-a084-43ef3406506d');\n",
              "          const dataTable =\n",
              "            await google.colab.kernel.invokeFunction('convertToInteractive',\n",
              "                                                     [key], {});\n",
              "          if (!dataTable) return;\n",
              "\n",
              "          const docLinkHtml = 'Like what you see? Visit the ' +\n",
              "            '<a target=\"_blank\" href=https://colab.research.google.com/notebooks/data_table.ipynb>data table notebook</a>'\n",
              "            + ' to learn more about interactive tables.';\n",
              "          element.innerHTML = '';\n",
              "          dataTable['output_type'] = 'display_data';\n",
              "          await google.colab.output.renderOutput(dataTable, element);\n",
              "          const docLink = document.createElement('div');\n",
              "          docLink.innerHTML = docLinkHtml;\n",
              "          element.appendChild(docLink);\n",
              "        }\n",
              "      </script>\n",
              "    </div>\n",
              "  </div>\n",
              "  "
            ]
          },
          "metadata": {},
          "execution_count": 106
        }
      ]
    },
    {
      "cell_type": "code",
      "source": [
        "sigma_0 = p_star_bar * (1-p_star_bar)/90\n",
        "np.shape(sigma_0)"
      ],
      "metadata": {
        "colab": {
          "base_uri": "https://localhost:8080/"
        },
        "id": "QakffpvPdvAg",
        "outputId": "b2c747c7-f6f7-4b73-856b-f806cb930fb6"
      },
      "execution_count": null,
      "outputs": [
        {
          "output_type": "execute_result",
          "data": {
            "text/plain": [
              "(1000,)"
            ]
          },
          "metadata": {},
          "execution_count": 109
        }
      ]
    },
    {
      "cell_type": "code",
      "source": [
        "np.shape(np.array(pp)[:,1])"
      ],
      "metadata": {
        "colab": {
          "base_uri": "https://localhost:8080/"
        },
        "id": "QAF5vxLZd2HM",
        "outputId": "bb5c5332-5a4e-4945-a581-61106a95590c"
      },
      "execution_count": null,
      "outputs": [
        {
          "output_type": "execute_result",
          "data": {
            "text/plain": [
              "(1000,)"
            ]
          },
          "metadata": {},
          "execution_count": 111
        }
      ]
    },
    {
      "cell_type": "code",
      "source": [
        "np.shape(np.array(p_star_list)[1,:])"
      ],
      "metadata": {
        "colab": {
          "base_uri": "https://localhost:8080/"
        },
        "id": "I_pGjlrjd98P",
        "outputId": "b769546d-b8e5-45c3-867e-b255c805ba3f"
      },
      "execution_count": null,
      "outputs": [
        {
          "output_type": "execute_result",
          "data": {
            "text/plain": [
              "(1000,)"
            ]
          },
          "metadata": {},
          "execution_count": 115
        }
      ]
    },
    {
      "cell_type": "code",
      "source": [
        "pijs1_list = []\n",
        "sigma_0 = p_star_bar * (1-p_star_bar)/90\n",
        "for i in range(1,19):\n",
        "  pijs1_list_i = []\n",
        "  for j in range(1000):\n",
        "    pijs1 = min(max(np.array(pp)[j,i-1],np.array(p_star_list)[i-1,j]-np.sqrt(sigma_0[j])), np.array(p_star_list)[i-1,j] + np.sqrt(sigma_0[j]))\n",
        "    pijs1_list_i.append(pijs1)\n",
        "  pijs1_list.append(pijs1_list_i)"
      ],
      "metadata": {
        "id": "RhUSHEghaxmd"
      },
      "execution_count": null,
      "outputs": []
    },
    {
      "cell_type": "code",
      "source": [
        "np.shape(pijs1_list[1])"
      ],
      "metadata": {
        "colab": {
          "base_uri": "https://localhost:8080/"
        },
        "id": "U29DZgxddgeU",
        "outputId": "a56002b6-3e3a-417e-8019-623051edda3b"
      },
      "execution_count": null,
      "outputs": [
        {
          "output_type": "execute_result",
          "data": {
            "text/plain": [
              "(1000,)"
            ]
          },
          "metadata": {},
          "execution_count": 119
        }
      ]
    },
    {
      "cell_type": "code",
      "source": [
        "rmsjs1 = [np.sqrt(np.linalg.norm(pijs1_list[i-1] - p[i])**2) for i in range(1,19)]"
      ],
      "metadata": {
        "id": "e3m0EN7YfN8e"
      },
      "execution_count": null,
      "outputs": []
    },
    {
      "cell_type": "code",
      "source": [
        "df['rmsJS1'] = rmsjs1"
      ],
      "metadata": {
        "id": "IcU8WTbgfv_a"
      },
      "execution_count": null,
      "outputs": []
    },
    {
      "cell_type": "code",
      "source": [
        "df"
      ],
      "metadata": {
        "colab": {
          "base_uri": "https://localhost:8080/",
          "height": 614
        },
        "id": "LGltjHCjf1_v",
        "outputId": "9eb4e0d8-1d66-4ac7-f12c-b61d5393b0cd"
      },
      "execution_count": null,
      "outputs": [
        {
          "output_type": "execute_result",
          "data": {
            "text/plain": [
              "    TRUTH  rmsMLE  rmsJS  rmsJS1\n",
              "1   0.298   1.490  1.025   1.043\n",
              "2   0.346   1.635  1.801   1.706\n",
              "3   0.222   1.392  1.116   1.104\n",
              "4   0.276   1.470  0.819   0.850\n",
              "5   0.263   1.459  0.767   0.809\n",
              "6   0.273   1.461  0.774   0.813\n",
              "7   0.303   1.582  1.117   1.133\n",
              "8   0.270   1.458  0.762   0.808\n",
              "9   0.230   1.395  0.976   0.985\n",
              "10  0.264   1.421  0.747   0.785\n",
              "11  0.264   1.475  0.800   0.831\n",
              "12  0.210   1.285  1.266   1.217\n",
              "13  0.256   1.478  0.804   0.845\n",
              "14  0.269   1.456  0.775   0.808\n",
              "15  0.316   1.569  1.296   1.295\n",
              "16  0.226   1.367  1.044   1.049\n",
              "17  0.285   1.492  0.877   0.914\n",
              "18  0.200   1.278  1.427   1.339"
            ],
            "text/html": [
              "\n",
              "  <div id=\"df-7d4dfb49-83d2-4e20-9b7e-3cf537efc5e6\">\n",
              "    <div class=\"colab-df-container\">\n",
              "      <div>\n",
              "<style scoped>\n",
              "    .dataframe tbody tr th:only-of-type {\n",
              "        vertical-align: middle;\n",
              "    }\n",
              "\n",
              "    .dataframe tbody tr th {\n",
              "        vertical-align: top;\n",
              "    }\n",
              "\n",
              "    .dataframe thead th {\n",
              "        text-align: right;\n",
              "    }\n",
              "</style>\n",
              "<table border=\"1\" class=\"dataframe\">\n",
              "  <thead>\n",
              "    <tr style=\"text-align: right;\">\n",
              "      <th></th>\n",
              "      <th>TRUTH</th>\n",
              "      <th>rmsMLE</th>\n",
              "      <th>rmsJS</th>\n",
              "      <th>rmsJS1</th>\n",
              "    </tr>\n",
              "  </thead>\n",
              "  <tbody>\n",
              "    <tr>\n",
              "      <th>1</th>\n",
              "      <td>0.298</td>\n",
              "      <td>1.490</td>\n",
              "      <td>1.025</td>\n",
              "      <td>1.043</td>\n",
              "    </tr>\n",
              "    <tr>\n",
              "      <th>2</th>\n",
              "      <td>0.346</td>\n",
              "      <td>1.635</td>\n",
              "      <td>1.801</td>\n",
              "      <td>1.706</td>\n",
              "    </tr>\n",
              "    <tr>\n",
              "      <th>3</th>\n",
              "      <td>0.222</td>\n",
              "      <td>1.392</td>\n",
              "      <td>1.116</td>\n",
              "      <td>1.104</td>\n",
              "    </tr>\n",
              "    <tr>\n",
              "      <th>4</th>\n",
              "      <td>0.276</td>\n",
              "      <td>1.470</td>\n",
              "      <td>0.819</td>\n",
              "      <td>0.850</td>\n",
              "    </tr>\n",
              "    <tr>\n",
              "      <th>5</th>\n",
              "      <td>0.263</td>\n",
              "      <td>1.459</td>\n",
              "      <td>0.767</td>\n",
              "      <td>0.809</td>\n",
              "    </tr>\n",
              "    <tr>\n",
              "      <th>6</th>\n",
              "      <td>0.273</td>\n",
              "      <td>1.461</td>\n",
              "      <td>0.774</td>\n",
              "      <td>0.813</td>\n",
              "    </tr>\n",
              "    <tr>\n",
              "      <th>7</th>\n",
              "      <td>0.303</td>\n",
              "      <td>1.582</td>\n",
              "      <td>1.117</td>\n",
              "      <td>1.133</td>\n",
              "    </tr>\n",
              "    <tr>\n",
              "      <th>8</th>\n",
              "      <td>0.270</td>\n",
              "      <td>1.458</td>\n",
              "      <td>0.762</td>\n",
              "      <td>0.808</td>\n",
              "    </tr>\n",
              "    <tr>\n",
              "      <th>9</th>\n",
              "      <td>0.230</td>\n",
              "      <td>1.395</td>\n",
              "      <td>0.976</td>\n",
              "      <td>0.985</td>\n",
              "    </tr>\n",
              "    <tr>\n",
              "      <th>10</th>\n",
              "      <td>0.264</td>\n",
              "      <td>1.421</td>\n",
              "      <td>0.747</td>\n",
              "      <td>0.785</td>\n",
              "    </tr>\n",
              "    <tr>\n",
              "      <th>11</th>\n",
              "      <td>0.264</td>\n",
              "      <td>1.475</td>\n",
              "      <td>0.800</td>\n",
              "      <td>0.831</td>\n",
              "    </tr>\n",
              "    <tr>\n",
              "      <th>12</th>\n",
              "      <td>0.210</td>\n",
              "      <td>1.285</td>\n",
              "      <td>1.266</td>\n",
              "      <td>1.217</td>\n",
              "    </tr>\n",
              "    <tr>\n",
              "      <th>13</th>\n",
              "      <td>0.256</td>\n",
              "      <td>1.478</td>\n",
              "      <td>0.804</td>\n",
              "      <td>0.845</td>\n",
              "    </tr>\n",
              "    <tr>\n",
              "      <th>14</th>\n",
              "      <td>0.269</td>\n",
              "      <td>1.456</td>\n",
              "      <td>0.775</td>\n",
              "      <td>0.808</td>\n",
              "    </tr>\n",
              "    <tr>\n",
              "      <th>15</th>\n",
              "      <td>0.316</td>\n",
              "      <td>1.569</td>\n",
              "      <td>1.296</td>\n",
              "      <td>1.295</td>\n",
              "    </tr>\n",
              "    <tr>\n",
              "      <th>16</th>\n",
              "      <td>0.226</td>\n",
              "      <td>1.367</td>\n",
              "      <td>1.044</td>\n",
              "      <td>1.049</td>\n",
              "    </tr>\n",
              "    <tr>\n",
              "      <th>17</th>\n",
              "      <td>0.285</td>\n",
              "      <td>1.492</td>\n",
              "      <td>0.877</td>\n",
              "      <td>0.914</td>\n",
              "    </tr>\n",
              "    <tr>\n",
              "      <th>18</th>\n",
              "      <td>0.200</td>\n",
              "      <td>1.278</td>\n",
              "      <td>1.427</td>\n",
              "      <td>1.339</td>\n",
              "    </tr>\n",
              "  </tbody>\n",
              "</table>\n",
              "</div>\n",
              "      <button class=\"colab-df-convert\" onclick=\"convertToInteractive('df-7d4dfb49-83d2-4e20-9b7e-3cf537efc5e6')\"\n",
              "              title=\"Convert this dataframe to an interactive table.\"\n",
              "              style=\"display:none;\">\n",
              "        \n",
              "  <svg xmlns=\"http://www.w3.org/2000/svg\" height=\"24px\"viewBox=\"0 0 24 24\"\n",
              "       width=\"24px\">\n",
              "    <path d=\"M0 0h24v24H0V0z\" fill=\"none\"/>\n",
              "    <path d=\"M18.56 5.44l.94 2.06.94-2.06 2.06-.94-2.06-.94-.94-2.06-.94 2.06-2.06.94zm-11 1L8.5 8.5l.94-2.06 2.06-.94-2.06-.94L8.5 2.5l-.94 2.06-2.06.94zm10 10l.94 2.06.94-2.06 2.06-.94-2.06-.94-.94-2.06-.94 2.06-2.06.94z\"/><path d=\"M17.41 7.96l-1.37-1.37c-.4-.4-.92-.59-1.43-.59-.52 0-1.04.2-1.43.59L10.3 9.45l-7.72 7.72c-.78.78-.78 2.05 0 2.83L4 21.41c.39.39.9.59 1.41.59.51 0 1.02-.2 1.41-.59l7.78-7.78 2.81-2.81c.8-.78.8-2.07 0-2.86zM5.41 20L4 18.59l7.72-7.72 1.47 1.35L5.41 20z\"/>\n",
              "  </svg>\n",
              "      </button>\n",
              "      \n",
              "  <style>\n",
              "    .colab-df-container {\n",
              "      display:flex;\n",
              "      flex-wrap:wrap;\n",
              "      gap: 12px;\n",
              "    }\n",
              "\n",
              "    .colab-df-convert {\n",
              "      background-color: #E8F0FE;\n",
              "      border: none;\n",
              "      border-radius: 50%;\n",
              "      cursor: pointer;\n",
              "      display: none;\n",
              "      fill: #1967D2;\n",
              "      height: 32px;\n",
              "      padding: 0 0 0 0;\n",
              "      width: 32px;\n",
              "    }\n",
              "\n",
              "    .colab-df-convert:hover {\n",
              "      background-color: #E2EBFA;\n",
              "      box-shadow: 0px 1px 2px rgba(60, 64, 67, 0.3), 0px 1px 3px 1px rgba(60, 64, 67, 0.15);\n",
              "      fill: #174EA6;\n",
              "    }\n",
              "\n",
              "    [theme=dark] .colab-df-convert {\n",
              "      background-color: #3B4455;\n",
              "      fill: #D2E3FC;\n",
              "    }\n",
              "\n",
              "    [theme=dark] .colab-df-convert:hover {\n",
              "      background-color: #434B5C;\n",
              "      box-shadow: 0px 1px 3px 1px rgba(0, 0, 0, 0.15);\n",
              "      filter: drop-shadow(0px 1px 2px rgba(0, 0, 0, 0.3));\n",
              "      fill: #FFFFFF;\n",
              "    }\n",
              "  </style>\n",
              "\n",
              "      <script>\n",
              "        const buttonEl =\n",
              "          document.querySelector('#df-7d4dfb49-83d2-4e20-9b7e-3cf537efc5e6 button.colab-df-convert');\n",
              "        buttonEl.style.display =\n",
              "          google.colab.kernel.accessAllowed ? 'block' : 'none';\n",
              "\n",
              "        async function convertToInteractive(key) {\n",
              "          const element = document.querySelector('#df-7d4dfb49-83d2-4e20-9b7e-3cf537efc5e6');\n",
              "          const dataTable =\n",
              "            await google.colab.kernel.invokeFunction('convertToInteractive',\n",
              "                                                     [key], {});\n",
              "          if (!dataTable) return;\n",
              "\n",
              "          const docLinkHtml = 'Like what you see? Visit the ' +\n",
              "            '<a target=\"_blank\" href=https://colab.research.google.com/notebooks/data_table.ipynb>data table notebook</a>'\n",
              "            + ' to learn more about interactive tables.';\n",
              "          element.innerHTML = '';\n",
              "          dataTable['output_type'] = 'display_data';\n",
              "          await google.colab.output.renderOutput(dataTable, element);\n",
              "          const docLink = document.createElement('div');\n",
              "          docLink.innerHTML = docLinkHtml;\n",
              "          element.appendChild(docLink);\n",
              "        }\n",
              "      </script>\n",
              "    </div>\n",
              "  </div>\n",
              "  "
            ]
          },
          "metadata": {},
          "execution_count": 122
        }
      ]
    },
    {
      "cell_type": "code",
      "source": [
        "df.to_csv('/content/table7_4.csv')"
      ],
      "metadata": {
        "id": "CSoZcH3pf2_N"
      },
      "execution_count": null,
      "outputs": []
    },
    {
      "cell_type": "markdown",
      "source": [
        "## 図7.3"
      ],
      "metadata": {
        "id": "xeaG4UMmgZYF"
      }
    },
    {
      "cell_type": "code",
      "source": [
        "np.shape(p_star_list)"
      ],
      "metadata": {
        "colab": {
          "base_uri": "https://localhost:8080/"
        },
        "id": "oe0R8XxahTwT",
        "outputId": "eadfce6a-6b74-489a-9a21-a918445f5d44"
      },
      "execution_count": null,
      "outputs": [
        {
          "output_type": "execute_result",
          "data": {
            "text/plain": [
              "(18, 1000)"
            ]
          },
          "metadata": {},
          "execution_count": 124
        }
      ]
    },
    {
      "cell_type": "code",
      "source": [
        "np.shape(np.array(pp)[:,1])"
      ],
      "metadata": {
        "colab": {
          "base_uri": "https://localhost:8080/"
        },
        "id": "MMpwPZJHhl-v",
        "outputId": "58042163-2f02-4086-9f87-2802bc737df3"
      },
      "execution_count": null,
      "outputs": [
        {
          "output_type": "execute_result",
          "data": {
            "text/plain": [
              "(1000,)"
            ]
          },
          "metadata": {},
          "execution_count": 131
        }
      ]
    },
    {
      "cell_type": "code",
      "source": [
        "plt.hist(np.array(p_star_list)[1], alpha=0.7, label = 'MLE', bins=20)\n",
        "plt.hist(np.array(pp)[:,1], label='JS' , alpha=0.7, color=\"green\", bins=10 )\n",
        "plt.axvline(0.346 , c='r', linestyle = 'dashed')\n",
        "plt.legend()"
      ],
      "metadata": {
        "colab": {
          "base_uri": "https://localhost:8080/",
          "height": 502
        },
        "id": "h462XJbNgK1t",
        "outputId": "f637a9f0-07ed-4a9f-f124-0c3f7546ff2c"
      },
      "execution_count": null,
      "outputs": [
        {
          "output_type": "execute_result",
          "data": {
            "text/plain": [
              "<matplotlib.legend.Legend at 0x7fbc01595c40>"
            ]
          },
          "metadata": {},
          "execution_count": 150
        },
        {
          "output_type": "display_data",
          "data": {
            "text/plain": [
              "<Figure size 800x550 with 1 Axes>"
            ],
            "image/png": "[encoded data removed]"
          },
          "metadata": {}
        }
      ]
    },
    {
      "cell_type": "code",
      "source": [
        "plt.hist(np.array(p_star_list)[1], alpha=0.7, label = 'MLE', bins=20)\n",
        "plt.hist(np.array(pp)[:,1], label='JS' , alpha=0.7, color=\"green\", bins=20 )\n",
        "plt.axvline(0.346 , c='r', linestyle = 'dashed')\n",
        "plt.legend()"
      ],
      "metadata": {
        "colab": {
          "base_uri": "https://localhost:8080/",
          "height": 502
        },
        "id": "Ku6C3yrihbHa",
        "outputId": "f965ee59-2416-4767-f72b-e978b647c9ed"
      },
      "execution_count": null,
      "outputs": [
        {
          "output_type": "execute_result",
          "data": {
            "text/plain": [
              "<matplotlib.legend.Legend at 0x7fbc0338ae50>"
            ]
          },
          "metadata": {},
          "execution_count": 151
        },
        {
          "output_type": "display_data",
          "data": {
            "text/plain": [
              "<Figure size 800x550 with 1 Axes>"
            ],
            "image/png": "[encoded data removed]"
          },
          "metadata": {}
        }
      ]
    },
    {
      "cell_type": "markdown",
      "source": [
        "# 疑問点のシミュレーション\n"
      ],
      "metadata": {
        "id": "bPIDNndEvgJr"
      }
    },
    {
      "cell_type": "markdown",
      "source": [
        "## * JS推定量は図7.1によると平均から離れれば離れるほど縮小が強い。なぜ？"
      ],
      "metadata": {
        "id": "udrXmAi0DRcn"
      }
    },
    {
      "cell_type": "code",
      "source": [
        "generator = np.random.default_rng()\n",
        "rnd = generator.normal(loc=0, scale=1, size=100)"
      ],
      "metadata": {
        "id": "XOIRJGl4kvoI",
        "colab": {
          "base_uri": "https://localhost:8080/",
          "height": 191
        },
        "outputId": "8a6fe8a5-7ef8-4682-dd07-d34311de55ca"
      },
      "execution_count": null,
      "outputs": [
        {
          "output_type": "error",
          "ename": "NameError",
          "evalue": "ignored",
          "traceback": [
            "\u001b[0;31m---------------------------------------------------------------------------\u001b[0m",
            "\u001b[0;31mNameError\u001b[0m                                 Traceback (most recent call last)",
            "\u001b[0;32m<ipython-input-1-52f422039b73>\u001b[0m in \u001b[0;36m<cell line: 1>\u001b[0;34m()\u001b[0m\n\u001b[0;32m----> 1\u001b[0;31m \u001b[0mgenerator\u001b[0m \u001b[0;34m=\u001b[0m \u001b[0mnp\u001b[0m\u001b[0;34m.\u001b[0m\u001b[0mrandom\u001b[0m\u001b[0;34m.\u001b[0m\u001b[0mdefault_rng\u001b[0m\u001b[0;34m(\u001b[0m\u001b[0;34m)\u001b[0m\u001b[0;34m\u001b[0m\u001b[0;34m\u001b[0m\u001b[0m\n\u001b[0m\u001b[1;32m      2\u001b[0m \u001b[0mrnd\u001b[0m \u001b[0;34m=\u001b[0m \u001b[0mgenerator\u001b[0m\u001b[0;34m.\u001b[0m\u001b[0mnormal\u001b[0m\u001b[0;34m(\u001b[0m\u001b[0mloc\u001b[0m\u001b[0;34m=\u001b[0m\u001b[0;36m0\u001b[0m\u001b[0;34m,\u001b[0m \u001b[0mscale\u001b[0m\u001b[0;34m=\u001b[0m\u001b[0;36m1\u001b[0m\u001b[0;34m,\u001b[0m \u001b[0msize\u001b[0m\u001b[0;34m=\u001b[0m\u001b[0;36m100\u001b[0m\u001b[0;34m)\u001b[0m\u001b[0;34m\u001b[0m\u001b[0;34m\u001b[0m\u001b[0m\n",
            "\u001b[0;31mNameError\u001b[0m: name 'np' is not defined"
          ]
        }
      ]
    },
    {
      "cell_type": "code",
      "source": [
        "rnd"
      ],
      "metadata": {
        "id": "wVmheEYZw2cx"
      },
      "execution_count": null,
      "outputs": []
    },
    {
      "cell_type": "code",
      "source": [
        "np.linalg.norm(rnd)**2"
      ],
      "metadata": {
        "id": "1sYBErHuxL6v"
      },
      "execution_count": null,
      "outputs": []
    },
    {
      "cell_type": "code",
      "source": [
        "Y = 1 - (100-2)/np.linalg.norm(rnd)**2"
      ],
      "metadata": {
        "id": "tKb18dXGw3hH"
      },
      "execution_count": null,
      "outputs": []
    },
    {
      "cell_type": "code",
      "source": [
        "Y"
      ],
      "metadata": {
        "id": "INOWteadxqrN"
      },
      "execution_count": null,
      "outputs": []
    },
    {
      "cell_type": "markdown",
      "source": [
        "p124で$\\hat{\\beta}.TS\\hat{\\beta}$が大きいと分散$\\sigma^2$もおきくなる"
      ],
      "metadata": {
        "id": "6Ipg-C-Z0h9B"
      }
    },
    {
      "cell_type": "code",
      "source": [
        "generator = np.random.default_rng()\n",
        "rnd = generator.normal(loc=0, scale=10, size=100)"
      ],
      "metadata": {
        "id": "VV_Ro4erxVQh"
      },
      "execution_count": null,
      "outputs": []
    },
    {
      "cell_type": "code",
      "source": [
        "Y = 1 - (100-2)*100/np.linalg.norm(rnd)**2"
      ],
      "metadata": {
        "id": "Izlagumy1K7-"
      },
      "execution_count": null,
      "outputs": []
    },
    {
      "cell_type": "code",
      "source": [
        "Y"
      ],
      "metadata": {
        "id": "mh52dhQu1Muy"
      },
      "execution_count": null,
      "outputs": []
    },
    {
      "cell_type": "markdown",
      "source": [
        "平均が0、分散が大、小比べると、倍率も0に近くなるよになっているが、(p-2)の部分で少し値が残るようになり、分散が大だとβ^が大きいので見かけ上かなり縮小されるように見える。一方で分散が小だとβ^が小さいので見かけ上あまり縮小されないように見える。\n"
      ],
      "metadata": {
        "id": "ZmtJGSjb1wu7"
      }
    },
    {
      "cell_type": "markdown",
      "source": [
        "分散が固定なんだからそもそも倍率はそれぞれ同じで、βが大きいほど見かけの縮小は強くなる"
      ],
      "metadata": {
        "id": "cVZF9-TLDc3H"
      }
    },
    {
      "cell_type": "markdown",
      "source": [
        "## P124 (7.43) でJS推定量の倍率は負になるのか。\n",
        "$\\hat{\\beta}^{JS}=[1-(p-2)\\sigma^2/(\\hat{\\beta}^TS\\hat{\\beta}）] $"
      ],
      "metadata": {
        "id": "gVUeWy4ID7Qc"
      }
    },
    {
      "cell_type": "code",
      "source": [
        "generator = np.random.default_rng()"
      ],
      "metadata": {
        "id": "ZNMfN87HI7be"
      },
      "execution_count": null,
      "outputs": []
    },
    {
      "cell_type": "code",
      "source": [
        "p = 10\n",
        "var = 1\n",
        "lam = 0.1"
      ],
      "metadata": {
        "id": "G-osUGz-JOVr"
      },
      "execution_count": null,
      "outputs": []
    },
    {
      "cell_type": "code",
      "source": [
        "beta = generator.normal(loc=0, scale=var/lam, size=p)\n",
        "beta_hat = generator.normal(loc=, scale=var/lam, size=p)"
      ],
      "metadata": {
        "id": "b99I2hYC1OUp"
      },
      "execution_count": null,
      "outputs": []
    }
  ]
}
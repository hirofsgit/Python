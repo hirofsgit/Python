{
  "nbformat": 4,
  "nbformat_minor": 0,
  "metadata": {
    "colab": {
      "provenance": [],
      "authorship_tag": "ABX9TyO2OZ14KNNQaZZCIQUfNTcO"
    },
    "kernelspec": {
      "name": "python3",
      "display_name": "Python 3"
    },
    "language_info": {
      "name": "python"
    }
  },
  "cells": [
    {
      "cell_type": "markdown",
      "source": [
        "# 設定"
      ],
      "metadata": {
        "id": "zOJyrmeClTKH"
      }
    },
    {
      "cell_type": "code",
      "source": [
        "!pip install japanize-matplotlib"
      ],
      "metadata": {
        "id": "FzvMc5j4jYm9"
      },
      "execution_count": null,
      "outputs": []
    },
    {
      "cell_type": "code",
      "source": [
        "import numpy as np\n",
        "import pandas as pd\n",
        "from scipy.stats import norm\n",
        "from scipy.stats import gamma\n",
        "from scipy.stats import cauchy\n",
        "import scipy.special as sp\n",
        "import matplotlib.pyplot as plt\n",
        "import seaborn as sns \n",
        "import japanize_matplotlib\n",
        "%matplotlib inline"
      ],
      "metadata": {
        "id": "gImKTxTcazAW"
      },
      "execution_count": 12,
      "outputs": []
    },
    {
      "cell_type": "markdown",
      "source": [
        "# 図4.1"
      ],
      "metadata": {
        "id": "CWTAAU1aZVKE"
      }
    },
    {
      "cell_type": "code",
      "execution_count": 3,
      "metadata": {
        "id": "pYLWinnMU-tw"
      },
      "outputs": [],
      "source": [
        "gfr = pd.read_csv(\"/content/gfr.txt\",names=[\"gfr\"])"
      ]
    },
    {
      "cell_type": "code",
      "source": [
        "gfr.head()"
      ],
      "metadata": {
        "colab": {
          "base_uri": "https://localhost:8080/",
          "height": 206
        },
        "id": "Azj9SIvlbtvR",
        "outputId": "b874d926-9657-478f-e3ee-fc4124b263bc"
      },
      "execution_count": 4,
      "outputs": [
        {
          "output_type": "execute_result",
          "data": {
            "text/plain": [
              "   gfr\n",
              "0  108\n",
              "1   91\n",
              "2   62\n",
              "3   59\n",
              "4   84"
            ],
            "text/html": [
              "\n",
              "  <div id=\"df-c4c7ce88-3143-45ce-b9c1-b7cf46e25f35\">\n",
              "    <div class=\"colab-df-container\">\n",
              "      <div>\n",
              "<style scoped>\n",
              "    .dataframe tbody tr th:only-of-type {\n",
              "        vertical-align: middle;\n",
              "    }\n",
              "\n",
              "    .dataframe tbody tr th {\n",
              "        vertical-align: top;\n",
              "    }\n",
              "\n",
              "    .dataframe thead th {\n",
              "        text-align: right;\n",
              "    }\n",
              "</style>\n",
              "<table border=\"1\" class=\"dataframe\">\n",
              "  <thead>\n",
              "    <tr style=\"text-align: right;\">\n",
              "      <th></th>\n",
              "      <th>gfr</th>\n",
              "    </tr>\n",
              "  </thead>\n",
              "  <tbody>\n",
              "    <tr>\n",
              "      <th>0</th>\n",
              "      <td>108</td>\n",
              "    </tr>\n",
              "    <tr>\n",
              "      <th>1</th>\n",
              "      <td>91</td>\n",
              "    </tr>\n",
              "    <tr>\n",
              "      <th>2</th>\n",
              "      <td>62</td>\n",
              "    </tr>\n",
              "    <tr>\n",
              "      <th>3</th>\n",
              "      <td>59</td>\n",
              "    </tr>\n",
              "    <tr>\n",
              "      <th>4</th>\n",
              "      <td>84</td>\n",
              "    </tr>\n",
              "  </tbody>\n",
              "</table>\n",
              "</div>\n",
              "      <button class=\"colab-df-convert\" onclick=\"convertToInteractive('df-c4c7ce88-3143-45ce-b9c1-b7cf46e25f35')\"\n",
              "              title=\"Convert this dataframe to an interactive table.\"\n",
              "              style=\"display:none;\">\n",
              "        \n",
              "  <svg xmlns=\"http://www.w3.org/2000/svg\" height=\"24px\"viewBox=\"0 0 24 24\"\n",
              "       width=\"24px\">\n",
              "    <path d=\"M0 0h24v24H0V0z\" fill=\"none\"/>\n",
              "    <path d=\"M18.56 5.44l.94 2.06.94-2.06 2.06-.94-2.06-.94-.94-2.06-.94 2.06-2.06.94zm-11 1L8.5 8.5l.94-2.06 2.06-.94-2.06-.94L8.5 2.5l-.94 2.06-2.06.94zm10 10l.94 2.06.94-2.06 2.06-.94-2.06-.94-.94-2.06-.94 2.06-2.06.94z\"/><path d=\"M17.41 7.96l-1.37-1.37c-.4-.4-.92-.59-1.43-.59-.52 0-1.04.2-1.43.59L10.3 9.45l-7.72 7.72c-.78.78-.78 2.05 0 2.83L4 21.41c.39.39.9.59 1.41.59.51 0 1.02-.2 1.41-.59l7.78-7.78 2.81-2.81c.8-.78.8-2.07 0-2.86zM5.41 20L4 18.59l7.72-7.72 1.47 1.35L5.41 20z\"/>\n",
              "  </svg>\n",
              "      </button>\n",
              "      \n",
              "  <style>\n",
              "    .colab-df-container {\n",
              "      display:flex;\n",
              "      flex-wrap:wrap;\n",
              "      gap: 12px;\n",
              "    }\n",
              "\n",
              "    .colab-df-convert {\n",
              "      background-color: #E8F0FE;\n",
              "      border: none;\n",
              "      border-radius: 50%;\n",
              "      cursor: pointer;\n",
              "      display: none;\n",
              "      fill: #1967D2;\n",
              "      height: 32px;\n",
              "      padding: 0 0 0 0;\n",
              "      width: 32px;\n",
              "    }\n",
              "\n",
              "    .colab-df-convert:hover {\n",
              "      background-color: #E2EBFA;\n",
              "      box-shadow: 0px 1px 2px rgba(60, 64, 67, 0.3), 0px 1px 3px 1px rgba(60, 64, 67, 0.15);\n",
              "      fill: #174EA6;\n",
              "    }\n",
              "\n",
              "    [theme=dark] .colab-df-convert {\n",
              "      background-color: #3B4455;\n",
              "      fill: #D2E3FC;\n",
              "    }\n",
              "\n",
              "    [theme=dark] .colab-df-convert:hover {\n",
              "      background-color: #434B5C;\n",
              "      box-shadow: 0px 1px 3px 1px rgba(0, 0, 0, 0.15);\n",
              "      filter: drop-shadow(0px 1px 2px rgba(0, 0, 0, 0.3));\n",
              "      fill: #FFFFFF;\n",
              "    }\n",
              "  </style>\n",
              "\n",
              "      <script>\n",
              "        const buttonEl =\n",
              "          document.querySelector('#df-c4c7ce88-3143-45ce-b9c1-b7cf46e25f35 button.colab-df-convert');\n",
              "        buttonEl.style.display =\n",
              "          google.colab.kernel.accessAllowed ? 'block' : 'none';\n",
              "\n",
              "        async function convertToInteractive(key) {\n",
              "          const element = document.querySelector('#df-c4c7ce88-3143-45ce-b9c1-b7cf46e25f35');\n",
              "          const dataTable =\n",
              "            await google.colab.kernel.invokeFunction('convertToInteractive',\n",
              "                                                     [key], {});\n",
              "          if (!dataTable) return;\n",
              "\n",
              "          const docLinkHtml = 'Like what you see? Visit the ' +\n",
              "            '<a target=\"_blank\" href=https://colab.research.google.com/notebooks/data_table.ipynb>data table notebook</a>'\n",
              "            + ' to learn more about interactive tables.';\n",
              "          element.innerHTML = '';\n",
              "          dataTable['output_type'] = 'display_data';\n",
              "          await google.colab.output.renderOutput(dataTable, element);\n",
              "          const docLink = document.createElement('div');\n",
              "          docLink.innerHTML = docLinkHtml;\n",
              "          element.appendChild(docLink);\n",
              "        }\n",
              "      </script>\n",
              "    </div>\n",
              "  </div>\n",
              "  "
            ]
          },
          "metadata": {},
          "execution_count": 4
        }
      ]
    },
    {
      "cell_type": "code",
      "source": [
        "#(4.6)の最尤推定量\n",
        "theta_hat = gfr.mean()\n",
        "sigma_hat = np.sqrt((np.sum([(i-theta_hat)**2 for i in gfr['gfr']]))/len(gfr))\n",
        "print(f\"theta_hat:{theta_hat}, sigma_hat: {sigma_hat}\")"
      ],
      "metadata": {
        "colab": {
          "base_uri": "https://localhost:8080/"
        },
        "id": "5-D859EVaATp",
        "outputId": "14d36e27-3cfb-4735-8372-b5b2ce6e4334"
      },
      "execution_count": 6,
      "outputs": [
        {
          "output_type": "stream",
          "name": "stdout",
          "text": [
            "theta_hat:gfr    54.265403\n",
            "dtype: float64, sigma_hat: 13.6883278607888\n"
          ]
        }
      ]
    },
    {
      "cell_type": "code",
      "source": [
        "#(4.7)の最尤推定量\n",
        "nu_hat, lambda_hat, sigma_hat1 = gamma.fit(gfr['gfr'])\n",
        "print(\" lambda_hat: {0}, sigma_hat: {1}, nu_hat: {2}\".format(lambda_hat , sigma_hat1,nu_hat))"
      ],
      "metadata": {
        "colab": {
          "base_uri": "https://localhost:8080/"
        },
        "id": "E3EntlfVi3Nz",
        "outputId": "1412e7bc-05ae-407d-a660-0b83d6634535"
      },
      "execution_count": 9,
      "outputs": [
        {
          "output_type": "stream",
          "name": "stdout",
          "text": [
            " lambda_hat: 21.11149843336916, sigma_hat: 5.383233562569158, nu_hat: 6.158734063001189\n"
          ]
        }
      ]
    },
    {
      "cell_type": "code",
      "source": [
        "n=len(gfr)\n",
        "fig, ax = plt.subplots(figsize=(12, 7))\n",
        "x=np.arange(10,115,0.1)\n",
        "y=norm.pdf(x, loc=theta_hat, scale=sigma_hat)\n",
        "yy = gamma.pdf(x, nu_hat, loc=lambda_hat, scale=sigma_hat1)\n",
        "ax.hist(gfr['gfr'], bins = np.arange(13.5, 112, 3), edgecolor=\"k\", color=\"limegreen\",density=True)\n",
        "ax.set_xlabel(\"gfr\", size=18)\n",
        "ax.set_ylabel(\"密度\", size=18)\n",
        "ax.plot(x,y, label='正規分布')\n",
        "ax.plot(x,yy, label='ガンマ分布')\n",
        "ax.legend()"
      ],
      "metadata": {
        "colab": {
          "base_uri": "https://localhost:8080/",
          "height": 467
        },
        "id": "8Ytc1D58b6Hv",
        "outputId": "d9b68cbe-3968-4958-e5bd-692c7ce12aa8"
      },
      "execution_count": 11,
      "outputs": [
        {
          "output_type": "execute_result",
          "data": {
            "text/plain": [
              "<matplotlib.legend.Legend at 0x7f7811f13c70>"
            ]
          },
          "metadata": {},
          "execution_count": 11
        },
        {
          "output_type": "display_data",
          "data": {
            "text/plain": [
              "<Figure size 864x504 with 1 Axes>"
            ],
            "image/png": "[encoded data removed]"
          },
          "metadata": {
            "needs_background": "light"
          }
        }
      ]
    },
    {
      "cell_type": "markdown",
      "source": [
        "# 図4.2"
      ],
      "metadata": {
        "id": "fKMDIVcG4wJz"
      }
    },
    {
      "cell_type": "markdown",
      "source": [
        "$\\displaystyle I(x) = - \\ddot{l}_x(\\theta) =- \\frac{\\partial^2}{\\partial \\theta^2} \\log f_{\\theta}(x) \\large |_{\\hat{\\theta}} $\n",
        "\n",
        "$\\displaystyle \\log f_{\\theta}(x) =\\sum_{i=1}^{n} \\{-\\log \\pi -\\log(1+(x_i-\\theta)^2)\\} $\n",
        "\n",
        "$\\displaystyle \\frac{\\partial}{\\partial \\theta} \\log f_{\\theta}(x) = \\sum_{i=1}^{20} \\frac{2(x_i-\\theta)}{1+(x_i-\\theta)^2}  $\n",
        "\n",
        "$\\displaystyle \\frac{\\partial^2}{\\partial \\theta^2} \\log f_{\\theta}(x) = \\sum_{i=1}^{20} \\frac{(x_i-\\theta)^2-1}{\\{1+(x_i-\\theta)^2\\}^2}  $\n"
      ],
      "metadata": {
        "id": "uQks0P5SG840"
      }
    },
    {
      "cell_type": "code",
      "source": [
        "def I(x,th_hat):\n",
        "  S = 0\n",
        "  for i in range(20):\n",
        "    S += ((x[i]-th_hat)**2-1)/((1+(x[i]-th_hat)**2)**2)\n",
        "  return -S"
      ],
      "metadata": {
        "id": "qeczQ1N3Ggf6"
      },
      "execution_count": 29,
      "outputs": []
    },
    {
      "cell_type": "code",
      "source": [
        "theta_hat = []\n",
        "I_inv = []\n",
        "for j in range(10000):\n",
        "  x = cauchy.rvs(size=20)\n",
        "  th_hat,sigma_hat = cauchy.fit(x)\n",
        "  u = I(x,th_hat)\n",
        "  theta_hat.append(th_hat)\n",
        "  I_inv.append(1/u)"
      ],
      "metadata": {
        "id": "IQUx0MPrOUWe"
      },
      "execution_count": 31,
      "outputs": []
    },
    {
      "cell_type": "code",
      "source": [
        "df = pd.DataFrame(data={\"theta_hat\": theta_hat, \"1/I(x)\":I_inv})"
      ],
      "metadata": {
        "id": "jfFQkI7cQWCd"
      },
      "execution_count": 32,
      "outputs": []
    },
    {
      "cell_type": "code",
      "source": [
        "df.head()"
      ],
      "metadata": {
        "colab": {
          "base_uri": "https://localhost:8080/",
          "height": 206
        },
        "id": "136yWzlIQe-R",
        "outputId": "5161766a-ba03-4f4a-eef1-74258ffef4e5"
      },
      "execution_count": 33,
      "outputs": [
        {
          "output_type": "execute_result",
          "data": {
            "text/plain": [
              "   theta_hat    1/I(x)\n",
              "0   0.092774  0.102113\n",
              "1   0.278624  0.389927\n",
              "2  -0.214165  0.144359\n",
              "3  -0.386378  0.145999\n",
              "4  -0.331275  0.328056"
            ],
            "text/html": [
              "\n",
              "  <div id=\"df-1bcea44e-b9a6-4c6f-b374-76505892cf59\">\n",
              "    <div class=\"colab-df-container\">\n",
              "      <div>\n",
              "<style scoped>\n",
              "    .dataframe tbody tr th:only-of-type {\n",
              "        vertical-align: middle;\n",
              "    }\n",
              "\n",
              "    .dataframe tbody tr th {\n",
              "        vertical-align: top;\n",
              "    }\n",
              "\n",
              "    .dataframe thead th {\n",
              "        text-align: right;\n",
              "    }\n",
              "</style>\n",
              "<table border=\"1\" class=\"dataframe\">\n",
              "  <thead>\n",
              "    <tr style=\"text-align: right;\">\n",
              "      <th></th>\n",
              "      <th>theta_hat</th>\n",
              "      <th>1/I(x)</th>\n",
              "    </tr>\n",
              "  </thead>\n",
              "  <tbody>\n",
              "    <tr>\n",
              "      <th>0</th>\n",
              "      <td>0.092774</td>\n",
              "      <td>0.102113</td>\n",
              "    </tr>\n",
              "    <tr>\n",
              "      <th>1</th>\n",
              "      <td>0.278624</td>\n",
              "      <td>0.389927</td>\n",
              "    </tr>\n",
              "    <tr>\n",
              "      <th>2</th>\n",
              "      <td>-0.214165</td>\n",
              "      <td>0.144359</td>\n",
              "    </tr>\n",
              "    <tr>\n",
              "      <th>3</th>\n",
              "      <td>-0.386378</td>\n",
              "      <td>0.145999</td>\n",
              "    </tr>\n",
              "    <tr>\n",
              "      <th>4</th>\n",
              "      <td>-0.331275</td>\n",
              "      <td>0.328056</td>\n",
              "    </tr>\n",
              "  </tbody>\n",
              "</table>\n",
              "</div>\n",
              "      <button class=\"colab-df-convert\" onclick=\"convertToInteractive('df-1bcea44e-b9a6-4c6f-b374-76505892cf59')\"\n",
              "              title=\"Convert this dataframe to an interactive table.\"\n",
              "              style=\"display:none;\">\n",
              "        \n",
              "  <svg xmlns=\"http://www.w3.org/2000/svg\" height=\"24px\"viewBox=\"0 0 24 24\"\n",
              "       width=\"24px\">\n",
              "    <path d=\"M0 0h24v24H0V0z\" fill=\"none\"/>\n",
              "    <path d=\"M18.56 5.44l.94 2.06.94-2.06 2.06-.94-2.06-.94-.94-2.06-.94 2.06-2.06.94zm-11 1L8.5 8.5l.94-2.06 2.06-.94-2.06-.94L8.5 2.5l-.94 2.06-2.06.94zm10 10l.94 2.06.94-2.06 2.06-.94-2.06-.94-.94-2.06-.94 2.06-2.06.94z\"/><path d=\"M17.41 7.96l-1.37-1.37c-.4-.4-.92-.59-1.43-.59-.52 0-1.04.2-1.43.59L10.3 9.45l-7.72 7.72c-.78.78-.78 2.05 0 2.83L4 21.41c.39.39.9.59 1.41.59.51 0 1.02-.2 1.41-.59l7.78-7.78 2.81-2.81c.8-.78.8-2.07 0-2.86zM5.41 20L4 18.59l7.72-7.72 1.47 1.35L5.41 20z\"/>\n",
              "  </svg>\n",
              "      </button>\n",
              "      \n",
              "  <style>\n",
              "    .colab-df-container {\n",
              "      display:flex;\n",
              "      flex-wrap:wrap;\n",
              "      gap: 12px;\n",
              "    }\n",
              "\n",
              "    .colab-df-convert {\n",
              "      background-color: #E8F0FE;\n",
              "      border: none;\n",
              "      border-radius: 50%;\n",
              "      cursor: pointer;\n",
              "      display: none;\n",
              "      fill: #1967D2;\n",
              "      height: 32px;\n",
              "      padding: 0 0 0 0;\n",
              "      width: 32px;\n",
              "    }\n",
              "\n",
              "    .colab-df-convert:hover {\n",
              "      background-color: #E2EBFA;\n",
              "      box-shadow: 0px 1px 2px rgba(60, 64, 67, 0.3), 0px 1px 3px 1px rgba(60, 64, 67, 0.15);\n",
              "      fill: #174EA6;\n",
              "    }\n",
              "\n",
              "    [theme=dark] .colab-df-convert {\n",
              "      background-color: #3B4455;\n",
              "      fill: #D2E3FC;\n",
              "    }\n",
              "\n",
              "    [theme=dark] .colab-df-convert:hover {\n",
              "      background-color: #434B5C;\n",
              "      box-shadow: 0px 1px 3px 1px rgba(0, 0, 0, 0.15);\n",
              "      filter: drop-shadow(0px 1px 2px rgba(0, 0, 0, 0.3));\n",
              "      fill: #FFFFFF;\n",
              "    }\n",
              "  </style>\n",
              "\n",
              "      <script>\n",
              "        const buttonEl =\n",
              "          document.querySelector('#df-1bcea44e-b9a6-4c6f-b374-76505892cf59 button.colab-df-convert');\n",
              "        buttonEl.style.display =\n",
              "          google.colab.kernel.accessAllowed ? 'block' : 'none';\n",
              "\n",
              "        async function convertToInteractive(key) {\n",
              "          const element = document.querySelector('#df-1bcea44e-b9a6-4c6f-b374-76505892cf59');\n",
              "          const dataTable =\n",
              "            await google.colab.kernel.invokeFunction('convertToInteractive',\n",
              "                                                     [key], {});\n",
              "          if (!dataTable) return;\n",
              "\n",
              "          const docLinkHtml = 'Like what you see? Visit the ' +\n",
              "            '<a target=\"_blank\" href=https://colab.research.google.com/notebooks/data_table.ipynb>data table notebook</a>'\n",
              "            + ' to learn more about interactive tables.';\n",
              "          element.innerHTML = '';\n",
              "          dataTable['output_type'] = 'display_data';\n",
              "          await google.colab.output.renderOutput(dataTable, element);\n",
              "          const docLink = document.createElement('div');\n",
              "          docLink.innerHTML = docLinkHtml;\n",
              "          element.appendChild(docLink);\n",
              "        }\n",
              "      </script>\n",
              "    </div>\n",
              "  </div>\n",
              "  "
            ]
          },
          "metadata": {},
          "execution_count": 33
        }
      ]
    },
    {
      "cell_type": "code",
      "source": [
        "df = df.sort_values(by='1/I(x)')"
      ],
      "metadata": {
        "id": "MKhYcz4PQgMs"
      },
      "execution_count": 34,
      "outputs": []
    },
    {
      "cell_type": "code",
      "source": [
        "df.head()"
      ],
      "metadata": {
        "colab": {
          "base_uri": "https://localhost:8080/",
          "height": 206
        },
        "id": "7yYithc-Qo6s",
        "outputId": "fa644a6c-8fec-46a4-8ab3-82a3025b7a22"
      },
      "execution_count": 35,
      "outputs": [
        {
          "output_type": "execute_result",
          "data": {
            "text/plain": [
              "      theta_hat        1/I(x)\n",
              "982   -0.377758 -12842.560792\n",
              "6191   0.813527    -16.131556\n",
              "648   -0.402875    -10.145631\n",
              "8718   0.999238     -9.010157\n",
              "2032  -1.573233     -5.197158"
            ],
            "text/html": [
              "\n",
              "  <div id=\"df-e76e0d26-4a2a-4a90-be46-162189ab1442\">\n",
              "    <div class=\"colab-df-container\">\n",
              "      <div>\n",
              "<style scoped>\n",
              "    .dataframe tbody tr th:only-of-type {\n",
              "        vertical-align: middle;\n",
              "    }\n",
              "\n",
              "    .dataframe tbody tr th {\n",
              "        vertical-align: top;\n",
              "    }\n",
              "\n",
              "    .dataframe thead th {\n",
              "        text-align: right;\n",
              "    }\n",
              "</style>\n",
              "<table border=\"1\" class=\"dataframe\">\n",
              "  <thead>\n",
              "    <tr style=\"text-align: right;\">\n",
              "      <th></th>\n",
              "      <th>theta_hat</th>\n",
              "      <th>1/I(x)</th>\n",
              "    </tr>\n",
              "  </thead>\n",
              "  <tbody>\n",
              "    <tr>\n",
              "      <th>982</th>\n",
              "      <td>-0.377758</td>\n",
              "      <td>-12842.560792</td>\n",
              "    </tr>\n",
              "    <tr>\n",
              "      <th>6191</th>\n",
              "      <td>0.813527</td>\n",
              "      <td>-16.131556</td>\n",
              "    </tr>\n",
              "    <tr>\n",
              "      <th>648</th>\n",
              "      <td>-0.402875</td>\n",
              "      <td>-10.145631</td>\n",
              "    </tr>\n",
              "    <tr>\n",
              "      <th>8718</th>\n",
              "      <td>0.999238</td>\n",
              "      <td>-9.010157</td>\n",
              "    </tr>\n",
              "    <tr>\n",
              "      <th>2032</th>\n",
              "      <td>-1.573233</td>\n",
              "      <td>-5.197158</td>\n",
              "    </tr>\n",
              "  </tbody>\n",
              "</table>\n",
              "</div>\n",
              "      <button class=\"colab-df-convert\" onclick=\"convertToInteractive('df-e76e0d26-4a2a-4a90-be46-162189ab1442')\"\n",
              "              title=\"Convert this dataframe to an interactive table.\"\n",
              "              style=\"display:none;\">\n",
              "        \n",
              "  <svg xmlns=\"http://www.w3.org/2000/svg\" height=\"24px\"viewBox=\"0 0 24 24\"\n",
              "       width=\"24px\">\n",
              "    <path d=\"M0 0h24v24H0V0z\" fill=\"none\"/>\n",
              "    <path d=\"M18.56 5.44l.94 2.06.94-2.06 2.06-.94-2.06-.94-.94-2.06-.94 2.06-2.06.94zm-11 1L8.5 8.5l.94-2.06 2.06-.94-2.06-.94L8.5 2.5l-.94 2.06-2.06.94zm10 10l.94 2.06.94-2.06 2.06-.94-2.06-.94-.94-2.06-.94 2.06-2.06.94z\"/><path d=\"M17.41 7.96l-1.37-1.37c-.4-.4-.92-.59-1.43-.59-.52 0-1.04.2-1.43.59L10.3 9.45l-7.72 7.72c-.78.78-.78 2.05 0 2.83L4 21.41c.39.39.9.59 1.41.59.51 0 1.02-.2 1.41-.59l7.78-7.78 2.81-2.81c.8-.78.8-2.07 0-2.86zM5.41 20L4 18.59l7.72-7.72 1.47 1.35L5.41 20z\"/>\n",
              "  </svg>\n",
              "      </button>\n",
              "      \n",
              "  <style>\n",
              "    .colab-df-container {\n",
              "      display:flex;\n",
              "      flex-wrap:wrap;\n",
              "      gap: 12px;\n",
              "    }\n",
              "\n",
              "    .colab-df-convert {\n",
              "      background-color: #E8F0FE;\n",
              "      border: none;\n",
              "      border-radius: 50%;\n",
              "      cursor: pointer;\n",
              "      display: none;\n",
              "      fill: #1967D2;\n",
              "      height: 32px;\n",
              "      padding: 0 0 0 0;\n",
              "      width: 32px;\n",
              "    }\n",
              "\n",
              "    .colab-df-convert:hover {\n",
              "      background-color: #E2EBFA;\n",
              "      box-shadow: 0px 1px 2px rgba(60, 64, 67, 0.3), 0px 1px 3px 1px rgba(60, 64, 67, 0.15);\n",
              "      fill: #174EA6;\n",
              "    }\n",
              "\n",
              "    [theme=dark] .colab-df-convert {\n",
              "      background-color: #3B4455;\n",
              "      fill: #D2E3FC;\n",
              "    }\n",
              "\n",
              "    [theme=dark] .colab-df-convert:hover {\n",
              "      background-color: #434B5C;\n",
              "      box-shadow: 0px 1px 3px 1px rgba(0, 0, 0, 0.15);\n",
              "      filter: drop-shadow(0px 1px 2px rgba(0, 0, 0, 0.3));\n",
              "      fill: #FFFFFF;\n",
              "    }\n",
              "  </style>\n",
              "\n",
              "      <script>\n",
              "        const buttonEl =\n",
              "          document.querySelector('#df-e76e0d26-4a2a-4a90-be46-162189ab1442 button.colab-df-convert');\n",
              "        buttonEl.style.display =\n",
              "          google.colab.kernel.accessAllowed ? 'block' : 'none';\n",
              "\n",
              "        async function convertToInteractive(key) {\n",
              "          const element = document.querySelector('#df-e76e0d26-4a2a-4a90-be46-162189ab1442');\n",
              "          const dataTable =\n",
              "            await google.colab.kernel.invokeFunction('convertToInteractive',\n",
              "                                                     [key], {});\n",
              "          if (!dataTable) return;\n",
              "\n",
              "          const docLinkHtml = 'Like what you see? Visit the ' +\n",
              "            '<a target=\"_blank\" href=https://colab.research.google.com/notebooks/data_table.ipynb>data table notebook</a>'\n",
              "            + ' to learn more about interactive tables.';\n",
              "          element.innerHTML = '';\n",
              "          dataTable['output_type'] = 'display_data';\n",
              "          await google.colab.output.renderOutput(dataTable, element);\n",
              "          const docLink = document.createElement('div');\n",
              "          docLink.innerHTML = docLinkHtml;\n",
              "          element.appendChild(docLink);\n",
              "        }\n",
              "      </script>\n",
              "    </div>\n",
              "  </div>\n",
              "  "
            ]
          },
          "metadata": {},
          "execution_count": 35
        }
      ]
    },
    {
      "cell_type": "code",
      "source": [
        "sum(df['1/I(x)']<0)"
      ],
      "metadata": {
        "colab": {
          "base_uri": "https://localhost:8080/"
        },
        "id": "vvxo3B1HQp_8",
        "outputId": "12fdde6e-58c6-4578-80b5-614ea3b57f48"
      },
      "execution_count": 37,
      "outputs": [
        {
          "output_type": "execute_result",
          "data": {
            "text/plain": [
              "12"
            ]
          },
          "metadata": {},
          "execution_count": 37
        }
      ]
    },
    {
      "cell_type": "code",
      "source": [
        "var_1 = df[0:500]['theta_hat'].var()\n",
        "var_2 = df[501:1500]['theta_hat'].var()\n",
        "var_3 = df[1501:2500]['theta_hat'].var()\n",
        "var_4 = df[2501:3500]['theta_hat'].var()\n",
        "var_5 = df[3501:4500]['theta_hat'].var()\n",
        "var_6 = df[4501:5500]['theta_hat'].var()\n",
        "var_7 = df[5501:6500]['theta_hat'].var()\n",
        "var_8 = df[6501:7500]['theta_hat'].var()\n",
        "var_9 = df[7501:8500]['theta_hat'].var()\n",
        "var_10 = df[8501:9500]['theta_hat'].var()\n",
        "var_11 = df[9501:10000]['theta_hat'].var()"
      ],
      "metadata": {
        "id": "hSL-kNOES_-Z"
      },
      "execution_count": 38,
      "outputs": []
    },
    {
      "cell_type": "code",
      "source": [
        "ix_1 = df[0:500]['1/I(x)'].mean()\n",
        "ix_2 = df[501:1500]['1/I(x)'].mean()\n",
        "ix_3 = df[1501:2500]['1/I(x)'].mean()\n",
        "ix_4 = df[2501:3500]['1/I(x)'].mean()\n",
        "ix_5 = df[3501:4500]['1/I(x)'].mean()\n",
        "ix_6 = df[4501:5500]['1/I(x)'].mean()\n",
        "ix_7 = df[5501:6500]['1/I(x)'].mean()\n",
        "ix_8 = df[6501:7500]['1/I(x)'].mean()\n",
        "ix_9 = df[7501:8500]['1/I(x)'].mean()\n",
        "ix_10 = df[8501:9500]['1/I(x)'].mean()\n",
        "ix_11 = df[9501:10000]['1/I(x)'].mean()"
      ],
      "metadata": {
        "id": "IWLdopwdRRfZ"
      },
      "execution_count": 39,
      "outputs": []
    },
    {
      "cell_type": "code",
      "source": [
        "Var = [var_1,var_2,var_3,var_4,var_5,var_6,var_7,var_8,var_9,var_10,var_11]\n",
        "iix = [ix_1,ix_2,ix_3,ix_4,ix_5,ix_6,ix_7,ix_8,ix_9,ix_10,ix_11]\n",
        "\n",
        "fig, ax = plt.subplots(figsize=(12, 7))\n",
        "ax.scatter(iix,Var)\n",
        "ax.set_xlabel('各区間での1/I(x)の平均')\n",
        "ax.set_ylabel('各区間での最尤推定量の分散')\n",
        "x=np.arange(0,0.6,0.01)\n",
        "ax.plot(x,x)\n",
        "y=[0.1]*60\n",
        "ax.plot(x,y)\n",
        "ax.set_xlim(0.05,0.35)\n",
        "ax.set_ylim(0,0.25)"
      ],
      "metadata": {
        "colab": {
          "base_uri": "https://localhost:8080/",
          "height": 463
        },
        "id": "lYwn6yU1TNA_",
        "outputId": "0ae5a386-900c-492f-9224-f9e7242df964"
      },
      "execution_count": 41,
      "outputs": [
        {
          "output_type": "execute_result",
          "data": {
            "text/plain": [
              "(0.0, 0.25)"
            ]
          },
          "metadata": {},
          "execution_count": 41
        },
        {
          "output_type": "display_data",
          "data": {
            "text/plain": [
              "<Figure size 864x504 with 1 Axes>"
            ],
            "image/png": "[encoded data removed]"
          },
          "metadata": {
            "needs_background": "light"
          }
        }
      ]
    },
    {
      "cell_type": "markdown",
      "source": [
        "# 図4.3"
      ],
      "metadata": {
        "id": "sWCKaByYUU3Y"
      }
    },
    {
      "cell_type": "code",
      "source": [
        "leukemia = pd.read_csv(\"/content/leukemia_big.csv\")"
      ],
      "metadata": {
        "id": "aIcuaHFXTrjw"
      },
      "execution_count": 42,
      "outputs": []
    },
    {
      "cell_type": "code",
      "source": [
        "leukemia.head()"
      ],
      "metadata": {
        "colab": {
          "base_uri": "https://localhost:8080/",
          "height": 300
        },
        "id": "FPuqwtzGVSxG",
        "outputId": "6a279838-1fba-492c-f0bc-0066f5704cd9"
      },
      "execution_count": 43,
      "outputs": [
        {
          "output_type": "execute_result",
          "data": {
            "text/plain": [
              "        ALL     ALL.1     ALL.2     ALL.3     ALL.4     ALL.5     ALL.6  \\\n",
              "0 -1.533622 -0.867610 -0.433172 -1.671903 -1.187689 -1.127234 -1.045409   \n",
              "1 -1.235673 -1.275501 -1.184492 -1.596424 -1.335256 -1.113730 -0.800880   \n",
              "2 -0.333983  0.375927 -0.459196 -1.422571 -0.797493 -1.362768 -0.671954   \n",
              "3  0.488702  0.444011  0.436264  0.193353  0.235632 -0.360312  0.184941   \n",
              "4 -1.300893 -1.229660 -1.325882 -1.818329 -1.311206 -1.513975 -1.651624   \n",
              "\n",
              "      ALL.7     ALL.8     ALL.9  ...    AML.15    AML.16    AML.17    AML.18  \\\n",
              "0 -0.106917 -1.198796 -1.190899  ... -0.436650 -1.274708 -0.681458 -0.876610   \n",
              "1 -0.745177 -0.849312 -1.190899  ... -0.915483 -1.354363 -0.653559 -1.096250   \n",
              "2 -1.175674  0.320813  0.646610  ... -0.736156 -0.022153 -0.037455 -0.567335   \n",
              "3  0.425653  0.333983  0.235270  ...  0.083781  0.356562  0.416241  0.533986   \n",
              "4 -1.339555 -0.593132  0.133302  ... -1.547444 -1.264475 -1.512318 -1.469583   \n",
              "\n",
              "     AML.19    AML.20    AML.21    AML.22    AML.23    AML.24  \n",
              "0 -0.624022 -0.431628 -1.435259 -0.671954 -1.013161 -0.969482  \n",
              "1 -1.066594 -1.335256 -1.204586 -0.751457 -0.889592 -1.080988  \n",
              "2 -1.100749 -0.552938 -0.948874 -0.231657 -0.742163 -0.779500  \n",
              "3  0.227505  0.416816  0.408202  0.326556  0.361813  0.298864  \n",
              "4 -1.283472 -0.977672 -1.090178 -1.545120 -1.174272 -1.443183  \n",
              "\n",
              "[5 rows x 72 columns]"
            ],
            "text/html": [
              "\n",
              "  <div id=\"df-00541229-7595-4846-bab4-930e552eceb6\">\n",
              "    <div class=\"colab-df-container\">\n",
              "      <div>\n",
              "<style scoped>\n",
              "    .dataframe tbody tr th:only-of-type {\n",
              "        vertical-align: middle;\n",
              "    }\n",
              "\n",
              "    .dataframe tbody tr th {\n",
              "        vertical-align: top;\n",
              "    }\n",
              "\n",
              "    .dataframe thead th {\n",
              "        text-align: right;\n",
              "    }\n",
              "</style>\n",
              "<table border=\"1\" class=\"dataframe\">\n",
              "  <thead>\n",
              "    <tr style=\"text-align: right;\">\n",
              "      <th></th>\n",
              "      <th>ALL</th>\n",
              "      <th>ALL.1</th>\n",
              "      <th>ALL.2</th>\n",
              "      <th>ALL.3</th>\n",
              "      <th>ALL.4</th>\n",
              "      <th>ALL.5</th>\n",
              "      <th>ALL.6</th>\n",
              "      <th>ALL.7</th>\n",
              "      <th>ALL.8</th>\n",
              "      <th>ALL.9</th>\n",
              "      <th>...</th>\n",
              "      <th>AML.15</th>\n",
              "      <th>AML.16</th>\n",
              "      <th>AML.17</th>\n",
              "      <th>AML.18</th>\n",
              "      <th>AML.19</th>\n",
              "      <th>AML.20</th>\n",
              "      <th>AML.21</th>\n",
              "      <th>AML.22</th>\n",
              "      <th>AML.23</th>\n",
              "      <th>AML.24</th>\n",
              "    </tr>\n",
              "  </thead>\n",
              "  <tbody>\n",
              "    <tr>\n",
              "      <th>0</th>\n",
              "      <td>-1.533622</td>\n",
              "      <td>-0.867610</td>\n",
              "      <td>-0.433172</td>\n",
              "      <td>-1.671903</td>\n",
              "      <td>-1.187689</td>\n",
              "      <td>-1.127234</td>\n",
              "      <td>-1.045409</td>\n",
              "      <td>-0.106917</td>\n",
              "      <td>-1.198796</td>\n",
              "      <td>-1.190899</td>\n",
              "      <td>...</td>\n",
              "      <td>-0.436650</td>\n",
              "      <td>-1.274708</td>\n",
              "      <td>-0.681458</td>\n",
              "      <td>-0.876610</td>\n",
              "      <td>-0.624022</td>\n",
              "      <td>-0.431628</td>\n",
              "      <td>-1.435259</td>\n",
              "      <td>-0.671954</td>\n",
              "      <td>-1.013161</td>\n",
              "      <td>-0.969482</td>\n",
              "    </tr>\n",
              "    <tr>\n",
              "      <th>1</th>\n",
              "      <td>-1.235673</td>\n",
              "      <td>-1.275501</td>\n",
              "      <td>-1.184492</td>\n",
              "      <td>-1.596424</td>\n",
              "      <td>-1.335256</td>\n",
              "      <td>-1.113730</td>\n",
              "      <td>-0.800880</td>\n",
              "      <td>-0.745177</td>\n",
              "      <td>-0.849312</td>\n",
              "      <td>-1.190899</td>\n",
              "      <td>...</td>\n",
              "      <td>-0.915483</td>\n",
              "      <td>-1.354363</td>\n",
              "      <td>-0.653559</td>\n",
              "      <td>-1.096250</td>\n",
              "      <td>-1.066594</td>\n",
              "      <td>-1.335256</td>\n",
              "      <td>-1.204586</td>\n",
              "      <td>-0.751457</td>\n",
              "      <td>-0.889592</td>\n",
              "      <td>-1.080988</td>\n",
              "    </tr>\n",
              "    <tr>\n",
              "      <th>2</th>\n",
              "      <td>-0.333983</td>\n",
              "      <td>0.375927</td>\n",
              "      <td>-0.459196</td>\n",
              "      <td>-1.422571</td>\n",
              "      <td>-0.797493</td>\n",
              "      <td>-1.362768</td>\n",
              "      <td>-0.671954</td>\n",
              "      <td>-1.175674</td>\n",
              "      <td>0.320813</td>\n",
              "      <td>0.646610</td>\n",
              "      <td>...</td>\n",
              "      <td>-0.736156</td>\n",
              "      <td>-0.022153</td>\n",
              "      <td>-0.037455</td>\n",
              "      <td>-0.567335</td>\n",
              "      <td>-1.100749</td>\n",
              "      <td>-0.552938</td>\n",
              "      <td>-0.948874</td>\n",
              "      <td>-0.231657</td>\n",
              "      <td>-0.742163</td>\n",
              "      <td>-0.779500</td>\n",
              "    </tr>\n",
              "    <tr>\n",
              "      <th>3</th>\n",
              "      <td>0.488702</td>\n",
              "      <td>0.444011</td>\n",
              "      <td>0.436264</td>\n",
              "      <td>0.193353</td>\n",
              "      <td>0.235632</td>\n",
              "      <td>-0.360312</td>\n",
              "      <td>0.184941</td>\n",
              "      <td>0.425653</td>\n",
              "      <td>0.333983</td>\n",
              "      <td>0.235270</td>\n",
              "      <td>...</td>\n",
              "      <td>0.083781</td>\n",
              "      <td>0.356562</td>\n",
              "      <td>0.416241</td>\n",
              "      <td>0.533986</td>\n",
              "      <td>0.227505</td>\n",
              "      <td>0.416816</td>\n",
              "      <td>0.408202</td>\n",
              "      <td>0.326556</td>\n",
              "      <td>0.361813</td>\n",
              "      <td>0.298864</td>\n",
              "    </tr>\n",
              "    <tr>\n",
              "      <th>4</th>\n",
              "      <td>-1.300893</td>\n",
              "      <td>-1.229660</td>\n",
              "      <td>-1.325882</td>\n",
              "      <td>-1.818329</td>\n",
              "      <td>-1.311206</td>\n",
              "      <td>-1.513975</td>\n",
              "      <td>-1.651624</td>\n",
              "      <td>-1.339555</td>\n",
              "      <td>-0.593132</td>\n",
              "      <td>0.133302</td>\n",
              "      <td>...</td>\n",
              "      <td>-1.547444</td>\n",
              "      <td>-1.264475</td>\n",
              "      <td>-1.512318</td>\n",
              "      <td>-1.469583</td>\n",
              "      <td>-1.283472</td>\n",
              "      <td>-0.977672</td>\n",
              "      <td>-1.090178</td>\n",
              "      <td>-1.545120</td>\n",
              "      <td>-1.174272</td>\n",
              "      <td>-1.443183</td>\n",
              "    </tr>\n",
              "  </tbody>\n",
              "</table>\n",
              "<p>5 rows × 72 columns</p>\n",
              "</div>\n",
              "      <button class=\"colab-df-convert\" onclick=\"convertToInteractive('df-00541229-7595-4846-bab4-930e552eceb6')\"\n",
              "              title=\"Convert this dataframe to an interactive table.\"\n",
              "              style=\"display:none;\">\n",
              "        \n",
              "  <svg xmlns=\"http://www.w3.org/2000/svg\" height=\"24px\"viewBox=\"0 0 24 24\"\n",
              "       width=\"24px\">\n",
              "    <path d=\"M0 0h24v24H0V0z\" fill=\"none\"/>\n",
              "    <path d=\"M18.56 5.44l.94 2.06.94-2.06 2.06-.94-2.06-.94-.94-2.06-.94 2.06-2.06.94zm-11 1L8.5 8.5l.94-2.06 2.06-.94-2.06-.94L8.5 2.5l-.94 2.06-2.06.94zm10 10l.94 2.06.94-2.06 2.06-.94-2.06-.94-.94-2.06-.94 2.06-2.06.94z\"/><path d=\"M17.41 7.96l-1.37-1.37c-.4-.4-.92-.59-1.43-.59-.52 0-1.04.2-1.43.59L10.3 9.45l-7.72 7.72c-.78.78-.78 2.05 0 2.83L4 21.41c.39.39.9.59 1.41.59.51 0 1.02-.2 1.41-.59l7.78-7.78 2.81-2.81c.8-.78.8-2.07 0-2.86zM5.41 20L4 18.59l7.72-7.72 1.47 1.35L5.41 20z\"/>\n",
              "  </svg>\n",
              "      </button>\n",
              "      \n",
              "  <style>\n",
              "    .colab-df-container {\n",
              "      display:flex;\n",
              "      flex-wrap:wrap;\n",
              "      gap: 12px;\n",
              "    }\n",
              "\n",
              "    .colab-df-convert {\n",
              "      background-color: #E8F0FE;\n",
              "      border: none;\n",
              "      border-radius: 50%;\n",
              "      cursor: pointer;\n",
              "      display: none;\n",
              "      fill: #1967D2;\n",
              "      height: 32px;\n",
              "      padding: 0 0 0 0;\n",
              "      width: 32px;\n",
              "    }\n",
              "\n",
              "    .colab-df-convert:hover {\n",
              "      background-color: #E2EBFA;\n",
              "      box-shadow: 0px 1px 2px rgba(60, 64, 67, 0.3), 0px 1px 3px 1px rgba(60, 64, 67, 0.15);\n",
              "      fill: #174EA6;\n",
              "    }\n",
              "\n",
              "    [theme=dark] .colab-df-convert {\n",
              "      background-color: #3B4455;\n",
              "      fill: #D2E3FC;\n",
              "    }\n",
              "\n",
              "    [theme=dark] .colab-df-convert:hover {\n",
              "      background-color: #434B5C;\n",
              "      box-shadow: 0px 1px 3px 1px rgba(0, 0, 0, 0.15);\n",
              "      filter: drop-shadow(0px 1px 2px rgba(0, 0, 0, 0.3));\n",
              "      fill: #FFFFFF;\n",
              "    }\n",
              "  </style>\n",
              "\n",
              "      <script>\n",
              "        const buttonEl =\n",
              "          document.querySelector('#df-00541229-7595-4846-bab4-930e552eceb6 button.colab-df-convert');\n",
              "        buttonEl.style.display =\n",
              "          google.colab.kernel.accessAllowed ? 'block' : 'none';\n",
              "\n",
              "        async function convertToInteractive(key) {\n",
              "          const element = document.querySelector('#df-00541229-7595-4846-bab4-930e552eceb6');\n",
              "          const dataTable =\n",
              "            await google.colab.kernel.invokeFunction('convertToInteractive',\n",
              "                                                     [key], {});\n",
              "          if (!dataTable) return;\n",
              "\n",
              "          const docLinkHtml = 'Like what you see? Visit the ' +\n",
              "            '<a target=\"_blank\" href=https://colab.research.google.com/notebooks/data_table.ipynb>data table notebook</a>'\n",
              "            + ' to learn more about interactive tables.';\n",
              "          element.innerHTML = '';\n",
              "          dataTable['output_type'] = 'display_data';\n",
              "          await google.colab.output.renderOutput(dataTable, element);\n",
              "          const docLink = document.createElement('div');\n",
              "          docLink.innerHTML = docLinkHtml;\n",
              "          element.appendChild(docLink);\n",
              "        }\n",
              "      </script>\n",
              "    </div>\n",
              "  </div>\n",
              "  "
            ]
          },
          "metadata": {},
          "execution_count": 43
        }
      ]
    },
    {
      "cell_type": "code",
      "source": [
        "leukemia_136 = leukemia.iloc[135]"
      ],
      "metadata": {
        "id": "ecPqoB3uVfrS"
      },
      "execution_count": 44,
      "outputs": []
    },
    {
      "cell_type": "code",
      "source": [
        "len(leukemia_136)"
      ],
      "metadata": {
        "colab": {
          "base_uri": "https://localhost:8080/"
        },
        "id": "hZ2rkzhUVlWa",
        "outputId": "0a36ed3a-f413-4549-ce0d-e245c018db08"
      },
      "execution_count": 49,
      "outputs": [
        {
          "output_type": "execute_result",
          "data": {
            "text/plain": [
              "72"
            ]
          },
          "metadata": {},
          "execution_count": 49
        }
      ]
    },
    {
      "cell_type": "code",
      "source": [
        "def t_stats(a_list,b_list):\n",
        "  n_1=len(a_list)\n",
        "  n_2=len(b_list)\n",
        "  sigma_hat=np.sqrt((n_1*a_list.var()+n_2*b_list.var())/(n_1+n_2-2))\n",
        "  sd_hat=sigma_hat*np.sqrt(1/n_1+1/n_2)\n",
        "  t= (a_list.mean()-b_list.mean())/sd_hat\n",
        "  return t"
      ],
      "metadata": {
        "id": "7THOiqjzW3De"
      },
      "execution_count": 52,
      "outputs": []
    },
    {
      "cell_type": "code",
      "source": [
        "B=10000\n",
        "t_list = []\n",
        "for i in range(B):\n",
        "  a_47 = leukemia_136.sample(47)\n",
        "  b_25 = leukemia_136.sample(25)\n",
        "  t = t_stats(a_47,b_25)\n",
        "  t_list.append(t)"
      ],
      "metadata": {
        "id": "sxnvX57UVLES"
      },
      "execution_count": 53,
      "outputs": []
    },
    {
      "cell_type": "code",
      "source": [
        "fig , ax = plt.subplots(figsize=(8,5))\n",
        "ax.hist(t_list,bins=40,edgecolor=\"k\")\n",
        "ax.axvline(x=-3.01, linestyle='dashed')\n",
        "ax.axvline(x=3.01, linestyle='dashed')"
      ],
      "metadata": {
        "colab": {
          "base_uri": "https://localhost:8080/",
          "height": 337
        },
        "id": "N_fB3y-RXptY",
        "outputId": "f5da54f3-9ebc-469f-a50d-d386b2910375"
      },
      "execution_count": 65,
      "outputs": [
        {
          "output_type": "execute_result",
          "data": {
            "text/plain": [
              "<matplotlib.lines.Line2D at 0x7f780e9e05e0>"
            ]
          },
          "metadata": {},
          "execution_count": 65
        },
        {
          "output_type": "display_data",
          "data": {
            "text/plain": [
              "<Figure size 576x360 with 1 Axes>"
            ],
            "image/png": "[encoded data removed]"
          },
          "metadata": {
            "needs_background": "light"
          }
        }
      ]
    },
    {
      "cell_type": "code",
      "source": [
        "sum(np.abs(t_list)>3.01)"
      ],
      "metadata": {
        "colab": {
          "base_uri": "https://localhost:8080/"
        },
        "id": "SFZMRKz_X-s5",
        "outputId": "2079b10b-518a-49c2-8eba-a8033e476d2e"
      },
      "execution_count": 66,
      "outputs": [
        {
          "output_type": "execute_result",
          "data": {
            "text/plain": [
              "1"
            ]
          },
          "metadata": {},
          "execution_count": 66
        }
      ]
    }
  ]
}
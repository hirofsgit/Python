{
  "nbformat": 4,
  "nbformat_minor": 0,
  "metadata": {
    "colab": {
      "provenance": [],
      "authorship_tag": "ABX9TyNaOKf/XmB1f4HFzbP+i79y",
      "include_colab_link": true
    },
    "kernelspec": {
      "name": "python3",
      "display_name": "Python 3"
    },
    "language_info": {
      "name": "python"
    }
  },
  "cells": [
    {
      "cell_type": "markdown",
      "metadata": {
        "id": "view-in-github",
        "colab_type": "text"
      },
      "source": [
        "<a href=\"https://colab.research.google.com/github/hirofsgit/Python/blob/main/Chap6.ipynb\" target=\"_parent\"><img src=\"https://colab.research.google.com/assets/colab-badge.svg\" alt=\"Open In Colab\"/></a>"
      ]
    },
    {
      "cell_type": "markdown",
      "source": [
        "## 設定"
      ],
      "metadata": {
        "id": "NiyaN4t1TIoc"
      }
    },
    {
      "cell_type": "code",
      "execution_count": null,
      "metadata": {
        "id": "zObn3hljTBw7"
      },
      "outputs": [],
      "source": [
        "!pip install japanize-matplotlib"
      ]
    },
    {
      "cell_type": "code",
      "source": [
        "import numpy as np \n",
        "import pandas as pd \n",
        "import matplotlib\n",
        "import matplotlib.pyplot as plt \n",
        "import seaborn as sns \n",
        "import japanize_matplotlib \n",
        "import math\n",
        "from scipy.stats import beta\n",
        "from math import factorial, log\n",
        "from scipy import special, optimize\n",
        "%matplotlib inline"
      ],
      "metadata": {
        "id": "QMSIBi6vTRH2"
      },
      "execution_count": null,
      "outputs": []
    },
    {
      "cell_type": "code",
      "source": [
        "pd.options.display.float_format = '{:.2f}'.format"
      ],
      "metadata": {
        "id": "J61EP-BVAzPV"
      },
      "execution_count": null,
      "outputs": []
    },
    {
      "cell_type": "markdown",
      "source": [
        "# 6.1"
      ],
      "metadata": {
        "id": "FGt3N76PTanb"
      }
    },
    {
      "cell_type": "markdown",
      "source": [
        "## 表6.1"
      ],
      "metadata": {
        "id": "mAak5UKin44y"
      }
    },
    {
      "cell_type": "code",
      "source": [
        "y_x=[7840,1317,239,42,14,4,4,1]"
      ],
      "metadata": {
        "id": "59KI9f0ToSUa"
      },
      "execution_count": null,
      "outputs": []
    },
    {
      "cell_type": "markdown",
      "source": [
        "ロビンスの公式\n",
        "\n",
        "$\\displaystyle E[\\theta | x] = (x+1)\\frac{f(x+1)}{f(x)}$\n",
        "\n",
        "$\\displaystyle \\hat{f}(x) = \\frac{y_x}{N}$を用いて、ロビンスの公式の推定値版\n",
        "\n",
        "$\\displaystyle \\hat{E}[\\theta|x]=(x+1)\\frac{\\hat{f}(x+1)}{\\hat{f}(x)}=(x+1)\\frac{y_{x+1}}{y_x}$\n"
      ],
      "metadata": {
        "id": "HY-qqbGEsa7y"
      }
    },
    {
      "cell_type": "code",
      "source": [
        "robbins = [(i+1)*y_x[i+1]/y_x[i] for i in range(len(y_x)-1)]\n",
        "robbins.append(np.NaN)"
      ],
      "metadata": {
        "id": "XLHruUqisQhp"
      },
      "execution_count": null,
      "outputs": []
    },
    {
      "cell_type": "markdown",
      "source": [
        "ガンマ最尤推定\n",
        "\n",
        "$\\displaystyle f_{\\nu,\\sigma}(x)=\\frac{\\gamma^{\\nu+x}\\Gamma(\\nu + x)}{\\sigma^{\\nu}\\Gamma(\\nu)x!}$ , $\\gamma = \\frac{\\sigma}{1+\\sigma} $\n",
        "\n",
        "尤度関数\n",
        "$\\displaystyle L(\\nu,\\sigma)=\\prod_{x=0}^{x_{max}}f_{\\nu,\\sigma}(x) ^{y_x}$\n",
        "\n",
        "対数尤度関数$\\displaystyle \\sum_{x=0}^{x_{max}}y_x \\log (f_{\\nu,\\sigma}(x)) $\n",
        "\n",
        "$\\hat{f}(x) = \\hat{f}_{\\nu,\\sigma}(x) $ をロビンスの公式に使う"
      ],
      "metadata": {
        "id": "s4-7zUqLurFH"
      }
    },
    {
      "cell_type": "code",
      "source": [
        "def f(x,nu,sigma):\n",
        "  gam = sigma/(1+sigma)\n",
        "  a = gam**(nu+x)*special.gamma(nu+x)\n",
        "  b = sigma**nu*special.gamma(nu)*factorial(x)\n",
        "  return a/b"
      ],
      "metadata": {
        "id": "nS7iHABUzDZ1"
      },
      "execution_count": null,
      "outputs": []
    },
    {
      "cell_type": "code",
      "source": [
        "def likelihood(params):\n",
        "  nu = params[0]\n",
        "  sigma = params[1]\n",
        "  return -sum([y_x[x]*np.log(f(x,nu,sigma)) for x in range(len(y_x))])"
      ],
      "metadata": {
        "id": "pmFsWOas2APj"
      },
      "execution_count": null,
      "outputs": []
    },
    {
      "cell_type": "code",
      "source": [
        "results = optimize.minimize(likelihood ,x0=[0.01,1.00],bounds=[[0, np.inf], [0, np.inf]])\n",
        "results"
      ],
      "metadata": {
        "colab": {
          "base_uri": "https://localhost:8080/"
        },
        "id": "jkCw4hxLVwTq",
        "outputId": "cf68231e-3905-45ed-9832-deeb487bebc6"
      },
      "execution_count": null,
      "outputs": [
        {
          "output_type": "execute_result",
          "data": {
            "text/plain": [
              "      fun: 5348.039959560624\n",
              " hess_inv: <2x2 LbfgsInvHessProduct with dtype=float64>\n",
              "      jac: array([-9.09494697e-05, -4.54747351e-04])\n",
              "  message: 'CONVERGENCE: REL_REDUCTION_OF_F_<=_FACTR*EPSMCH'\n",
              "     nfev: 63\n",
              "      nit: 18\n",
              "     njev: 21\n",
              "   status: 0\n",
              "  success: True\n",
              "        x: array([0.70151216, 0.30555941])"
            ]
          },
          "metadata": {},
          "execution_count": 7
        }
      ]
    },
    {
      "cell_type": "code",
      "source": [
        "nu,sigma = results.x\n",
        "print('nu_hat :', nu)\n",
        "print('sigma_hat :' ,sigma)"
      ],
      "metadata": {
        "colab": {
          "base_uri": "https://localhost:8080/"
        },
        "id": "m3e-56D5HlSO",
        "outputId": "4a5aec66-cec7-41f1-d958-affa8d95bafa"
      },
      "execution_count": null,
      "outputs": [
        {
          "output_type": "stream",
          "name": "stdout",
          "text": [
            "nu_hat : 0.701512162343339\n",
            "sigma_hat : 0.30555941270306153\n"
          ]
        }
      ]
    },
    {
      "cell_type": "code",
      "source": [
        "gamma_mle = [(i+1)*f(i+1,nu,sigma)/f(i,nu,sigma) for i in range(len(y_x)-1)]\n",
        "gamma_mle.append(np.NaN)"
      ],
      "metadata": {
        "id": "QfD-LFVzIBIk"
      },
      "execution_count": null,
      "outputs": []
    },
    {
      "cell_type": "code",
      "source": [
        "robbins = np.round(robbins, 3)\n",
        "gamma_mle = np.round(gamma_mle, 3)\n",
        "\n",
        "df = pd.DataFrame({\n",
        "    'y_x' : y_x,\n",
        "    'robbins' : robbins,\n",
        "    'gamma_mle' : gamma_mle\n",
        "})"
      ],
      "metadata": {
        "id": "_qAWSYEMI4JS"
      },
      "execution_count": null,
      "outputs": []
    },
    {
      "cell_type": "code",
      "source": [
        "df"
      ],
      "metadata": {
        "colab": {
          "base_uri": "https://localhost:8080/",
          "height": 300
        },
        "id": "IoWo0BWBL3Jw",
        "outputId": "34f5f9de-2794-4ad4-a515-54129c92f618"
      },
      "execution_count": null,
      "outputs": [
        {
          "output_type": "execute_result",
          "data": {
            "text/plain": [
              "    y_x  robbins  gamma_mle\n",
              "0  7840    0.168      0.164\n",
              "1  1317    0.363      0.398\n",
              "2   239    0.527      0.632\n",
              "3    42    1.333      0.866\n",
              "4    14    1.429      1.100\n",
              "5     4    6.000      1.334\n",
              "6     4    1.750      1.568\n",
              "7     1      NaN        NaN"
            ],
            "text/html": [
              "\n",
              "  <div id=\"df-b5cc2b74-818f-40bf-9bcd-815f18a49cec\">\n",
              "    <div class=\"colab-df-container\">\n",
              "      <div>\n",
              "<style scoped>\n",
              "    .dataframe tbody tr th:only-of-type {\n",
              "        vertical-align: middle;\n",
              "    }\n",
              "\n",
              "    .dataframe tbody tr th {\n",
              "        vertical-align: top;\n",
              "    }\n",
              "\n",
              "    .dataframe thead th {\n",
              "        text-align: right;\n",
              "    }\n",
              "</style>\n",
              "<table border=\"1\" class=\"dataframe\">\n",
              "  <thead>\n",
              "    <tr style=\"text-align: right;\">\n",
              "      <th></th>\n",
              "      <th>y_x</th>\n",
              "      <th>robbins</th>\n",
              "      <th>gamma_mle</th>\n",
              "    </tr>\n",
              "  </thead>\n",
              "  <tbody>\n",
              "    <tr>\n",
              "      <th>0</th>\n",
              "      <td>7840</td>\n",
              "      <td>0.168</td>\n",
              "      <td>0.164</td>\n",
              "    </tr>\n",
              "    <tr>\n",
              "      <th>1</th>\n",
              "      <td>1317</td>\n",
              "      <td>0.363</td>\n",
              "      <td>0.398</td>\n",
              "    </tr>\n",
              "    <tr>\n",
              "      <th>2</th>\n",
              "      <td>239</td>\n",
              "      <td>0.527</td>\n",
              "      <td>0.632</td>\n",
              "    </tr>\n",
              "    <tr>\n",
              "      <th>3</th>\n",
              "      <td>42</td>\n",
              "      <td>1.333</td>\n",
              "      <td>0.866</td>\n",
              "    </tr>\n",
              "    <tr>\n",
              "      <th>4</th>\n",
              "      <td>14</td>\n",
              "      <td>1.429</td>\n",
              "      <td>1.100</td>\n",
              "    </tr>\n",
              "    <tr>\n",
              "      <th>5</th>\n",
              "      <td>4</td>\n",
              "      <td>6.000</td>\n",
              "      <td>1.334</td>\n",
              "    </tr>\n",
              "    <tr>\n",
              "      <th>6</th>\n",
              "      <td>4</td>\n",
              "      <td>1.750</td>\n",
              "      <td>1.568</td>\n",
              "    </tr>\n",
              "    <tr>\n",
              "      <th>7</th>\n",
              "      <td>1</td>\n",
              "      <td>NaN</td>\n",
              "      <td>NaN</td>\n",
              "    </tr>\n",
              "  </tbody>\n",
              "</table>\n",
              "</div>\n",
              "      <button class=\"colab-df-convert\" onclick=\"convertToInteractive('df-b5cc2b74-818f-40bf-9bcd-815f18a49cec')\"\n",
              "              title=\"Convert this dataframe to an interactive table.\"\n",
              "              style=\"display:none;\">\n",
              "        \n",
              "  <svg xmlns=\"http://www.w3.org/2000/svg\" height=\"24px\"viewBox=\"0 0 24 24\"\n",
              "       width=\"24px\">\n",
              "    <path d=\"M0 0h24v24H0V0z\" fill=\"none\"/>\n",
              "    <path d=\"M18.56 5.44l.94 2.06.94-2.06 2.06-.94-2.06-.94-.94-2.06-.94 2.06-2.06.94zm-11 1L8.5 8.5l.94-2.06 2.06-.94-2.06-.94L8.5 2.5l-.94 2.06-2.06.94zm10 10l.94 2.06.94-2.06 2.06-.94-2.06-.94-.94-2.06-.94 2.06-2.06.94z\"/><path d=\"M17.41 7.96l-1.37-1.37c-.4-.4-.92-.59-1.43-.59-.52 0-1.04.2-1.43.59L10.3 9.45l-7.72 7.72c-.78.78-.78 2.05 0 2.83L4 21.41c.39.39.9.59 1.41.59.51 0 1.02-.2 1.41-.59l7.78-7.78 2.81-2.81c.8-.78.8-2.07 0-2.86zM5.41 20L4 18.59l7.72-7.72 1.47 1.35L5.41 20z\"/>\n",
              "  </svg>\n",
              "      </button>\n",
              "      \n",
              "  <style>\n",
              "    .colab-df-container {\n",
              "      display:flex;\n",
              "      flex-wrap:wrap;\n",
              "      gap: 12px;\n",
              "    }\n",
              "\n",
              "    .colab-df-convert {\n",
              "      background-color: #E8F0FE;\n",
              "      border: none;\n",
              "      border-radius: 50%;\n",
              "      cursor: pointer;\n",
              "      display: none;\n",
              "      fill: #1967D2;\n",
              "      height: 32px;\n",
              "      padding: 0 0 0 0;\n",
              "      width: 32px;\n",
              "    }\n",
              "\n",
              "    .colab-df-convert:hover {\n",
              "      background-color: #E2EBFA;\n",
              "      box-shadow: 0px 1px 2px rgba(60, 64, 67, 0.3), 0px 1px 3px 1px rgba(60, 64, 67, 0.15);\n",
              "      fill: #174EA6;\n",
              "    }\n",
              "\n",
              "    [theme=dark] .colab-df-convert {\n",
              "      background-color: #3B4455;\n",
              "      fill: #D2E3FC;\n",
              "    }\n",
              "\n",
              "    [theme=dark] .colab-df-convert:hover {\n",
              "      background-color: #434B5C;\n",
              "      box-shadow: 0px 1px 3px 1px rgba(0, 0, 0, 0.15);\n",
              "      filter: drop-shadow(0px 1px 2px rgba(0, 0, 0, 0.3));\n",
              "      fill: #FFFFFF;\n",
              "    }\n",
              "  </style>\n",
              "\n",
              "      <script>\n",
              "        const buttonEl =\n",
              "          document.querySelector('#df-b5cc2b74-818f-40bf-9bcd-815f18a49cec button.colab-df-convert');\n",
              "        buttonEl.style.display =\n",
              "          google.colab.kernel.accessAllowed ? 'block' : 'none';\n",
              "\n",
              "        async function convertToInteractive(key) {\n",
              "          const element = document.querySelector('#df-b5cc2b74-818f-40bf-9bcd-815f18a49cec');\n",
              "          const dataTable =\n",
              "            await google.colab.kernel.invokeFunction('convertToInteractive',\n",
              "                                                     [key], {});\n",
              "          if (!dataTable) return;\n",
              "\n",
              "          const docLinkHtml = 'Like what you see? Visit the ' +\n",
              "            '<a target=\"_blank\" href=https://colab.research.google.com/notebooks/data_table.ipynb>data table notebook</a>'\n",
              "            + ' to learn more about interactive tables.';\n",
              "          element.innerHTML = '';\n",
              "          dataTable['output_type'] = 'display_data';\n",
              "          await google.colab.output.renderOutput(dataTable, element);\n",
              "          const docLink = document.createElement('div');\n",
              "          docLink.innerHTML = docLinkHtml;\n",
              "          element.appendChild(docLink);\n",
              "        }\n",
              "      </script>\n",
              "    </div>\n",
              "  </div>\n",
              "  "
            ]
          },
          "metadata": {},
          "execution_count": 11
        }
      ]
    },
    {
      "cell_type": "markdown",
      "source": [
        "## 図6.1"
      ],
      "metadata": {
        "id": "ERu1dOK-ntJP"
      }
    },
    {
      "cell_type": "code",
      "source": [
        "x=[0,1,2,3,4,5,6,7]\n",
        "N=9461\n",
        "y_gam = [N*f(x,nu,sigma) for x in range(8)]\n",
        "plt.figure(figsize=(8,6))\n",
        "plt.scatter(x,np.log(y_x),marker='o',label='ノンパラメトリック')\n",
        "plt.plot(x,np.log(y_gam),linestyle=':', label='パラメトリック')\n",
        "plt.xlabel('請求回数x',fontsize=16)\n",
        "plt.ylabel('log(請求者数)',fontsize=16)\n",
        "plt.legend()"
      ],
      "metadata": {
        "colab": {
          "base_uri": "https://localhost:8080/",
          "height": 411
        },
        "id": "uCPm7l0gaXC-",
        "outputId": "7557b546-6a39-4ef4-b990-12071051370d"
      },
      "execution_count": null,
      "outputs": [
        {
          "output_type": "execute_result",
          "data": {
            "text/plain": [
              "<matplotlib.legend.Legend at 0x7f2a6758a790>"
            ]
          },
          "metadata": {},
          "execution_count": 24
        },
        {
          "output_type": "display_data",
          "data": {
            "text/plain": [
              "<Figure size 576x432 with 1 Axes>"
            ],
            "image/png": "[encoded data removed]"
          },
          "metadata": {
            "needs_background": "light"
          }
        }
      ]
    },
    {
      "cell_type": "markdown",
      "source": [
        "# 6.2"
      ],
      "metadata": {
        "id": "BUzlb6KYlkHJ"
      }
    },
    {
      "cell_type": "markdown",
      "source": [
        "## 表6.2"
      ],
      "metadata": {
        "id": "Q81x6OW3aGFu"
      }
    },
    {
      "cell_type": "code",
      "source": [
        "butterflies = pd.read_csv(\"/content/butterfly.txt\", delimiter=\" \", index_col=\"x\")"
      ],
      "metadata": {
        "id": "YT0rgdarTZ5U"
      },
      "execution_count": null,
      "outputs": []
    },
    {
      "cell_type": "code",
      "source": [
        "y = butterflies['y']"
      ],
      "metadata": {
        "id": "SBEJ7unbbE-z"
      },
      "execution_count": null,
      "outputs": []
    },
    {
      "cell_type": "code",
      "source": [
        "y"
      ],
      "metadata": {
        "colab": {
          "base_uri": "https://localhost:8080/"
        },
        "id": "Hwxnj-fekaYm",
        "outputId": "9785a2d4-7323-4d58-e97b-8e0f850d41ef"
      },
      "execution_count": null,
      "outputs": [
        {
          "output_type": "execute_result",
          "data": {
            "text/plain": [
              "x\n",
              "1     118\n",
              "2      74\n",
              "3      44\n",
              "4      24\n",
              "5      29\n",
              "6      22\n",
              "7      20\n",
              "8      19\n",
              "9      20\n",
              "10     15\n",
              "11     12\n",
              "12     14\n",
              "13      6\n",
              "14     12\n",
              "15      6\n",
              "16      9\n",
              "17      9\n",
              "18      6\n",
              "19     10\n",
              "20     10\n",
              "21     11\n",
              "22      5\n",
              "23      3\n",
              "24      3\n",
              "Name: y, dtype: int64"
            ]
          },
          "metadata": {},
          "execution_count": 6
        }
      ]
    },
    {
      "cell_type": "code",
      "source": [
        "x=range(1,25)\n",
        "plt.plot(x,y)"
      ],
      "metadata": {
        "colab": {
          "base_uri": "https://localhost:8080/",
          "height": 282
        },
        "id": "aLqzVsjdn7J9",
        "outputId": "0d544eb0-db68-4f8b-e173-02c90ff7ecfa"
      },
      "execution_count": null,
      "outputs": [
        {
          "output_type": "execute_result",
          "data": {
            "text/plain": [
              "[<matplotlib.lines.Line2D at 0x7f496f2460d0>]"
            ]
          },
          "metadata": {},
          "execution_count": 11
        },
        {
          "output_type": "display_data",
          "data": {
            "text/plain": [
              "<Figure size 432x288 with 1 Axes>"
            ],
            "image/png": "[encoded data removed]"
          },
          "metadata": {
            "needs_background": "light"
          }
        }
      ]
    },
    {
      "cell_type": "markdown",
      "source": [
        "## 表6.3"
      ],
      "metadata": {
        "id": "Xwuw7sqWaAtv"
      }
    },
    {
      "cell_type": "code",
      "source": [
        "index_ta = [i/10 for i in range(11)]"
      ],
      "metadata": {
        "id": "P1GfhYQ2ptre"
      },
      "execution_count": null,
      "outputs": []
    },
    {
      "cell_type": "code",
      "source": [
        "def sd_(t):\n",
        "  a = 0\n",
        "  for i in range(1,25):\n",
        "    a = a + y[i]*t**(2*i)\n",
        "  return np.sqrt(a)"
      ],
      "metadata": {
        "id": "L87M1Qhban2c"
      },
      "execution_count": null,
      "outputs": []
    },
    {
      "cell_type": "code",
      "source": [
        "sd_hat_list = [sd_(t/10) for t in range(11)]\n",
        "sd_hat = pd.DataFrame({'sd(t) ' :sd_hat_list},index = index_ta)"
      ],
      "metadata": {
        "id": "-8ynX6ipaJ16"
      },
      "execution_count": null,
      "outputs": []
    },
    {
      "cell_type": "code",
      "source": [
        "def Enonpara_(t):\n",
        "  a = 0\n",
        "  for i in range(1,25):\n",
        "    a += -((-1)**i)*y[i]*(t**i)\n",
        "  return a"
      ],
      "metadata": {
        "id": "LP9brGeScp0q"
      },
      "execution_count": null,
      "outputs": []
    },
    {
      "cell_type": "code",
      "source": [
        "Enonpara_list = [Enonpara_(t/10) for t in range(11)]\n",
        "Enonpara_hat = pd.DataFrame({'E(t)': Enonpara_list},index = index_ta)"
      ],
      "metadata": {
        "id": "IsBmltUddhMz"
      },
      "execution_count": null,
      "outputs": []
    },
    {
      "cell_type": "code",
      "source": [
        "ta = pd.concat([Enonpara_hat,sd_hat],axis = 1)"
      ],
      "metadata": {
        "id": "lwRiRN9Jd8oy"
      },
      "execution_count": null,
      "outputs": []
    },
    {
      "cell_type": "code",
      "source": [
        "ta"
      ],
      "metadata": {
        "id": "dX4L0-GQpouO"
      },
      "execution_count": null,
      "outputs": []
    },
    {
      "cell_type": "code",
      "source": [
        "def Epara(t):\n",
        "  nu = 0.104\n",
        "  sigma = 89.79\n",
        "  gamma = sigma/(1+ sigma)\n",
        "  y_1 = y[1]\n",
        "  return y_1*(1-(1+gamma*t)**(-nu))/(gamma*nu)"
      ],
      "metadata": {
        "id": "A2AwrcEGU_U0"
      },
      "execution_count": null,
      "outputs": []
    },
    {
      "cell_type": "code",
      "source": [
        "Epara_list = [Epara(t/10) for t in range(11)]"
      ],
      "metadata": {
        "id": "HP8B7xwzW4eg"
      },
      "execution_count": null,
      "outputs": []
    },
    {
      "cell_type": "code",
      "source": [
        "Epara_hat = pd.DataFrame( {'Epara(t)': Epara_list},index = index_ta)"
      ],
      "metadata": {
        "id": "x9JkkQlLXtbV"
      },
      "execution_count": null,
      "outputs": []
    },
    {
      "cell_type": "code",
      "source": [
        "Epara_hat"
      ],
      "metadata": {
        "id": "J8U_cA6dZIhh"
      },
      "execution_count": null,
      "outputs": []
    },
    {
      "cell_type": "markdown",
      "source": [
        "## 図6.2"
      ],
      "metadata": {
        "id": "SrV1aZMh0nK9"
      }
    },
    {
      "cell_type": "code",
      "source": [
        "x=index_ta\n",
        "e_p = Epara_list\n",
        "e_np = Enonpara_list\n",
        "plt.plot(x,e_np,label='nonpara')\n",
        "plt.plot(x,e_p,label='para')\n",
        "plt.errorbar(x,e_np,yerr=sd_hat_list, capsize=3, ecolor='black', mfc='None')\n",
        "plt.xlabel('時刻t')\n",
        "plt.ylabel('$ \\hat{E}(t)$')\n",
        "plt.legend()"
      ],
      "metadata": {
        "id": "qszZlr6GZKEG"
      },
      "execution_count": null,
      "outputs": []
    },
    {
      "cell_type": "markdown",
      "source": [
        "## 表6.4"
      ],
      "metadata": {
        "id": "fe4VTaW360BB"
      }
    },
    {
      "cell_type": "code",
      "source": [
        "shakespeare = pd.read_csv(\"/content/shakespeare.txt\", delimiter=\" \", index_col=\"appeared\")"
      ],
      "metadata": {
        "id": "lZwk8SMZ4LLn"
      },
      "execution_count": null,
      "outputs": []
    },
    {
      "cell_type": "code",
      "source": [
        "shakespeare"
      ],
      "metadata": {
        "id": "dLVRUMXI00E0"
      },
      "execution_count": null,
      "outputs": []
    },
    {
      "cell_type": "code",
      "source": [
        "y=shakespeare['count']"
      ],
      "metadata": {
        "id": "6VI1wAE48-iJ"
      },
      "execution_count": null,
      "outputs": []
    },
    {
      "cell_type": "code",
      "source": [
        "def Enonpara_shake(t):\n",
        "  a = 0\n",
        "  for i in range(1,101):\n",
        "    a += -((-1)**i)*y[i]*(t**i)\n",
        "  return a"
      ],
      "metadata": {
        "id": "dQAHyUTX9YUG"
      },
      "execution_count": null,
      "outputs": []
    },
    {
      "cell_type": "code",
      "source": [
        "Enonpara_shake(1)"
      ],
      "metadata": {
        "id": "XFQZcF8l75Jx"
      },
      "execution_count": null,
      "outputs": []
    },
    {
      "cell_type": "code",
      "source": [
        "def sd_shake(t):\n",
        "  a = 0\n",
        "  for i in range(1,101):\n",
        "    a = a + y[i]*t**(2*i)\n",
        "  return np.sqrt(a)"
      ],
      "metadata": {
        "id": "MA7NGDIK9Dg1"
      },
      "execution_count": null,
      "outputs": []
    },
    {
      "cell_type": "code",
      "source": [
        "sd_shake(1)"
      ],
      "metadata": {
        "id": "AILiUO5Q_H4z"
      },
      "execution_count": null,
      "outputs": []
    },
    {
      "cell_type": "code",
      "source": [
        "sum(y)"
      ],
      "metadata": {
        "id": "QfmGRZ1G_J-c"
      },
      "execution_count": null,
      "outputs": []
    },
    {
      "cell_type": "markdown",
      "source": [
        "# 6.3"
      ],
      "metadata": {
        "id": "NdAstsCGfN8S"
      }
    },
    {
      "cell_type": "code",
      "source": [
        "nodes = pd.read_csv(\"/content/nodes.txt\", delimiter=\" \")"
      ],
      "metadata": {
        "id": "bdfypRgh_jRH"
      },
      "execution_count": null,
      "outputs": []
    },
    {
      "cell_type": "code",
      "source": [
        "nodes.head()"
      ],
      "metadata": {
        "colab": {
          "base_uri": "https://localhost:8080/",
          "height": 206
        },
        "id": "unq-fOV5_lpM",
        "outputId": "8ea07a1c-99aa-4682-ae05-8392ffed7c3b"
      },
      "execution_count": null,
      "outputs": [
        {
          "output_type": "execute_result",
          "data": {
            "text/plain": [
              "    n   x\n",
              "0  26   0\n",
              "1  14  14\n",
              "2  34   3\n",
              "3  25   2\n",
              "4  23   5"
            ],
            "text/html": [
              "\n",
              "  <div id=\"df-55b844c0-c7c6-4d9b-8503-7da74ee1d18f\">\n",
              "    <div class=\"colab-df-container\">\n",
              "      <div>\n",
              "<style scoped>\n",
              "    .dataframe tbody tr th:only-of-type {\n",
              "        vertical-align: middle;\n",
              "    }\n",
              "\n",
              "    .dataframe tbody tr th {\n",
              "        vertical-align: top;\n",
              "    }\n",
              "\n",
              "    .dataframe thead th {\n",
              "        text-align: right;\n",
              "    }\n",
              "</style>\n",
              "<table border=\"1\" class=\"dataframe\">\n",
              "  <thead>\n",
              "    <tr style=\"text-align: right;\">\n",
              "      <th></th>\n",
              "      <th>n</th>\n",
              "      <th>x</th>\n",
              "    </tr>\n",
              "  </thead>\n",
              "  <tbody>\n",
              "    <tr>\n",
              "      <th>0</th>\n",
              "      <td>26</td>\n",
              "      <td>0</td>\n",
              "    </tr>\n",
              "    <tr>\n",
              "      <th>1</th>\n",
              "      <td>14</td>\n",
              "      <td>14</td>\n",
              "    </tr>\n",
              "    <tr>\n",
              "      <th>2</th>\n",
              "      <td>34</td>\n",
              "      <td>3</td>\n",
              "    </tr>\n",
              "    <tr>\n",
              "      <th>3</th>\n",
              "      <td>25</td>\n",
              "      <td>2</td>\n",
              "    </tr>\n",
              "    <tr>\n",
              "      <th>4</th>\n",
              "      <td>23</td>\n",
              "      <td>5</td>\n",
              "    </tr>\n",
              "  </tbody>\n",
              "</table>\n",
              "</div>\n",
              "      <button class=\"colab-df-convert\" onclick=\"convertToInteractive('df-55b844c0-c7c6-4d9b-8503-7da74ee1d18f')\"\n",
              "              title=\"Convert this dataframe to an interactive table.\"\n",
              "              style=\"display:none;\">\n",
              "        \n",
              "  <svg xmlns=\"http://www.w3.org/2000/svg\" height=\"24px\"viewBox=\"0 0 24 24\"\n",
              "       width=\"24px\">\n",
              "    <path d=\"M0 0h24v24H0V0z\" fill=\"none\"/>\n",
              "    <path d=\"M18.56 5.44l.94 2.06.94-2.06 2.06-.94-2.06-.94-.94-2.06-.94 2.06-2.06.94zm-11 1L8.5 8.5l.94-2.06 2.06-.94-2.06-.94L8.5 2.5l-.94 2.06-2.06.94zm10 10l.94 2.06.94-2.06 2.06-.94-2.06-.94-.94-2.06-.94 2.06-2.06.94z\"/><path d=\"M17.41 7.96l-1.37-1.37c-.4-.4-.92-.59-1.43-.59-.52 0-1.04.2-1.43.59L10.3 9.45l-7.72 7.72c-.78.78-.78 2.05 0 2.83L4 21.41c.39.39.9.59 1.41.59.51 0 1.02-.2 1.41-.59l7.78-7.78 2.81-2.81c.8-.78.8-2.07 0-2.86zM5.41 20L4 18.59l7.72-7.72 1.47 1.35L5.41 20z\"/>\n",
              "  </svg>\n",
              "      </button>\n",
              "      \n",
              "  <style>\n",
              "    .colab-df-container {\n",
              "      display:flex;\n",
              "      flex-wrap:wrap;\n",
              "      gap: 12px;\n",
              "    }\n",
              "\n",
              "    .colab-df-convert {\n",
              "      background-color: #E8F0FE;\n",
              "      border: none;\n",
              "      border-radius: 50%;\n",
              "      cursor: pointer;\n",
              "      display: none;\n",
              "      fill: #1967D2;\n",
              "      height: 32px;\n",
              "      padding: 0 0 0 0;\n",
              "      width: 32px;\n",
              "    }\n",
              "\n",
              "    .colab-df-convert:hover {\n",
              "      background-color: #E2EBFA;\n",
              "      box-shadow: 0px 1px 2px rgba(60, 64, 67, 0.3), 0px 1px 3px 1px rgba(60, 64, 67, 0.15);\n",
              "      fill: #174EA6;\n",
              "    }\n",
              "\n",
              "    [theme=dark] .colab-df-convert {\n",
              "      background-color: #3B4455;\n",
              "      fill: #D2E3FC;\n",
              "    }\n",
              "\n",
              "    [theme=dark] .colab-df-convert:hover {\n",
              "      background-color: #434B5C;\n",
              "      box-shadow: 0px 1px 3px 1px rgba(0, 0, 0, 0.15);\n",
              "      filter: drop-shadow(0px 1px 2px rgba(0, 0, 0, 0.3));\n",
              "      fill: #FFFFFF;\n",
              "    }\n",
              "  </style>\n",
              "\n",
              "      <script>\n",
              "        const buttonEl =\n",
              "          document.querySelector('#df-55b844c0-c7c6-4d9b-8503-7da74ee1d18f button.colab-df-convert');\n",
              "        buttonEl.style.display =\n",
              "          google.colab.kernel.accessAllowed ? 'block' : 'none';\n",
              "\n",
              "        async function convertToInteractive(key) {\n",
              "          const element = document.querySelector('#df-55b844c0-c7c6-4d9b-8503-7da74ee1d18f');\n",
              "          const dataTable =\n",
              "            await google.colab.kernel.invokeFunction('convertToInteractive',\n",
              "                                                     [key], {});\n",
              "          if (!dataTable) return;\n",
              "\n",
              "          const docLinkHtml = 'Like what you see? Visit the ' +\n",
              "            '<a target=\"_blank\" href=https://colab.research.google.com/notebooks/data_table.ipynb>data table notebook</a>'\n",
              "            + ' to learn more about interactive tables.';\n",
              "          element.innerHTML = '';\n",
              "          dataTable['output_type'] = 'display_data';\n",
              "          await google.colab.output.renderOutput(dataTable, element);\n",
              "          const docLink = document.createElement('div');\n",
              "          docLink.innerHTML = docLinkHtml;\n",
              "          element.appendChild(docLink);\n",
              "        }\n",
              "      </script>\n",
              "    </div>\n",
              "  </div>\n",
              "  "
            ]
          },
          "metadata": {},
          "execution_count": 13
        }
      ]
    },
    {
      "cell_type": "code",
      "source": [
        "nodes['x'].value_counts()"
      ],
      "metadata": {
        "colab": {
          "base_uri": "https://localhost:8080/"
        },
        "id": "MCq6uO1M_oE4",
        "outputId": "9e1adb70-f5d1-4777-ec8b-6524ef6e813f"
      },
      "execution_count": null,
      "outputs": [
        {
          "output_type": "execute_result",
          "data": {
            "text/plain": [
              "0     322\n",
              "1      83\n",
              "2      73\n",
              "3      53\n",
              "4      41\n",
              "5      38\n",
              "7      29\n",
              "9      25\n",
              "6      20\n",
              "11     19\n",
              "8      19\n",
              "10     12\n",
              "12     12\n",
              "13     11\n",
              "15     11\n",
              "14     10\n",
              "16      8\n",
              "17      7\n",
              "20      7\n",
              "19      7\n",
              "24      5\n",
              "25      4\n",
              "23      4\n",
              "18      4\n",
              "21      4\n",
              "29      3\n",
              "28      2\n",
              "32      2\n",
              "26      2\n",
              "22      1\n",
              "27      1\n",
              "34      1\n",
              "69      1\n",
              "36      1\n",
              "31      1\n",
              "40      1\n",
              "Name: x, dtype: int64"
            ]
          },
          "metadata": {},
          "execution_count": 14
        }
      ]
    },
    {
      "cell_type": "code",
      "source": [
        "nodes['p'] = nodes['x']/nodes['n']"
      ],
      "metadata": {
        "id": "im0SrGRr_-5j"
      },
      "execution_count": null,
      "outputs": []
    },
    {
      "cell_type": "code",
      "source": [
        "nodes.head()"
      ],
      "metadata": {
        "colab": {
          "base_uri": "https://localhost:8080/",
          "height": 206
        },
        "id": "o5qAo8K3A2HI",
        "outputId": "d5261782-5834-4bb6-be73-f3e27c928f10"
      },
      "execution_count": null,
      "outputs": [
        {
          "output_type": "execute_result",
          "data": {
            "text/plain": [
              "    n   x    p\n",
              "0  26   0 0.00\n",
              "1  14  14 1.00\n",
              "2  34   3 0.09\n",
              "3  25   2 0.08\n",
              "4  23   5 0.22"
            ],
            "text/html": [
              "\n",
              "  <div id=\"df-9c65412a-f0b0-4589-8936-7d7526f9e7cc\">\n",
              "    <div class=\"colab-df-container\">\n",
              "      <div>\n",
              "<style scoped>\n",
              "    .dataframe tbody tr th:only-of-type {\n",
              "        vertical-align: middle;\n",
              "    }\n",
              "\n",
              "    .dataframe tbody tr th {\n",
              "        vertical-align: top;\n",
              "    }\n",
              "\n",
              "    .dataframe thead th {\n",
              "        text-align: right;\n",
              "    }\n",
              "</style>\n",
              "<table border=\"1\" class=\"dataframe\">\n",
              "  <thead>\n",
              "    <tr style=\"text-align: right;\">\n",
              "      <th></th>\n",
              "      <th>n</th>\n",
              "      <th>x</th>\n",
              "      <th>p</th>\n",
              "    </tr>\n",
              "  </thead>\n",
              "  <tbody>\n",
              "    <tr>\n",
              "      <th>0</th>\n",
              "      <td>26</td>\n",
              "      <td>0</td>\n",
              "      <td>0.00</td>\n",
              "    </tr>\n",
              "    <tr>\n",
              "      <th>1</th>\n",
              "      <td>14</td>\n",
              "      <td>14</td>\n",
              "      <td>1.00</td>\n",
              "    </tr>\n",
              "    <tr>\n",
              "      <th>2</th>\n",
              "      <td>34</td>\n",
              "      <td>3</td>\n",
              "      <td>0.09</td>\n",
              "    </tr>\n",
              "    <tr>\n",
              "      <th>3</th>\n",
              "      <td>25</td>\n",
              "      <td>2</td>\n",
              "      <td>0.08</td>\n",
              "    </tr>\n",
              "    <tr>\n",
              "      <th>4</th>\n",
              "      <td>23</td>\n",
              "      <td>5</td>\n",
              "      <td>0.22</td>\n",
              "    </tr>\n",
              "  </tbody>\n",
              "</table>\n",
              "</div>\n",
              "      <button class=\"colab-df-convert\" onclick=\"convertToInteractive('df-9c65412a-f0b0-4589-8936-7d7526f9e7cc')\"\n",
              "              title=\"Convert this dataframe to an interactive table.\"\n",
              "              style=\"display:none;\">\n",
              "        \n",
              "  <svg xmlns=\"http://www.w3.org/2000/svg\" height=\"24px\"viewBox=\"0 0 24 24\"\n",
              "       width=\"24px\">\n",
              "    <path d=\"M0 0h24v24H0V0z\" fill=\"none\"/>\n",
              "    <path d=\"M18.56 5.44l.94 2.06.94-2.06 2.06-.94-2.06-.94-.94-2.06-.94 2.06-2.06.94zm-11 1L8.5 8.5l.94-2.06 2.06-.94-2.06-.94L8.5 2.5l-.94 2.06-2.06.94zm10 10l.94 2.06.94-2.06 2.06-.94-2.06-.94-.94-2.06-.94 2.06-2.06.94z\"/><path d=\"M17.41 7.96l-1.37-1.37c-.4-.4-.92-.59-1.43-.59-.52 0-1.04.2-1.43.59L10.3 9.45l-7.72 7.72c-.78.78-.78 2.05 0 2.83L4 21.41c.39.39.9.59 1.41.59.51 0 1.02-.2 1.41-.59l7.78-7.78 2.81-2.81c.8-.78.8-2.07 0-2.86zM5.41 20L4 18.59l7.72-7.72 1.47 1.35L5.41 20z\"/>\n",
              "  </svg>\n",
              "      </button>\n",
              "      \n",
              "  <style>\n",
              "    .colab-df-container {\n",
              "      display:flex;\n",
              "      flex-wrap:wrap;\n",
              "      gap: 12px;\n",
              "    }\n",
              "\n",
              "    .colab-df-convert {\n",
              "      background-color: #E8F0FE;\n",
              "      border: none;\n",
              "      border-radius: 50%;\n",
              "      cursor: pointer;\n",
              "      display: none;\n",
              "      fill: #1967D2;\n",
              "      height: 32px;\n",
              "      padding: 0 0 0 0;\n",
              "      width: 32px;\n",
              "    }\n",
              "\n",
              "    .colab-df-convert:hover {\n",
              "      background-color: #E2EBFA;\n",
              "      box-shadow: 0px 1px 2px rgba(60, 64, 67, 0.3), 0px 1px 3px 1px rgba(60, 64, 67, 0.15);\n",
              "      fill: #174EA6;\n",
              "    }\n",
              "\n",
              "    [theme=dark] .colab-df-convert {\n",
              "      background-color: #3B4455;\n",
              "      fill: #D2E3FC;\n",
              "    }\n",
              "\n",
              "    [theme=dark] .colab-df-convert:hover {\n",
              "      background-color: #434B5C;\n",
              "      box-shadow: 0px 1px 3px 1px rgba(0, 0, 0, 0.15);\n",
              "      filter: drop-shadow(0px 1px 2px rgba(0, 0, 0, 0.3));\n",
              "      fill: #FFFFFF;\n",
              "    }\n",
              "  </style>\n",
              "\n",
              "      <script>\n",
              "        const buttonEl =\n",
              "          document.querySelector('#df-9c65412a-f0b0-4589-8936-7d7526f9e7cc button.colab-df-convert');\n",
              "        buttonEl.style.display =\n",
              "          google.colab.kernel.accessAllowed ? 'block' : 'none';\n",
              "\n",
              "        async function convertToInteractive(key) {\n",
              "          const element = document.querySelector('#df-9c65412a-f0b0-4589-8936-7d7526f9e7cc');\n",
              "          const dataTable =\n",
              "            await google.colab.kernel.invokeFunction('convertToInteractive',\n",
              "                                                     [key], {});\n",
              "          if (!dataTable) return;\n",
              "\n",
              "          const docLinkHtml = 'Like what you see? Visit the ' +\n",
              "            '<a target=\"_blank\" href=https://colab.research.google.com/notebooks/data_table.ipynb>data table notebook</a>'\n",
              "            + ' to learn more about interactive tables.';\n",
              "          element.innerHTML = '';\n",
              "          dataTable['output_type'] = 'display_data';\n",
              "          await google.colab.output.renderOutput(dataTable, element);\n",
              "          const docLink = document.createElement('div');\n",
              "          docLink.innerHTML = docLinkHtml;\n",
              "          element.appendChild(docLink);\n",
              "        }\n",
              "      </script>\n",
              "    </div>\n",
              "  </div>\n",
              "  "
            ]
          },
          "metadata": {},
          "execution_count": 18
        }
      ]
    },
    {
      "cell_type": "markdown",
      "source": [
        "## 図6.3"
      ],
      "metadata": {
        "id": "Aup6s3kJfU9v"
      }
    },
    {
      "cell_type": "code",
      "source": [
        "plt.figure(figsize=(9,6))\n",
        "plt.hist(nodes['p'],bins=35)\n",
        "plt.xlabel('p=x/n')\n",
        "plt.ylabel('度数')"
      ],
      "metadata": {
        "colab": {
          "base_uri": "https://localhost:8080/",
          "height": 404
        },
        "id": "a-Q3KV7I6Fc-",
        "outputId": "faa57f20-c5e6-4fe2-ab03-7c0133f1a828"
      },
      "execution_count": null,
      "outputs": [
        {
          "output_type": "execute_result",
          "data": {
            "text/plain": [
              "Text(0, 0.5, '度数')"
            ]
          },
          "metadata": {},
          "execution_count": 26
        },
        {
          "output_type": "display_data",
          "data": {
            "text/plain": [
              "<Figure size 648x432 with 1 Axes>"
            ],
            "image/png": "[encoded data removed]"
          },
          "metadata": {
            "needs_background": "light"
          }
        }
      ]
    },
    {
      "cell_type": "code",
      "source": [
        "plt.figure(figsize=(9,6))\n",
        "plt.hist(nodes['p'],bins=35)\n",
        "plt.xlabel('p=x/n')\n",
        "plt.ylabel('度数')\n",
        "plt.ylim(0,100)"
      ],
      "metadata": {
        "colab": {
          "base_uri": "https://localhost:8080/",
          "height": 408
        },
        "id": "h_Jr649aCcHN",
        "outputId": "47f1916e-0bac-41b7-e90d-3ebd941fca6c"
      },
      "execution_count": null,
      "outputs": [
        {
          "output_type": "execute_result",
          "data": {
            "text/plain": [
              "(0.0, 100.0)"
            ]
          },
          "metadata": {},
          "execution_count": 27
        },
        {
          "output_type": "display_data",
          "data": {
            "text/plain": [
              "<Figure size 648x432 with 1 Axes>"
            ],
            "image/png": "[encoded data removed]"
          },
          "metadata": {
            "needs_background": "light"
          }
        }
      ]
    },
    {
      "cell_type": "markdown",
      "source": [
        "## 図6.4"
      ],
      "metadata": {
        "id": "ccpqx0GsfZHn"
      }
    },
    {
      "cell_type": "code",
      "source": [],
      "metadata": {
        "id": "AWN47E3VCmtU"
      },
      "execution_count": null,
      "outputs": []
    },
    {
      "cell_type": "markdown",
      "source": [
        "## 図6.5"
      ],
      "metadata": {
        "id": "mQpHDYm9feG6"
      }
    },
    {
      "cell_type": "code",
      "source": [],
      "metadata": {
        "id": "RYG4p7BK8ENq"
      },
      "execution_count": null,
      "outputs": []
    }
  ]
}
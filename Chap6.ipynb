{
  "nbformat": 4,
  "nbformat_minor": 0,
  "metadata": {
    "colab": {
      "provenance": [],
      "authorship_tag": "ABX9TyO+rlVXSzFIW6CH/Kfu/zee",
      "include_colab_link": true
    },
    "kernelspec": {
      "name": "python3",
      "display_name": "Python 3"
    },
    "language_info": {
      "name": "python"
    }
  },
  "cells": [
    {
      "cell_type": "markdown",
      "metadata": {
        "id": "view-in-github",
        "colab_type": "text"
      },
      "source": [
        "<a href=\"https://colab.research.google.com/github/hirofsgit/Python_CASI/blob/main/Chap6.ipynb\" target=\"_parent\"><img src=\"https://colab.research.google.com/assets/colab-badge.svg\" alt=\"Open In Colab\"/></a>"
      ]
    },
    {
      "cell_type": "markdown",
      "source": [
        "## 設定"
      ],
      "metadata": {
        "id": "NiyaN4t1TIoc"
      }
    },
    {
      "cell_type": "code",
      "execution_count": 1,
      "metadata": {
        "id": "zObn3hljTBw7",
        "colab": {
          "base_uri": "https://localhost:8080/"
        },
        "outputId": "090ee735-4a6b-4de7-8da3-36238e60b221"
      },
      "outputs": [
        {
          "output_type": "stream",
          "name": "stdout",
          "text": [
            "Looking in indexes: https://pypi.org/simple, https://us-python.pkg.dev/colab-wheels/public/simple/\n",
            "Collecting japanize-matplotlib\n",
            "  Downloading japanize-matplotlib-1.1.3.tar.gz (4.1 MB)\n",
            "\u001b[2K     \u001b[90m━━━━━━━━━━━━━━━━━━━━━━━━━━━━━━━━━━━━━━━━\u001b[0m \u001b[32m4.1/4.1 MB\u001b[0m \u001b[31m28.4 MB/s\u001b[0m eta \u001b[36m0:00:00\u001b[0m\n",
            "\u001b[?25h  Preparing metadata (setup.py) ... \u001b[?25l\u001b[?25hdone\n",
            "Requirement already satisfied: matplotlib in /usr/local/lib/python3.8/dist-packages (from japanize-matplotlib) (3.2.2)\n",
            "Requirement already satisfied: python-dateutil>=2.1 in /usr/local/lib/python3.8/dist-packages (from matplotlib->japanize-matplotlib) (2.8.2)\n",
            "Requirement already satisfied: numpy>=1.11 in /usr/local/lib/python3.8/dist-packages (from matplotlib->japanize-matplotlib) (1.21.6)\n",
            "Requirement already satisfied: kiwisolver>=1.0.1 in /usr/local/lib/python3.8/dist-packages (from matplotlib->japanize-matplotlib) (1.4.4)\n",
            "Requirement already satisfied: cycler>=0.10 in /usr/local/lib/python3.8/dist-packages (from matplotlib->japanize-matplotlib) (0.11.0)\n",
            "Requirement already satisfied: pyparsing!=2.0.4,!=2.1.2,!=2.1.6,>=2.0.1 in /usr/local/lib/python3.8/dist-packages (from matplotlib->japanize-matplotlib) (3.0.9)\n",
            "Requirement already satisfied: six>=1.5 in /usr/local/lib/python3.8/dist-packages (from python-dateutil>=2.1->matplotlib->japanize-matplotlib) (1.15.0)\n",
            "Building wheels for collected packages: japanize-matplotlib\n",
            "  Building wheel for japanize-matplotlib (setup.py) ... \u001b[?25l\u001b[?25hdone\n",
            "  Created wheel for japanize-matplotlib: filename=japanize_matplotlib-1.1.3-py3-none-any.whl size=4120275 sha256=f7c87d6fab079d0e04bae84c89f81bf24e2112ddebfdb9ba4f5172268329763b\n",
            "  Stored in directory: /root/.cache/pip/wheels/4f/ca/96/4cc5e192421cceb077fbf4ffec533382edd416fd3fa0af0bbd\n",
            "Successfully built japanize-matplotlib\n",
            "Installing collected packages: japanize-matplotlib\n",
            "Successfully installed japanize-matplotlib-1.1.3\n"
          ]
        }
      ],
      "source": [
        "!pip install japanize-matplotlib"
      ]
    },
    {
      "cell_type": "code",
      "source": [
        "import numpy as np \n",
        "import pandas as pd \n",
        "import matplotlib\n",
        "import matplotlib.pyplot as plt \n",
        "import seaborn as sns \n",
        "import japanize_matplotlib \n",
        "import math\n",
        "from scipy.stats import beta\n",
        "from math import factorial, log\n",
        "from scipy import special, optimize\n",
        "%matplotlib inline\n",
        "from scipy import integrate\n",
        "from scipy.optimize import minimize\n",
        "from scipy.special import binom\n",
        "from scipy.integrate import quad"
      ],
      "metadata": {
        "id": "QMSIBi6vTRH2"
      },
      "execution_count": 2,
      "outputs": []
    },
    {
      "cell_type": "code",
      "source": [
        "pd.options.display.float_format = '{:.2f}'.format"
      ],
      "metadata": {
        "id": "J61EP-BVAzPV"
      },
      "execution_count": 3,
      "outputs": []
    },
    {
      "cell_type": "markdown",
      "source": [
        "# 6.1"
      ],
      "metadata": {
        "id": "FGt3N76PTanb"
      }
    },
    {
      "cell_type": "markdown",
      "source": [
        "## 表6.1"
      ],
      "metadata": {
        "id": "mAak5UKin44y"
      }
    },
    {
      "cell_type": "code",
      "source": [
        "y_x=[7840,1317,239,42,14,4,4,1]"
      ],
      "metadata": {
        "id": "59KI9f0ToSUa"
      },
      "execution_count": null,
      "outputs": []
    },
    {
      "cell_type": "markdown",
      "source": [
        "ロビンスの公式\n",
        "\n",
        "$\\displaystyle E[\\theta | x] = (x+1)\\frac{f(x+1)}{f(x)}$\n",
        "\n",
        "$\\displaystyle \\hat{f}(x) = \\frac{y_x}{N}$を用いて、ロビンスの公式の推定値版\n",
        "\n",
        "$\\displaystyle \\hat{E}[\\theta|x]=(x+1)\\frac{\\hat{f}(x+1)}{\\hat{f}(x)}=(x+1)\\frac{y_{x+1}}{y_x}$\n"
      ],
      "metadata": {
        "id": "HY-qqbGEsa7y"
      }
    },
    {
      "cell_type": "code",
      "source": [
        "robbins = [(i+1)*y_x[i+1]/y_x[i] for i in range(len(y_x)-1)]\n",
        "robbins.append(np.NaN)"
      ],
      "metadata": {
        "id": "XLHruUqisQhp"
      },
      "execution_count": null,
      "outputs": []
    },
    {
      "cell_type": "markdown",
      "source": [
        "ガンマ最尤推定\n",
        "\n",
        "$\\displaystyle f_{\\nu,\\sigma}(x)=\\frac{\\gamma^{\\nu+x}\\Gamma(\\nu + x)}{\\sigma^{\\nu}\\Gamma(\\nu)x!}$ , $\\gamma = \\frac{\\sigma}{1+\\sigma} $\n",
        "\n",
        "尤度関数\n",
        "$\\displaystyle L(\\nu,\\sigma)=\\prod_{x=0}^{x_{max}}f_{\\nu,\\sigma}(x) ^{y_x}$\n",
        "\n",
        "対数尤度関数$\\displaystyle \\sum_{x=0}^{x_{max}}y_x \\log (f_{\\nu,\\sigma}(x)) $\n",
        "\n",
        "$\\hat{f}(x) = \\hat{f}_{\\nu,\\sigma}(x) $ をロビンスの公式に使う"
      ],
      "metadata": {
        "id": "s4-7zUqLurFH"
      }
    },
    {
      "cell_type": "code",
      "source": [
        "def f(x,nu,sigma):\n",
        "  gam = sigma/(1+sigma)\n",
        "  a = gam**(nu+x)*special.gamma(nu+x)\n",
        "  b = sigma**nu*special.gamma(nu)*factorial(x)\n",
        "  return a/b"
      ],
      "metadata": {
        "id": "nS7iHABUzDZ1"
      },
      "execution_count": null,
      "outputs": []
    },
    {
      "cell_type": "code",
      "source": [
        "def likelihood(params):\n",
        "  nu = params[0]\n",
        "  sigma = params[1]\n",
        "  return -sum([y_x[x]*np.log(f(x,nu,sigma)) for x in range(len(y_x))])"
      ],
      "metadata": {
        "id": "pmFsWOas2APj"
      },
      "execution_count": null,
      "outputs": []
    },
    {
      "cell_type": "code",
      "source": [
        "results = optimize.minimize(likelihood ,x0=[0.01,1.00],bounds=[[0, np.inf], [0, np.inf]])\n",
        "results"
      ],
      "metadata": {
        "colab": {
          "base_uri": "https://localhost:8080/"
        },
        "id": "jkCw4hxLVwTq",
        "outputId": "4cad04fa-0017-4733-d66d-c964ebf23eb8"
      },
      "execution_count": null,
      "outputs": [
        {
          "output_type": "execute_result",
          "data": {
            "text/plain": [
              "      fun: 5348.039959560624\n",
              " hess_inv: <2x2 LbfgsInvHessProduct with dtype=float64>\n",
              "      jac: array([-9.09494697e-05, -4.54747351e-04])\n",
              "  message: 'CONVERGENCE: REL_REDUCTION_OF_F_<=_FACTR*EPSMCH'\n",
              "     nfev: 63\n",
              "      nit: 18\n",
              "     njev: 21\n",
              "   status: 0\n",
              "  success: True\n",
              "        x: array([0.70151216, 0.30555941])"
            ]
          },
          "metadata": {},
          "execution_count": 8
        }
      ]
    },
    {
      "cell_type": "code",
      "source": [
        "nu,sigma = results.x\n",
        "print('nu_hat :', nu)\n",
        "print('sigma_hat :' ,sigma)"
      ],
      "metadata": {
        "colab": {
          "base_uri": "https://localhost:8080/"
        },
        "id": "m3e-56D5HlSO",
        "outputId": "08c23b90-becc-402c-9ef8-3c35d621e471"
      },
      "execution_count": null,
      "outputs": [
        {
          "output_type": "stream",
          "name": "stdout",
          "text": [
            "nu_hat : 0.701512162343339\n",
            "sigma_hat : 0.30555941270306153\n"
          ]
        }
      ]
    },
    {
      "cell_type": "code",
      "source": [
        "gamma_mle = [(i+1)*f(i+1,nu,sigma)/f(i,nu,sigma) for i in range(len(y_x)-1)]\n",
        "gamma_mle.append(np.NaN)"
      ],
      "metadata": {
        "id": "QfD-LFVzIBIk"
      },
      "execution_count": null,
      "outputs": []
    },
    {
      "cell_type": "code",
      "source": [
        "robbins = np.round(robbins, 3)\n",
        "gamma_mle = np.round(gamma_mle, 3)\n",
        "\n",
        "df = pd.DataFrame({\n",
        "    'y_x' : y_x,\n",
        "    'robbins' : robbins,\n",
        "    'gamma_mle' : gamma_mle\n",
        "})"
      ],
      "metadata": {
        "id": "_qAWSYEMI4JS"
      },
      "execution_count": null,
      "outputs": []
    },
    {
      "cell_type": "code",
      "source": [
        "df"
      ],
      "metadata": {
        "colab": {
          "base_uri": "https://localhost:8080/",
          "height": 300
        },
        "id": "IoWo0BWBL3Jw",
        "outputId": "3b524b88-5105-4452-f371-e3a03de73cc1"
      },
      "execution_count": null,
      "outputs": [
        {
          "output_type": "execute_result",
          "data": {
            "text/plain": [
              "    y_x  robbins  gamma_mle\n",
              "0  7840     0.17       0.16\n",
              "1  1317     0.36       0.40\n",
              "2   239     0.53       0.63\n",
              "3    42     1.33       0.87\n",
              "4    14     1.43       1.10\n",
              "5     4     6.00       1.33\n",
              "6     4     1.75       1.57\n",
              "7     1      NaN        NaN"
            ],
            "text/html": [
              "\n",
              "  <div id=\"df-e2034a27-f26a-4971-b37a-2598864b0594\">\n",
              "    <div class=\"colab-df-container\">\n",
              "      <div>\n",
              "<style scoped>\n",
              "    .dataframe tbody tr th:only-of-type {\n",
              "        vertical-align: middle;\n",
              "    }\n",
              "\n",
              "    .dataframe tbody tr th {\n",
              "        vertical-align: top;\n",
              "    }\n",
              "\n",
              "    .dataframe thead th {\n",
              "        text-align: right;\n",
              "    }\n",
              "</style>\n",
              "<table border=\"1\" class=\"dataframe\">\n",
              "  <thead>\n",
              "    <tr style=\"text-align: right;\">\n",
              "      <th></th>\n",
              "      <th>y_x</th>\n",
              "      <th>robbins</th>\n",
              "      <th>gamma_mle</th>\n",
              "    </tr>\n",
              "  </thead>\n",
              "  <tbody>\n",
              "    <tr>\n",
              "      <th>0</th>\n",
              "      <td>7840</td>\n",
              "      <td>0.17</td>\n",
              "      <td>0.16</td>\n",
              "    </tr>\n",
              "    <tr>\n",
              "      <th>1</th>\n",
              "      <td>1317</td>\n",
              "      <td>0.36</td>\n",
              "      <td>0.40</td>\n",
              "    </tr>\n",
              "    <tr>\n",
              "      <th>2</th>\n",
              "      <td>239</td>\n",
              "      <td>0.53</td>\n",
              "      <td>0.63</td>\n",
              "    </tr>\n",
              "    <tr>\n",
              "      <th>3</th>\n",
              "      <td>42</td>\n",
              "      <td>1.33</td>\n",
              "      <td>0.87</td>\n",
              "    </tr>\n",
              "    <tr>\n",
              "      <th>4</th>\n",
              "      <td>14</td>\n",
              "      <td>1.43</td>\n",
              "      <td>1.10</td>\n",
              "    </tr>\n",
              "    <tr>\n",
              "      <th>5</th>\n",
              "      <td>4</td>\n",
              "      <td>6.00</td>\n",
              "      <td>1.33</td>\n",
              "    </tr>\n",
              "    <tr>\n",
              "      <th>6</th>\n",
              "      <td>4</td>\n",
              "      <td>1.75</td>\n",
              "      <td>1.57</td>\n",
              "    </tr>\n",
              "    <tr>\n",
              "      <th>7</th>\n",
              "      <td>1</td>\n",
              "      <td>NaN</td>\n",
              "      <td>NaN</td>\n",
              "    </tr>\n",
              "  </tbody>\n",
              "</table>\n",
              "</div>\n",
              "      <button class=\"colab-df-convert\" onclick=\"convertToInteractive('df-e2034a27-f26a-4971-b37a-2598864b0594')\"\n",
              "              title=\"Convert this dataframe to an interactive table.\"\n",
              "              style=\"display:none;\">\n",
              "        \n",
              "  <svg xmlns=\"http://www.w3.org/2000/svg\" height=\"24px\"viewBox=\"0 0 24 24\"\n",
              "       width=\"24px\">\n",
              "    <path d=\"M0 0h24v24H0V0z\" fill=\"none\"/>\n",
              "    <path d=\"M18.56 5.44l.94 2.06.94-2.06 2.06-.94-2.06-.94-.94-2.06-.94 2.06-2.06.94zm-11 1L8.5 8.5l.94-2.06 2.06-.94-2.06-.94L8.5 2.5l-.94 2.06-2.06.94zm10 10l.94 2.06.94-2.06 2.06-.94-2.06-.94-.94-2.06-.94 2.06-2.06.94z\"/><path d=\"M17.41 7.96l-1.37-1.37c-.4-.4-.92-.59-1.43-.59-.52 0-1.04.2-1.43.59L10.3 9.45l-7.72 7.72c-.78.78-.78 2.05 0 2.83L4 21.41c.39.39.9.59 1.41.59.51 0 1.02-.2 1.41-.59l7.78-7.78 2.81-2.81c.8-.78.8-2.07 0-2.86zM5.41 20L4 18.59l7.72-7.72 1.47 1.35L5.41 20z\"/>\n",
              "  </svg>\n",
              "      </button>\n",
              "      \n",
              "  <style>\n",
              "    .colab-df-container {\n",
              "      display:flex;\n",
              "      flex-wrap:wrap;\n",
              "      gap: 12px;\n",
              "    }\n",
              "\n",
              "    .colab-df-convert {\n",
              "      background-color: #E8F0FE;\n",
              "      border: none;\n",
              "      border-radius: 50%;\n",
              "      cursor: pointer;\n",
              "      display: none;\n",
              "      fill: #1967D2;\n",
              "      height: 32px;\n",
              "      padding: 0 0 0 0;\n",
              "      width: 32px;\n",
              "    }\n",
              "\n",
              "    .colab-df-convert:hover {\n",
              "      background-color: #E2EBFA;\n",
              "      box-shadow: 0px 1px 2px rgba(60, 64, 67, 0.3), 0px 1px 3px 1px rgba(60, 64, 67, 0.15);\n",
              "      fill: #174EA6;\n",
              "    }\n",
              "\n",
              "    [theme=dark] .colab-df-convert {\n",
              "      background-color: #3B4455;\n",
              "      fill: #D2E3FC;\n",
              "    }\n",
              "\n",
              "    [theme=dark] .colab-df-convert:hover {\n",
              "      background-color: #434B5C;\n",
              "      box-shadow: 0px 1px 3px 1px rgba(0, 0, 0, 0.15);\n",
              "      filter: drop-shadow(0px 1px 2px rgba(0, 0, 0, 0.3));\n",
              "      fill: #FFFFFF;\n",
              "    }\n",
              "  </style>\n",
              "\n",
              "      <script>\n",
              "        const buttonEl =\n",
              "          document.querySelector('#df-e2034a27-f26a-4971-b37a-2598864b0594 button.colab-df-convert');\n",
              "        buttonEl.style.display =\n",
              "          google.colab.kernel.accessAllowed ? 'block' : 'none';\n",
              "\n",
              "        async function convertToInteractive(key) {\n",
              "          const element = document.querySelector('#df-e2034a27-f26a-4971-b37a-2598864b0594');\n",
              "          const dataTable =\n",
              "            await google.colab.kernel.invokeFunction('convertToInteractive',\n",
              "                                                     [key], {});\n",
              "          if (!dataTable) return;\n",
              "\n",
              "          const docLinkHtml = 'Like what you see? Visit the ' +\n",
              "            '<a target=\"_blank\" href=https://colab.research.google.com/notebooks/data_table.ipynb>data table notebook</a>'\n",
              "            + ' to learn more about interactive tables.';\n",
              "          element.innerHTML = '';\n",
              "          dataTable['output_type'] = 'display_data';\n",
              "          await google.colab.output.renderOutput(dataTable, element);\n",
              "          const docLink = document.createElement('div');\n",
              "          docLink.innerHTML = docLinkHtml;\n",
              "          element.appendChild(docLink);\n",
              "        }\n",
              "      </script>\n",
              "    </div>\n",
              "  </div>\n",
              "  "
            ]
          },
          "metadata": {},
          "execution_count": 12
        }
      ]
    },
    {
      "cell_type": "markdown",
      "source": [
        "## 図6.1"
      ],
      "metadata": {
        "id": "ERu1dOK-ntJP"
      }
    },
    {
      "cell_type": "code",
      "source": [
        "x=[0,1,2,3,4,5,6,7]\n",
        "N=9461\n",
        "y_gam = [N*f(x,nu,sigma) for x in range(8)]\n",
        "plt.figure(figsize=(8,6))\n",
        "plt.scatter(x,np.log(y_x),marker='o',label='ノンパラメトリック')\n",
        "plt.plot(x,np.log(y_gam),linestyle=':', label='パラメトリック')\n",
        "plt.xlabel('請求回数x',fontsize=16)\n",
        "plt.ylabel('log(請求者数)',fontsize=16)\n",
        "plt.legend()"
      ],
      "metadata": {
        "colab": {
          "base_uri": "https://localhost:8080/",
          "height": 411
        },
        "id": "uCPm7l0gaXC-",
        "outputId": "d4a517b4-7d76-468d-a8f4-e331b710460c"
      },
      "execution_count": null,
      "outputs": [
        {
          "output_type": "execute_result",
          "data": {
            "text/plain": [
              "<matplotlib.legend.Legend at 0x7f0314708640>"
            ]
          },
          "metadata": {},
          "execution_count": 13
        },
        {
          "output_type": "display_data",
          "data": {
            "text/plain": [
              "<Figure size 576x432 with 1 Axes>"
            ],
            "image/png": "[encoded data removed]"
          },
          "metadata": {
            "needs_background": "light"
          }
        }
      ]
    },
    {
      "cell_type": "markdown",
      "source": [
        "# 6.2"
      ],
      "metadata": {
        "id": "BUzlb6KYlkHJ"
      }
    },
    {
      "cell_type": "markdown",
      "source": [
        "## 表6.2"
      ],
      "metadata": {
        "id": "Q81x6OW3aGFu"
      }
    },
    {
      "cell_type": "code",
      "source": [
        "butterflies = pd.read_csv(\"/content/butterfly.txt\", delimiter=\" \", index_col=\"x\")"
      ],
      "metadata": {
        "id": "YT0rgdarTZ5U"
      },
      "execution_count": null,
      "outputs": []
    },
    {
      "cell_type": "code",
      "source": [
        "y = butterflies['y']"
      ],
      "metadata": {
        "id": "SBEJ7unbbE-z"
      },
      "execution_count": null,
      "outputs": []
    },
    {
      "cell_type": "code",
      "source": [
        "y"
      ],
      "metadata": {
        "colab": {
          "base_uri": "https://localhost:8080/"
        },
        "id": "Hwxnj-fekaYm",
        "outputId": "d174e0ef-e7aa-438a-8013-dd4115601955"
      },
      "execution_count": null,
      "outputs": [
        {
          "output_type": "execute_result",
          "data": {
            "text/plain": [
              "x\n",
              "1     118\n",
              "2      74\n",
              "3      44\n",
              "4      24\n",
              "5      29\n",
              "6      22\n",
              "7      20\n",
              "8      19\n",
              "9      20\n",
              "10     15\n",
              "11     12\n",
              "12     14\n",
              "13      6\n",
              "14     12\n",
              "15      6\n",
              "16      9\n",
              "17      9\n",
              "18      6\n",
              "19     10\n",
              "20     10\n",
              "21     11\n",
              "22      5\n",
              "23      3\n",
              "24      3\n",
              "Name: y, dtype: int64"
            ]
          },
          "metadata": {},
          "execution_count": 38
        }
      ]
    },
    {
      "cell_type": "code",
      "source": [
        "sum(y)"
      ],
      "metadata": {
        "colab": {
          "base_uri": "https://localhost:8080/"
        },
        "id": "qngbj366czrF",
        "outputId": "c93e4d79-8aad-4825-9e3c-edd6f0cd8f3d"
      },
      "execution_count": null,
      "outputs": [
        {
          "output_type": "execute_result",
          "data": {
            "text/plain": [
              "501"
            ]
          },
          "metadata": {},
          "execution_count": 7
        }
      ]
    },
    {
      "cell_type": "code",
      "source": [
        "x=range(1,25)\n",
        "plt.plot(x,y)"
      ],
      "metadata": {
        "colab": {
          "base_uri": "https://localhost:8080/",
          "height": 282
        },
        "id": "aLqzVsjdn7J9",
        "outputId": "e76ef8e0-4657-4bec-cc1f-079230df0145"
      },
      "execution_count": null,
      "outputs": [
        {
          "output_type": "execute_result",
          "data": {
            "text/plain": [
              "[<matplotlib.lines.Line2D at 0x7fb86255b310>]"
            ]
          },
          "metadata": {},
          "execution_count": 8
        },
        {
          "output_type": "display_data",
          "data": {
            "text/plain": [
              "<Figure size 432x288 with 1 Axes>"
            ],
            "image/png": "[encoded data removed]"
          },
          "metadata": {
            "needs_background": "light"
          }
        }
      ]
    },
    {
      "cell_type": "markdown",
      "source": [
        "## 表6.3(蝶）"
      ],
      "metadata": {
        "id": "Xwuw7sqWaAtv"
      }
    },
    {
      "cell_type": "code",
      "source": [
        "index_ta = [i/10 for i in range(11)]"
      ],
      "metadata": {
        "id": "P1GfhYQ2ptre"
      },
      "execution_count": null,
      "outputs": []
    },
    {
      "cell_type": "code",
      "source": [
        "def sd_(t):\n",
        "  a = 0\n",
        "  for i in range(1,25):\n",
        "    a = a + y[i]*t**(2*i)\n",
        "  return np.sqrt(a)"
      ],
      "metadata": {
        "id": "L87M1Qhban2c"
      },
      "execution_count": null,
      "outputs": []
    },
    {
      "cell_type": "code",
      "source": [
        "sd_hat_list = [sd_(t/10) for t in range(11)]\n",
        "sd_hat = pd.DataFrame({'sd(t) ' :sd_hat_list},index = index_ta)"
      ],
      "metadata": {
        "id": "-8ynX6ipaJ16"
      },
      "execution_count": null,
      "outputs": []
    },
    {
      "cell_type": "code",
      "source": [
        "def Enonpara_(t):\n",
        "  a = 0\n",
        "  for i in range(1,25):\n",
        "    a += -((-1)**i)*y[i]*(t**i)\n",
        "  return a"
      ],
      "metadata": {
        "id": "LP9brGeScp0q"
      },
      "execution_count": null,
      "outputs": []
    },
    {
      "cell_type": "code",
      "source": [
        "Enonpara_list = [Enonpara_(t/10) for t in range(11)]\n",
        "Enonpara_hat = pd.DataFrame({'E(t)': Enonpara_list},index = index_ta)"
      ],
      "metadata": {
        "id": "IsBmltUddhMz"
      },
      "execution_count": null,
      "outputs": []
    },
    {
      "cell_type": "code",
      "source": [
        "ta = pd.concat([Enonpara_hat,sd_hat],axis = 1)"
      ],
      "metadata": {
        "id": "lwRiRN9Jd8oy"
      },
      "execution_count": null,
      "outputs": []
    },
    {
      "cell_type": "code",
      "source": [
        "ta"
      ],
      "metadata": {
        "id": "dX4L0-GQpouO",
        "colab": {
          "base_uri": "https://localhost:8080/",
          "height": 394
        },
        "outputId": "5afec5d7-b924-4c97-a20b-04bb5ea40ee9"
      },
      "execution_count": null,
      "outputs": [
        {
          "output_type": "execute_result",
          "data": {
            "text/plain": [
              "      E(t)  sd(t) \n",
              "0.00  0.00    0.00\n",
              "0.10 11.10    1.09\n",
              "0.20 20.96    2.20\n",
              "0.30 29.79    3.35\n",
              "0.40 37.79    4.58\n",
              "0.50 45.17    5.91\n",
              "0.60 52.15    7.40\n",
              "0.70 58.93    9.14\n",
              "0.80 65.57   11.32\n",
              "0.90 71.56   14.56\n",
              "1.00 75.00   22.38"
            ],
            "text/html": [
              "\n",
              "  <div id=\"df-17082b8f-fb60-46be-b5e8-411447c6f772\">\n",
              "    <div class=\"colab-df-container\">\n",
              "      <div>\n",
              "<style scoped>\n",
              "    .dataframe tbody tr th:only-of-type {\n",
              "        vertical-align: middle;\n",
              "    }\n",
              "\n",
              "    .dataframe tbody tr th {\n",
              "        vertical-align: top;\n",
              "    }\n",
              "\n",
              "    .dataframe thead th {\n",
              "        text-align: right;\n",
              "    }\n",
              "</style>\n",
              "<table border=\"1\" class=\"dataframe\">\n",
              "  <thead>\n",
              "    <tr style=\"text-align: right;\">\n",
              "      <th></th>\n",
              "      <th>E(t)</th>\n",
              "      <th>sd(t)</th>\n",
              "    </tr>\n",
              "  </thead>\n",
              "  <tbody>\n",
              "    <tr>\n",
              "      <th>0.00</th>\n",
              "      <td>0.00</td>\n",
              "      <td>0.00</td>\n",
              "    </tr>\n",
              "    <tr>\n",
              "      <th>0.10</th>\n",
              "      <td>11.10</td>\n",
              "      <td>1.09</td>\n",
              "    </tr>\n",
              "    <tr>\n",
              "      <th>0.20</th>\n",
              "      <td>20.96</td>\n",
              "      <td>2.20</td>\n",
              "    </tr>\n",
              "    <tr>\n",
              "      <th>0.30</th>\n",
              "      <td>29.79</td>\n",
              "      <td>3.35</td>\n",
              "    </tr>\n",
              "    <tr>\n",
              "      <th>0.40</th>\n",
              "      <td>37.79</td>\n",
              "      <td>4.58</td>\n",
              "    </tr>\n",
              "    <tr>\n",
              "      <th>0.50</th>\n",
              "      <td>45.17</td>\n",
              "      <td>5.91</td>\n",
              "    </tr>\n",
              "    <tr>\n",
              "      <th>0.60</th>\n",
              "      <td>52.15</td>\n",
              "      <td>7.40</td>\n",
              "    </tr>\n",
              "    <tr>\n",
              "      <th>0.70</th>\n",
              "      <td>58.93</td>\n",
              "      <td>9.14</td>\n",
              "    </tr>\n",
              "    <tr>\n",
              "      <th>0.80</th>\n",
              "      <td>65.57</td>\n",
              "      <td>11.32</td>\n",
              "    </tr>\n",
              "    <tr>\n",
              "      <th>0.90</th>\n",
              "      <td>71.56</td>\n",
              "      <td>14.56</td>\n",
              "    </tr>\n",
              "    <tr>\n",
              "      <th>1.00</th>\n",
              "      <td>75.00</td>\n",
              "      <td>22.38</td>\n",
              "    </tr>\n",
              "  </tbody>\n",
              "</table>\n",
              "</div>\n",
              "      <button class=\"colab-df-convert\" onclick=\"convertToInteractive('df-17082b8f-fb60-46be-b5e8-411447c6f772')\"\n",
              "              title=\"Convert this dataframe to an interactive table.\"\n",
              "              style=\"display:none;\">\n",
              "        \n",
              "  <svg xmlns=\"http://www.w3.org/2000/svg\" height=\"24px\"viewBox=\"0 0 24 24\"\n",
              "       width=\"24px\">\n",
              "    <path d=\"M0 0h24v24H0V0z\" fill=\"none\"/>\n",
              "    <path d=\"M18.56 5.44l.94 2.06.94-2.06 2.06-.94-2.06-.94-.94-2.06-.94 2.06-2.06.94zm-11 1L8.5 8.5l.94-2.06 2.06-.94-2.06-.94L8.5 2.5l-.94 2.06-2.06.94zm10 10l.94 2.06.94-2.06 2.06-.94-2.06-.94-.94-2.06-.94 2.06-2.06.94z\"/><path d=\"M17.41 7.96l-1.37-1.37c-.4-.4-.92-.59-1.43-.59-.52 0-1.04.2-1.43.59L10.3 9.45l-7.72 7.72c-.78.78-.78 2.05 0 2.83L4 21.41c.39.39.9.59 1.41.59.51 0 1.02-.2 1.41-.59l7.78-7.78 2.81-2.81c.8-.78.8-2.07 0-2.86zM5.41 20L4 18.59l7.72-7.72 1.47 1.35L5.41 20z\"/>\n",
              "  </svg>\n",
              "      </button>\n",
              "      \n",
              "  <style>\n",
              "    .colab-df-container {\n",
              "      display:flex;\n",
              "      flex-wrap:wrap;\n",
              "      gap: 12px;\n",
              "    }\n",
              "\n",
              "    .colab-df-convert {\n",
              "      background-color: #E8F0FE;\n",
              "      border: none;\n",
              "      border-radius: 50%;\n",
              "      cursor: pointer;\n",
              "      display: none;\n",
              "      fill: #1967D2;\n",
              "      height: 32px;\n",
              "      padding: 0 0 0 0;\n",
              "      width: 32px;\n",
              "    }\n",
              "\n",
              "    .colab-df-convert:hover {\n",
              "      background-color: #E2EBFA;\n",
              "      box-shadow: 0px 1px 2px rgba(60, 64, 67, 0.3), 0px 1px 3px 1px rgba(60, 64, 67, 0.15);\n",
              "      fill: #174EA6;\n",
              "    }\n",
              "\n",
              "    [theme=dark] .colab-df-convert {\n",
              "      background-color: #3B4455;\n",
              "      fill: #D2E3FC;\n",
              "    }\n",
              "\n",
              "    [theme=dark] .colab-df-convert:hover {\n",
              "      background-color: #434B5C;\n",
              "      box-shadow: 0px 1px 3px 1px rgba(0, 0, 0, 0.15);\n",
              "      filter: drop-shadow(0px 1px 2px rgba(0, 0, 0, 0.3));\n",
              "      fill: #FFFFFF;\n",
              "    }\n",
              "  </style>\n",
              "\n",
              "      <script>\n",
              "        const buttonEl =\n",
              "          document.querySelector('#df-17082b8f-fb60-46be-b5e8-411447c6f772 button.colab-df-convert');\n",
              "        buttonEl.style.display =\n",
              "          google.colab.kernel.accessAllowed ? 'block' : 'none';\n",
              "\n",
              "        async function convertToInteractive(key) {\n",
              "          const element = document.querySelector('#df-17082b8f-fb60-46be-b5e8-411447c6f772');\n",
              "          const dataTable =\n",
              "            await google.colab.kernel.invokeFunction('convertToInteractive',\n",
              "                                                     [key], {});\n",
              "          if (!dataTable) return;\n",
              "\n",
              "          const docLinkHtml = 'Like what you see? Visit the ' +\n",
              "            '<a target=\"_blank\" href=https://colab.research.google.com/notebooks/data_table.ipynb>data table notebook</a>'\n",
              "            + ' to learn more about interactive tables.';\n",
              "          element.innerHTML = '';\n",
              "          dataTable['output_type'] = 'display_data';\n",
              "          await google.colab.output.renderOutput(dataTable, element);\n",
              "          const docLink = document.createElement('div');\n",
              "          docLink.innerHTML = docLinkHtml;\n",
              "          element.appendChild(docLink);\n",
              "        }\n",
              "      </script>\n",
              "    </div>\n",
              "  </div>\n",
              "  "
            ]
          },
          "metadata": {},
          "execution_count": 42
        }
      ]
    },
    {
      "cell_type": "markdown",
      "source": [
        "$\\hat{ν}$　と $\\hat{σ}$ を求める\n",
        "\n",
        "ガンマ最尤推定\n",
        "\n",
        "$\\displaystyle f_{\\nu,\\sigma}(x)=\\frac{\\Gamma(\\nu + x)}{\\Gamma(\\nu)x!} \\gamma^{x} (1-γ)^{\\nu}$ , $\\gamma = \\frac{\\sigma}{1+\\sigma} $\n",
        "\n",
        "$ \\displaystyle f_{\\nu,\\sigma}(x)=C_{\\nu,\\sigma} \\frac{\\Gamma(\\nu + x)}{\\Gamma(\\nu)x!} \\gamma^{x} (1-γ)^{\\nu}$ , $\\gamma = \\frac{\\sigma}{1+\\sigma}  , x=1,\\cdots, 24$ \n",
        "\n",
        "$C_{\\nu,\\sigma}$は正規化定数\n",
        "\n",
        "尤度関数\n",
        "$\\displaystyle L(\\nu,\\sigma)=\\prod_{x=1}^{24}f_{\\nu,\\sigma}(x) ^{y_x}$\n",
        "\n",
        "対数尤度関数$\\displaystyle \\sum_{x=1}^{24}y_x \\log (f_{\\nu,\\sigma}(x)) $\n"
      ],
      "metadata": {
        "id": "wUjKQXoqkArl"
      }
    },
    {
      "cell_type": "code",
      "source": [
        "def f_2(x,nu,sigma):\n",
        "  gam = sigma/(1+sigma)\n",
        "  a = gam**x*special.gamma(nu+x)*(1-gam)**nu\n",
        "  b = special.gamma(nu)*factorial(x)\n",
        "  return a/b"
      ],
      "metadata": {
        "id": "cq-_gXaZkAEy"
      },
      "execution_count": null,
      "outputs": []
    },
    {
      "cell_type": "code",
      "source": [
        "def likelihood_2(params):\n",
        "  nu = params[0]\n",
        "  sigma = params[1]\n",
        "  return -sum([y[k]*np.log(f_2(k,nu,sigma)) for k in range(1,25)])"
      ],
      "metadata": {
        "id": "FGA5gbE7mXqx"
      },
      "execution_count": null,
      "outputs": []
    },
    {
      "cell_type": "code",
      "source": [
        "results_2 = optimize.minimize(likelihood_2 ,x0=[0.1,90.00],bounds=[[0, np.inf], [0, np.inf]])\n",
        "results_2"
      ],
      "metadata": {
        "colab": {
          "base_uri": "https://localhost:8080/"
        },
        "id": "gwfsjwhfmYlW",
        "outputId": "d13f5916-10ab-4785-fc36-395581ac89ca"
      },
      "execution_count": null,
      "outputs": [
        {
          "output_type": "stream",
          "name": "stderr",
          "text": [
            "<ipython-input-27-46a05882f1c1>:4: RuntimeWarning: divide by zero encountered in log\n",
            "  return -sum([y[k]*np.log(f_2(k,nu,sigma)) for k in range(1,25)])\n",
            "/usr/local/lib/python3.8/dist-packages/scipy/optimize/_numdiff.py:557: RuntimeWarning: invalid value encountered in subtract\n",
            "  df = fun(x) - f0\n"
          ]
        },
        {
          "output_type": "execute_result",
          "data": {
            "text/plain": [
              "      fun: 86142.0682532469\n",
              " hess_inv: <2x2 LbfgsInvHessProduct with dtype=float64>\n",
              "      jac: array([-56892.16780677,     80.0748173 ])\n",
              "  message: 'CONVERGENCE: REL_REDUCTION_OF_F_<=_FACTR*EPSMCH'\n",
              "     nfev: 66\n",
              "      nit: 17\n",
              "     njev: 22\n",
              "   status: 0\n",
              "  success: True\n",
              "        x: array([ 0.20371655, 42.42661621])"
            ]
          },
          "metadata": {},
          "execution_count": 28
        }
      ]
    },
    {
      "cell_type": "code",
      "source": [
        "nu,sigma = results_2.x\n",
        "print('nu_hat :', nu)\n",
        "print('sigma_hat :' ,sigma)"
      ],
      "metadata": {
        "colab": {
          "base_uri": "https://localhost:8080/"
        },
        "id": "fQGqiGeznqwB",
        "outputId": "137baf23-7cc5-4ec3-e4a0-17c79bf34e6f"
      },
      "execution_count": null,
      "outputs": [
        {
          "output_type": "stream",
          "name": "stdout",
          "text": [
            "nu_hat : 0.2037165456382444\n",
            "sigma_hat : 42.42661621298089\n"
          ]
        }
      ]
    },
    {
      "cell_type": "code",
      "source": [
        "def Epara(t):\n",
        "  nu = 0.104\n",
        "  sigma = 89.79\n",
        "  gamma = sigma/(1+ sigma)\n",
        "  y_1 = y[1]\n",
        "  return y_1*(1-(1+gamma*t)**(-nu))/(gamma*nu)"
      ],
      "metadata": {
        "id": "A2AwrcEGU_U0"
      },
      "execution_count": null,
      "outputs": []
    },
    {
      "cell_type": "code",
      "source": [
        "Epara_list = [Epara(t/10) for t in range(11)]"
      ],
      "metadata": {
        "id": "HP8B7xwzW4eg"
      },
      "execution_count": null,
      "outputs": []
    },
    {
      "cell_type": "code",
      "source": [
        "Epara_hat = pd.DataFrame( {'Epara(t)': Epara_list},index = index_ta)"
      ],
      "metadata": {
        "id": "x9JkkQlLXtbV"
      },
      "execution_count": null,
      "outputs": []
    },
    {
      "cell_type": "code",
      "source": [
        "Epara_hat"
      ],
      "metadata": {
        "id": "J8U_cA6dZIhh",
        "colab": {
          "base_uri": "https://localhost:8080/",
          "height": 394
        },
        "outputId": "eac784db-0d07-4ba7-d773-0429749fc57d"
      },
      "execution_count": null,
      "outputs": [
        {
          "output_type": "execute_result",
          "data": {
            "text/plain": [
              "      Epara(t)\n",
              "0.00      0.00\n",
              "0.10     11.20\n",
              "0.20     21.33\n",
              "0.30     30.59\n",
              "0.40     39.09\n",
              "0.50     46.95\n",
              "0.60     54.26\n",
              "0.70     61.08\n",
              "0.80     67.48\n",
              "0.90     73.50\n",
              "1.00     79.18"
            ],
            "text/html": [
              "\n",
              "  <div id=\"df-2d2ef452-f852-4af8-b364-a54f4aca41ad\">\n",
              "    <div class=\"colab-df-container\">\n",
              "      <div>\n",
              "<style scoped>\n",
              "    .dataframe tbody tr th:only-of-type {\n",
              "        vertical-align: middle;\n",
              "    }\n",
              "\n",
              "    .dataframe tbody tr th {\n",
              "        vertical-align: top;\n",
              "    }\n",
              "\n",
              "    .dataframe thead th {\n",
              "        text-align: right;\n",
              "    }\n",
              "</style>\n",
              "<table border=\"1\" class=\"dataframe\">\n",
              "  <thead>\n",
              "    <tr style=\"text-align: right;\">\n",
              "      <th></th>\n",
              "      <th>Epara(t)</th>\n",
              "    </tr>\n",
              "  </thead>\n",
              "  <tbody>\n",
              "    <tr>\n",
              "      <th>0.00</th>\n",
              "      <td>0.00</td>\n",
              "    </tr>\n",
              "    <tr>\n",
              "      <th>0.10</th>\n",
              "      <td>11.20</td>\n",
              "    </tr>\n",
              "    <tr>\n",
              "      <th>0.20</th>\n",
              "      <td>21.33</td>\n",
              "    </tr>\n",
              "    <tr>\n",
              "      <th>0.30</th>\n",
              "      <td>30.59</td>\n",
              "    </tr>\n",
              "    <tr>\n",
              "      <th>0.40</th>\n",
              "      <td>39.09</td>\n",
              "    </tr>\n",
              "    <tr>\n",
              "      <th>0.50</th>\n",
              "      <td>46.95</td>\n",
              "    </tr>\n",
              "    <tr>\n",
              "      <th>0.60</th>\n",
              "      <td>54.26</td>\n",
              "    </tr>\n",
              "    <tr>\n",
              "      <th>0.70</th>\n",
              "      <td>61.08</td>\n",
              "    </tr>\n",
              "    <tr>\n",
              "      <th>0.80</th>\n",
              "      <td>67.48</td>\n",
              "    </tr>\n",
              "    <tr>\n",
              "      <th>0.90</th>\n",
              "      <td>73.50</td>\n",
              "    </tr>\n",
              "    <tr>\n",
              "      <th>1.00</th>\n",
              "      <td>79.18</td>\n",
              "    </tr>\n",
              "  </tbody>\n",
              "</table>\n",
              "</div>\n",
              "      <button class=\"colab-df-convert\" onclick=\"convertToInteractive('df-2d2ef452-f852-4af8-b364-a54f4aca41ad')\"\n",
              "              title=\"Convert this dataframe to an interactive table.\"\n",
              "              style=\"display:none;\">\n",
              "        \n",
              "  <svg xmlns=\"http://www.w3.org/2000/svg\" height=\"24px\"viewBox=\"0 0 24 24\"\n",
              "       width=\"24px\">\n",
              "    <path d=\"M0 0h24v24H0V0z\" fill=\"none\"/>\n",
              "    <path d=\"M18.56 5.44l.94 2.06.94-2.06 2.06-.94-2.06-.94-.94-2.06-.94 2.06-2.06.94zm-11 1L8.5 8.5l.94-2.06 2.06-.94-2.06-.94L8.5 2.5l-.94 2.06-2.06.94zm10 10l.94 2.06.94-2.06 2.06-.94-2.06-.94-.94-2.06-.94 2.06-2.06.94z\"/><path d=\"M17.41 7.96l-1.37-1.37c-.4-.4-.92-.59-1.43-.59-.52 0-1.04.2-1.43.59L10.3 9.45l-7.72 7.72c-.78.78-.78 2.05 0 2.83L4 21.41c.39.39.9.59 1.41.59.51 0 1.02-.2 1.41-.59l7.78-7.78 2.81-2.81c.8-.78.8-2.07 0-2.86zM5.41 20L4 18.59l7.72-7.72 1.47 1.35L5.41 20z\"/>\n",
              "  </svg>\n",
              "      </button>\n",
              "      \n",
              "  <style>\n",
              "    .colab-df-container {\n",
              "      display:flex;\n",
              "      flex-wrap:wrap;\n",
              "      gap: 12px;\n",
              "    }\n",
              "\n",
              "    .colab-df-convert {\n",
              "      background-color: #E8F0FE;\n",
              "      border: none;\n",
              "      border-radius: 50%;\n",
              "      cursor: pointer;\n",
              "      display: none;\n",
              "      fill: #1967D2;\n",
              "      height: 32px;\n",
              "      padding: 0 0 0 0;\n",
              "      width: 32px;\n",
              "    }\n",
              "\n",
              "    .colab-df-convert:hover {\n",
              "      background-color: #E2EBFA;\n",
              "      box-shadow: 0px 1px 2px rgba(60, 64, 67, 0.3), 0px 1px 3px 1px rgba(60, 64, 67, 0.15);\n",
              "      fill: #174EA6;\n",
              "    }\n",
              "\n",
              "    [theme=dark] .colab-df-convert {\n",
              "      background-color: #3B4455;\n",
              "      fill: #D2E3FC;\n",
              "    }\n",
              "\n",
              "    [theme=dark] .colab-df-convert:hover {\n",
              "      background-color: #434B5C;\n",
              "      box-shadow: 0px 1px 3px 1px rgba(0, 0, 0, 0.15);\n",
              "      filter: drop-shadow(0px 1px 2px rgba(0, 0, 0, 0.3));\n",
              "      fill: #FFFFFF;\n",
              "    }\n",
              "  </style>\n",
              "\n",
              "      <script>\n",
              "        const buttonEl =\n",
              "          document.querySelector('#df-2d2ef452-f852-4af8-b364-a54f4aca41ad button.colab-df-convert');\n",
              "        buttonEl.style.display =\n",
              "          google.colab.kernel.accessAllowed ? 'block' : 'none';\n",
              "\n",
              "        async function convertToInteractive(key) {\n",
              "          const element = document.querySelector('#df-2d2ef452-f852-4af8-b364-a54f4aca41ad');\n",
              "          const dataTable =\n",
              "            await google.colab.kernel.invokeFunction('convertToInteractive',\n",
              "                                                     [key], {});\n",
              "          if (!dataTable) return;\n",
              "\n",
              "          const docLinkHtml = 'Like what you see? Visit the ' +\n",
              "            '<a target=\"_blank\" href=https://colab.research.google.com/notebooks/data_table.ipynb>data table notebook</a>'\n",
              "            + ' to learn more about interactive tables.';\n",
              "          element.innerHTML = '';\n",
              "          dataTable['output_type'] = 'display_data';\n",
              "          await google.colab.output.renderOutput(dataTable, element);\n",
              "          const docLink = document.createElement('div');\n",
              "          docLink.innerHTML = docLinkHtml;\n",
              "          element.appendChild(docLink);\n",
              "        }\n",
              "      </script>\n",
              "    </div>\n",
              "  </div>\n",
              "  "
            ]
          },
          "metadata": {},
          "execution_count": 45
        }
      ]
    },
    {
      "cell_type": "markdown",
      "source": [
        "## 図6.2（蝶）"
      ],
      "metadata": {
        "id": "SrV1aZMh0nK9"
      }
    },
    {
      "cell_type": "code",
      "source": [
        "x=index_ta\n",
        "e_p = Epara_list\n",
        "e_np = Enonpara_list\n",
        "plt.plot(x,e_np,label='nonpara')\n",
        "plt.plot(x,e_p,label='para')\n",
        "plt.errorbar(x,e_np,yerr=sd_hat_list, capsize=3, ecolor='black', mfc='None')\n",
        "plt.xlabel('時刻t')\n",
        "plt.ylabel('$ \\hat{E}(t)$')\n",
        "plt.legend()"
      ],
      "metadata": {
        "id": "qszZlr6GZKEG",
        "colab": {
          "base_uri": "https://localhost:8080/",
          "height": 295
        },
        "outputId": "f0d6396c-82a2-4ca8-8313-353a94571a16"
      },
      "execution_count": null,
      "outputs": [
        {
          "output_type": "execute_result",
          "data": {
            "text/plain": [
              "<matplotlib.legend.Legend at 0x7fb861eb1bb0>"
            ]
          },
          "metadata": {},
          "execution_count": 46
        },
        {
          "output_type": "display_data",
          "data": {
            "text/plain": [
              "<Figure size 432x288 with 1 Axes>"
            ],
            "image/png": "[encoded data removed]"
          },
          "metadata": {
            "needs_background": "light"
          }
        }
      ]
    },
    {
      "cell_type": "markdown",
      "source": [
        "## 表6.4"
      ],
      "metadata": {
        "id": "fe4VTaW360BB"
      }
    },
    {
      "cell_type": "code",
      "source": [
        "shakespeare = pd.read_csv(\"/content/shakespeare.txt\", delimiter=\" \", index_col=\"appeared\")"
      ],
      "metadata": {
        "id": "lZwk8SMZ4LLn"
      },
      "execution_count": null,
      "outputs": []
    },
    {
      "cell_type": "code",
      "source": [
        "shakespeare"
      ],
      "metadata": {
        "id": "dLVRUMXI00E0",
        "colab": {
          "base_uri": "https://localhost:8080/",
          "height": 455
        },
        "outputId": "09974b11-887b-42af-e7cd-b1ebf2c9a941"
      },
      "execution_count": null,
      "outputs": [
        {
          "output_type": "execute_result",
          "data": {
            "text/plain": [
              "          count\n",
              "appeared       \n",
              "1         14376\n",
              "2          4343\n",
              "3          2292\n",
              "4          1463\n",
              "5          1043\n",
              "...         ...\n",
              "96           10\n",
              "97           15\n",
              "98            7\n",
              "99            7\n",
              "100           5\n",
              "\n",
              "[100 rows x 1 columns]"
            ],
            "text/html": [
              "\n",
              "  <div id=\"df-01ef50f4-0e77-42ec-bd8f-062b39bd3930\">\n",
              "    <div class=\"colab-df-container\">\n",
              "      <div>\n",
              "<style scoped>\n",
              "    .dataframe tbody tr th:only-of-type {\n",
              "        vertical-align: middle;\n",
              "    }\n",
              "\n",
              "    .dataframe tbody tr th {\n",
              "        vertical-align: top;\n",
              "    }\n",
              "\n",
              "    .dataframe thead th {\n",
              "        text-align: right;\n",
              "    }\n",
              "</style>\n",
              "<table border=\"1\" class=\"dataframe\">\n",
              "  <thead>\n",
              "    <tr style=\"text-align: right;\">\n",
              "      <th></th>\n",
              "      <th>count</th>\n",
              "    </tr>\n",
              "    <tr>\n",
              "      <th>appeared</th>\n",
              "      <th></th>\n",
              "    </tr>\n",
              "  </thead>\n",
              "  <tbody>\n",
              "    <tr>\n",
              "      <th>1</th>\n",
              "      <td>14376</td>\n",
              "    </tr>\n",
              "    <tr>\n",
              "      <th>2</th>\n",
              "      <td>4343</td>\n",
              "    </tr>\n",
              "    <tr>\n",
              "      <th>3</th>\n",
              "      <td>2292</td>\n",
              "    </tr>\n",
              "    <tr>\n",
              "      <th>4</th>\n",
              "      <td>1463</td>\n",
              "    </tr>\n",
              "    <tr>\n",
              "      <th>5</th>\n",
              "      <td>1043</td>\n",
              "    </tr>\n",
              "    <tr>\n",
              "      <th>...</th>\n",
              "      <td>...</td>\n",
              "    </tr>\n",
              "    <tr>\n",
              "      <th>96</th>\n",
              "      <td>10</td>\n",
              "    </tr>\n",
              "    <tr>\n",
              "      <th>97</th>\n",
              "      <td>15</td>\n",
              "    </tr>\n",
              "    <tr>\n",
              "      <th>98</th>\n",
              "      <td>7</td>\n",
              "    </tr>\n",
              "    <tr>\n",
              "      <th>99</th>\n",
              "      <td>7</td>\n",
              "    </tr>\n",
              "    <tr>\n",
              "      <th>100</th>\n",
              "      <td>5</td>\n",
              "    </tr>\n",
              "  </tbody>\n",
              "</table>\n",
              "<p>100 rows × 1 columns</p>\n",
              "</div>\n",
              "      <button class=\"colab-df-convert\" onclick=\"convertToInteractive('df-01ef50f4-0e77-42ec-bd8f-062b39bd3930')\"\n",
              "              title=\"Convert this dataframe to an interactive table.\"\n",
              "              style=\"display:none;\">\n",
              "        \n",
              "  <svg xmlns=\"http://www.w3.org/2000/svg\" height=\"24px\"viewBox=\"0 0 24 24\"\n",
              "       width=\"24px\">\n",
              "    <path d=\"M0 0h24v24H0V0z\" fill=\"none\"/>\n",
              "    <path d=\"M18.56 5.44l.94 2.06.94-2.06 2.06-.94-2.06-.94-.94-2.06-.94 2.06-2.06.94zm-11 1L8.5 8.5l.94-2.06 2.06-.94-2.06-.94L8.5 2.5l-.94 2.06-2.06.94zm10 10l.94 2.06.94-2.06 2.06-.94-2.06-.94-.94-2.06-.94 2.06-2.06.94z\"/><path d=\"M17.41 7.96l-1.37-1.37c-.4-.4-.92-.59-1.43-.59-.52 0-1.04.2-1.43.59L10.3 9.45l-7.72 7.72c-.78.78-.78 2.05 0 2.83L4 21.41c.39.39.9.59 1.41.59.51 0 1.02-.2 1.41-.59l7.78-7.78 2.81-2.81c.8-.78.8-2.07 0-2.86zM5.41 20L4 18.59l7.72-7.72 1.47 1.35L5.41 20z\"/>\n",
              "  </svg>\n",
              "      </button>\n",
              "      \n",
              "  <style>\n",
              "    .colab-df-container {\n",
              "      display:flex;\n",
              "      flex-wrap:wrap;\n",
              "      gap: 12px;\n",
              "    }\n",
              "\n",
              "    .colab-df-convert {\n",
              "      background-color: #E8F0FE;\n",
              "      border: none;\n",
              "      border-radius: 50%;\n",
              "      cursor: pointer;\n",
              "      display: none;\n",
              "      fill: #1967D2;\n",
              "      height: 32px;\n",
              "      padding: 0 0 0 0;\n",
              "      width: 32px;\n",
              "    }\n",
              "\n",
              "    .colab-df-convert:hover {\n",
              "      background-color: #E2EBFA;\n",
              "      box-shadow: 0px 1px 2px rgba(60, 64, 67, 0.3), 0px 1px 3px 1px rgba(60, 64, 67, 0.15);\n",
              "      fill: #174EA6;\n",
              "    }\n",
              "\n",
              "    [theme=dark] .colab-df-convert {\n",
              "      background-color: #3B4455;\n",
              "      fill: #D2E3FC;\n",
              "    }\n",
              "\n",
              "    [theme=dark] .colab-df-convert:hover {\n",
              "      background-color: #434B5C;\n",
              "      box-shadow: 0px 1px 3px 1px rgba(0, 0, 0, 0.15);\n",
              "      filter: drop-shadow(0px 1px 2px rgba(0, 0, 0, 0.3));\n",
              "      fill: #FFFFFF;\n",
              "    }\n",
              "  </style>\n",
              "\n",
              "      <script>\n",
              "        const buttonEl =\n",
              "          document.querySelector('#df-01ef50f4-0e77-42ec-bd8f-062b39bd3930 button.colab-df-convert');\n",
              "        buttonEl.style.display =\n",
              "          google.colab.kernel.accessAllowed ? 'block' : 'none';\n",
              "\n",
              "        async function convertToInteractive(key) {\n",
              "          const element = document.querySelector('#df-01ef50f4-0e77-42ec-bd8f-062b39bd3930');\n",
              "          const dataTable =\n",
              "            await google.colab.kernel.invokeFunction('convertToInteractive',\n",
              "                                                     [key], {});\n",
              "          if (!dataTable) return;\n",
              "\n",
              "          const docLinkHtml = 'Like what you see? Visit the ' +\n",
              "            '<a target=\"_blank\" href=https://colab.research.google.com/notebooks/data_table.ipynb>data table notebook</a>'\n",
              "            + ' to learn more about interactive tables.';\n",
              "          element.innerHTML = '';\n",
              "          dataTable['output_type'] = 'display_data';\n",
              "          await google.colab.output.renderOutput(dataTable, element);\n",
              "          const docLink = document.createElement('div');\n",
              "          docLink.innerHTML = docLinkHtml;\n",
              "          element.appendChild(docLink);\n",
              "        }\n",
              "      </script>\n",
              "    </div>\n",
              "  </div>\n",
              "  "
            ]
          },
          "metadata": {},
          "execution_count": 5
        }
      ]
    },
    {
      "cell_type": "markdown",
      "source": [
        "## 表6.3(シェイクスピア)\n"
      ],
      "metadata": {
        "id": "0yIWbaQBMucV"
      }
    },
    {
      "cell_type": "code",
      "source": [
        "y=shakespeare['count']"
      ],
      "metadata": {
        "id": "6VI1wAE48-iJ"
      },
      "execution_count": null,
      "outputs": []
    },
    {
      "cell_type": "code",
      "source": [
        "index_ta = [i/10 for i in range(11)]"
      ],
      "metadata": {
        "id": "M53C_t48pdNV"
      },
      "execution_count": null,
      "outputs": []
    },
    {
      "cell_type": "code",
      "source": [
        "def Enonpara_shake(t):\n",
        "  a = 0\n",
        "  for i in range(1,101):\n",
        "    a += -((-1)**i)*y[i]*(t**i)\n",
        "  return a"
      ],
      "metadata": {
        "id": "dQAHyUTX9YUG"
      },
      "execution_count": null,
      "outputs": []
    },
    {
      "cell_type": "code",
      "source": [
        "def sd_shake(t):\n",
        "  a = 0\n",
        "  for i in range(1,101):\n",
        "    a = a + y[i]*t**(2*i)\n",
        "  return np.sqrt(a)"
      ],
      "metadata": {
        "id": "MA7NGDIK9Dg1"
      },
      "execution_count": null,
      "outputs": []
    },
    {
      "cell_type": "code",
      "source": [
        "Enonpara_shake_list = [Enonpara_shake(t/10) for t in range(11)]\n",
        "Enonpara_shake_hat = pd.DataFrame({'E(t)': Enonpara_shake_list},index = index_ta)"
      ],
      "metadata": {
        "id": "9kiC55hko9tL"
      },
      "execution_count": null,
      "outputs": []
    },
    {
      "cell_type": "code",
      "source": [
        "def Epara_shake(t):\n",
        "  nu = -0.39 \n",
        "  sigma = 104.26\n",
        "  gamma = sigma/(1+ sigma)\n",
        "  y_1 = y[1]\n",
        "  return y_1*(1-(1+gamma*t)**(-nu))/(gamma*nu)"
      ],
      "metadata": {
        "id": "OR1PbWBCkwzr"
      },
      "execution_count": null,
      "outputs": []
    },
    {
      "cell_type": "code",
      "source": [
        "Epara_shake_list = [Epara_shake(t/10) for t in range(11)]\n",
        "Epara_shake_hat = pd.DataFrame( {'Epara(t)': Epara_shake_list},index = index_ta)"
      ],
      "metadata": {
        "id": "BnHmpZqsoW1e"
      },
      "execution_count": null,
      "outputs": []
    },
    {
      "cell_type": "code",
      "source": [
        "sd_shake_hat_list = [sd_shake(t/10) for t in range(11)]\n",
        "sd_shake_hat = pd.DataFrame({'sd(t) ' :sd_shake_hat_list},index = index_ta)\n",
        "table_sh = pd.concat([Enonpara_shake_hat,sd_shake_hat],axis = 1)"
      ],
      "metadata": {
        "id": "7jcTM9NdNJXv"
      },
      "execution_count": null,
      "outputs": []
    },
    {
      "cell_type": "code",
      "source": [
        "table_sh"
      ],
      "metadata": {
        "colab": {
          "base_uri": "https://localhost:8080/",
          "height": 394
        },
        "id": "KJi-db-IOBge",
        "outputId": "2b427aa1-5554-4a23-844d-aeab99186a20"
      },
      "execution_count": null,
      "outputs": [
        {
          "output_type": "execute_result",
          "data": {
            "text/plain": [
              "         E(t)  sd(t) \n",
              "0.00     0.00    0.00\n",
              "0.10  1396.33   12.01\n",
              "0.20  2717.76   24.13\n",
              "0.30  3974.00   36.48\n",
              "0.40  5172.80   49.21\n",
              "0.50  6320.38   62.52\n",
              "0.60  7421.66   76.67\n",
              "0.70  8480.38   92.14\n",
              "0.80  9499.18  109.80\n",
              "0.90 10480.29  131.92\n",
              "1.00 11486.00  175.18"
            ],
            "text/html": [
              "\n",
              "  <div id=\"df-bfac349b-5792-4c63-84ab-a3f9080f2425\">\n",
              "    <div class=\"colab-df-container\">\n",
              "      <div>\n",
              "<style scoped>\n",
              "    .dataframe tbody tr th:only-of-type {\n",
              "        vertical-align: middle;\n",
              "    }\n",
              "\n",
              "    .dataframe tbody tr th {\n",
              "        vertical-align: top;\n",
              "    }\n",
              "\n",
              "    .dataframe thead th {\n",
              "        text-align: right;\n",
              "    }\n",
              "</style>\n",
              "<table border=\"1\" class=\"dataframe\">\n",
              "  <thead>\n",
              "    <tr style=\"text-align: right;\">\n",
              "      <th></th>\n",
              "      <th>E(t)</th>\n",
              "      <th>sd(t)</th>\n",
              "    </tr>\n",
              "  </thead>\n",
              "  <tbody>\n",
              "    <tr>\n",
              "      <th>0.00</th>\n",
              "      <td>0.00</td>\n",
              "      <td>0.00</td>\n",
              "    </tr>\n",
              "    <tr>\n",
              "      <th>0.10</th>\n",
              "      <td>1396.33</td>\n",
              "      <td>12.01</td>\n",
              "    </tr>\n",
              "    <tr>\n",
              "      <th>0.20</th>\n",
              "      <td>2717.76</td>\n",
              "      <td>24.13</td>\n",
              "    </tr>\n",
              "    <tr>\n",
              "      <th>0.30</th>\n",
              "      <td>3974.00</td>\n",
              "      <td>36.48</td>\n",
              "    </tr>\n",
              "    <tr>\n",
              "      <th>0.40</th>\n",
              "      <td>5172.80</td>\n",
              "      <td>49.21</td>\n",
              "    </tr>\n",
              "    <tr>\n",
              "      <th>0.50</th>\n",
              "      <td>6320.38</td>\n",
              "      <td>62.52</td>\n",
              "    </tr>\n",
              "    <tr>\n",
              "      <th>0.60</th>\n",
              "      <td>7421.66</td>\n",
              "      <td>76.67</td>\n",
              "    </tr>\n",
              "    <tr>\n",
              "      <th>0.70</th>\n",
              "      <td>8480.38</td>\n",
              "      <td>92.14</td>\n",
              "    </tr>\n",
              "    <tr>\n",
              "      <th>0.80</th>\n",
              "      <td>9499.18</td>\n",
              "      <td>109.80</td>\n",
              "    </tr>\n",
              "    <tr>\n",
              "      <th>0.90</th>\n",
              "      <td>10480.29</td>\n",
              "      <td>131.92</td>\n",
              "    </tr>\n",
              "    <tr>\n",
              "      <th>1.00</th>\n",
              "      <td>11486.00</td>\n",
              "      <td>175.18</td>\n",
              "    </tr>\n",
              "  </tbody>\n",
              "</table>\n",
              "</div>\n",
              "      <button class=\"colab-df-convert\" onclick=\"convertToInteractive('df-bfac349b-5792-4c63-84ab-a3f9080f2425')\"\n",
              "              title=\"Convert this dataframe to an interactive table.\"\n",
              "              style=\"display:none;\">\n",
              "        \n",
              "  <svg xmlns=\"http://www.w3.org/2000/svg\" height=\"24px\"viewBox=\"0 0 24 24\"\n",
              "       width=\"24px\">\n",
              "    <path d=\"M0 0h24v24H0V0z\" fill=\"none\"/>\n",
              "    <path d=\"M18.56 5.44l.94 2.06.94-2.06 2.06-.94-2.06-.94-.94-2.06-.94 2.06-2.06.94zm-11 1L8.5 8.5l.94-2.06 2.06-.94-2.06-.94L8.5 2.5l-.94 2.06-2.06.94zm10 10l.94 2.06.94-2.06 2.06-.94-2.06-.94-.94-2.06-.94 2.06-2.06.94z\"/><path d=\"M17.41 7.96l-1.37-1.37c-.4-.4-.92-.59-1.43-.59-.52 0-1.04.2-1.43.59L10.3 9.45l-7.72 7.72c-.78.78-.78 2.05 0 2.83L4 21.41c.39.39.9.59 1.41.59.51 0 1.02-.2 1.41-.59l7.78-7.78 2.81-2.81c.8-.78.8-2.07 0-2.86zM5.41 20L4 18.59l7.72-7.72 1.47 1.35L5.41 20z\"/>\n",
              "  </svg>\n",
              "      </button>\n",
              "      \n",
              "  <style>\n",
              "    .colab-df-container {\n",
              "      display:flex;\n",
              "      flex-wrap:wrap;\n",
              "      gap: 12px;\n",
              "    }\n",
              "\n",
              "    .colab-df-convert {\n",
              "      background-color: #E8F0FE;\n",
              "      border: none;\n",
              "      border-radius: 50%;\n",
              "      cursor: pointer;\n",
              "      display: none;\n",
              "      fill: #1967D2;\n",
              "      height: 32px;\n",
              "      padding: 0 0 0 0;\n",
              "      width: 32px;\n",
              "    }\n",
              "\n",
              "    .colab-df-convert:hover {\n",
              "      background-color: #E2EBFA;\n",
              "      box-shadow: 0px 1px 2px rgba(60, 64, 67, 0.3), 0px 1px 3px 1px rgba(60, 64, 67, 0.15);\n",
              "      fill: #174EA6;\n",
              "    }\n",
              "\n",
              "    [theme=dark] .colab-df-convert {\n",
              "      background-color: #3B4455;\n",
              "      fill: #D2E3FC;\n",
              "    }\n",
              "\n",
              "    [theme=dark] .colab-df-convert:hover {\n",
              "      background-color: #434B5C;\n",
              "      box-shadow: 0px 1px 3px 1px rgba(0, 0, 0, 0.15);\n",
              "      filter: drop-shadow(0px 1px 2px rgba(0, 0, 0, 0.3));\n",
              "      fill: #FFFFFF;\n",
              "    }\n",
              "  </style>\n",
              "\n",
              "      <script>\n",
              "        const buttonEl =\n",
              "          document.querySelector('#df-bfac349b-5792-4c63-84ab-a3f9080f2425 button.colab-df-convert');\n",
              "        buttonEl.style.display =\n",
              "          google.colab.kernel.accessAllowed ? 'block' : 'none';\n",
              "\n",
              "        async function convertToInteractive(key) {\n",
              "          const element = document.querySelector('#df-bfac349b-5792-4c63-84ab-a3f9080f2425');\n",
              "          const dataTable =\n",
              "            await google.colab.kernel.invokeFunction('convertToInteractive',\n",
              "                                                     [key], {});\n",
              "          if (!dataTable) return;\n",
              "\n",
              "          const docLinkHtml = 'Like what you see? Visit the ' +\n",
              "            '<a target=\"_blank\" href=https://colab.research.google.com/notebooks/data_table.ipynb>data table notebook</a>'\n",
              "            + ' to learn more about interactive tables.';\n",
              "          element.innerHTML = '';\n",
              "          dataTable['output_type'] = 'display_data';\n",
              "          await google.colab.output.renderOutput(dataTable, element);\n",
              "          const docLink = document.createElement('div');\n",
              "          docLink.innerHTML = docLinkHtml;\n",
              "          element.appendChild(docLink);\n",
              "        }\n",
              "      </script>\n",
              "    </div>\n",
              "  </div>\n",
              "  "
            ]
          },
          "metadata": {},
          "execution_count": 19
        }
      ]
    },
    {
      "cell_type": "markdown",
      "source": [
        "## 図6.2(シェイクスピア)"
      ],
      "metadata": {
        "id": "2lZ6lrvlORHa"
      }
    },
    {
      "cell_type": "code",
      "source": [
        "table_et = pd.concat([Enonpara_shake_hat,Epara_shake_hat],axis = 1)"
      ],
      "metadata": {
        "id": "WZ003dV_Oo0F"
      },
      "execution_count": null,
      "outputs": []
    },
    {
      "cell_type": "code",
      "source": [
        "table_et"
      ],
      "metadata": {
        "colab": {
          "base_uri": "https://localhost:8080/",
          "height": 394
        },
        "id": "lS8ua-KxO7at",
        "outputId": "c03f8c51-6c58-4d55-f945-db1a3ad833e6"
      },
      "execution_count": null,
      "outputs": [
        {
          "output_type": "execute_result",
          "data": {
            "text/plain": [
              "         E(t)  Epara(t)\n",
              "0.00     0.00     -0.00\n",
              "0.10  1396.33   1396.34\n",
              "0.20  2717.76   2717.86\n",
              "0.30  3974.00   3974.29\n",
              "0.40  5172.80   5173.47\n",
              "0.50  6320.38   6321.80\n",
              "0.60  7421.66   7424.62\n",
              "0.70  8480.38   8486.39\n",
              "0.80  9499.18   9510.92\n",
              "0.90 10480.29  10501.46\n",
              "1.00 11486.00  11460.85"
            ],
            "text/html": [
              "\n",
              "  <div id=\"df-e27848f0-2d6c-495a-ba0a-f71d93df2f8d\">\n",
              "    <div class=\"colab-df-container\">\n",
              "      <div>\n",
              "<style scoped>\n",
              "    .dataframe tbody tr th:only-of-type {\n",
              "        vertical-align: middle;\n",
              "    }\n",
              "\n",
              "    .dataframe tbody tr th {\n",
              "        vertical-align: top;\n",
              "    }\n",
              "\n",
              "    .dataframe thead th {\n",
              "        text-align: right;\n",
              "    }\n",
              "</style>\n",
              "<table border=\"1\" class=\"dataframe\">\n",
              "  <thead>\n",
              "    <tr style=\"text-align: right;\">\n",
              "      <th></th>\n",
              "      <th>E(t)</th>\n",
              "      <th>Epara(t)</th>\n",
              "    </tr>\n",
              "  </thead>\n",
              "  <tbody>\n",
              "    <tr>\n",
              "      <th>0.00</th>\n",
              "      <td>0.00</td>\n",
              "      <td>-0.00</td>\n",
              "    </tr>\n",
              "    <tr>\n",
              "      <th>0.10</th>\n",
              "      <td>1396.33</td>\n",
              "      <td>1396.34</td>\n",
              "    </tr>\n",
              "    <tr>\n",
              "      <th>0.20</th>\n",
              "      <td>2717.76</td>\n",
              "      <td>2717.86</td>\n",
              "    </tr>\n",
              "    <tr>\n",
              "      <th>0.30</th>\n",
              "      <td>3974.00</td>\n",
              "      <td>3974.29</td>\n",
              "    </tr>\n",
              "    <tr>\n",
              "      <th>0.40</th>\n",
              "      <td>5172.80</td>\n",
              "      <td>5173.47</td>\n",
              "    </tr>\n",
              "    <tr>\n",
              "      <th>0.50</th>\n",
              "      <td>6320.38</td>\n",
              "      <td>6321.80</td>\n",
              "    </tr>\n",
              "    <tr>\n",
              "      <th>0.60</th>\n",
              "      <td>7421.66</td>\n",
              "      <td>7424.62</td>\n",
              "    </tr>\n",
              "    <tr>\n",
              "      <th>0.70</th>\n",
              "      <td>8480.38</td>\n",
              "      <td>8486.39</td>\n",
              "    </tr>\n",
              "    <tr>\n",
              "      <th>0.80</th>\n",
              "      <td>9499.18</td>\n",
              "      <td>9510.92</td>\n",
              "    </tr>\n",
              "    <tr>\n",
              "      <th>0.90</th>\n",
              "      <td>10480.29</td>\n",
              "      <td>10501.46</td>\n",
              "    </tr>\n",
              "    <tr>\n",
              "      <th>1.00</th>\n",
              "      <td>11486.00</td>\n",
              "      <td>11460.85</td>\n",
              "    </tr>\n",
              "  </tbody>\n",
              "</table>\n",
              "</div>\n",
              "      <button class=\"colab-df-convert\" onclick=\"convertToInteractive('df-e27848f0-2d6c-495a-ba0a-f71d93df2f8d')\"\n",
              "              title=\"Convert this dataframe to an interactive table.\"\n",
              "              style=\"display:none;\">\n",
              "        \n",
              "  <svg xmlns=\"http://www.w3.org/2000/svg\" height=\"24px\"viewBox=\"0 0 24 24\"\n",
              "       width=\"24px\">\n",
              "    <path d=\"M0 0h24v24H0V0z\" fill=\"none\"/>\n",
              "    <path d=\"M18.56 5.44l.94 2.06.94-2.06 2.06-.94-2.06-.94-.94-2.06-.94 2.06-2.06.94zm-11 1L8.5 8.5l.94-2.06 2.06-.94-2.06-.94L8.5 2.5l-.94 2.06-2.06.94zm10 10l.94 2.06.94-2.06 2.06-.94-2.06-.94-.94-2.06-.94 2.06-2.06.94z\"/><path d=\"M17.41 7.96l-1.37-1.37c-.4-.4-.92-.59-1.43-.59-.52 0-1.04.2-1.43.59L10.3 9.45l-7.72 7.72c-.78.78-.78 2.05 0 2.83L4 21.41c.39.39.9.59 1.41.59.51 0 1.02-.2 1.41-.59l7.78-7.78 2.81-2.81c.8-.78.8-2.07 0-2.86zM5.41 20L4 18.59l7.72-7.72 1.47 1.35L5.41 20z\"/>\n",
              "  </svg>\n",
              "      </button>\n",
              "      \n",
              "  <style>\n",
              "    .colab-df-container {\n",
              "      display:flex;\n",
              "      flex-wrap:wrap;\n",
              "      gap: 12px;\n",
              "    }\n",
              "\n",
              "    .colab-df-convert {\n",
              "      background-color: #E8F0FE;\n",
              "      border: none;\n",
              "      border-radius: 50%;\n",
              "      cursor: pointer;\n",
              "      display: none;\n",
              "      fill: #1967D2;\n",
              "      height: 32px;\n",
              "      padding: 0 0 0 0;\n",
              "      width: 32px;\n",
              "    }\n",
              "\n",
              "    .colab-df-convert:hover {\n",
              "      background-color: #E2EBFA;\n",
              "      box-shadow: 0px 1px 2px rgba(60, 64, 67, 0.3), 0px 1px 3px 1px rgba(60, 64, 67, 0.15);\n",
              "      fill: #174EA6;\n",
              "    }\n",
              "\n",
              "    [theme=dark] .colab-df-convert {\n",
              "      background-color: #3B4455;\n",
              "      fill: #D2E3FC;\n",
              "    }\n",
              "\n",
              "    [theme=dark] .colab-df-convert:hover {\n",
              "      background-color: #434B5C;\n",
              "      box-shadow: 0px 1px 3px 1px rgba(0, 0, 0, 0.15);\n",
              "      filter: drop-shadow(0px 1px 2px rgba(0, 0, 0, 0.3));\n",
              "      fill: #FFFFFF;\n",
              "    }\n",
              "  </style>\n",
              "\n",
              "      <script>\n",
              "        const buttonEl =\n",
              "          document.querySelector('#df-e27848f0-2d6c-495a-ba0a-f71d93df2f8d button.colab-df-convert');\n",
              "        buttonEl.style.display =\n",
              "          google.colab.kernel.accessAllowed ? 'block' : 'none';\n",
              "\n",
              "        async function convertToInteractive(key) {\n",
              "          const element = document.querySelector('#df-e27848f0-2d6c-495a-ba0a-f71d93df2f8d');\n",
              "          const dataTable =\n",
              "            await google.colab.kernel.invokeFunction('convertToInteractive',\n",
              "                                                     [key], {});\n",
              "          if (!dataTable) return;\n",
              "\n",
              "          const docLinkHtml = 'Like what you see? Visit the ' +\n",
              "            '<a target=\"_blank\" href=https://colab.research.google.com/notebooks/data_table.ipynb>data table notebook</a>'\n",
              "            + ' to learn more about interactive tables.';\n",
              "          element.innerHTML = '';\n",
              "          dataTable['output_type'] = 'display_data';\n",
              "          await google.colab.output.renderOutput(dataTable, element);\n",
              "          const docLink = document.createElement('div');\n",
              "          docLink.innerHTML = docLinkHtml;\n",
              "          element.appendChild(docLink);\n",
              "        }\n",
              "      </script>\n",
              "    </div>\n",
              "  </div>\n",
              "  "
            ]
          },
          "metadata": {},
          "execution_count": 23
        }
      ]
    },
    {
      "cell_type": "code",
      "source": [
        "x=index_ta\n",
        "e_p = Epara_shake_list\n",
        "e_np = Enonpara_shake_list\n",
        "plt.figure(figsize=(8,6))\n",
        "plt.plot(x,e_np,label='nonpara')\n",
        "plt.plot(x,e_p,label='para')\n",
        "plt.errorbar(x,e_np,yerr=sd_shake_hat_list, capsize=3, ecolor='black', mfc='None')\n",
        "plt.xlabel('時刻t')\n",
        "plt.ylabel('$ \\hat{E}(t)$')\n",
        "plt.legend()"
      ],
      "metadata": {
        "id": "DnQk8k55otoD",
        "colab": {
          "base_uri": "https://localhost:8080/",
          "height": 404
        },
        "outputId": "320a2e22-231e-4fbb-a691-b9b94f72c02e"
      },
      "execution_count": null,
      "outputs": [
        {
          "output_type": "execute_result",
          "data": {
            "text/plain": [
              "<matplotlib.legend.Legend at 0x7fe3c08c80d0>"
            ]
          },
          "metadata": {},
          "execution_count": 24
        },
        {
          "output_type": "display_data",
          "data": {
            "text/plain": [
              "<Figure size 576x432 with 1 Axes>"
            ],
            "image/png": "[encoded data removed]"
          },
          "metadata": {
            "needs_background": "light"
          }
        }
      ]
    },
    {
      "cell_type": "code",
      "source": [
        "#t>1を考えてみる\n",
        "T = 115\n",
        "index_tb = [i/100 for i in range(T)]\n",
        "Enonpara_shake_list_2 = [Enonpara_shake(t/100) for t in range(T)]\n",
        "Enonpara_shake_hat_2 = pd.DataFrame({'E(t)': Enonpara_shake_list_2},index = index_tb)\n",
        "Epara_shake_list_2 = [Epara_shake(t/100) for t in range(T)]\n",
        "Epara_shake_hat_2 = pd.DataFrame( {'Epara(t)': Epara_shake_list_2},index = index_tb)\n",
        "table_et_2 = pd.concat([Enonpara_shake_hat_2,Epara_shake_hat_2],axis = 1)"
      ],
      "metadata": {
        "id": "8CpOGkv_QZb4"
      },
      "execution_count": null,
      "outputs": []
    },
    {
      "cell_type": "code",
      "source": [
        "table_et_2"
      ],
      "metadata": {
        "colab": {
          "base_uri": "https://localhost:8080/",
          "height": 424
        },
        "id": "oNOLJ0vBRYAA",
        "outputId": "8f9129cc-ff39-4e16-fc75-f495e0695c5e"
      },
      "execution_count": null,
      "outputs": [
        {
          "output_type": "execute_result",
          "data": {
            "text/plain": [
              "          E(t)  Epara(t)\n",
              "0.00      0.00     -0.00\n",
              "0.01    143.33    143.33\n",
              "0.02    285.80    285.80\n",
              "0.03    427.43    427.43\n",
              "0.04    568.23    568.24\n",
              "...        ...       ...\n",
              "1.10  37979.10  12391.53\n",
              "1.11  69618.99  12483.11\n",
              "1.12 143187.58  12574.42\n",
              "1.13 315406.36  12665.47\n",
              "1.14 718673.32  12756.26\n",
              "\n",
              "[115 rows x 2 columns]"
            ],
            "text/html": [
              "\n",
              "  <div id=\"df-ca1fbeff-ad6e-4f3f-996b-a5ef41ab1643\">\n",
              "    <div class=\"colab-df-container\">\n",
              "      <div>\n",
              "<style scoped>\n",
              "    .dataframe tbody tr th:only-of-type {\n",
              "        vertical-align: middle;\n",
              "    }\n",
              "\n",
              "    .dataframe tbody tr th {\n",
              "        vertical-align: top;\n",
              "    }\n",
              "\n",
              "    .dataframe thead th {\n",
              "        text-align: right;\n",
              "    }\n",
              "</style>\n",
              "<table border=\"1\" class=\"dataframe\">\n",
              "  <thead>\n",
              "    <tr style=\"text-align: right;\">\n",
              "      <th></th>\n",
              "      <th>E(t)</th>\n",
              "      <th>Epara(t)</th>\n",
              "    </tr>\n",
              "  </thead>\n",
              "  <tbody>\n",
              "    <tr>\n",
              "      <th>0.00</th>\n",
              "      <td>0.00</td>\n",
              "      <td>-0.00</td>\n",
              "    </tr>\n",
              "    <tr>\n",
              "      <th>0.01</th>\n",
              "      <td>143.33</td>\n",
              "      <td>143.33</td>\n",
              "    </tr>\n",
              "    <tr>\n",
              "      <th>0.02</th>\n",
              "      <td>285.80</td>\n",
              "      <td>285.80</td>\n",
              "    </tr>\n",
              "    <tr>\n",
              "      <th>0.03</th>\n",
              "      <td>427.43</td>\n",
              "      <td>427.43</td>\n",
              "    </tr>\n",
              "    <tr>\n",
              "      <th>0.04</th>\n",
              "      <td>568.23</td>\n",
              "      <td>568.24</td>\n",
              "    </tr>\n",
              "    <tr>\n",
              "      <th>...</th>\n",
              "      <td>...</td>\n",
              "      <td>...</td>\n",
              "    </tr>\n",
              "    <tr>\n",
              "      <th>1.10</th>\n",
              "      <td>37979.10</td>\n",
              "      <td>12391.53</td>\n",
              "    </tr>\n",
              "    <tr>\n",
              "      <th>1.11</th>\n",
              "      <td>69618.99</td>\n",
              "      <td>12483.11</td>\n",
              "    </tr>\n",
              "    <tr>\n",
              "      <th>1.12</th>\n",
              "      <td>143187.58</td>\n",
              "      <td>12574.42</td>\n",
              "    </tr>\n",
              "    <tr>\n",
              "      <th>1.13</th>\n",
              "      <td>315406.36</td>\n",
              "      <td>12665.47</td>\n",
              "    </tr>\n",
              "    <tr>\n",
              "      <th>1.14</th>\n",
              "      <td>718673.32</td>\n",
              "      <td>12756.26</td>\n",
              "    </tr>\n",
              "  </tbody>\n",
              "</table>\n",
              "<p>115 rows × 2 columns</p>\n",
              "</div>\n",
              "      <button class=\"colab-df-convert\" onclick=\"convertToInteractive('df-ca1fbeff-ad6e-4f3f-996b-a5ef41ab1643')\"\n",
              "              title=\"Convert this dataframe to an interactive table.\"\n",
              "              style=\"display:none;\">\n",
              "        \n",
              "  <svg xmlns=\"http://www.w3.org/2000/svg\" height=\"24px\"viewBox=\"0 0 24 24\"\n",
              "       width=\"24px\">\n",
              "    <path d=\"M0 0h24v24H0V0z\" fill=\"none\"/>\n",
              "    <path d=\"M18.56 5.44l.94 2.06.94-2.06 2.06-.94-2.06-.94-.94-2.06-.94 2.06-2.06.94zm-11 1L8.5 8.5l.94-2.06 2.06-.94-2.06-.94L8.5 2.5l-.94 2.06-2.06.94zm10 10l.94 2.06.94-2.06 2.06-.94-2.06-.94-.94-2.06-.94 2.06-2.06.94z\"/><path d=\"M17.41 7.96l-1.37-1.37c-.4-.4-.92-.59-1.43-.59-.52 0-1.04.2-1.43.59L10.3 9.45l-7.72 7.72c-.78.78-.78 2.05 0 2.83L4 21.41c.39.39.9.59 1.41.59.51 0 1.02-.2 1.41-.59l7.78-7.78 2.81-2.81c.8-.78.8-2.07 0-2.86zM5.41 20L4 18.59l7.72-7.72 1.47 1.35L5.41 20z\"/>\n",
              "  </svg>\n",
              "      </button>\n",
              "      \n",
              "  <style>\n",
              "    .colab-df-container {\n",
              "      display:flex;\n",
              "      flex-wrap:wrap;\n",
              "      gap: 12px;\n",
              "    }\n",
              "\n",
              "    .colab-df-convert {\n",
              "      background-color: #E8F0FE;\n",
              "      border: none;\n",
              "      border-radius: 50%;\n",
              "      cursor: pointer;\n",
              "      display: none;\n",
              "      fill: #1967D2;\n",
              "      height: 32px;\n",
              "      padding: 0 0 0 0;\n",
              "      width: 32px;\n",
              "    }\n",
              "\n",
              "    .colab-df-convert:hover {\n",
              "      background-color: #E2EBFA;\n",
              "      box-shadow: 0px 1px 2px rgba(60, 64, 67, 0.3), 0px 1px 3px 1px rgba(60, 64, 67, 0.15);\n",
              "      fill: #174EA6;\n",
              "    }\n",
              "\n",
              "    [theme=dark] .colab-df-convert {\n",
              "      background-color: #3B4455;\n",
              "      fill: #D2E3FC;\n",
              "    }\n",
              "\n",
              "    [theme=dark] .colab-df-convert:hover {\n",
              "      background-color: #434B5C;\n",
              "      box-shadow: 0px 1px 3px 1px rgba(0, 0, 0, 0.15);\n",
              "      filter: drop-shadow(0px 1px 2px rgba(0, 0, 0, 0.3));\n",
              "      fill: #FFFFFF;\n",
              "    }\n",
              "  </style>\n",
              "\n",
              "      <script>\n",
              "        const buttonEl =\n",
              "          document.querySelector('#df-ca1fbeff-ad6e-4f3f-996b-a5ef41ab1643 button.colab-df-convert');\n",
              "        buttonEl.style.display =\n",
              "          google.colab.kernel.accessAllowed ? 'block' : 'none';\n",
              "\n",
              "        async function convertToInteractive(key) {\n",
              "          const element = document.querySelector('#df-ca1fbeff-ad6e-4f3f-996b-a5ef41ab1643');\n",
              "          const dataTable =\n",
              "            await google.colab.kernel.invokeFunction('convertToInteractive',\n",
              "                                                     [key], {});\n",
              "          if (!dataTable) return;\n",
              "\n",
              "          const docLinkHtml = 'Like what you see? Visit the ' +\n",
              "            '<a target=\"_blank\" href=https://colab.research.google.com/notebooks/data_table.ipynb>data table notebook</a>'\n",
              "            + ' to learn more about interactive tables.';\n",
              "          element.innerHTML = '';\n",
              "          dataTable['output_type'] = 'display_data';\n",
              "          await google.colab.output.renderOutput(dataTable, element);\n",
              "          const docLink = document.createElement('div');\n",
              "          docLink.innerHTML = docLinkHtml;\n",
              "          element.appendChild(docLink);\n",
              "        }\n",
              "      </script>\n",
              "    </div>\n",
              "  </div>\n",
              "  "
            ]
          },
          "metadata": {},
          "execution_count": 35
        }
      ]
    },
    {
      "cell_type": "code",
      "source": [
        "x=index_tb\n",
        "e_p = Epara_shake_list_2\n",
        "e_np = Enonpara_shake_list_2\n",
        "plt.figure(figsize=(8,6))\n",
        "plt.plot(x,e_np,label='nonpara')\n",
        "plt.plot(x,e_p,label='para')\n",
        "#plt.errorbar(x,e_np,yerr=sd_shake_hat_list, capsize=3, ecolor='black', mfc='None')\n",
        "plt.ylim(0,20000)\n",
        "plt.xlabel('時刻t')\n",
        "plt.ylabel('$ \\hat{E}(t)$')\n",
        "plt.legend()"
      ],
      "metadata": {
        "colab": {
          "base_uri": "https://localhost:8080/",
          "height": 408
        },
        "id": "GoghLfGcRgZA",
        "outputId": "4a3f27ec-ee5d-421d-9256-5e70f83a6fc2"
      },
      "execution_count": null,
      "outputs": [
        {
          "output_type": "execute_result",
          "data": {
            "text/plain": [
              "<matplotlib.legend.Legend at 0x7fe3c0660c70>"
            ]
          },
          "metadata": {},
          "execution_count": 36
        },
        {
          "output_type": "display_data",
          "data": {
            "text/plain": [
              "<Figure size 576x432 with 1 Axes>"
            ],
            "image/png": "[encoded data removed]"
          },
          "metadata": {
            "needs_background": "light"
          }
        }
      ]
    },
    {
      "cell_type": "code",
      "source": [
        "sum(y)"
      ],
      "metadata": {
        "colab": {
          "base_uri": "https://localhost:8080/"
        },
        "id": "lZaLXLXdUDXr",
        "outputId": "39c11a0c-e24a-4c71-ebce-bc7e01fa7e2d"
      },
      "execution_count": null,
      "outputs": [
        {
          "output_type": "execute_result",
          "data": {
            "text/plain": [
              "30688"
            ]
          },
          "metadata": {},
          "execution_count": 33
        }
      ]
    },
    {
      "cell_type": "code",
      "source": [
        "Epara_shake(5)"
      ],
      "metadata": {
        "id": "CVTpU9QzVLii",
        "outputId": "e225aa28-875c-43dc-abab-12b941a6d892",
        "colab": {
          "base_uri": "https://localhost:8080/"
        }
      },
      "execution_count": null,
      "outputs": [
        {
          "output_type": "execute_result",
          "data": {
            "text/plain": [
              "37404.32070864871"
            ]
          },
          "metadata": {},
          "execution_count": 40
        }
      ]
    },
    {
      "cell_type": "markdown",
      "source": [
        "# 6.3"
      ],
      "metadata": {
        "id": "NdAstsCGfN8S"
      }
    },
    {
      "cell_type": "code",
      "source": [
        "nodes = pd.read_csv(\"/content/nodes.txt\", delimiter=\" \")"
      ],
      "metadata": {
        "id": "bdfypRgh_jRH"
      },
      "execution_count": 4,
      "outputs": []
    },
    {
      "cell_type": "code",
      "source": [
        "nodes"
      ],
      "metadata": {
        "colab": {
          "base_uri": "https://localhost:8080/",
          "height": 424
        },
        "id": "unq-fOV5_lpM",
        "outputId": "2ae2ee42-c13c-4684-c8aa-9ba26d286495"
      },
      "execution_count": 5,
      "outputs": [
        {
          "output_type": "execute_result",
          "data": {
            "text/plain": [
              "      n   x\n",
              "0    26   0\n",
              "1    14  14\n",
              "2    34   3\n",
              "3    25   2\n",
              "4    23   5\n",
              "..   ..  ..\n",
              "839  37  28\n",
              "840  16  11\n",
              "841  12   0\n",
              "842  31  12\n",
              "843  21   0\n",
              "\n",
              "[844 rows x 2 columns]"
            ],
            "text/html": [
              "\n",
              "  <div id=\"df-7103b59d-4161-4f74-8a33-0ae6666afcad\">\n",
              "    <div class=\"colab-df-container\">\n",
              "      <div>\n",
              "<style scoped>\n",
              "    .dataframe tbody tr th:only-of-type {\n",
              "        vertical-align: middle;\n",
              "    }\n",
              "\n",
              "    .dataframe tbody tr th {\n",
              "        vertical-align: top;\n",
              "    }\n",
              "\n",
              "    .dataframe thead th {\n",
              "        text-align: right;\n",
              "    }\n",
              "</style>\n",
              "<table border=\"1\" class=\"dataframe\">\n",
              "  <thead>\n",
              "    <tr style=\"text-align: right;\">\n",
              "      <th></th>\n",
              "      <th>n</th>\n",
              "      <th>x</th>\n",
              "    </tr>\n",
              "  </thead>\n",
              "  <tbody>\n",
              "    <tr>\n",
              "      <th>0</th>\n",
              "      <td>26</td>\n",
              "      <td>0</td>\n",
              "    </tr>\n",
              "    <tr>\n",
              "      <th>1</th>\n",
              "      <td>14</td>\n",
              "      <td>14</td>\n",
              "    </tr>\n",
              "    <tr>\n",
              "      <th>2</th>\n",
              "      <td>34</td>\n",
              "      <td>3</td>\n",
              "    </tr>\n",
              "    <tr>\n",
              "      <th>3</th>\n",
              "      <td>25</td>\n",
              "      <td>2</td>\n",
              "    </tr>\n",
              "    <tr>\n",
              "      <th>4</th>\n",
              "      <td>23</td>\n",
              "      <td>5</td>\n",
              "    </tr>\n",
              "    <tr>\n",
              "      <th>...</th>\n",
              "      <td>...</td>\n",
              "      <td>...</td>\n",
              "    </tr>\n",
              "    <tr>\n",
              "      <th>839</th>\n",
              "      <td>37</td>\n",
              "      <td>28</td>\n",
              "    </tr>\n",
              "    <tr>\n",
              "      <th>840</th>\n",
              "      <td>16</td>\n",
              "      <td>11</td>\n",
              "    </tr>\n",
              "    <tr>\n",
              "      <th>841</th>\n",
              "      <td>12</td>\n",
              "      <td>0</td>\n",
              "    </tr>\n",
              "    <tr>\n",
              "      <th>842</th>\n",
              "      <td>31</td>\n",
              "      <td>12</td>\n",
              "    </tr>\n",
              "    <tr>\n",
              "      <th>843</th>\n",
              "      <td>21</td>\n",
              "      <td>0</td>\n",
              "    </tr>\n",
              "  </tbody>\n",
              "</table>\n",
              "<p>844 rows × 2 columns</p>\n",
              "</div>\n",
              "      <button class=\"colab-df-convert\" onclick=\"convertToInteractive('df-7103b59d-4161-4f74-8a33-0ae6666afcad')\"\n",
              "              title=\"Convert this dataframe to an interactive table.\"\n",
              "              style=\"display:none;\">\n",
              "        \n",
              "  <svg xmlns=\"http://www.w3.org/2000/svg\" height=\"24px\"viewBox=\"0 0 24 24\"\n",
              "       width=\"24px\">\n",
              "    <path d=\"M0 0h24v24H0V0z\" fill=\"none\"/>\n",
              "    <path d=\"M18.56 5.44l.94 2.06.94-2.06 2.06-.94-2.06-.94-.94-2.06-.94 2.06-2.06.94zm-11 1L8.5 8.5l.94-2.06 2.06-.94-2.06-.94L8.5 2.5l-.94 2.06-2.06.94zm10 10l.94 2.06.94-2.06 2.06-.94-2.06-.94-.94-2.06-.94 2.06-2.06.94z\"/><path d=\"M17.41 7.96l-1.37-1.37c-.4-.4-.92-.59-1.43-.59-.52 0-1.04.2-1.43.59L10.3 9.45l-7.72 7.72c-.78.78-.78 2.05 0 2.83L4 21.41c.39.39.9.59 1.41.59.51 0 1.02-.2 1.41-.59l7.78-7.78 2.81-2.81c.8-.78.8-2.07 0-2.86zM5.41 20L4 18.59l7.72-7.72 1.47 1.35L5.41 20z\"/>\n",
              "  </svg>\n",
              "      </button>\n",
              "      \n",
              "  <style>\n",
              "    .colab-df-container {\n",
              "      display:flex;\n",
              "      flex-wrap:wrap;\n",
              "      gap: 12px;\n",
              "    }\n",
              "\n",
              "    .colab-df-convert {\n",
              "      background-color: #E8F0FE;\n",
              "      border: none;\n",
              "      border-radius: 50%;\n",
              "      cursor: pointer;\n",
              "      display: none;\n",
              "      fill: #1967D2;\n",
              "      height: 32px;\n",
              "      padding: 0 0 0 0;\n",
              "      width: 32px;\n",
              "    }\n",
              "\n",
              "    .colab-df-convert:hover {\n",
              "      background-color: #E2EBFA;\n",
              "      box-shadow: 0px 1px 2px rgba(60, 64, 67, 0.3), 0px 1px 3px 1px rgba(60, 64, 67, 0.15);\n",
              "      fill: #174EA6;\n",
              "    }\n",
              "\n",
              "    [theme=dark] .colab-df-convert {\n",
              "      background-color: #3B4455;\n",
              "      fill: #D2E3FC;\n",
              "    }\n",
              "\n",
              "    [theme=dark] .colab-df-convert:hover {\n",
              "      background-color: #434B5C;\n",
              "      box-shadow: 0px 1px 3px 1px rgba(0, 0, 0, 0.15);\n",
              "      filter: drop-shadow(0px 1px 2px rgba(0, 0, 0, 0.3));\n",
              "      fill: #FFFFFF;\n",
              "    }\n",
              "  </style>\n",
              "\n",
              "      <script>\n",
              "        const buttonEl =\n",
              "          document.querySelector('#df-7103b59d-4161-4f74-8a33-0ae6666afcad button.colab-df-convert');\n",
              "        buttonEl.style.display =\n",
              "          google.colab.kernel.accessAllowed ? 'block' : 'none';\n",
              "\n",
              "        async function convertToInteractive(key) {\n",
              "          const element = document.querySelector('#df-7103b59d-4161-4f74-8a33-0ae6666afcad');\n",
              "          const dataTable =\n",
              "            await google.colab.kernel.invokeFunction('convertToInteractive',\n",
              "                                                     [key], {});\n",
              "          if (!dataTable) return;\n",
              "\n",
              "          const docLinkHtml = 'Like what you see? Visit the ' +\n",
              "            '<a target=\"_blank\" href=https://colab.research.google.com/notebooks/data_table.ipynb>data table notebook</a>'\n",
              "            + ' to learn more about interactive tables.';\n",
              "          element.innerHTML = '';\n",
              "          dataTable['output_type'] = 'display_data';\n",
              "          await google.colab.output.renderOutput(dataTable, element);\n",
              "          const docLink = document.createElement('div');\n",
              "          docLink.innerHTML = docLinkHtml;\n",
              "          element.appendChild(docLink);\n",
              "        }\n",
              "      </script>\n",
              "    </div>\n",
              "  </div>\n",
              "  "
            ]
          },
          "metadata": {},
          "execution_count": 5
        }
      ]
    },
    {
      "cell_type": "code",
      "source": [
        "nodes['n'].value_counts()"
      ],
      "metadata": {
        "colab": {
          "base_uri": "https://localhost:8080/"
        },
        "id": "RNP0BHbdFuvG",
        "outputId": "5709eae3-59fc-4b1c-a014-2d3d60147c8e"
      },
      "execution_count": 6,
      "outputs": [
        {
          "output_type": "execute_result",
          "data": {
            "text/plain": [
              "17    44\n",
              "14    43\n",
              "16    41\n",
              "20    38\n",
              "13    36\n",
              "12    35\n",
              "18    32\n",
              "11    29\n",
              "22    28\n",
              "21    28\n",
              "15    26\n",
              "3     25\n",
              "7     25\n",
              "25    24\n",
              "19    24\n",
              "10    23\n",
              "8     23\n",
              "24    21\n",
              "6     20\n",
              "23    17\n",
              "9     17\n",
              "5     17\n",
              "28    17\n",
              "4     16\n",
              "29    16\n",
              "34    14\n",
              "26    13\n",
              "32    13\n",
              "33    12\n",
              "35    12\n",
              "27    12\n",
              "2     11\n",
              "38    10\n",
              "40    10\n",
              "31     8\n",
              "1      8\n",
              "36     6\n",
              "39     6\n",
              "37     6\n",
              "30     5\n",
              "54     4\n",
              "41     4\n",
              "42     3\n",
              "44     3\n",
              "50     3\n",
              "49     3\n",
              "48     2\n",
              "55     1\n",
              "47     1\n",
              "56     1\n",
              "51     1\n",
              "43     1\n",
              "60     1\n",
              "69     1\n",
              "63     1\n",
              "67     1\n",
              "45     1\n",
              "61     1\n",
              "Name: n, dtype: int64"
            ]
          },
          "metadata": {},
          "execution_count": 6
        }
      ]
    },
    {
      "cell_type": "code",
      "source": [
        "nodes['x'].value_counts()"
      ],
      "metadata": {
        "colab": {
          "base_uri": "https://localhost:8080/"
        },
        "id": "MCq6uO1M_oE4",
        "outputId": "c389203e-9e76-4f5f-cff8-3288144b69d3"
      },
      "execution_count": 7,
      "outputs": [
        {
          "output_type": "execute_result",
          "data": {
            "text/plain": [
              "0     322\n",
              "1      83\n",
              "2      73\n",
              "3      53\n",
              "4      41\n",
              "5      38\n",
              "7      29\n",
              "9      25\n",
              "6      20\n",
              "11     19\n",
              "8      19\n",
              "10     12\n",
              "12     12\n",
              "13     11\n",
              "15     11\n",
              "14     10\n",
              "16      8\n",
              "17      7\n",
              "20      7\n",
              "19      7\n",
              "24      5\n",
              "25      4\n",
              "23      4\n",
              "18      4\n",
              "21      4\n",
              "29      3\n",
              "28      2\n",
              "32      2\n",
              "26      2\n",
              "22      1\n",
              "27      1\n",
              "34      1\n",
              "69      1\n",
              "36      1\n",
              "31      1\n",
              "40      1\n",
              "Name: x, dtype: int64"
            ]
          },
          "metadata": {},
          "execution_count": 7
        }
      ]
    },
    {
      "cell_type": "code",
      "source": [
        "nodes['p'] = nodes['x']/nodes['n']"
      ],
      "metadata": {
        "id": "im0SrGRr_-5j"
      },
      "execution_count": 8,
      "outputs": []
    },
    {
      "cell_type": "markdown",
      "source": [
        "## 図6.3"
      ],
      "metadata": {
        "id": "Aup6s3kJfU9v"
      }
    },
    {
      "cell_type": "code",
      "source": [
        "plt.figure(figsize=(9,6))\n",
        "plt.hist(nodes['p'],bins=35)\n",
        "plt.xlabel('p=x/n')\n",
        "plt.ylabel('度数')"
      ],
      "metadata": {
        "colab": {
          "base_uri": "https://localhost:8080/",
          "height": 404
        },
        "id": "a-Q3KV7I6Fc-",
        "outputId": "6e454bea-7a3c-4a4f-bac6-ad00a8e23c83"
      },
      "execution_count": 9,
      "outputs": [
        {
          "output_type": "execute_result",
          "data": {
            "text/plain": [
              "Text(0, 0.5, '度数')"
            ]
          },
          "metadata": {},
          "execution_count": 9
        },
        {
          "output_type": "display_data",
          "data": {
            "text/plain": [
              "<Figure size 648x432 with 1 Axes>"
            ],
            "image/png": "[encoded data removed]"
          },
          "metadata": {
            "needs_background": "light"
          }
        }
      ]
    },
    {
      "cell_type": "code",
      "source": [
        "plt.figure(figsize=(9,6))\n",
        "plt.hist(nodes['p'],bins=35)\n",
        "plt.xlabel('p=x/n')\n",
        "plt.ylabel('度数')\n",
        "plt.ylim(0,100)"
      ],
      "metadata": {
        "colab": {
          "base_uri": "https://localhost:8080/",
          "height": 408
        },
        "id": "h_Jr649aCcHN",
        "outputId": "9074ee16-8cd1-4bee-eff8-a5b2a0cd3be7"
      },
      "execution_count": 30,
      "outputs": [
        {
          "output_type": "execute_result",
          "data": {
            "text/plain": [
              "(0.0, 100.0)"
            ]
          },
          "metadata": {},
          "execution_count": 30
        },
        {
          "output_type": "display_data",
          "data": {
            "text/plain": [
              "<Figure size 648x432 with 1 Axes>"
            ],
            "image/png": "[encoded data removed]"
          },
          "metadata": {
            "needs_background": "light"
          }
        }
      ]
    },
    {
      "cell_type": "markdown",
      "source": [
        "## 図6.4"
      ],
      "metadata": {
        "id": "ccpqx0GsfZHn"
      }
    },
    {
      "cell_type": "markdown",
      "source": [
        "$ \\log  g_{\\alpha} (\\theta) = a_0 + ∑_{j=1}^4 \\alpha_j \\theta^j   $\n",
        "\n",
        "ただし、$∫_0^1 g_{\\alpha} (\\theta)d\\theta = 1$を満たす。\n",
        "\n",
        "$f_{\\alpha} (x_k) = ∫_0^1 \\binom{n_k}{x_k}\\theta^{x_k}(1-\\theta)^{n_k-x_k} g_{\\alpha} (\\theta) d\\theta$\n",
        "\n",
        "$\\hat{\\alpha} = argmax_{\\alpha} \\{∑_{k=1}^N \\log f_{\\alpha} (x_k)  \\}   $"
      ],
      "metadata": {
        "id": "rAs6TVbvInot"
      }
    },
    {
      "cell_type": "code",
      "source": [
        "def log_g_alpha(alpha, theta):\n",
        "    a0 = alpha[0]\n",
        "    return a0 + np.sum([alpha[j] * theta ** j for j in range(1, 5)])\n",
        "\n",
        "def f_alpha(alpha, xk, nk):\n",
        "    result, error = quad(lambda theta: binom(nk, xk) * (theta ** xk) * ((1 - theta) ** (nk - xk)) * np.exp(log_g_alpha(alpha, theta)), 0, 1)\n",
        "    return result\n",
        "\n",
        "def objective_function(alpha, xk, nk):\n",
        "    return -np.sum([np.log(f_alpha(alpha, xk[i], nk[i])) for i in range(len(xk))])\n",
        "\n",
        "def g_alpha_constraint(alpha):\n",
        "    result, error = quad(lambda theta: np.exp(log_g_alpha(alpha, theta)), 0, 1)\n",
        "    return result - 1\n",
        "\n",
        "def optimize_alpha(xk, nk):\n",
        "    initial_alpha = np.zeros(5)\n",
        "    result = minimize(fun=objective_function, x0=initial_alpha, args=(xk, nk), constraints=[{\"type\": \"eq\", \"fun\": g_alpha_constraint}], method='SLSQP')\n",
        "    return result.x"
      ],
      "metadata": {
        "id": "wjO-BFDxXc0Q"
      },
      "execution_count": 10,
      "outputs": []
    },
    {
      "cell_type": "code",
      "source": [
        "xk = np.array(nodes['x'])\n",
        "nk = np.array(nodes['n'])"
      ],
      "metadata": {
        "id": "cSxbfq1xHFqY"
      },
      "execution_count": 17,
      "outputs": []
    },
    {
      "cell_type": "code",
      "source": [
        "len(xk)"
      ],
      "metadata": {
        "colab": {
          "base_uri": "https://localhost:8080/"
        },
        "id": "vvUbo5cPmJv7",
        "outputId": "66656667-dde8-4fa1-93fa-1bc0ad63b50d"
      },
      "execution_count": 18,
      "outputs": [
        {
          "output_type": "execute_result",
          "data": {
            "text/plain": [
              "844"
            ]
          },
          "metadata": {},
          "execution_count": 18
        }
      ]
    },
    {
      "cell_type": "code",
      "source": [
        "alpha_hat = optimize_alpha(xk, nk)"
      ],
      "metadata": {
        "id": "5xHuWqF4IZBy"
      },
      "execution_count": 21,
      "outputs": []
    },
    {
      "cell_type": "code",
      "source": [
        "alpha_all = []\n",
        "for i in range(10):\n",
        "  x = xk[i*80:(i+1)*80]\n",
        "  n = nk[i*80:(i+1)*80]\n",
        "  alpha = optimize_alpha(x, n)\n",
        "  print('i={}'.format(i),alpha)\n",
        "  alpha_all.append(alpha)"
      ],
      "metadata": {
        "colab": {
          "base_uri": "https://localhost:8080/"
        },
        "id": "NyancvtLnTEA",
        "outputId": "013b133a-c2a4-4bb2-a1cf-305279688abb"
      },
      "execution_count": 20,
      "outputs": [
        {
          "output_type": "stream",
          "name": "stdout",
          "text": [
            "i=0 [   3.00181401  -43.71946607  189.45640487 -314.54281555  166.75552991]\n",
            "i=1 [   2.94718377  -40.26269037  156.14496389 -230.63456602  109.79337696]\n",
            "i=2 [   2.84595401  -42.98169663  183.5913365  -296.01515885  153.86252373]\n",
            "i=3 [   3.14230466  -40.76029279  140.55477215 -188.29188435   82.50207876]\n",
            "i=4 [   2.94553896  -44.03877375  167.17075047 -239.43786488  113.62022075]\n",
            "i=5 [   2.80944619  -44.31664892  193.49185454 -310.09816453  158.4584345 ]\n",
            "i=6 [   2.64048653  -37.00894461  159.91406004 -261.12069347  135.7629798 ]\n",
            "i=7 [   2.49271482  -29.64107634   98.35240722 -122.99310533   48.89118506]\n",
            "i=8 [   2.76652528  -35.8147292   135.290196   -200.02245212   97.49036094]\n",
            "i=9 [   2.66880727  -34.1549463   124.37527147 -180.78351172   88.56011424]\n"
          ]
        }
      ]
    },
    {
      "cell_type": "markdown",
      "source": [
        "実行時間4分36秒"
      ],
      "metadata": {
        "id": "0UDdeZzdwuze"
      }
    },
    {
      "cell_type": "code",
      "source": [
        "theta = np.linspace(0,1,50)\n",
        "g_all = []\n",
        "for alpha in alpha_all:\n",
        "  y = np.array([np.exp(log_g_alpha(alpha,theta[i])) for i in range(len(theta))])\n",
        "  g_all.append(y)\n",
        "\n",
        "g_sd = np.std(g_all,axis=0, ddof=1) / np.sqrt(len(theta))"
      ],
      "metadata": {
        "id": "6G9iBXt29LGB"
      },
      "execution_count": 22,
      "outputs": []
    },
    {
      "cell_type": "code",
      "source": [
        "plt.figure(figsize=(8,6))\n",
        "theta = np.linspace(0,1,50)\n",
        "y = np.array([np.exp(log_g_alpha(alpha_hat,theta[i])) for i in range(len(theta))])\n",
        "plt.plot(theta,y,color='orange',linewidth=3)\n",
        "plt.errorbar(theta, y, yerr = g_sd , capsize=1,color='black',linewidth=0.2)\n",
        "plt.xlabel('θ',fontsize=16)\n",
        "plt.ylabel('g(θ)',fontsize=16)"
      ],
      "metadata": {
        "colab": {
          "base_uri": "https://localhost:8080/",
          "height": 411
        },
        "id": "W6zuYYbW_edV",
        "outputId": "2935bbfe-2a35-4285-fa82-b8c89e088966"
      },
      "execution_count": 23,
      "outputs": [
        {
          "output_type": "execute_result",
          "data": {
            "text/plain": [
              "Text(0, 0.5, 'g(θ)')"
            ]
          },
          "metadata": {},
          "execution_count": 23
        },
        {
          "output_type": "display_data",
          "data": {
            "text/plain": [
              "<Figure size 576x432 with 1 Axes>"
            ],
            "image/png": "[encoded data removed]"
          },
          "metadata": {
            "needs_background": "light"
          }
        }
      ]
    },
    {
      "cell_type": "markdown",
      "source": [
        "4分40秒"
      ],
      "metadata": {
        "id": "_pEoqOdS0hRu"
      }
    },
    {
      "cell_type": "code",
      "source": [
        "alpha_hat"
      ],
      "metadata": {
        "colab": {
          "base_uri": "https://localhost:8080/"
        },
        "id": "hR_yJUHA0sG8",
        "outputId": "a1e67850-f5fb-4fd4-9b3d-f6ead0a0edd3"
      },
      "execution_count": 24,
      "outputs": [
        {
          "output_type": "execute_result",
          "data": {
            "text/plain": [
              "array([   2.83398156,  -39.03978325,  153.0063604 , -231.08071121,\n",
              "        114.44024289])"
            ]
          },
          "metadata": {},
          "execution_count": 24
        }
      ]
    },
    {
      "cell_type": "code",
      "source": [
        "theta = np.linspace(0,1,100)\n",
        "y = np.array([np.exp(log_g_alpha(alpha_hat,theta[i])) for i in range(len(theta))])\n",
        "plt.plot(theta,y)\n",
        "plt.xlabel('θ',fontsize=16)\n",
        "plt.ylabel('g(θ)',fontsize=16)"
      ],
      "metadata": {
        "colab": {
          "base_uri": "https://localhost:8080/",
          "height": 302
        },
        "id": "pTxzNqcHf3Fl",
        "outputId": "e15eccb5-0704-41a8-f2b7-5b5b09a97f06"
      },
      "execution_count": 63,
      "outputs": [
        {
          "output_type": "execute_result",
          "data": {
            "text/plain": [
              "Text(0, 0.5, 'g(θ)')"
            ]
          },
          "metadata": {},
          "execution_count": 63
        },
        {
          "output_type": "display_data",
          "data": {
            "text/plain": [
              "<Figure size 432x288 with 1 Axes>"
            ],
            "image/png": "[encoded data removed]"
          },
          "metadata": {
            "needs_background": "light"
          }
        }
      ]
    },
    {
      "cell_type": "code",
      "source": [
        "alpha_boot=[]\n",
        "for i in range(10):\n",
        "  nodes_sample =  nodes.sample(n=nodes.shape[0], replace=True)\n",
        "  x = np.array(nodes_sample['x'])\n",
        "  n = np.array(nodes_sample['n'])\n",
        "  alpha = optimize_alpha(x, n)\n",
        "  print('i={}'.format(i),alpha)\n",
        "  alpha_boot.append(alpha)"
      ],
      "metadata": {
        "colab": {
          "base_uri": "https://localhost:8080/"
        },
        "id": "9KUP00GOgCez",
        "outputId": "a402bd92-2671-43d6-e9a3-60c5a1d967e7"
      },
      "execution_count": 25,
      "outputs": [
        {
          "output_type": "stream",
          "name": "stdout",
          "text": [
            "i=0 [   2.85450003  -38.65428772  147.0280219  -217.60381712  106.59501905]\n",
            "i=1 [   2.78918961  -38.96129806  156.69554717 -241.05484251  120.7648339 ]\n",
            "i=2 [   2.81117215  -38.320101    151.84245178 -232.14804761  115.87806684]\n",
            "i=3 [   2.83275545  -38.73414215  149.85006725 -222.77763555  108.56109029]\n",
            "i=4 [   2.82101884  -39.40443278  154.38385112 -231.58171622  113.90000823]\n",
            "i=5 [   2.99977606  -44.82578877  184.40042914 -287.1545869   145.1927595 ]\n",
            "i=6 [   2.7693177   -38.85709172  150.64507963 -223.0387438   108.66694878]\n",
            "i=7 [   2.98915765  -45.23373244  186.40245913 -289.34709968  145.80262536]\n",
            "i=8 [   2.92297525  -42.69063091  171.18627008 -260.20427157  129.06084281]\n",
            "i=9 [   2.82528985  -40.64993404  164.11835889 -250.95244364  124.82379485]\n"
          ]
        }
      ]
    },
    {
      "cell_type": "code",
      "source": [
        "theta = np.linspace(0,1,50)\n",
        "g_boot = []\n",
        "for alpha in alpha_boot:\n",
        "  y = np.array([np.exp(log_g_alpha(alpha,theta[i])) for i in range(len(theta))])\n",
        "  g_boot.append(y)\n",
        "\n",
        "g_boot_sd = np.std(g_boot,axis=0, ddof=1) "
      ],
      "metadata": {
        "id": "cNieuLJKD-BP"
      },
      "execution_count": 28,
      "outputs": []
    },
    {
      "cell_type": "code",
      "source": [
        "plt.figure(figsize=(8,6))\n",
        "theta = np.linspace(0,1,50)\n",
        "y = np.array([np.exp(log_g_alpha(alpha_hat,theta[i])) for i in range(len(theta))])\n",
        "plt.plot(theta,y,color='orange',linewidth=3)\n",
        "plt.errorbar(theta, y, yerr = g_boot_sd , capsize=1,color='black',linewidth=0.2)\n",
        "plt.xlabel('θ',fontsize=16)\n",
        "plt.ylabel('g(θ)',fontsize=16)"
      ],
      "metadata": {
        "colab": {
          "base_uri": "https://localhost:8080/",
          "height": 411
        },
        "id": "Kc3gzOknEwfN",
        "outputId": "aea90ffb-8031-4cfd-da1f-9df62b325a8e"
      },
      "execution_count": 29,
      "outputs": [
        {
          "output_type": "execute_result",
          "data": {
            "text/plain": [
              "Text(0, 0.5, 'g(θ)')"
            ]
          },
          "metadata": {},
          "execution_count": 29
        },
        {
          "output_type": "display_data",
          "data": {
            "text/plain": [
              "<Figure size 576x432 with 1 Axes>"
            ],
            "image/png": "[encoded data removed]"
          },
          "metadata": {
            "needs_background": "light"
          }
        }
      ]
    },
    {
      "cell_type": "markdown",
      "source": [
        "## (6.42)"
      ],
      "metadata": {
        "id": "sDpFNQyn7mz-"
      }
    },
    {
      "cell_type": "code",
      "source": [
        "result, error = quad(lambda theta: np.exp(log_g_alpha(alpha_hat, theta)), 0, 0.01)\n",
        "print('Pr{θk ≤ 0.01} = ',result)"
      ],
      "metadata": {
        "colab": {
          "base_uri": "https://localhost:8080/"
        },
        "id": "PVlxom0p8vFh",
        "outputId": "70f7c251-0f1f-468b-bdf2-f12df2c1d7db"
      },
      "execution_count": 75,
      "outputs": [
        {
          "output_type": "stream",
          "name": "stdout",
          "text": [
            "Pr{θk ≤ 0.01} =  0.14149705091177717\n"
          ]
        }
      ]
    },
    {
      "cell_type": "code",
      "source": [
        "result, error = quad(lambda theta: np.exp(log_g_alpha(alpha_hat, theta)), 0, 0.2)\n",
        "print('Pr{θk ≤ 0.2} = ',result)"
      ],
      "metadata": {
        "colab": {
          "base_uri": "https://localhost:8080/"
        },
        "id": "T-WRoRjQ7pn8",
        "outputId": "41ad591b-c447-4997-adc7-fe4e924ad340"
      },
      "execution_count": 71,
      "outputs": [
        {
          "output_type": "stream",
          "name": "stdout",
          "text": [
            "Pr{θk ≤ 0.2} =  0.5866549522988117\n"
          ]
        }
      ]
    },
    {
      "cell_type": "code",
      "source": [
        "result, error = quad(lambda theta: np.exp(log_g_alpha(alpha_hat, theta)), 0.8,1.00)\n",
        "print('Pr{0.8 ≤ θk ≤ 1} = ',result)"
      ],
      "metadata": {
        "colab": {
          "base_uri": "https://localhost:8080/"
        },
        "id": "H3FeH0Qp8bzs",
        "outputId": "313640ec-8126-4c49-bae0-f3a6af786b35"
      },
      "execution_count": 74,
      "outputs": [
        {
          "output_type": "stream",
          "name": "stdout",
          "text": [
            "Pr{0.8 ≤ θk ≤ 1} =  0.05849703947824276\n"
          ]
        }
      ]
    },
    {
      "cell_type": "markdown",
      "source": [
        "## 図6.5"
      ],
      "metadata": {
        "id": "mQpHDYm9feG6"
      }
    },
    {
      "cell_type": "code",
      "source": [
        "def g_theta(theta,xk,nk,alpha_hat):\n",
        "  return binom(nk, xk) * (theta ** xk) * ((1 - theta) ** (nk - xk)) * np.exp(log_g_alpha(alpha_hat, theta))/f_alpha(alpha_hat,xk,nk)"
      ],
      "metadata": {
        "id": "RYG4p7BK8ENq"
      },
      "execution_count": 64,
      "outputs": []
    },
    {
      "cell_type": "code",
      "source": [
        "theta = np.linspace(0,1,100)\n",
        "y1 = g_theta(theta,7,32,alpha_hat)\n",
        "y2 = g_theta(theta,3,6,alpha_hat)\n",
        "y3 = g_theta(theta,17,18,alpha_hat)\n",
        "\n",
        "plt.plot(theta,y1,label='x=7,n=32',color ='red')\n",
        "plt.plot(theta,y2,label='x=3,n=6',color ='blue')\n",
        "plt.plot(theta,y3,label='x=17,n=18',color ='green')\n",
        "plt.xlabel('θ',fontsize=16)\n",
        "plt.ylabel('g(θ|x,n)',fontsize=16)\n",
        "plt.legend()"
      ],
      "metadata": {
        "colab": {
          "base_uri": "https://localhost:8080/",
          "height": 312
        },
        "id": "7-eASD5q5QEi",
        "outputId": "28c78a60-7fc1-42ef-bd58-f86b03aee871"
      },
      "execution_count": 68,
      "outputs": [
        {
          "output_type": "execute_result",
          "data": {
            "text/plain": [
              "<matplotlib.legend.Legend at 0x7f3c97244610>"
            ]
          },
          "metadata": {},
          "execution_count": 68
        },
        {
          "output_type": "display_data",
          "data": {
            "text/plain": [
              "<Figure size 432x288 with 1 Axes>"
            ],
            "image/png": "[encoded data removed]"
          },
          "metadata": {
            "needs_background": "light"
          }
        }
      ]
    },
    {
      "cell_type": "code",
      "source": [],
      "metadata": {
        "id": "jegphmYw5o7j"
      },
      "execution_count": null,
      "outputs": []
    }
  ]
}
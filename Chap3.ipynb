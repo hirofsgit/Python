{
  "cells": [
    {
      "cell_type": "markdown",
      "metadata": {
        "id": "mVXs6esYw18y"
      },
      "source": [
        "#設定"
      ]
    },
    {
      "cell_type": "code",
      "source": [
        "!pip install japanize-matplotlib"
      ],
      "metadata": {
        "id": "DUAheqinU8l3"
      },
      "execution_count": null,
      "outputs": []
    },
    {
      "cell_type": "code",
      "execution_count": 27,
      "metadata": {
        "id": "MuWXqb6Yw18z"
      },
      "outputs": [],
      "source": [
        "import mpmath\n",
        "from matplotlib import rc\n",
        "import numpy as np\n",
        "import matplotlib.pyplot as plt\n",
        "%matplotlib inline\n",
        "import japanize_matplotlib\n",
        "import scipy\n",
        "from scipy import stats\n",
        "import copy\n",
        "import pandas as pd\n",
        "from sklearn.preprocessing import StandardScaler\n",
        "import warnings\n",
        "warnings.filterwarnings('ignore')\n",
        "from scipy.stats import norm"
      ]
    },
    {
      "cell_type": "markdown",
      "metadata": {
        "id": "Hrj8c73ww18z"
      },
      "source": [
        "# 3.1"
      ]
    },
    {
      "cell_type": "code",
      "execution_count": 3,
      "metadata": {
        "id": "-4akWTpPw180"
      },
      "outputs": [],
      "source": [
        "scores = pd.read_csv(\"/content/student_score.txt\", delimiter=\" \")"
      ]
    },
    {
      "cell_type": "markdown",
      "source": [
        "## 表3.1"
      ],
      "metadata": {
        "id": "3RPcG9yAXQ58"
      }
    },
    {
      "cell_type": "code",
      "execution_count": 4,
      "metadata": {
        "id": "HotyCITAw180",
        "outputId": "c19ee19e-6eaa-4a32-9a1c-c0d7a238ac0a",
        "colab": {
          "base_uri": "https://localhost:8080/",
          "height": 394
        }
      },
      "outputs": [
        {
          "output_type": "execute_result",
          "data": {
            "text/plain": [
              "    mech  vecs  alg  analy  stat\n",
              "0      7    51   43     17    22\n",
              "1     44    69   53     53    53\n",
              "2     49    41   61     49    64\n",
              "3     59    70   68     62    56\n",
              "4     34    42   50     47    29\n",
              "5     46    40   47     29    17\n",
              "6      0    40   21      9    14\n",
              "7     32    45   49     57    64\n",
              "8     49    57   47     39    26\n",
              "9     52    64   60     63    54\n",
              "10    44    61   52     62    46"
            ],
            "text/html": [
              "\n",
              "  <div id=\"df-c508a8e4-3541-4f8b-b0f6-dcb7b5abd0c5\">\n",
              "    <div class=\"colab-df-container\">\n",
              "      <div>\n",
              "<style scoped>\n",
              "    .dataframe tbody tr th:only-of-type {\n",
              "        vertical-align: middle;\n",
              "    }\n",
              "\n",
              "    .dataframe tbody tr th {\n",
              "        vertical-align: top;\n",
              "    }\n",
              "\n",
              "    .dataframe thead th {\n",
              "        text-align: right;\n",
              "    }\n",
              "</style>\n",
              "<table border=\"1\" class=\"dataframe\">\n",
              "  <thead>\n",
              "    <tr style=\"text-align: right;\">\n",
              "      <th></th>\n",
              "      <th>mech</th>\n",
              "      <th>vecs</th>\n",
              "      <th>alg</th>\n",
              "      <th>analy</th>\n",
              "      <th>stat</th>\n",
              "    </tr>\n",
              "  </thead>\n",
              "  <tbody>\n",
              "    <tr>\n",
              "      <th>0</th>\n",
              "      <td>7</td>\n",
              "      <td>51</td>\n",
              "      <td>43</td>\n",
              "      <td>17</td>\n",
              "      <td>22</td>\n",
              "    </tr>\n",
              "    <tr>\n",
              "      <th>1</th>\n",
              "      <td>44</td>\n",
              "      <td>69</td>\n",
              "      <td>53</td>\n",
              "      <td>53</td>\n",
              "      <td>53</td>\n",
              "    </tr>\n",
              "    <tr>\n",
              "      <th>2</th>\n",
              "      <td>49</td>\n",
              "      <td>41</td>\n",
              "      <td>61</td>\n",
              "      <td>49</td>\n",
              "      <td>64</td>\n",
              "    </tr>\n",
              "    <tr>\n",
              "      <th>3</th>\n",
              "      <td>59</td>\n",
              "      <td>70</td>\n",
              "      <td>68</td>\n",
              "      <td>62</td>\n",
              "      <td>56</td>\n",
              "    </tr>\n",
              "    <tr>\n",
              "      <th>4</th>\n",
              "      <td>34</td>\n",
              "      <td>42</td>\n",
              "      <td>50</td>\n",
              "      <td>47</td>\n",
              "      <td>29</td>\n",
              "    </tr>\n",
              "    <tr>\n",
              "      <th>5</th>\n",
              "      <td>46</td>\n",
              "      <td>40</td>\n",
              "      <td>47</td>\n",
              "      <td>29</td>\n",
              "      <td>17</td>\n",
              "    </tr>\n",
              "    <tr>\n",
              "      <th>6</th>\n",
              "      <td>0</td>\n",
              "      <td>40</td>\n",
              "      <td>21</td>\n",
              "      <td>9</td>\n",
              "      <td>14</td>\n",
              "    </tr>\n",
              "    <tr>\n",
              "      <th>7</th>\n",
              "      <td>32</td>\n",
              "      <td>45</td>\n",
              "      <td>49</td>\n",
              "      <td>57</td>\n",
              "      <td>64</td>\n",
              "    </tr>\n",
              "    <tr>\n",
              "      <th>8</th>\n",
              "      <td>49</td>\n",
              "      <td>57</td>\n",
              "      <td>47</td>\n",
              "      <td>39</td>\n",
              "      <td>26</td>\n",
              "    </tr>\n",
              "    <tr>\n",
              "      <th>9</th>\n",
              "      <td>52</td>\n",
              "      <td>64</td>\n",
              "      <td>60</td>\n",
              "      <td>63</td>\n",
              "      <td>54</td>\n",
              "    </tr>\n",
              "    <tr>\n",
              "      <th>10</th>\n",
              "      <td>44</td>\n",
              "      <td>61</td>\n",
              "      <td>52</td>\n",
              "      <td>62</td>\n",
              "      <td>46</td>\n",
              "    </tr>\n",
              "  </tbody>\n",
              "</table>\n",
              "</div>\n",
              "      <button class=\"colab-df-convert\" onclick=\"convertToInteractive('df-c508a8e4-3541-4f8b-b0f6-dcb7b5abd0c5')\"\n",
              "              title=\"Convert this dataframe to an interactive table.\"\n",
              "              style=\"display:none;\">\n",
              "        \n",
              "  <svg xmlns=\"http://www.w3.org/2000/svg\" height=\"24px\"viewBox=\"0 0 24 24\"\n",
              "       width=\"24px\">\n",
              "    <path d=\"M0 0h24v24H0V0z\" fill=\"none\"/>\n",
              "    <path d=\"M18.56 5.44l.94 2.06.94-2.06 2.06-.94-2.06-.94-.94-2.06-.94 2.06-2.06.94zm-11 1L8.5 8.5l.94-2.06 2.06-.94-2.06-.94L8.5 2.5l-.94 2.06-2.06.94zm10 10l.94 2.06.94-2.06 2.06-.94-2.06-.94-.94-2.06-.94 2.06-2.06.94z\"/><path d=\"M17.41 7.96l-1.37-1.37c-.4-.4-.92-.59-1.43-.59-.52 0-1.04.2-1.43.59L10.3 9.45l-7.72 7.72c-.78.78-.78 2.05 0 2.83L4 21.41c.39.39.9.59 1.41.59.51 0 1.02-.2 1.41-.59l7.78-7.78 2.81-2.81c.8-.78.8-2.07 0-2.86zM5.41 20L4 18.59l7.72-7.72 1.47 1.35L5.41 20z\"/>\n",
              "  </svg>\n",
              "      </button>\n",
              "      \n",
              "  <style>\n",
              "    .colab-df-container {\n",
              "      display:flex;\n",
              "      flex-wrap:wrap;\n",
              "      gap: 12px;\n",
              "    }\n",
              "\n",
              "    .colab-df-convert {\n",
              "      background-color: #E8F0FE;\n",
              "      border: none;\n",
              "      border-radius: 50%;\n",
              "      cursor: pointer;\n",
              "      display: none;\n",
              "      fill: #1967D2;\n",
              "      height: 32px;\n",
              "      padding: 0 0 0 0;\n",
              "      width: 32px;\n",
              "    }\n",
              "\n",
              "    .colab-df-convert:hover {\n",
              "      background-color: #E2EBFA;\n",
              "      box-shadow: 0px 1px 2px rgba(60, 64, 67, 0.3), 0px 1px 3px 1px rgba(60, 64, 67, 0.15);\n",
              "      fill: #174EA6;\n",
              "    }\n",
              "\n",
              "    [theme=dark] .colab-df-convert {\n",
              "      background-color: #3B4455;\n",
              "      fill: #D2E3FC;\n",
              "    }\n",
              "\n",
              "    [theme=dark] .colab-df-convert:hover {\n",
              "      background-color: #434B5C;\n",
              "      box-shadow: 0px 1px 3px 1px rgba(0, 0, 0, 0.15);\n",
              "      filter: drop-shadow(0px 1px 2px rgba(0, 0, 0, 0.3));\n",
              "      fill: #FFFFFF;\n",
              "    }\n",
              "  </style>\n",
              "\n",
              "      <script>\n",
              "        const buttonEl =\n",
              "          document.querySelector('#df-c508a8e4-3541-4f8b-b0f6-dcb7b5abd0c5 button.colab-df-convert');\n",
              "        buttonEl.style.display =\n",
              "          google.colab.kernel.accessAllowed ? 'block' : 'none';\n",
              "\n",
              "        async function convertToInteractive(key) {\n",
              "          const element = document.querySelector('#df-c508a8e4-3541-4f8b-b0f6-dcb7b5abd0c5');\n",
              "          const dataTable =\n",
              "            await google.colab.kernel.invokeFunction('convertToInteractive',\n",
              "                                                     [key], {});\n",
              "          if (!dataTable) return;\n",
              "\n",
              "          const docLinkHtml = 'Like what you see? Visit the ' +\n",
              "            '<a target=\"_blank\" href=https://colab.research.google.com/notebooks/data_table.ipynb>data table notebook</a>'\n",
              "            + ' to learn more about interactive tables.';\n",
              "          element.innerHTML = '';\n",
              "          dataTable['output_type'] = 'display_data';\n",
              "          await google.colab.output.renderOutput(dataTable, element);\n",
              "          const docLink = document.createElement('div');\n",
              "          docLink.innerHTML = docLinkHtml;\n",
              "          element.appendChild(docLink);\n",
              "        }\n",
              "      </script>\n",
              "    </div>\n",
              "  </div>\n",
              "  "
            ]
          },
          "metadata": {},
          "execution_count": 4
        }
      ],
      "source": [
        "scores.head(11)"
      ]
    },
    {
      "cell_type": "markdown",
      "metadata": {
        "id": "ULjYP_SHw181"
      },
      "source": [
        "## mecanicsとvectorsの標本相関係数"
      ]
    },
    {
      "cell_type": "code",
      "execution_count": 5,
      "metadata": {
        "id": "XJ0_ONa5w181",
        "outputId": "4f263f94-aac2-485a-fa3e-55f479effbe3",
        "colab": {
          "base_uri": "https://localhost:8080/"
        }
      },
      "outputs": [
        {
          "output_type": "stream",
          "name": "stdout",
          "text": [
            "theta_hat = 0.498\n"
          ]
        }
      ],
      "source": [
        "corr = scores.corr()\n",
        "theta_hat = corr.loc[\"mech\", \"vecs\"]\n",
        "print(\"theta_hat = {:>0.3f}\".format(theta_hat))"
      ]
    },
    {
      "cell_type": "markdown",
      "metadata": {
        "id": "kHEc2N0ww182"
      },
      "source": [
        "##図3.2"
      ]
    },
    {
      "cell_type": "markdown",
      "source": [
        "### 図3.2を描くための計算"
      ],
      "metadata": {
        "id": "qpWd_FXIaiK-"
      }
    },
    {
      "cell_type": "markdown",
      "metadata": {
        "id": "k00S3wrAw182"
      },
      "source": [
        "$\n",
        "\\begin{aligned}\n",
        "    f_\\theta(\\hat{\\theta})\n",
        "    &= \\frac{(n - 2)(1 - \\theta^2)^{(n - 1) / 2}(1 - \\hat{\\theta}^2)^{(n - 4)/2}}{\\pi} \\int_0^\\infty \\frac{dw}{(\\cosh w - \\theta \\hat{\\theta})^{n - 1}} \\\\\n",
        "    &= \\frac{20}{\\pi} (1 - \\theta^2)^{10.5}(1 - \\hat{\\theta}^2)^9 \\int_0^\\infty \\frac{dw}{(\\cosh w - \\theta \\hat{\\theta})^{21}}\n",
        "\\end{aligned}\n",
        "$"
      ]
    },
    {
      "cell_type": "markdown",
      "metadata": {
        "id": "PaRRPa2Dw183"
      },
      "source": [
        " $ \\displaystyle g(\\mu | x) = \\frac{ g(\\mu) f_\\mu(x) }{ f(x) }$ , $ \\displaystyle f(x) = \\int_\\Omega f_\\mu(x)g(\\mu) d\\mu $"
      ]
    },
    {
      "cell_type": "markdown",
      "metadata": {
        "id": "oLpCQL9yw183"
      },
      "source": [
        "#### flat prior"
      ]
    },
    {
      "cell_type": "markdown",
      "metadata": {
        "id": "B78-iJlIw183"
      },
      "source": [
        "$ g(\\theta) = \\frac{1}{2}$ for $ -1 \\leq \\theta \\leq 1 $"
      ]
    },
    {
      "cell_type": "markdown",
      "metadata": {
        "id": "snuMQbpqw183"
      },
      "source": [
        "$\n",
        "\\begin{aligned}\n",
        "f(\\hat{\\theta})\n",
        "&= \\int_{-1}^1 \\frac{10}{\\pi} (1 - \\theta^2)^{10.5}(1 - \\hat{\\theta}^2)^9 \\int_0^\\infty \\frac{dw}{(\\cosh w - \\theta \\hat{\\theta})^{21}} d\\theta \\\\\n",
        "&= \\int_{-1}^1 \\int_0^\\infty \\frac{10 (1 - \\theta^2)^{10.5}(1 - \\hat{\\theta}^2)^9}{\\pi (\\cosh w - \\theta \\hat{\\theta})^{21}} dw d\\theta \\\\\n",
        "&= \\int_0^\\infty \\int_{-1}^1 \\frac{f_\\text{numer}}{f_\\text{denom}} d\\theta dw \\\\\n",
        "\\end{aligned}\n",
        "$"
      ]
    },
    {
      "cell_type": "code",
      "execution_count": 6,
      "metadata": {
        "id": "AuCQ7JZ5w184"
      },
      "outputs": [],
      "source": [
        "f_numer = lambda theta, w: 10 * (1 - theta**2)**10.5 * (1 - theta_hat**2)**9\n",
        "f_denom = lambda theta, w: np.pi * (mpmath.cosh(w) - theta * theta_hat)**21\n",
        "f = lambda theta, w: f_numer(theta, w) / f_denom(theta, w)"
      ]
    },
    {
      "cell_type": "code",
      "execution_count": 7,
      "metadata": {
        "id": "DT81eVbgw184"
      },
      "outputs": [],
      "source": [
        "post_denom_flat = mpmath.quad(f, [-1, 1], [0, float(\"inf\")])\n",
        "post_denom_flat = float(post_denom_flat)"
      ]
    },
    {
      "cell_type": "code",
      "execution_count": 8,
      "metadata": {
        "id": "jnLua2Mlw184"
      },
      "outputs": [],
      "source": [
        "def posterior_flat(theta):\n",
        "    global theta_hat\n",
        "    g = 0.5\n",
        "    f_coef = (20 / np.pi) * (1 - theta**2)**10.5 * (1 - theta_hat**2)**9\n",
        "    f_integrand = lambda w: 1 / mpmath.power(mpmath.cosh(w) - theta * theta_hat, 21)\n",
        "    f_integral = mpmath.quad(f_integrand, [0, float(\"inf\")])\n",
        "    return g * f_coef * f_integral / post_denom_flat"
      ]
    },
    {
      "cell_type": "markdown",
      "metadata": {
        "id": "eDhGQzmNw185"
      },
      "source": [
        "#### Jeffrey's prior"
      ]
    },
    {
      "cell_type": "markdown",
      "metadata": {
        "id": "6XK0_HKLw185"
      },
      "source": [
        "$ g^{\\text{Jeff}}(\\theta) = 1 / (1 - \\theta^2) $"
      ]
    },
    {
      "cell_type": "markdown",
      "metadata": {
        "id": "eoIuwfkHw185"
      },
      "source": [
        "$\n",
        "\\begin{aligned}\n",
        "f(\\hat{\\theta})\n",
        "&= \\int_{-1}^1 \\frac{20}{(1 - \\theta^2)\\pi} (1 - \\theta^2)^{10.5}(1 - \\hat{\\theta}^2)^9 \\int_0^\\infty \\frac{dw}{(\\cosh w - \\theta \\hat{\\theta})^{21}} d\\theta \\\\\n",
        "&= \\int_{-1}^1 \\int_0^\\infty \\frac{20(1 - \\theta^2)^{9.5}(1 - \\hat{\\theta}^2)^9}{\\pi(\\cosh w - \\theta \\hat{\\theta})^{21}} dw d\\theta \\\\\n",
        "&= \\int_0^\\infty \\int_{-1}^1 \\frac{f_\\text{numer}}{f_\\text{denom}} d\\theta dw \\\\\n",
        "\\end{aligned}\n",
        "$"
      ]
    },
    {
      "cell_type": "code",
      "execution_count": 9,
      "metadata": {
        "id": "SFGV2Sv8w185"
      },
      "outputs": [],
      "source": [
        "f_numer = lambda theta, w: 20 * (1 - theta**2)**9.5 * (1 - theta_hat**2)**9\n",
        "f_denom = lambda theta, w: np.pi * (mpmath.cosh(w) - theta * theta_hat)**21\n",
        "f = lambda theta, w: f_numer(theta, w) / f_denom(theta, w)"
      ]
    },
    {
      "cell_type": "code",
      "execution_count": 10,
      "metadata": {
        "id": "3GrzPlqsw185"
      },
      "outputs": [],
      "source": [
        "post_denom_jeff = mpmath.quad(f, [-1, 1], [0, float(\"inf\")])\n",
        "post_denom_jeff = float(post_denom_jeff)"
      ]
    },
    {
      "cell_type": "code",
      "execution_count": 11,
      "metadata": {
        "id": "sN0T6jTCw185"
      },
      "outputs": [],
      "source": [
        "def posterior_jeff(theta):\n",
        "    global theta_hat\n",
        "    g = 1 / (1 - theta**2)\n",
        "    f_coef = (20 / np.pi) * (1 - theta**2)**10.5 * (1 - theta_hat**2)**9\n",
        "    f_integrand = lambda w: 1 / mpmath.power(mpmath.cosh(w) - theta * theta_hat, 21)\n",
        "    f_integral = mpmath.quad(f_integrand, [0, float(\"inf\")])\n",
        "    return g * f_coef * f_integral / post_denom_jeff"
      ]
    },
    {
      "cell_type": "markdown",
      "metadata": {
        "id": "UE_7Q_Wiw185"
      },
      "source": [
        "#### Triangular prior"
      ]
    },
    {
      "cell_type": "markdown",
      "metadata": {
        "id": "iCIn9InDw186"
      },
      "source": [
        "$ g(\\theta) = 1 - |\\theta| $"
      ]
    },
    {
      "cell_type": "markdown",
      "metadata": {
        "id": "7tUVAfG0w186"
      },
      "source": [
        "$\n",
        "\\begin{aligned}\n",
        "f(\\hat{\\theta})\n",
        "&= \\int_{-1}^1 \\frac{20(1 - |\\theta|)}{\\pi} (1 - \\theta^2)^{10.5}(1 - \\hat{\\theta}^2)^9 \\int_0^\\infty \\frac{dw}{(\\cosh w - \\theta \\hat{\\theta})^{n - 1}} d\\theta \\\\\n",
        "&= \\int_{-1}^1 \\int_0^\\infty \\frac{20(1 - |\\theta|)(1 - \\theta^2)^{10.5}(1 - \\hat{\\theta}^2)^9}{\\pi(\\cosh w - \\theta \\hat{\\theta})^{21}} d\\theta \\\\\n",
        "&= \\int_0^\\infty \\int_{-1}^1 \\frac{f_\\text{numer}}{f_\\text{denom}} d\\theta dw \\\\\n",
        "\\end{aligned}\n",
        "$"
      ]
    },
    {
      "cell_type": "code",
      "execution_count": 12,
      "metadata": {
        "id": "7p9jWrhZw186"
      },
      "outputs": [],
      "source": [
        "f_numer = lambda theta, w: 20 * (1 - np.abs(theta)) * (1 - theta**2)**10.5 * (1 - theta_hat**2)**9\n",
        "f_denom = lambda theta, w: np.pi * (mpmath.cosh(w) - theta * theta_hat)**21\n",
        "f = lambda theta, w: f_numer(theta, w) / f_denom(theta, w)"
      ]
    },
    {
      "cell_type": "code",
      "execution_count": 13,
      "metadata": {
        "id": "MZ4EdySLw186"
      },
      "outputs": [],
      "source": [
        "post_denom_tria = mpmath.quad(f, [-1, 1], [0, float(\"inf\")])\n",
        "post_denom_tria = float(post_denom_tria)"
      ]
    },
    {
      "cell_type": "code",
      "source": [
        "post_denom_tria"
      ],
      "metadata": {
        "colab": {
          "base_uri": "https://localhost:8080/"
        },
        "id": "gDCi4yzq_0GI",
        "outputId": "894fbc38-74b2-400c-a4b3-f8773ddd7d9c"
      },
      "execution_count": 14,
      "outputs": [
        {
          "output_type": "execute_result",
          "data": {
            "text/plain": [
              "0.546374151201319"
            ]
          },
          "metadata": {},
          "execution_count": 14
        }
      ]
    },
    {
      "cell_type": "code",
      "execution_count": 15,
      "metadata": {
        "id": "Ij9zXTLGw186"
      },
      "outputs": [],
      "source": [
        "def posterior_tria(theta):\n",
        "    global theta_hat\n",
        "    g = 1 - np.abs(theta)\n",
        "    f_coef = (20 / np.pi) * (1 - theta**2)**10.5 * (1 - theta_hat**2)**9\n",
        "    f_integrand = lambda w: 1 / mpmath.power(mpmath.cosh(w) - theta * theta_hat, 21)\n",
        "    f_integral = mpmath.quad(f_integrand, [0, float(\"inf\")])\n",
        "    return g * f_coef * f_integral / post_denom_tria"
      ]
    },
    {
      "cell_type": "markdown",
      "source": [
        "### 図3.2の描画"
      ],
      "metadata": {
        "id": "6nCjcHkmaZh5"
      }
    },
    {
      "cell_type": "code",
      "execution_count": 16,
      "metadata": {
        "id": "fr2iSBJFw186"
      },
      "outputs": [],
      "source": [
        "x = np.arange(-0.2, 0.99, 0.01)\n",
        "y_flat = [posterior_flat(xval) for xval in x]\n",
        "y_jeff = [posterior_jeff(xval) for xval in x]\n",
        "y_tria = [posterior_tria(xval) for xval in x]"
      ]
    },
    {
      "cell_type": "code",
      "execution_count": 17,
      "metadata": {
        "id": "9xTMWlNgw186",
        "outputId": "bc0cac19-163e-468f-84d1-7f6c5b7fe148",
        "colab": {
          "base_uri": "https://localhost:8080/",
          "height": 502
        }
      },
      "outputs": [
        {
          "output_type": "display_data",
          "data": {
            "text/plain": [
              "<Figure size 864x576 with 1 Axes>"
            ],
            "image/png": "[encoded data removed]"
          },
          "metadata": {
            "needs_background": "light"
          }
        }
      ],
      "source": [
        "fig, ax = plt.subplots(figsize=(12, 8))\n",
        "\n",
        "ax.axhline(0, c=\"gray\", linestyle=\":\", linewidth=1)\n",
        "ax.axvline(theta_hat, c=\"gray\", linestyle=\":\", linewidth=1)\n",
        "\n",
        "ax.plot(x, y_flat, c=\"k\")\n",
        "ax.annotate(\n",
        "    \"flat prior\",\n",
        "    size=18,\n",
        "    xy=(0.62, 1.7),\n",
        "    xytext=(0.75, 1.9),\n",
        "    arrowprops=dict(arrowstyle=\"->\", linewidth=2),\n",
        "    horizontalalignment=\"center\",\n",
        ")\n",
        "\n",
        "ax.plot(x, y_jeff, c=\"r\", linestyle=\"--\")\n",
        "ax.annotate(\n",
        "    \"Jeffreys\",\n",
        "    size=18,\n",
        "    xy=(0.61, 2.1),\n",
        "    xytext=(0.76, 2.3),\n",
        "    arrowprops=dict(arrowstyle=\"->\", color=\"r\", linewidth=2),\n",
        "    horizontalalignment=\"center\",\n",
        "    color=\"r\",\n",
        ")\n",
        "\n",
        "ax.plot(x, y_tria, c=\"b\", linestyle=\":\")\n",
        "ax.annotate(\n",
        "    \"triangular\",\n",
        "    size=18,\n",
        "    xy=(0.24, 1.4),\n",
        "    xytext=(0.1, 1.6),\n",
        "    arrowprops=dict(arrowstyle=\"->\", color=\"b\", linewidth=2),\n",
        "    horizontalalignment=\"center\",\n",
        "    color=\"b\"\n",
        ")\n",
        "\n",
        "ax.scatter([theta_hat], [0], c=\"k\", s=30)\n",
        "ax.text(\n",
        "    theta_hat,\n",
        "    -0.1,\n",
        "    \"MLE {:.3f}\".format(theta_hat),\n",
        "    fontsize=12,\n",
        "    horizontalalignment=\"center\",\n",
        "    color=\"k\"\n",
        ")\n",
        "\n",
        "ax.set_xlabel(r\"$\\theta$\", size=16)\n",
        "ax.set_ylabel(r\"$g(\\theta|\\hat{\\theta})$\", size=16);"
      ]
    },
    {
      "cell_type": "markdown",
      "source": [
        "# 3.3"
      ],
      "metadata": {
        "id": "ejdfySu_bJfZ"
      }
    },
    {
      "cell_type": "code",
      "source": [
        "prostate = pd.read_csv(\"/content/prostmat.csv\")"
      ],
      "metadata": {
        "id": "28XpoqJvOhZr"
      },
      "execution_count": 18,
      "outputs": []
    },
    {
      "cell_type": "code",
      "source": [
        "prostate.head()"
      ],
      "metadata": {
        "colab": {
          "base_uri": "https://localhost:8080/",
          "height": 300
        },
        "id": "6C9BBuNicCHU",
        "outputId": "6d88bf36-c938-43be-f2f5-073406bfe22c"
      },
      "execution_count": 19,
      "outputs": [
        {
          "output_type": "execute_result",
          "data": {
            "text/plain": [
              "    control  control.1  control.2  control.3  control.4  control.5  control.6  \\\n",
              "0 -0.930895  -0.751885  -0.545781  -1.078519  -0.994677   0.015547  -0.853963   \n",
              "1 -0.839996  -0.848271  -0.851687  -0.159610  -0.751905  -0.516436  -0.826845   \n",
              "2  0.062508   0.102895  -0.003043   0.215347  -1.163109   1.028130  -0.476408   \n",
              "3 -0.361594   2.421034  -0.122089  -0.096277  -1.130144   0.458272   0.633883   \n",
              "4 -1.124427   0.182211   0.837907   1.050548   1.695673   3.463900  -1.109246   \n",
              "\n",
              "   control.7  control.8  control.9  ...  cancer.42  cancer.43  cancer.44  \\\n",
              "0   4.016860  -0.399641  -1.085050  ...  -0.845358   0.936035  -0.819505   \n",
              "1  -0.832741  -0.840731  -0.824386  ...   0.563857  -0.439367   2.052858   \n",
              "2  -1.154759  -1.161665  -0.690671  ...  -0.007371   0.629820  -1.107093   \n",
              "3   0.069708  -1.128592  -0.429663  ...  -0.508988  -0.409035   0.557853   \n",
              "4  -0.310570  -0.105437  -1.072878  ...   0.524438  -1.172145   0.936470   \n",
              "\n",
              "   cancer.45  cancer.46  cancer.47  cancer.48  cancer.49  cancer.50  cancer.51  \n",
              "0  -0.849670   0.434865   2.054122   2.799498   1.294162   2.905588   3.434504  \n",
              "1   0.441992   0.675806  -0.450853   1.385720  -1.143997  -0.282119  -1.174233  \n",
              "2  -0.968790  -0.235357  -1.049600   1.186599   0.962634  -0.026753   1.533532  \n",
              "3  -0.900065   1.491239   0.553022   0.118476   1.220066  -1.138651   0.174831  \n",
              "4   0.683947  -0.618465   3.995967   0.115477  -1.167392  -1.195660  -0.203642  \n",
              "\n",
              "[5 rows x 102 columns]"
            ],
            "text/html": [
              "\n",
              "  <div id=\"df-5e253622-c2d7-43ea-8fce-3f681f07530d\">\n",
              "    <div class=\"colab-df-container\">\n",
              "      <div>\n",
              "<style scoped>\n",
              "    .dataframe tbody tr th:only-of-type {\n",
              "        vertical-align: middle;\n",
              "    }\n",
              "\n",
              "    .dataframe tbody tr th {\n",
              "        vertical-align: top;\n",
              "    }\n",
              "\n",
              "    .dataframe thead th {\n",
              "        text-align: right;\n",
              "    }\n",
              "</style>\n",
              "<table border=\"1\" class=\"dataframe\">\n",
              "  <thead>\n",
              "    <tr style=\"text-align: right;\">\n",
              "      <th></th>\n",
              "      <th>control</th>\n",
              "      <th>control.1</th>\n",
              "      <th>control.2</th>\n",
              "      <th>control.3</th>\n",
              "      <th>control.4</th>\n",
              "      <th>control.5</th>\n",
              "      <th>control.6</th>\n",
              "      <th>control.7</th>\n",
              "      <th>control.8</th>\n",
              "      <th>control.9</th>\n",
              "      <th>...</th>\n",
              "      <th>cancer.42</th>\n",
              "      <th>cancer.43</th>\n",
              "      <th>cancer.44</th>\n",
              "      <th>cancer.45</th>\n",
              "      <th>cancer.46</th>\n",
              "      <th>cancer.47</th>\n",
              "      <th>cancer.48</th>\n",
              "      <th>cancer.49</th>\n",
              "      <th>cancer.50</th>\n",
              "      <th>cancer.51</th>\n",
              "    </tr>\n",
              "  </thead>\n",
              "  <tbody>\n",
              "    <tr>\n",
              "      <th>0</th>\n",
              "      <td>-0.930895</td>\n",
              "      <td>-0.751885</td>\n",
              "      <td>-0.545781</td>\n",
              "      <td>-1.078519</td>\n",
              "      <td>-0.994677</td>\n",
              "      <td>0.015547</td>\n",
              "      <td>-0.853963</td>\n",
              "      <td>4.016860</td>\n",
              "      <td>-0.399641</td>\n",
              "      <td>-1.085050</td>\n",
              "      <td>...</td>\n",
              "      <td>-0.845358</td>\n",
              "      <td>0.936035</td>\n",
              "      <td>-0.819505</td>\n",
              "      <td>-0.849670</td>\n",
              "      <td>0.434865</td>\n",
              "      <td>2.054122</td>\n",
              "      <td>2.799498</td>\n",
              "      <td>1.294162</td>\n",
              "      <td>2.905588</td>\n",
              "      <td>3.434504</td>\n",
              "    </tr>\n",
              "    <tr>\n",
              "      <th>1</th>\n",
              "      <td>-0.839996</td>\n",
              "      <td>-0.848271</td>\n",
              "      <td>-0.851687</td>\n",
              "      <td>-0.159610</td>\n",
              "      <td>-0.751905</td>\n",
              "      <td>-0.516436</td>\n",
              "      <td>-0.826845</td>\n",
              "      <td>-0.832741</td>\n",
              "      <td>-0.840731</td>\n",
              "      <td>-0.824386</td>\n",
              "      <td>...</td>\n",
              "      <td>0.563857</td>\n",
              "      <td>-0.439367</td>\n",
              "      <td>2.052858</td>\n",
              "      <td>0.441992</td>\n",
              "      <td>0.675806</td>\n",
              "      <td>-0.450853</td>\n",
              "      <td>1.385720</td>\n",
              "      <td>-1.143997</td>\n",
              "      <td>-0.282119</td>\n",
              "      <td>-1.174233</td>\n",
              "    </tr>\n",
              "    <tr>\n",
              "      <th>2</th>\n",
              "      <td>0.062508</td>\n",
              "      <td>0.102895</td>\n",
              "      <td>-0.003043</td>\n",
              "      <td>0.215347</td>\n",
              "      <td>-1.163109</td>\n",
              "      <td>1.028130</td>\n",
              "      <td>-0.476408</td>\n",
              "      <td>-1.154759</td>\n",
              "      <td>-1.161665</td>\n",
              "      <td>-0.690671</td>\n",
              "      <td>...</td>\n",
              "      <td>-0.007371</td>\n",
              "      <td>0.629820</td>\n",
              "      <td>-1.107093</td>\n",
              "      <td>-0.968790</td>\n",
              "      <td>-0.235357</td>\n",
              "      <td>-1.049600</td>\n",
              "      <td>1.186599</td>\n",
              "      <td>0.962634</td>\n",
              "      <td>-0.026753</td>\n",
              "      <td>1.533532</td>\n",
              "    </tr>\n",
              "    <tr>\n",
              "      <th>3</th>\n",
              "      <td>-0.361594</td>\n",
              "      <td>2.421034</td>\n",
              "      <td>-0.122089</td>\n",
              "      <td>-0.096277</td>\n",
              "      <td>-1.130144</td>\n",
              "      <td>0.458272</td>\n",
              "      <td>0.633883</td>\n",
              "      <td>0.069708</td>\n",
              "      <td>-1.128592</td>\n",
              "      <td>-0.429663</td>\n",
              "      <td>...</td>\n",
              "      <td>-0.508988</td>\n",
              "      <td>-0.409035</td>\n",
              "      <td>0.557853</td>\n",
              "      <td>-0.900065</td>\n",
              "      <td>1.491239</td>\n",
              "      <td>0.553022</td>\n",
              "      <td>0.118476</td>\n",
              "      <td>1.220066</td>\n",
              "      <td>-1.138651</td>\n",
              "      <td>0.174831</td>\n",
              "    </tr>\n",
              "    <tr>\n",
              "      <th>4</th>\n",
              "      <td>-1.124427</td>\n",
              "      <td>0.182211</td>\n",
              "      <td>0.837907</td>\n",
              "      <td>1.050548</td>\n",
              "      <td>1.695673</td>\n",
              "      <td>3.463900</td>\n",
              "      <td>-1.109246</td>\n",
              "      <td>-0.310570</td>\n",
              "      <td>-0.105437</td>\n",
              "      <td>-1.072878</td>\n",
              "      <td>...</td>\n",
              "      <td>0.524438</td>\n",
              "      <td>-1.172145</td>\n",
              "      <td>0.936470</td>\n",
              "      <td>0.683947</td>\n",
              "      <td>-0.618465</td>\n",
              "      <td>3.995967</td>\n",
              "      <td>0.115477</td>\n",
              "      <td>-1.167392</td>\n",
              "      <td>-1.195660</td>\n",
              "      <td>-0.203642</td>\n",
              "    </tr>\n",
              "  </tbody>\n",
              "</table>\n",
              "<p>5 rows × 102 columns</p>\n",
              "</div>\n",
              "      <button class=\"colab-df-convert\" onclick=\"convertToInteractive('df-5e253622-c2d7-43ea-8fce-3f681f07530d')\"\n",
              "              title=\"Convert this dataframe to an interactive table.\"\n",
              "              style=\"display:none;\">\n",
              "        \n",
              "  <svg xmlns=\"http://www.w3.org/2000/svg\" height=\"24px\"viewBox=\"0 0 24 24\"\n",
              "       width=\"24px\">\n",
              "    <path d=\"M0 0h24v24H0V0z\" fill=\"none\"/>\n",
              "    <path d=\"M18.56 5.44l.94 2.06.94-2.06 2.06-.94-2.06-.94-.94-2.06-.94 2.06-2.06.94zm-11 1L8.5 8.5l.94-2.06 2.06-.94-2.06-.94L8.5 2.5l-.94 2.06-2.06.94zm10 10l.94 2.06.94-2.06 2.06-.94-2.06-.94-.94-2.06-.94 2.06-2.06.94z\"/><path d=\"M17.41 7.96l-1.37-1.37c-.4-.4-.92-.59-1.43-.59-.52 0-1.04.2-1.43.59L10.3 9.45l-7.72 7.72c-.78.78-.78 2.05 0 2.83L4 21.41c.39.39.9.59 1.41.59.51 0 1.02-.2 1.41-.59l7.78-7.78 2.81-2.81c.8-.78.8-2.07 0-2.86zM5.41 20L4 18.59l7.72-7.72 1.47 1.35L5.41 20z\"/>\n",
              "  </svg>\n",
              "      </button>\n",
              "      \n",
              "  <style>\n",
              "    .colab-df-container {\n",
              "      display:flex;\n",
              "      flex-wrap:wrap;\n",
              "      gap: 12px;\n",
              "    }\n",
              "\n",
              "    .colab-df-convert {\n",
              "      background-color: #E8F0FE;\n",
              "      border: none;\n",
              "      border-radius: 50%;\n",
              "      cursor: pointer;\n",
              "      display: none;\n",
              "      fill: #1967D2;\n",
              "      height: 32px;\n",
              "      padding: 0 0 0 0;\n",
              "      width: 32px;\n",
              "    }\n",
              "\n",
              "    .colab-df-convert:hover {\n",
              "      background-color: #E2EBFA;\n",
              "      box-shadow: 0px 1px 2px rgba(60, 64, 67, 0.3), 0px 1px 3px 1px rgba(60, 64, 67, 0.15);\n",
              "      fill: #174EA6;\n",
              "    }\n",
              "\n",
              "    [theme=dark] .colab-df-convert {\n",
              "      background-color: #3B4455;\n",
              "      fill: #D2E3FC;\n",
              "    }\n",
              "\n",
              "    [theme=dark] .colab-df-convert:hover {\n",
              "      background-color: #434B5C;\n",
              "      box-shadow: 0px 1px 3px 1px rgba(0, 0, 0, 0.15);\n",
              "      filter: drop-shadow(0px 1px 2px rgba(0, 0, 0, 0.3));\n",
              "      fill: #FFFFFF;\n",
              "    }\n",
              "  </style>\n",
              "\n",
              "      <script>\n",
              "        const buttonEl =\n",
              "          document.querySelector('#df-5e253622-c2d7-43ea-8fce-3f681f07530d button.colab-df-convert');\n",
              "        buttonEl.style.display =\n",
              "          google.colab.kernel.accessAllowed ? 'block' : 'none';\n",
              "\n",
              "        async function convertToInteractive(key) {\n",
              "          const element = document.querySelector('#df-5e253622-c2d7-43ea-8fce-3f681f07530d');\n",
              "          const dataTable =\n",
              "            await google.colab.kernel.invokeFunction('convertToInteractive',\n",
              "                                                     [key], {});\n",
              "          if (!dataTable) return;\n",
              "\n",
              "          const docLinkHtml = 'Like what you see? Visit the ' +\n",
              "            '<a target=\"_blank\" href=https://colab.research.google.com/notebooks/data_table.ipynb>data table notebook</a>'\n",
              "            + ' to learn more about interactive tables.';\n",
              "          element.innerHTML = '';\n",
              "          dataTable['output_type'] = 'display_data';\n",
              "          await google.colab.output.renderOutput(dataTable, element);\n",
              "          const docLink = document.createElement('div');\n",
              "          docLink.innerHTML = docLinkHtml;\n",
              "          element.appendChild(docLink);\n",
              "        }\n",
              "      </script>\n",
              "    </div>\n",
              "  </div>\n",
              "  "
            ]
          },
          "metadata": {},
          "execution_count": 19
        }
      ]
    },
    {
      "cell_type": "code",
      "source": [
        "prostz = pd.read_csv(\"/content/prostz.txt\", header=None, names=[\"z\"])"
      ],
      "metadata": {
        "id": "4ReDcenOc4Lq"
      },
      "execution_count": 22,
      "outputs": []
    },
    {
      "cell_type": "code",
      "source": [
        "prostz"
      ],
      "metadata": {
        "colab": {
          "base_uri": "https://localhost:8080/",
          "height": 424
        },
        "id": "3x7Pz01udkph",
        "outputId": "9b08822f-bc2a-4a53-db24-c6222bf4599e"
      },
      "execution_count": 24,
      "outputs": [
        {
          "output_type": "execute_result",
          "data": {
            "text/plain": [
              "             z\n",
              "0     1.472367\n",
              "1     3.572915\n",
              "2    -0.027754\n",
              "3    -1.132052\n",
              "4    -0.140221\n",
              "...        ...\n",
              "6028  0.287357\n",
              "6029 -0.777423\n",
              "6030 -1.183667\n",
              "6031  0.103544\n",
              "6032 -0.909193\n",
              "\n",
              "[6033 rows x 1 columns]"
            ],
            "text/html": [
              "\n",
              "  <div id=\"df-752ae0d6-a36f-4bed-bfb9-167814fa2799\">\n",
              "    <div class=\"colab-df-container\">\n",
              "      <div>\n",
              "<style scoped>\n",
              "    .dataframe tbody tr th:only-of-type {\n",
              "        vertical-align: middle;\n",
              "    }\n",
              "\n",
              "    .dataframe tbody tr th {\n",
              "        vertical-align: top;\n",
              "    }\n",
              "\n",
              "    .dataframe thead th {\n",
              "        text-align: right;\n",
              "    }\n",
              "</style>\n",
              "<table border=\"1\" class=\"dataframe\">\n",
              "  <thead>\n",
              "    <tr style=\"text-align: right;\">\n",
              "      <th></th>\n",
              "      <th>z</th>\n",
              "    </tr>\n",
              "  </thead>\n",
              "  <tbody>\n",
              "    <tr>\n",
              "      <th>0</th>\n",
              "      <td>1.472367</td>\n",
              "    </tr>\n",
              "    <tr>\n",
              "      <th>1</th>\n",
              "      <td>3.572915</td>\n",
              "    </tr>\n",
              "    <tr>\n",
              "      <th>2</th>\n",
              "      <td>-0.027754</td>\n",
              "    </tr>\n",
              "    <tr>\n",
              "      <th>3</th>\n",
              "      <td>-1.132052</td>\n",
              "    </tr>\n",
              "    <tr>\n",
              "      <th>4</th>\n",
              "      <td>-0.140221</td>\n",
              "    </tr>\n",
              "    <tr>\n",
              "      <th>...</th>\n",
              "      <td>...</td>\n",
              "    </tr>\n",
              "    <tr>\n",
              "      <th>6028</th>\n",
              "      <td>0.287357</td>\n",
              "    </tr>\n",
              "    <tr>\n",
              "      <th>6029</th>\n",
              "      <td>-0.777423</td>\n",
              "    </tr>\n",
              "    <tr>\n",
              "      <th>6030</th>\n",
              "      <td>-1.183667</td>\n",
              "    </tr>\n",
              "    <tr>\n",
              "      <th>6031</th>\n",
              "      <td>0.103544</td>\n",
              "    </tr>\n",
              "    <tr>\n",
              "      <th>6032</th>\n",
              "      <td>-0.909193</td>\n",
              "    </tr>\n",
              "  </tbody>\n",
              "</table>\n",
              "<p>6033 rows × 1 columns</p>\n",
              "</div>\n",
              "      <button class=\"colab-df-convert\" onclick=\"convertToInteractive('df-752ae0d6-a36f-4bed-bfb9-167814fa2799')\"\n",
              "              title=\"Convert this dataframe to an interactive table.\"\n",
              "              style=\"display:none;\">\n",
              "        \n",
              "  <svg xmlns=\"http://www.w3.org/2000/svg\" height=\"24px\"viewBox=\"0 0 24 24\"\n",
              "       width=\"24px\">\n",
              "    <path d=\"M0 0h24v24H0V0z\" fill=\"none\"/>\n",
              "    <path d=\"M18.56 5.44l.94 2.06.94-2.06 2.06-.94-2.06-.94-.94-2.06-.94 2.06-2.06.94zm-11 1L8.5 8.5l.94-2.06 2.06-.94-2.06-.94L8.5 2.5l-.94 2.06-2.06.94zm10 10l.94 2.06.94-2.06 2.06-.94-2.06-.94-.94-2.06-.94 2.06-2.06.94z\"/><path d=\"M17.41 7.96l-1.37-1.37c-.4-.4-.92-.59-1.43-.59-.52 0-1.04.2-1.43.59L10.3 9.45l-7.72 7.72c-.78.78-.78 2.05 0 2.83L4 21.41c.39.39.9.59 1.41.59.51 0 1.02-.2 1.41-.59l7.78-7.78 2.81-2.81c.8-.78.8-2.07 0-2.86zM5.41 20L4 18.59l7.72-7.72 1.47 1.35L5.41 20z\"/>\n",
              "  </svg>\n",
              "      </button>\n",
              "      \n",
              "  <style>\n",
              "    .colab-df-container {\n",
              "      display:flex;\n",
              "      flex-wrap:wrap;\n",
              "      gap: 12px;\n",
              "    }\n",
              "\n",
              "    .colab-df-convert {\n",
              "      background-color: #E8F0FE;\n",
              "      border: none;\n",
              "      border-radius: 50%;\n",
              "      cursor: pointer;\n",
              "      display: none;\n",
              "      fill: #1967D2;\n",
              "      height: 32px;\n",
              "      padding: 0 0 0 0;\n",
              "      width: 32px;\n",
              "    }\n",
              "\n",
              "    .colab-df-convert:hover {\n",
              "      background-color: #E2EBFA;\n",
              "      box-shadow: 0px 1px 2px rgba(60, 64, 67, 0.3), 0px 1px 3px 1px rgba(60, 64, 67, 0.15);\n",
              "      fill: #174EA6;\n",
              "    }\n",
              "\n",
              "    [theme=dark] .colab-df-convert {\n",
              "      background-color: #3B4455;\n",
              "      fill: #D2E3FC;\n",
              "    }\n",
              "\n",
              "    [theme=dark] .colab-df-convert:hover {\n",
              "      background-color: #434B5C;\n",
              "      box-shadow: 0px 1px 3px 1px rgba(0, 0, 0, 0.15);\n",
              "      filter: drop-shadow(0px 1px 2px rgba(0, 0, 0, 0.3));\n",
              "      fill: #FFFFFF;\n",
              "    }\n",
              "  </style>\n",
              "\n",
              "      <script>\n",
              "        const buttonEl =\n",
              "          document.querySelector('#df-752ae0d6-a36f-4bed-bfb9-167814fa2799 button.colab-df-convert');\n",
              "        buttonEl.style.display =\n",
              "          google.colab.kernel.accessAllowed ? 'block' : 'none';\n",
              "\n",
              "        async function convertToInteractive(key) {\n",
              "          const element = document.querySelector('#df-752ae0d6-a36f-4bed-bfb9-167814fa2799');\n",
              "          const dataTable =\n",
              "            await google.colab.kernel.invokeFunction('convertToInteractive',\n",
              "                                                     [key], {});\n",
              "          if (!dataTable) return;\n",
              "\n",
              "          const docLinkHtml = 'Like what you see? Visit the ' +\n",
              "            '<a target=\"_blank\" href=https://colab.research.google.com/notebooks/data_table.ipynb>data table notebook</a>'\n",
              "            + ' to learn more about interactive tables.';\n",
              "          element.innerHTML = '';\n",
              "          dataTable['output_type'] = 'display_data';\n",
              "          await google.colab.output.renderOutput(dataTable, element);\n",
              "          const docLink = document.createElement('div');\n",
              "          docLink.innerHTML = docLinkHtml;\n",
              "          element.appendChild(docLink);\n",
              "        }\n",
              "      </script>\n",
              "    </div>\n",
              "  </div>\n",
              "  "
            ]
          },
          "metadata": {},
          "execution_count": 24
        }
      ]
    },
    {
      "cell_type": "code",
      "source": [
        "print(\"x_610: {:>1.2f}\".format(prostz.z[609]))"
      ],
      "metadata": {
        "colab": {
          "base_uri": "https://localhost:8080/"
        },
        "id": "BHhU2kyNfrxW",
        "outputId": "8594207f-fc18-4849-903c-e444cf7a8591"
      },
      "execution_count": 37,
      "outputs": [
        {
          "output_type": "stream",
          "name": "stdout",
          "text": [
            "x_610: 5.29\n"
          ]
        }
      ]
    },
    {
      "cell_type": "markdown",
      "source": [
        "## 図3.4"
      ],
      "metadata": {
        "id": "YCMVBExbieYB"
      }
    },
    {
      "cell_type": "code",
      "source": [
        "fig, ax = plt.subplots(figsize=(12, 7))\n",
        "\n",
        "z = prostz['z'] \n",
        "ax.hist(z, bins=53, edgecolor=\"k\")\n",
        "ax.annotate(\n",
        "    \"遺伝子 610\",\n",
        "    size=12,\n",
        "    xy=(z[609], 0),\n",
        "    xytext=(z[609], 40),\n",
        "    arrowprops=dict(arrowstyle=\"->\", facecolor=\"black\"),\n",
        "    horizontalalignment=\"center\",\n",
        ")\n",
        "ax.set_xlabel(\"効果量の推定値\", size=16)\n",
        "ax.set_ylabel(\"度数\", size=16);"
      ],
      "metadata": {
        "colab": {
          "base_uri": "https://localhost:8080/",
          "height": 447
        },
        "id": "ELgBwinSf8kN",
        "outputId": "41c00f45-0316-4cd9-e470-99c2f715712c"
      },
      "execution_count": 36,
      "outputs": [
        {
          "output_type": "display_data",
          "data": {
            "text/plain": [
              "<Figure size 864x504 with 1 Axes>"
            ],
            "image/png": "[encoded data removed]"
          },
          "metadata": {
            "needs_background": "light"
          }
        }
      ]
    },
    {
      "cell_type": "code",
      "source": [],
      "metadata": {
        "id": "WvBbSYgehwFa"
      },
      "execution_count": null,
      "outputs": []
    }
  ],
  "metadata": {
    "kernelspec": {
      "display_name": "Python 3",
      "language": "python",
      "name": "python3"
    },
    "language_info": {
      "codemirror_mode": {
        "name": "ipython",
        "version": 3
      },
      "file_extension": ".py",
      "mimetype": "text/x-python",
      "name": "python",
      "nbconvert_exporter": "python",
      "pygments_lexer": "ipython3",
      "version": "3.7.1"
    },
    "colab": {
      "provenance": [],
      "toc_visible": true
    }
  },
  "nbformat": 4,
  "nbformat_minor": 0
}
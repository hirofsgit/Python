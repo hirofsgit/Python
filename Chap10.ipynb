{
  "nbformat": 4,
  "nbformat_minor": 0,
  "metadata": {
    "colab": {
      "provenance": [],
      "authorship_tag": "ABX9TyOIVQDp3QEwFHPobHdap+8A",
      "include_colab_link": true
    },
    "kernelspec": {
      "name": "python3",
      "display_name": "Python 3"
    },
    "language_info": {
      "name": "python"
    }
  },
  "cells": [
    {
      "cell_type": "markdown",
      "metadata": {
        "id": "view-in-github",
        "colab_type": "text"
      },
      "source": [
        "<a href=\"https://colab.research.google.com/github/hirofsgit/Python_1/blob/main/Chap10.ipynb\" target=\"_parent\"><img src=\"https://colab.research.google.com/assets/colab-badge.svg\" alt=\"Open In Colab\"/></a>"
      ]
    },
    {
      "cell_type": "code",
      "execution_count": null,
      "metadata": {
        "colab": {
          "base_uri": "https://localhost:8080/"
        },
        "id": "S9w0UP9Bvffw",
        "outputId": "6934d2af-c556-4adb-d34a-154ac2bca932"
      },
      "outputs": [
        {
          "output_type": "stream",
          "name": "stdout",
          "text": [
            "Collecting japanize-matplotlib\n",
            "  Downloading japanize-matplotlib-1.1.3.tar.gz (4.1 MB)\n",
            "\u001b[2K     \u001b[90m━━━━━━━━━━━━━━━━━━━━━━━━━━━━━━━━━━━━━━━━\u001b[0m \u001b[32m4.1/4.1 MB\u001b[0m \u001b[31m15.9 MB/s\u001b[0m eta \u001b[36m0:00:00\u001b[0m\n",
            "\u001b[?25h  Preparing metadata (setup.py) ... \u001b[?25l\u001b[?25hdone\n",
            "Requirement already satisfied: matplotlib in /usr/local/lib/python3.10/dist-packages (from japanize-matplotlib) (3.7.1)\n",
            "Requirement already satisfied: contourpy>=1.0.1 in /usr/local/lib/python3.10/dist-packages (from matplotlib->japanize-matplotlib) (1.1.0)\n",
            "Requirement already satisfied: cycler>=0.10 in /usr/local/lib/python3.10/dist-packages (from matplotlib->japanize-matplotlib) (0.11.0)\n",
            "Requirement already satisfied: fonttools>=4.22.0 in /usr/local/lib/python3.10/dist-packages (from matplotlib->japanize-matplotlib) (4.41.1)\n",
            "Requirement already satisfied: kiwisolver>=1.0.1 in /usr/local/lib/python3.10/dist-packages (from matplotlib->japanize-matplotlib) (1.4.4)\n",
            "Requirement already satisfied: numpy>=1.20 in /usr/local/lib/python3.10/dist-packages (from matplotlib->japanize-matplotlib) (1.22.4)\n",
            "Requirement already satisfied: packaging>=20.0 in /usr/local/lib/python3.10/dist-packages (from matplotlib->japanize-matplotlib) (23.1)\n",
            "Requirement already satisfied: pillow>=6.2.0 in /usr/local/lib/python3.10/dist-packages (from matplotlib->japanize-matplotlib) (9.4.0)\n",
            "Requirement already satisfied: pyparsing>=2.3.1 in /usr/local/lib/python3.10/dist-packages (from matplotlib->japanize-matplotlib) (3.1.0)\n",
            "Requirement already satisfied: python-dateutil>=2.7 in /usr/local/lib/python3.10/dist-packages (from matplotlib->japanize-matplotlib) (2.8.2)\n",
            "Requirement already satisfied: six>=1.5 in /usr/local/lib/python3.10/dist-packages (from python-dateutil>=2.7->matplotlib->japanize-matplotlib) (1.16.0)\n",
            "Building wheels for collected packages: japanize-matplotlib\n",
            "  Building wheel for japanize-matplotlib (setup.py) ... \u001b[?25l\u001b[?25hdone\n",
            "  Created wheel for japanize-matplotlib: filename=japanize_matplotlib-1.1.3-py3-none-any.whl size=4120257 sha256=99a41a4501e860170c20218e1be94fe9026c6d470e8a601e6ba5a64b10eebd68\n",
            "  Stored in directory: /root/.cache/pip/wheels/61/7a/6b/df1f79be9c59862525070e157e62b08eab8ece27c1b68fbb94\n",
            "Successfully built japanize-matplotlib\n",
            "Installing collected packages: japanize-matplotlib\n",
            "Successfully installed japanize-matplotlib-1.1.3\n"
          ]
        }
      ],
      "source": [
        "!pip install japanize-matplotlib"
      ]
    },
    {
      "cell_type": "code",
      "source": [
        "import numpy as np\n",
        "import matplotlib.pyplot as plt\n",
        "%matplotlib inline\n",
        "import japanize_matplotlib\n",
        "import scipy\n",
        "from scipy import stats, linalg\n",
        "import copy\n",
        "import pandas as pd\n",
        "from sklearn.preprocessing import StandardScaler\n",
        "import warnings\n",
        "warnings.filterwarnings('ignore')\n",
        "import statsmodels.api as sm\n",
        "import statsmodels.formula.api as smf\n",
        "from matplotlib.collections import LineCollection\n",
        "from scipy.interpolate import interp1d\n",
        "from statsmodels.nonparametric.smoothers_lowess import lowess"
      ],
      "metadata": {
        "id": "jvmSt_Vcv4q_"
      },
      "execution_count": null,
      "outputs": []
    },
    {
      "cell_type": "markdown",
      "source": [
        "# 10.1"
      ],
      "metadata": {
        "id": "VoqahoKI9GO4"
      }
    },
    {
      "cell_type": "code",
      "source": [
        "kidney = pd.read_csv(\"/content/kidney.txt\", delimiter=\" \")"
      ],
      "metadata": {
        "id": "bSiFyGTp9IvC"
      },
      "execution_count": null,
      "outputs": []
    },
    {
      "cell_type": "code",
      "source": [
        "kidney.head()"
      ],
      "metadata": {
        "colab": {
          "base_uri": "https://localhost:8080/",
          "height": 206
        },
        "id": "fz2CTDei9foY",
        "outputId": "e88b1f31-0020-4322-feb4-e25c56067cd8"
      },
      "execution_count": null,
      "outputs": [
        {
          "output_type": "execute_result",
          "data": {
            "text/plain": [
              "   age   tot\n",
              "0   18  2.44\n",
              "1   19  3.86\n",
              "2   19 -1.22\n",
              "3   20  2.30\n",
              "4   21  0.98"
            ],
            "text/html": [
              "\n",
              "\n",
              "  <div id=\"df-f11377c4-6aaf-441f-b933-36aad845b59b\">\n",
              "    <div class=\"colab-df-container\">\n",
              "      <div>\n",
              "<style scoped>\n",
              "    .dataframe tbody tr th:only-of-type {\n",
              "        vertical-align: middle;\n",
              "    }\n",
              "\n",
              "    .dataframe tbody tr th {\n",
              "        vertical-align: top;\n",
              "    }\n",
              "\n",
              "    .dataframe thead th {\n",
              "        text-align: right;\n",
              "    }\n",
              "</style>\n",
              "<table border=\"1\" class=\"dataframe\">\n",
              "  <thead>\n",
              "    <tr style=\"text-align: right;\">\n",
              "      <th></th>\n",
              "      <th>age</th>\n",
              "      <th>tot</th>\n",
              "    </tr>\n",
              "  </thead>\n",
              "  <tbody>\n",
              "    <tr>\n",
              "      <th>0</th>\n",
              "      <td>18</td>\n",
              "      <td>2.44</td>\n",
              "    </tr>\n",
              "    <tr>\n",
              "      <th>1</th>\n",
              "      <td>19</td>\n",
              "      <td>3.86</td>\n",
              "    </tr>\n",
              "    <tr>\n",
              "      <th>2</th>\n",
              "      <td>19</td>\n",
              "      <td>-1.22</td>\n",
              "    </tr>\n",
              "    <tr>\n",
              "      <th>3</th>\n",
              "      <td>20</td>\n",
              "      <td>2.30</td>\n",
              "    </tr>\n",
              "    <tr>\n",
              "      <th>4</th>\n",
              "      <td>21</td>\n",
              "      <td>0.98</td>\n",
              "    </tr>\n",
              "  </tbody>\n",
              "</table>\n",
              "</div>\n",
              "      <button class=\"colab-df-convert\" onclick=\"convertToInteractive('df-f11377c4-6aaf-441f-b933-36aad845b59b')\"\n",
              "              title=\"Convert this dataframe to an interactive table.\"\n",
              "              style=\"display:none;\">\n",
              "\n",
              "  <svg xmlns=\"http://www.w3.org/2000/svg\" height=\"24px\"viewBox=\"0 0 24 24\"\n",
              "       width=\"24px\">\n",
              "    <path d=\"M0 0h24v24H0V0z\" fill=\"none\"/>\n",
              "    <path d=\"M18.56 5.44l.94 2.06.94-2.06 2.06-.94-2.06-.94-.94-2.06-.94 2.06-2.06.94zm-11 1L8.5 8.5l.94-2.06 2.06-.94-2.06-.94L8.5 2.5l-.94 2.06-2.06.94zm10 10l.94 2.06.94-2.06 2.06-.94-2.06-.94-.94-2.06-.94 2.06-2.06.94z\"/><path d=\"M17.41 7.96l-1.37-1.37c-.4-.4-.92-.59-1.43-.59-.52 0-1.04.2-1.43.59L10.3 9.45l-7.72 7.72c-.78.78-.78 2.05 0 2.83L4 21.41c.39.39.9.59 1.41.59.51 0 1.02-.2 1.41-.59l7.78-7.78 2.81-2.81c.8-.78.8-2.07 0-2.86zM5.41 20L4 18.59l7.72-7.72 1.47 1.35L5.41 20z\"/>\n",
              "  </svg>\n",
              "      </button>\n",
              "\n",
              "\n",
              "\n",
              "    <div id=\"df-4465501e-5ae6-449f-ada0-8d687418d503\">\n",
              "      <button class=\"colab-df-quickchart\" onclick=\"quickchart('df-4465501e-5ae6-449f-ada0-8d687418d503')\"\n",
              "              title=\"Suggest charts.\"\n",
              "              style=\"display:none;\">\n",
              "\n",
              "<svg xmlns=\"http://www.w3.org/2000/svg\" height=\"24px\"viewBox=\"0 0 24 24\"\n",
              "     width=\"24px\">\n",
              "    <g>\n",
              "        <path d=\"M19 3H5c-1.1 0-2 .9-2 2v14c0 1.1.9 2 2 2h14c1.1 0 2-.9 2-2V5c0-1.1-.9-2-2-2zM9 17H7v-7h2v7zm4 0h-2V7h2v10zm4 0h-2v-4h2v4z\"/>\n",
              "    </g>\n",
              "</svg>\n",
              "      </button>\n",
              "    </div>\n",
              "\n",
              "<style>\n",
              "  .colab-df-quickchart {\n",
              "    background-color: #E8F0FE;\n",
              "    border: none;\n",
              "    border-radius: 50%;\n",
              "    cursor: pointer;\n",
              "    display: none;\n",
              "    fill: #1967D2;\n",
              "    height: 32px;\n",
              "    padding: 0 0 0 0;\n",
              "    width: 32px;\n",
              "  }\n",
              "\n",
              "  .colab-df-quickchart:hover {\n",
              "    background-color: #E2EBFA;\n",
              "    box-shadow: 0px 1px 2px rgba(60, 64, 67, 0.3), 0px 1px 3px 1px rgba(60, 64, 67, 0.15);\n",
              "    fill: #174EA6;\n",
              "  }\n",
              "\n",
              "  [theme=dark] .colab-df-quickchart {\n",
              "    background-color: #3B4455;\n",
              "    fill: #D2E3FC;\n",
              "  }\n",
              "\n",
              "  [theme=dark] .colab-df-quickchart:hover {\n",
              "    background-color: #434B5C;\n",
              "    box-shadow: 0px 1px 3px 1px rgba(0, 0, 0, 0.15);\n",
              "    filter: drop-shadow(0px 1px 2px rgba(0, 0, 0, 0.3));\n",
              "    fill: #FFFFFF;\n",
              "  }\n",
              "</style>\n",
              "\n",
              "    <script>\n",
              "      async function quickchart(key) {\n",
              "        const containerElement = document.querySelector('#' + key);\n",
              "        const charts = await google.colab.kernel.invokeFunction(\n",
              "            'suggestCharts', [key], {});\n",
              "      }\n",
              "    </script>\n",
              "\n",
              "      <script>\n",
              "\n",
              "function displayQuickchartButton(domScope) {\n",
              "  let quickchartButtonEl =\n",
              "    domScope.querySelector('#df-4465501e-5ae6-449f-ada0-8d687418d503 button.colab-df-quickchart');\n",
              "  quickchartButtonEl.style.display =\n",
              "    google.colab.kernel.accessAllowed ? 'block' : 'none';\n",
              "}\n",
              "\n",
              "        displayQuickchartButton(document);\n",
              "      </script>\n",
              "      <style>\n",
              "    .colab-df-container {\n",
              "      display:flex;\n",
              "      flex-wrap:wrap;\n",
              "      gap: 12px;\n",
              "    }\n",
              "\n",
              "    .colab-df-convert {\n",
              "      background-color: #E8F0FE;\n",
              "      border: none;\n",
              "      border-radius: 50%;\n",
              "      cursor: pointer;\n",
              "      display: none;\n",
              "      fill: #1967D2;\n",
              "      height: 32px;\n",
              "      padding: 0 0 0 0;\n",
              "      width: 32px;\n",
              "    }\n",
              "\n",
              "    .colab-df-convert:hover {\n",
              "      background-color: #E2EBFA;\n",
              "      box-shadow: 0px 1px 2px rgba(60, 64, 67, 0.3), 0px 1px 3px 1px rgba(60, 64, 67, 0.15);\n",
              "      fill: #174EA6;\n",
              "    }\n",
              "\n",
              "    [theme=dark] .colab-df-convert {\n",
              "      background-color: #3B4455;\n",
              "      fill: #D2E3FC;\n",
              "    }\n",
              "\n",
              "    [theme=dark] .colab-df-convert:hover {\n",
              "      background-color: #434B5C;\n",
              "      box-shadow: 0px 1px 3px 1px rgba(0, 0, 0, 0.15);\n",
              "      filter: drop-shadow(0px 1px 2px rgba(0, 0, 0, 0.3));\n",
              "      fill: #FFFFFF;\n",
              "    }\n",
              "  </style>\n",
              "\n",
              "      <script>\n",
              "        const buttonEl =\n",
              "          document.querySelector('#df-f11377c4-6aaf-441f-b933-36aad845b59b button.colab-df-convert');\n",
              "        buttonEl.style.display =\n",
              "          google.colab.kernel.accessAllowed ? 'block' : 'none';\n",
              "\n",
              "        async function convertToInteractive(key) {\n",
              "          const element = document.querySelector('#df-f11377c4-6aaf-441f-b933-36aad845b59b');\n",
              "          const dataTable =\n",
              "            await google.colab.kernel.invokeFunction('convertToInteractive',\n",
              "                                                     [key], {});\n",
              "          if (!dataTable) return;\n",
              "\n",
              "          const docLinkHtml = 'Like what you see? Visit the ' +\n",
              "            '<a target=\"_blank\" href=https://colab.research.google.com/notebooks/data_table.ipynb>data table notebook</a>'\n",
              "            + ' to learn more about interactive tables.';\n",
              "          element.innerHTML = '';\n",
              "          dataTable['output_type'] = 'display_data';\n",
              "          await google.colab.output.renderOutput(dataTable, element);\n",
              "          const docLink = document.createElement('div');\n",
              "          docLink.innerHTML = docLinkHtml;\n",
              "          element.appendChild(docLink);\n",
              "        }\n",
              "      </script>\n",
              "    </div>\n",
              "  </div>\n"
            ]
          },
          "metadata": {},
          "execution_count": 16
        }
      ]
    },
    {
      "cell_type": "markdown",
      "source": [
        "**Lowess model**"
      ],
      "metadata": {
        "id": "kyL-G06W90t3"
      }
    },
    {
      "cell_type": "code",
      "source": [
        "low_preds = lowess(kidney.tot, kidney.age, frac=1/3.0)"
      ],
      "metadata": {
        "id": "Os_F1OR-9iBf"
      },
      "execution_count": null,
      "outputs": []
    },
    {
      "cell_type": "code",
      "source": [
        "low_preds[:5]"
      ],
      "metadata": {
        "colab": {
          "base_uri": "https://localhost:8080/"
        },
        "id": "iA36Le8Y9nB1",
        "outputId": "b80c1e57-c2b5-42e3-b902-aceff3e2cef2"
      },
      "execution_count": null,
      "outputs": [
        {
          "output_type": "execute_result",
          "data": {
            "text/plain": [
              "array([[18.        ,  2.24792193],\n",
              "       [19.        ,  1.95243881],\n",
              "       [19.        ,  1.95243881],\n",
              "       [20.        ,  1.65762652],\n",
              "       [21.        ,  1.36364605]])"
            ]
          },
          "metadata": {},
          "execution_count": 18
        }
      ]
    },
    {
      "cell_type": "code",
      "source": [
        "ages = np.array(list(range(20, 90, 5)))"
      ],
      "metadata": {
        "id": "-HPx2EY29m2V"
      },
      "execution_count": null,
      "outputs": []
    },
    {
      "cell_type": "code",
      "source": [
        "n_ages = ages.shape[0]\n",
        "n_obs = kidney.shape[0]"
      ],
      "metadata": {
        "id": "m1Gu8cf09mtO"
      },
      "execution_count": null,
      "outputs": []
    },
    {
      "cell_type": "markdown",
      "source": [
        "**Jackknife estimates**"
      ],
      "metadata": {
        "id": "hHX6Syad9-1_"
      }
    },
    {
      "cell_type": "code",
      "source": [
        "low_jacks = []\n",
        "for i in range(n_obs):\n",
        "    jack_tot = np.concatenate((kidney.tot[:i], kidney.tot[i + 1:]))\n",
        "    jack_age = np.concatenate((kidney.age[:i], kidney.age[i + 1:]))\n",
        "    new_preds = lowess(jack_tot, jack_age, frac=1/3.0)\n",
        "    low_jacks.append(new_preds)"
      ],
      "metadata": {
        "id": "fce-p2BR-D-q"
      },
      "execution_count": null,
      "outputs": []
    },
    {
      "cell_type": "code",
      "source": [
        "# interpolate lowess predictions for age = 20, 30, ..., 80\n",
        "jack_decs = np.zeros((n_ages, n_obs))\n",
        "for i, pred in enumerate(low_jacks):\n",
        "    # interp1d seems to have trouble with non-unique values\n",
        "    pred = np.unique(pred, axis=0)\n",
        "    # create an interpolator and collect each lowess's predictions\n",
        "    interpolate = interp1d(pred[:, 0], pred[:, 1], fill_value=\"extrapolate\", assume_sorted=True)\n",
        "    jack_decs[:, i] = interpolate(ages)\n",
        "\n",
        "# get estimate of theta\n",
        "theta = jack_decs.mean(axis=1)\n",
        "\n",
        "# get standard deviation for each age\n",
        "jack_var = ((jack_decs - theta[:, None])**2).sum(axis=1) * (n_obs - 1) / n_obs\n",
        "jack_sds = np.sqrt(jack_var)"
      ],
      "metadata": {
        "id": "AjrrYdPz9wvZ"
      },
      "execution_count": null,
      "outputs": []
    },
    {
      "cell_type": "markdown",
      "source": [
        "**Boostrap estimates**"
      ],
      "metadata": {
        "id": "eF3h7LP9-JC6"
      }
    },
    {
      "cell_type": "code",
      "source": [
        "n_boots = 500"
      ],
      "metadata": {
        "id": "mYhPYiEA-N8J"
      },
      "execution_count": null,
      "outputs": []
    },
    {
      "cell_type": "code",
      "source": [
        "low_boots = []\n",
        "for i in range(n_boots):\n",
        "    boot_data = kidney.sample(n=kidney.shape[0], replace=True)\n",
        "    new_preds = lowess(boot_data.tot, boot_data.age, frac=1/3.0)\n",
        "    low_boots.append(new_preds)"
      ],
      "metadata": {
        "id": "Bsvp-waI-G3A"
      },
      "execution_count": null,
      "outputs": []
    },
    {
      "cell_type": "code",
      "source": [
        "# interpolate lowess predictions for age = 20, 30, ..., 80\n",
        "boot_decs = np.zeros((n_ages, n_boots))\n",
        "for i, pred in enumerate(low_boots):\n",
        "    # interp1d seems to have trouble with non-unique values\n",
        "    pred = np.unique(pred, axis=0)\n",
        "    # create an interpolator and collect each lowess's predictions\n",
        "    interpolate = interp1d(pred[:, 0], pred[:, 1], fill_value=\"extrapolate\", assume_sorted=True)\n",
        "    boot_decs[:, i] = interpolate(ages)\n",
        "\n",
        "# get standard deviation for each age\n",
        "boot_var = np.var(boot_decs, axis=1, ddof=1)\n",
        "boot_sds = np.sqrt(boot_var)"
      ],
      "metadata": {
        "id": "XXVsITZi-TDe"
      },
      "execution_count": null,
      "outputs": []
    },
    {
      "cell_type": "markdown",
      "source": [
        "## 図10.1"
      ],
      "metadata": {
        "id": "lRUr2dhS-V1m"
      }
    },
    {
      "cell_type": "code",
      "source": [
        "# interpolate the original lowess points for age = 20, 30, ..., 80\n",
        "interpolate = interp1d(\n",
        "    low_preds[:, 0],\n",
        "    low_preds[:, 1],\n",
        "    fill_value=\"extrapolate\",\n",
        "    assume_sorted=True\n",
        ")\n",
        "\n",
        "jack_se_lines = LineCollection(\n",
        "    [\n",
        "        [[age + 0.3, interpolate(age) - 2 * se], [age + 0.3, interpolate(age) + 2 * se]]\n",
        "        for age, se in zip(ages, jack_sds)\n",
        "    ],\n",
        "    color=\"b\",\n",
        "    linestyle=\"--\",\n",
        ")\n",
        "\n",
        "boot_se_lines = LineCollection(\n",
        "    [\n",
        "        [[age - 0.3, interpolate(age) - 2 * se], [age - 0.3, interpolate(age) + 2 * se]]\n",
        "        for age, se in zip(ages, boot_sds)\n",
        "    ],\n",
        "    color=\"r\",\n",
        ")\n"
      ],
      "metadata": {
        "id": "0M1M-yT2-fUE"
      },
      "execution_count": null,
      "outputs": []
    },
    {
      "cell_type": "code",
      "source": [
        "fig, ax = plt.subplots(figsize=(12, 7))\n",
        "\n",
        "#ax.scatter(kidney.age, kidney.tot)\n",
        "ax.plot(low_preds[:, 0], low_preds[:, 1], color=\"k\")\n",
        "ax.add_collection(jack_se_lines)\n",
        "ax.add_collection(boot_se_lines)\n",
        "\n",
        "ax.set_xlabel(\"age\", size=18)\n",
        "ax.set_ylabel(\"tot\", size=18)\n",
        "\n",
        "ax.set_ylim(-6, 3.5);"
      ],
      "metadata": {
        "colab": {
          "base_uri": "https://localhost:8080/",
          "height": 407
        },
        "id": "HxW5hAqG-Z5e",
        "outputId": "48f85e95-b6b9-4675-b83f-1b21b215608a"
      },
      "execution_count": null,
      "outputs": [
        {
          "output_type": "display_data",
          "data": {
            "text/plain": [
              "<Figure size 1200x700 with 1 Axes>"
            ],
            "image/png": "[encoded data removed]"
          },
          "metadata": {}
        }
      ]
    },
    {
      "cell_type": "markdown",
      "source": [
        "#10.3"
      ],
      "metadata": {
        "id": "7XvIPhwZxOXv"
      }
    },
    {
      "cell_type": "code",
      "source": [
        "leukemia = pd.read_csv(\"/content/leukemia_big.csv\")"
      ],
      "metadata": {
        "id": "KHg9kipZwLab"
      },
      "execution_count": null,
      "outputs": []
    },
    {
      "cell_type": "code",
      "source": [
        "leukemia.head()"
      ],
      "metadata": {
        "colab": {
          "base_uri": "https://localhost:8080/",
          "height": 300
        },
        "id": "JmSMoK9KwjzU",
        "outputId": "2386c84e-8eb4-4afb-fbde-64fa9528e332"
      },
      "execution_count": null,
      "outputs": [
        {
          "output_type": "execute_result",
          "data": {
            "text/plain": [
              "        ALL     ALL.1     ALL.2     ALL.3     ALL.4     ALL.5     ALL.6  \\\n",
              "0 -1.533622 -0.867610 -0.433172 -1.671903 -1.187689 -1.127234 -1.045409   \n",
              "1 -1.235673 -1.275501 -1.184492 -1.596424 -1.335256 -1.113730 -0.800880   \n",
              "2 -0.333983  0.375927 -0.459196 -1.422571 -0.797493 -1.362768 -0.671954   \n",
              "3  0.488702  0.444011  0.436264  0.193353  0.235632 -0.360312  0.184941   \n",
              "4 -1.300893 -1.229660 -1.325882 -1.818329 -1.311206 -1.513975 -1.651624   \n",
              "\n",
              "      ALL.7     ALL.8     ALL.9  ...    AML.15    AML.16    AML.17    AML.18  \\\n",
              "0 -0.106917 -1.198796 -1.190899  ... -0.436650 -1.274708 -0.681458 -0.876610   \n",
              "1 -0.745177 -0.849312 -1.190899  ... -0.915483 -1.354363 -0.653559 -1.096250   \n",
              "2 -1.175674  0.320813  0.646610  ... -0.736156 -0.022153 -0.037455 -0.567335   \n",
              "3  0.425653  0.333983  0.235270  ...  0.083781  0.356562  0.416241  0.533986   \n",
              "4 -1.339555 -0.593132  0.133302  ... -1.547444 -1.264475 -1.512318 -1.469583   \n",
              "\n",
              "     AML.19    AML.20    AML.21    AML.22    AML.23    AML.24  \n",
              "0 -0.624022 -0.431628 -1.435259 -0.671954 -1.013161 -0.969482  \n",
              "1 -1.066594 -1.335256 -1.204586 -0.751457 -0.889592 -1.080988  \n",
              "2 -1.100749 -0.552938 -0.948874 -0.231657 -0.742163 -0.779500  \n",
              "3  0.227505  0.416816  0.408202  0.326556  0.361813  0.298864  \n",
              "4 -1.283472 -0.977672 -1.090178 -1.545120 -1.174272 -1.443183  \n",
              "\n",
              "[5 rows x 72 columns]"
            ],
            "text/html": [
              "\n",
              "\n",
              "  <div id=\"df-d901c9f8-f50d-438e-9339-f7c54da4720d\">\n",
              "    <div class=\"colab-df-container\">\n",
              "      <div>\n",
              "<style scoped>\n",
              "    .dataframe tbody tr th:only-of-type {\n",
              "        vertical-align: middle;\n",
              "    }\n",
              "\n",
              "    .dataframe tbody tr th {\n",
              "        vertical-align: top;\n",
              "    }\n",
              "\n",
              "    .dataframe thead th {\n",
              "        text-align: right;\n",
              "    }\n",
              "</style>\n",
              "<table border=\"1\" class=\"dataframe\">\n",
              "  <thead>\n",
              "    <tr style=\"text-align: right;\">\n",
              "      <th></th>\n",
              "      <th>ALL</th>\n",
              "      <th>ALL.1</th>\n",
              "      <th>ALL.2</th>\n",
              "      <th>ALL.3</th>\n",
              "      <th>ALL.4</th>\n",
              "      <th>ALL.5</th>\n",
              "      <th>ALL.6</th>\n",
              "      <th>ALL.7</th>\n",
              "      <th>ALL.8</th>\n",
              "      <th>ALL.9</th>\n",
              "      <th>...</th>\n",
              "      <th>AML.15</th>\n",
              "      <th>AML.16</th>\n",
              "      <th>AML.17</th>\n",
              "      <th>AML.18</th>\n",
              "      <th>AML.19</th>\n",
              "      <th>AML.20</th>\n",
              "      <th>AML.21</th>\n",
              "      <th>AML.22</th>\n",
              "      <th>AML.23</th>\n",
              "      <th>AML.24</th>\n",
              "    </tr>\n",
              "  </thead>\n",
              "  <tbody>\n",
              "    <tr>\n",
              "      <th>0</th>\n",
              "      <td>-1.533622</td>\n",
              "      <td>-0.867610</td>\n",
              "      <td>-0.433172</td>\n",
              "      <td>-1.671903</td>\n",
              "      <td>-1.187689</td>\n",
              "      <td>-1.127234</td>\n",
              "      <td>-1.045409</td>\n",
              "      <td>-0.106917</td>\n",
              "      <td>-1.198796</td>\n",
              "      <td>-1.190899</td>\n",
              "      <td>...</td>\n",
              "      <td>-0.436650</td>\n",
              "      <td>-1.274708</td>\n",
              "      <td>-0.681458</td>\n",
              "      <td>-0.876610</td>\n",
              "      <td>-0.624022</td>\n",
              "      <td>-0.431628</td>\n",
              "      <td>-1.435259</td>\n",
              "      <td>-0.671954</td>\n",
              "      <td>-1.013161</td>\n",
              "      <td>-0.969482</td>\n",
              "    </tr>\n",
              "    <tr>\n",
              "      <th>1</th>\n",
              "      <td>-1.235673</td>\n",
              "      <td>-1.275501</td>\n",
              "      <td>-1.184492</td>\n",
              "      <td>-1.596424</td>\n",
              "      <td>-1.335256</td>\n",
              "      <td>-1.113730</td>\n",
              "      <td>-0.800880</td>\n",
              "      <td>-0.745177</td>\n",
              "      <td>-0.849312</td>\n",
              "      <td>-1.190899</td>\n",
              "      <td>...</td>\n",
              "      <td>-0.915483</td>\n",
              "      <td>-1.354363</td>\n",
              "      <td>-0.653559</td>\n",
              "      <td>-1.096250</td>\n",
              "      <td>-1.066594</td>\n",
              "      <td>-1.335256</td>\n",
              "      <td>-1.204586</td>\n",
              "      <td>-0.751457</td>\n",
              "      <td>-0.889592</td>\n",
              "      <td>-1.080988</td>\n",
              "    </tr>\n",
              "    <tr>\n",
              "      <th>2</th>\n",
              "      <td>-0.333983</td>\n",
              "      <td>0.375927</td>\n",
              "      <td>-0.459196</td>\n",
              "      <td>-1.422571</td>\n",
              "      <td>-0.797493</td>\n",
              "      <td>-1.362768</td>\n",
              "      <td>-0.671954</td>\n",
              "      <td>-1.175674</td>\n",
              "      <td>0.320813</td>\n",
              "      <td>0.646610</td>\n",
              "      <td>...</td>\n",
              "      <td>-0.736156</td>\n",
              "      <td>-0.022153</td>\n",
              "      <td>-0.037455</td>\n",
              "      <td>-0.567335</td>\n",
              "      <td>-1.100749</td>\n",
              "      <td>-0.552938</td>\n",
              "      <td>-0.948874</td>\n",
              "      <td>-0.231657</td>\n",
              "      <td>-0.742163</td>\n",
              "      <td>-0.779500</td>\n",
              "    </tr>\n",
              "    <tr>\n",
              "      <th>3</th>\n",
              "      <td>0.488702</td>\n",
              "      <td>0.444011</td>\n",
              "      <td>0.436264</td>\n",
              "      <td>0.193353</td>\n",
              "      <td>0.235632</td>\n",
              "      <td>-0.360312</td>\n",
              "      <td>0.184941</td>\n",
              "      <td>0.425653</td>\n",
              "      <td>0.333983</td>\n",
              "      <td>0.235270</td>\n",
              "      <td>...</td>\n",
              "      <td>0.083781</td>\n",
              "      <td>0.356562</td>\n",
              "      <td>0.416241</td>\n",
              "      <td>0.533986</td>\n",
              "      <td>0.227505</td>\n",
              "      <td>0.416816</td>\n",
              "      <td>0.408202</td>\n",
              "      <td>0.326556</td>\n",
              "      <td>0.361813</td>\n",
              "      <td>0.298864</td>\n",
              "    </tr>\n",
              "    <tr>\n",
              "      <th>4</th>\n",
              "      <td>-1.300893</td>\n",
              "      <td>-1.229660</td>\n",
              "      <td>-1.325882</td>\n",
              "      <td>-1.818329</td>\n",
              "      <td>-1.311206</td>\n",
              "      <td>-1.513975</td>\n",
              "      <td>-1.651624</td>\n",
              "      <td>-1.339555</td>\n",
              "      <td>-0.593132</td>\n",
              "      <td>0.133302</td>\n",
              "      <td>...</td>\n",
              "      <td>-1.547444</td>\n",
              "      <td>-1.264475</td>\n",
              "      <td>-1.512318</td>\n",
              "      <td>-1.469583</td>\n",
              "      <td>-1.283472</td>\n",
              "      <td>-0.977672</td>\n",
              "      <td>-1.090178</td>\n",
              "      <td>-1.545120</td>\n",
              "      <td>-1.174272</td>\n",
              "      <td>-1.443183</td>\n",
              "    </tr>\n",
              "  </tbody>\n",
              "</table>\n",
              "<p>5 rows × 72 columns</p>\n",
              "</div>\n",
              "      <button class=\"colab-df-convert\" onclick=\"convertToInteractive('df-d901c9f8-f50d-438e-9339-f7c54da4720d')\"\n",
              "              title=\"Convert this dataframe to an interactive table.\"\n",
              "              style=\"display:none;\">\n",
              "\n",
              "  <svg xmlns=\"http://www.w3.org/2000/svg\" height=\"24px\"viewBox=\"0 0 24 24\"\n",
              "       width=\"24px\">\n",
              "    <path d=\"M0 0h24v24H0V0z\" fill=\"none\"/>\n",
              "    <path d=\"M18.56 5.44l.94 2.06.94-2.06 2.06-.94-2.06-.94-.94-2.06-.94 2.06-2.06.94zm-11 1L8.5 8.5l.94-2.06 2.06-.94-2.06-.94L8.5 2.5l-.94 2.06-2.06.94zm10 10l.94 2.06.94-2.06 2.06-.94-2.06-.94-.94-2.06-.94 2.06-2.06.94z\"/><path d=\"M17.41 7.96l-1.37-1.37c-.4-.4-.92-.59-1.43-.59-.52 0-1.04.2-1.43.59L10.3 9.45l-7.72 7.72c-.78.78-.78 2.05 0 2.83L4 21.41c.39.39.9.59 1.41.59.51 0 1.02-.2 1.41-.59l7.78-7.78 2.81-2.81c.8-.78.8-2.07 0-2.86zM5.41 20L4 18.59l7.72-7.72 1.47 1.35L5.41 20z\"/>\n",
              "  </svg>\n",
              "      </button>\n",
              "\n",
              "\n",
              "\n",
              "    <div id=\"df-f4c8713f-c1ab-451e-b493-c2aa75d0a5df\">\n",
              "      <button class=\"colab-df-quickchart\" onclick=\"quickchart('df-f4c8713f-c1ab-451e-b493-c2aa75d0a5df')\"\n",
              "              title=\"Suggest charts.\"\n",
              "              style=\"display:none;\">\n",
              "\n",
              "<svg xmlns=\"http://www.w3.org/2000/svg\" height=\"24px\"viewBox=\"0 0 24 24\"\n",
              "     width=\"24px\">\n",
              "    <g>\n",
              "        <path d=\"M19 3H5c-1.1 0-2 .9-2 2v14c0 1.1.9 2 2 2h14c1.1 0 2-.9 2-2V5c0-1.1-.9-2-2-2zM9 17H7v-7h2v7zm4 0h-2V7h2v10zm4 0h-2v-4h2v4z\"/>\n",
              "    </g>\n",
              "</svg>\n",
              "      </button>\n",
              "    </div>\n",
              "\n",
              "<style>\n",
              "  .colab-df-quickchart {\n",
              "    background-color: #E8F0FE;\n",
              "    border: none;\n",
              "    border-radius: 50%;\n",
              "    cursor: pointer;\n",
              "    display: none;\n",
              "    fill: #1967D2;\n",
              "    height: 32px;\n",
              "    padding: 0 0 0 0;\n",
              "    width: 32px;\n",
              "  }\n",
              "\n",
              "  .colab-df-quickchart:hover {\n",
              "    background-color: #E2EBFA;\n",
              "    box-shadow: 0px 1px 2px rgba(60, 64, 67, 0.3), 0px 1px 3px 1px rgba(60, 64, 67, 0.15);\n",
              "    fill: #174EA6;\n",
              "  }\n",
              "\n",
              "  [theme=dark] .colab-df-quickchart {\n",
              "    background-color: #3B4455;\n",
              "    fill: #D2E3FC;\n",
              "  }\n",
              "\n",
              "  [theme=dark] .colab-df-quickchart:hover {\n",
              "    background-color: #434B5C;\n",
              "    box-shadow: 0px 1px 3px 1px rgba(0, 0, 0, 0.15);\n",
              "    filter: drop-shadow(0px 1px 2px rgba(0, 0, 0, 0.3));\n",
              "    fill: #FFFFFF;\n",
              "  }\n",
              "</style>\n",
              "\n",
              "    <script>\n",
              "      async function quickchart(key) {\n",
              "        const containerElement = document.querySelector('#' + key);\n",
              "        const charts = await google.colab.kernel.invokeFunction(\n",
              "            'suggestCharts', [key], {});\n",
              "      }\n",
              "    </script>\n",
              "\n",
              "      <script>\n",
              "\n",
              "function displayQuickchartButton(domScope) {\n",
              "  let quickchartButtonEl =\n",
              "    domScope.querySelector('#df-f4c8713f-c1ab-451e-b493-c2aa75d0a5df button.colab-df-quickchart');\n",
              "  quickchartButtonEl.style.display =\n",
              "    google.colab.kernel.accessAllowed ? 'block' : 'none';\n",
              "}\n",
              "\n",
              "        displayQuickchartButton(document);\n",
              "      </script>\n",
              "      <style>\n",
              "    .colab-df-container {\n",
              "      display:flex;\n",
              "      flex-wrap:wrap;\n",
              "      gap: 12px;\n",
              "    }\n",
              "\n",
              "    .colab-df-convert {\n",
              "      background-color: #E8F0FE;\n",
              "      border: none;\n",
              "      border-radius: 50%;\n",
              "      cursor: pointer;\n",
              "      display: none;\n",
              "      fill: #1967D2;\n",
              "      height: 32px;\n",
              "      padding: 0 0 0 0;\n",
              "      width: 32px;\n",
              "    }\n",
              "\n",
              "    .colab-df-convert:hover {\n",
              "      background-color: #E2EBFA;\n",
              "      box-shadow: 0px 1px 2px rgba(60, 64, 67, 0.3), 0px 1px 3px 1px rgba(60, 64, 67, 0.15);\n",
              "      fill: #174EA6;\n",
              "    }\n",
              "\n",
              "    [theme=dark] .colab-df-convert {\n",
              "      background-color: #3B4455;\n",
              "      fill: #D2E3FC;\n",
              "    }\n",
              "\n",
              "    [theme=dark] .colab-df-convert:hover {\n",
              "      background-color: #434B5C;\n",
              "      box-shadow: 0px 1px 3px 1px rgba(0, 0, 0, 0.15);\n",
              "      filter: drop-shadow(0px 1px 2px rgba(0, 0, 0, 0.3));\n",
              "      fill: #FFFFFF;\n",
              "    }\n",
              "  </style>\n",
              "\n",
              "      <script>\n",
              "        const buttonEl =\n",
              "          document.querySelector('#df-d901c9f8-f50d-438e-9339-f7c54da4720d button.colab-df-convert');\n",
              "        buttonEl.style.display =\n",
              "          google.colab.kernel.accessAllowed ? 'block' : 'none';\n",
              "\n",
              "        async function convertToInteractive(key) {\n",
              "          const element = document.querySelector('#df-d901c9f8-f50d-438e-9339-f7c54da4720d');\n",
              "          const dataTable =\n",
              "            await google.colab.kernel.invokeFunction('convertToInteractive',\n",
              "                                                     [key], {});\n",
              "          if (!dataTable) return;\n",
              "\n",
              "          const docLinkHtml = 'Like what you see? Visit the ' +\n",
              "            '<a target=\"_blank\" href=https://colab.research.google.com/notebooks/data_table.ipynb>data table notebook</a>'\n",
              "            + ' to learn more about interactive tables.';\n",
              "          element.innerHTML = '';\n",
              "          dataTable['output_type'] = 'display_data';\n",
              "          await google.colab.output.renderOutput(dataTable, element);\n",
              "          const docLink = document.createElement('div');\n",
              "          docLink.innerHTML = docLinkHtml;\n",
              "          element.appendChild(docLink);\n",
              "        }\n",
              "      </script>\n",
              "    </div>\n",
              "  </div>\n"
            ]
          },
          "metadata": {},
          "execution_count": 4
        }
      ]
    },
    {
      "cell_type": "code",
      "source": [
        "all_cols = [x for x in leukemia.columns if x.startswith(\"ALL\")]\n",
        "aml_cols = [x for x in leukemia.columns if x.startswith(\"AML\")]\n",
        "\n",
        "all_vals = leukemia[all_cols].iloc[135].values\n",
        "aml_vals = leukemia[aml_cols].iloc[135].values"
      ],
      "metadata": {
        "id": "jRxOzdqswmDQ"
      },
      "execution_count": null,
      "outputs": []
    },
    {
      "cell_type": "markdown",
      "source": [
        "## 図10.4"
      ],
      "metadata": {
        "id": "-kf71RaLxIWY"
      }
    },
    {
      "cell_type": "code",
      "source": [
        "mediff_est = (np.median(aml_vals) - np.median(all_vals))\n",
        "mediff_est.round(3)"
      ],
      "metadata": {
        "colab": {
          "base_uri": "https://localhost:8080/",
          "height": 191
        },
        "id": "fMCV_TY1wol7",
        "outputId": "3ee703bb-30b8-41eb-9e82-86c5f06d9853"
      },
      "execution_count": null,
      "outputs": [
        {
          "output_type": "error",
          "ename": "NameError",
          "evalue": "ignored",
          "traceback": [
            "\u001b[0;31m---------------------------------------------------------------------------\u001b[0m",
            "\u001b[0;31mNameError\u001b[0m                                 Traceback (most recent call last)",
            "\u001b[0;32m<ipython-input-3-4f25c82fb549>\u001b[0m in \u001b[0;36m<cell line: 1>\u001b[0;34m()\u001b[0m\n\u001b[0;32m----> 1\u001b[0;31m \u001b[0mmediff_est\u001b[0m \u001b[0;34m=\u001b[0m \u001b[0;34m(\u001b[0m\u001b[0mnp\u001b[0m\u001b[0;34m.\u001b[0m\u001b[0mmedian\u001b[0m\u001b[0;34m(\u001b[0m\u001b[0maml_vals\u001b[0m\u001b[0;34m)\u001b[0m \u001b[0;34m-\u001b[0m \u001b[0mnp\u001b[0m\u001b[0;34m.\u001b[0m\u001b[0mmedian\u001b[0m\u001b[0;34m(\u001b[0m\u001b[0mall_vals\u001b[0m\u001b[0;34m)\u001b[0m\u001b[0;34m)\u001b[0m\u001b[0;34m\u001b[0m\u001b[0;34m\u001b[0m\u001b[0m\n\u001b[0m\u001b[1;32m      2\u001b[0m \u001b[0mmediff_est\u001b[0m\u001b[0;34m.\u001b[0m\u001b[0mround\u001b[0m\u001b[0;34m(\u001b[0m\u001b[0;36m3\u001b[0m\u001b[0;34m)\u001b[0m\u001b[0;34m\u001b[0m\u001b[0;34m\u001b[0m\u001b[0m\n",
            "\u001b[0;31mNameError\u001b[0m: name 'aml_vals' is not defined"
          ]
        }
      ]
    },
    {
      "cell_type": "code",
      "source": [
        "n_all = all_vals.shape[0]\n",
        "n_aml = aml_vals.shape[0]\n",
        "\n",
        "n_boots = 500\n",
        "bootvals = []\n",
        "for _ in range(n_boots):\n",
        "    aml_boot = np.random.choice(aml_vals, size=n_aml, replace=True)\n",
        "    all_boot = np.random.choice(all_vals, size=n_all, replace=True)\n",
        "    bootvals.append(np.median(aml_boot) - np.median(all_boot))"
      ],
      "metadata": {
        "id": "F7ViN2nSwsSR"
      },
      "execution_count": null,
      "outputs": []
    },
    {
      "cell_type": "code",
      "source": [
        "np.sqrt(np.var(bootvals, ddof=1)).round(3)"
      ],
      "metadata": {
        "colab": {
          "base_uri": "https://localhost:8080/"
        },
        "id": "NMdXRCg8xUTO",
        "outputId": "1d443902-b3b6-4fe8-8870-1027f20e7ece"
      },
      "execution_count": null,
      "outputs": [
        {
          "output_type": "execute_result",
          "data": {
            "text/plain": [
              "0.069"
            ]
          },
          "metadata": {},
          "execution_count": 8
        }
      ]
    },
    {
      "cell_type": "code",
      "source": [
        "fig, ax = plt.subplots(figsize=(12, 7))\n",
        "\n",
        "ax.hist(bootvals, bins=36, color=\"cyan\", edgecolor=\"k\")\n",
        "ax.axvline(mediff_est, c=\"k\", linewidth=2)\n",
        "ax.axvline(0, c=\"k\", linestyle=\"--\", linewidth=1)\n",
        "\n",
        "ax.set_xlabel(\"mediff*\", size=18)\n",
        "ax.set_ylabel(\"Frequency\", size=18);"
      ],
      "metadata": {
        "colab": {
          "base_uri": "https://localhost:8080/",
          "height": 405
        },
        "id": "cPQKOPCPxWc8",
        "outputId": "b108a6c8-0d50-403c-ede4-81bd1019706c"
      },
      "execution_count": null,
      "outputs": [
        {
          "output_type": "display_data",
          "data": {
            "text/plain": [
              "<Figure size 1200x700 with 1 Axes>"
            ],
            "image/png": "[encoded data removed]"
          },
          "metadata": {}
        }
      ]
    },
    {
      "cell_type": "markdown",
      "source": [
        "B=200でやってみる"
      ],
      "metadata": {
        "id": "YIkMv1h_yagp"
      }
    },
    {
      "cell_type": "code",
      "source": [
        "n_all = all_vals.shape[0]\n",
        "n_aml = aml_vals.shape[0]\n",
        "\n",
        "n_boots = 200\n",
        "bootvals = []\n",
        "for _ in range(n_boots):\n",
        "    aml_boot = np.random.choice(aml_vals, size=n_aml, replace=True)\n",
        "    all_boot = np.random.choice(all_vals, size=n_all, replace=True)\n",
        "    bootvals.append(np.median(aml_boot) - np.median(all_boot))"
      ],
      "metadata": {
        "id": "mf6MYxXhxY3M"
      },
      "execution_count": null,
      "outputs": []
    },
    {
      "cell_type": "code",
      "source": [
        "np.sqrt(np.var(bootvals, ddof=1)).round(3)"
      ],
      "metadata": {
        "colab": {
          "base_uri": "https://localhost:8080/"
        },
        "id": "PNbzw2LLyfNZ",
        "outputId": "edecc2e6-4c78-4457-a3fa-898efa7dc706"
      },
      "execution_count": null,
      "outputs": [
        {
          "output_type": "execute_result",
          "data": {
            "text/plain": [
              "0.063"
            ]
          },
          "metadata": {},
          "execution_count": 11
        }
      ]
    },
    {
      "cell_type": "code",
      "source": [
        "ig, ax = plt.subplots(figsize=(12, 7))\n",
        "\n",
        "ax.hist(bootvals, bins=36, color=\"cyan\", edgecolor=\"k\")\n",
        "ax.axvline(mediff_est, c=\"k\", linewidth=2)\n",
        "ax.axvline(0, c=\"k\", linestyle=\"--\", linewidth=1)\n",
        "\n",
        "ax.set_xlabel(\"mediff*\", size=18)\n",
        "ax.set_ylabel(\"Frequency\", size=18);"
      ],
      "metadata": {
        "colab": {
          "base_uri": "https://localhost:8080/",
          "height": 407
        },
        "id": "ZccbLmmuyiVt",
        "outputId": "ad1381a9-21b7-440f-ea65-8747d87d026f"
      },
      "execution_count": null,
      "outputs": [
        {
          "output_type": "display_data",
          "data": {
            "text/plain": [
              "<Figure size 1200x700 with 1 Axes>"
            ],
            "image/png": "[encoded data removed]"
          },
          "metadata": {}
        }
      ]
    },
    {
      "cell_type": "code",
      "source": [],
      "metadata": {
        "id": "5SWrTcAXykSL"
      },
      "execution_count": null,
      "outputs": []
    },
    {
      "cell_type": "markdown",
      "source": [
        "# 10.4"
      ],
      "metadata": {
        "id": "_1Hd08HDWcN8"
      }
    },
    {
      "cell_type": "markdown",
      "source": [
        "### 図10.5"
      ],
      "metadata": {
        "id": "0bdNpUZdWUcX"
      }
    },
    {
      "cell_type": "code",
      "source": [
        "gfr = pd.read_csv(\"/content/gfr.txt\", delimiter=\" \", header=None, names=[\"gfr\"])\n",
        "gfr = gfr.gfr.values"
      ],
      "metadata": {
        "id": "mwCF981RAaGS"
      },
      "execution_count": null,
      "outputs": []
    },
    {
      "cell_type": "code",
      "source": [
        "frequency, edges = np.histogram(gfr, bins=np.arange(13, 112, 3))"
      ],
      "metadata": {
        "id": "khfX9v-YAuxe"
      },
      "execution_count": null,
      "outputs": []
    },
    {
      "cell_type": "code",
      "source": [
        "centers = (edges[:-1] + edges[1:]) / 2"
      ],
      "metadata": {
        "id": "vRQ8J-N8AkKu"
      },
      "execution_count": null,
      "outputs": []
    },
    {
      "cell_type": "code",
      "source": [
        "edges"
      ],
      "metadata": {
        "colab": {
          "base_uri": "https://localhost:8080/"
        },
        "id": "kI8e7PfbAzQN",
        "outputId": "8097bd36-3371-43c0-c9f9-19eacb317507"
      },
      "execution_count": null,
      "outputs": [
        {
          "output_type": "execute_result",
          "data": {
            "text/plain": [
              "array([ 13,  16,  19,  22,  25,  28,  31,  34,  37,  40,  43,  46,  49,\n",
              "        52,  55,  58,  61,  64,  67,  70,  73,  76,  79,  82,  85,  88,\n",
              "        91,  94,  97, 100, 103, 106, 109])"
            ]
          },
          "metadata": {},
          "execution_count": 11
        }
      ]
    },
    {
      "cell_type": "code",
      "source": [
        "centers"
      ],
      "metadata": {
        "colab": {
          "base_uri": "https://localhost:8080/"
        },
        "id": "3EopWSH7A0TB",
        "outputId": "40653a66-746e-4ae0-a866-d9af22f3c23b"
      },
      "execution_count": null,
      "outputs": [
        {
          "output_type": "execute_result",
          "data": {
            "text/plain": [
              "array([ 14.5,  17.5,  20.5,  23.5,  26.5,  29.5,  32.5,  35.5,  38.5,\n",
              "        41.5,  44.5,  47.5,  50.5,  53.5,  56.5,  59.5,  62.5,  65.5,\n",
              "        68.5,  71.5,  74.5,  77.5,  80.5,  83.5,  86.5,  89.5,  92.5,\n",
              "        95.5,  98.5, 101.5, 104.5, 107.5])"
            ]
          },
          "metadata": {},
          "execution_count": 12
        }
      ]
    },
    {
      "cell_type": "code",
      "source": [
        "def make_poly(x, degree, orthogonal=False):\n",
        "    x_mat = np.transpose(np.vstack((x**k for k in range(degree + 1))))\n",
        "    if orthogonal:\n",
        "        x_mat = np.linalg.qr(x_mat)[0]\n",
        "        x_mat[:, 0] = 1\n",
        "    columns = [\"x{}\".format(i) for i in range(degree + 1)]\n",
        "    return pd.DataFrame(x_mat, columns=columns)"
      ],
      "metadata": {
        "id": "V4nW9BcQBSlf"
      },
      "execution_count": null,
      "outputs": []
    },
    {
      "cell_type": "code",
      "source": [
        "def poisson_pts(y, x, degree, orthogonal=False, print_summary=False):\n",
        "    # create polynomial dataset\n",
        "    X = make_poly(x, degree, orthogonal)\n",
        "    #pd.DataFrame({\"x{}\".format(i): x**i for i in range(degree + 1)})\n",
        "\n",
        "    # fit model\n",
        "    model = sm.GLM(y, X, family=sm.families.Poisson())\n",
        "    results = model.fit()\n",
        "\n",
        "    if print_summary:\n",
        "        print(results.summary())\n",
        "\n",
        "    # get y-values at input values\n",
        "    y_center = results.predict(X)\n",
        "\n",
        "    # make x,y points for the line\n",
        "    if orthogonal:\n",
        "        x_line = x\n",
        "    else:\n",
        "        x_line = np.arange(15, 109, 1)\n",
        "    graph_X = make_poly(x_line, degree, orthogonal)\n",
        "    # pd.DataFrame({\"x{}\".format(i): x_line**i for i in range(degree + 1)})\n",
        "    y_line = results.predict(graph_X)\n",
        "\n",
        "    return x_line, y_line, y_center"
      ],
      "metadata": {
        "id": "oYGVxIWjB302"
      },
      "execution_count": null,
      "outputs": []
    },
    {
      "cell_type": "code",
      "source": [
        "x, y2, y2_center = poisson_pts(frequency, centers, degree=2)\n",
        "_, y3, y3_center = poisson_pts(frequency, centers, degree=3)\n",
        "_, y4, y4_center = poisson_pts(frequency, centers, degree=4)\n",
        "_, y5, y5_center = poisson_pts(frequency, centers, degree=5)\n",
        "_, y6, y6_center = poisson_pts(frequency, centers, degree=6)\n",
        "_, y7, y7_center = poisson_pts(frequency, centers, degree=7)"
      ],
      "metadata": {
        "id": "FXVrjRRPCdnC"
      },
      "execution_count": null,
      "outputs": []
    },
    {
      "cell_type": "code",
      "source": [
        "_"
      ],
      "metadata": {
        "colab": {
          "base_uri": "https://localhost:8080/"
        },
        "id": "uLnl7kYKDKiV",
        "outputId": "c2004bba-ba22-4811-970c-57dbdf74b96d"
      },
      "execution_count": null,
      "outputs": [
        {
          "output_type": "execute_result",
          "data": {
            "text/plain": [
              "array([ 15,  16,  17,  18,  19,  20,  21,  22,  23,  24,  25,  26,  27,\n",
              "        28,  29,  30,  31,  32,  33,  34,  35,  36,  37,  38,  39,  40,\n",
              "        41,  42,  43,  44,  45,  46,  47,  48,  49,  50,  51,  52,  53,\n",
              "        54,  55,  56,  57,  58,  59,  60,  61,  62,  63,  64,  65,  66,\n",
              "        67,  68,  69,  70,  71,  72,  73,  74,  75,  76,  77,  78,  79,\n",
              "        80,  81,  82,  83,  84,  85,  86,  87,  88,  89,  90,  91,  92,\n",
              "        93,  94,  95,  96,  97,  98,  99, 100, 101, 102, 103, 104, 105,\n",
              "       106, 107, 108])"
            ]
          },
          "metadata": {},
          "execution_count": 20
        }
      ]
    },
    {
      "cell_type": "code",
      "source": [
        "fig, ax = plt.subplots(figsize=(12, 8))\n",
        "\n",
        "ax.bar(\n",
        "    centers,\n",
        "    frequency,\n",
        "    width=np.diff(edges),\n",
        "    align=\"center\",\n",
        "    edgecolor=\"k\",\n",
        "    color=\"orange\",\n",
        "    zorder=-1,\n",
        ")\n",
        "\n",
        "ax.plot(x, y2, c=\"k\", linewidth=2)\n",
        "ax.scatter(centers, y2_center, c=\"k\")\n",
        "\n",
        "ax.plot(x, y3, c=\"g\", linewidth=2)\n",
        "ax.scatter(centers, y3_center, c=\"g\")\n",
        "\n",
        "ax.plot(x, y4, c=\"g\", linewidth=2)\n",
        "ax.scatter(centers, y4_center, c=\"g\")\n",
        "\n",
        "ax.plot(x, y5, c=\"g\", linewidth=2)\n",
        "ax.scatter(centers, y5_center, c=\"g\")\n",
        "\n",
        "ax.plot(x, y6, c=\"g\", linewidth=2)\n",
        "ax.scatter(centers, y6_center, c=\"g\")\n",
        "\n",
        "ax.plot(x, y7, c=\"b\", linewidth=2)\n",
        "ax.scatter(centers, y7_center, c=\"b\")\n",
        "\n",
        "ax.annotate(\n",
        "    \"df = 2\",\n",
        "    size=14,\n",
        "    xy=(75, 7.5),\n",
        "    xytext=(78, 9.5),\n",
        "    arrowprops=dict(\n",
        "        arrowstyle=\"->\",\n",
        "        facecolor=\"black\",\n",
        "    ),\n",
        "    horizontalalignment=\"center\",\n",
        ")\n",
        "\n",
        "ax.annotate(\n",
        "    \"df = 3,4,5,6,7\",\n",
        "    size=14,\n",
        "    xy=(41, 16),\n",
        "    xytext=(33, 19),\n",
        "    arrowprops=dict(\n",
        "        arrowstyle=\"->\",\n",
        "        facecolor=\"black\",\n",
        "    ),\n",
        "    horizontalalignment=\"center\",\n",
        ")\n",
        "\n",
        "ax.set_xlabel(\"gfr\", size=18)\n",
        "ax.set_ylabel(\"Frequency\", size=18);\n"
      ],
      "metadata": {
        "colab": {
          "base_uri": "https://localhost:8080/",
          "height": 705
        },
        "id": "X8EUnQXvDWnH",
        "outputId": "ef898bd0-57c5-43d4-8839-0947ba859132"
      },
      "execution_count": null,
      "outputs": [
        {
          "output_type": "display_data",
          "data": {
            "text/plain": [
              "<Figure size 1200x800 with 1 Axes>"
            ],
            "image/png": "[encoded data removed]"
          },
          "metadata": {}
        }
      ]
    },
    {
      "cell_type": "markdown",
      "source": [
        "(10.56)"
      ],
      "metadata": {
        "id": "B5TuTIyvF4Ru"
      }
    },
    {
      "cell_type": "code",
      "source": [
        "degree=2\n",
        "X = make_poly(x, degree, False)\n",
        "    #pd.DataFrame({\"x{}\".format(i): x**i for i in range(degree + 1)})\n",
        "\n",
        "    # fit model\n",
        "model = sm.GLM(y, X, family=sm.families.Poisson())\n",
        "results = model.fit()\n",
        "results"
      ],
      "metadata": {
        "colab": {
          "base_uri": "https://localhost:8080/",
          "height": 244
        },
        "id": "_L6pk1YlD33b",
        "outputId": "ef0952c4-40a8-422b-cd21-4ba671cbb133"
      },
      "execution_count": null,
      "outputs": [
        {
          "output_type": "error",
          "ename": "NameError",
          "evalue": "ignored",
          "traceback": [
            "\u001b[0;31m---------------------------------------------------------------------------\u001b[0m",
            "\u001b[0;31mNameError\u001b[0m                                 Traceback (most recent call last)",
            "\u001b[0;32m<ipython-input-32-e439e33f4b25>\u001b[0m in \u001b[0;36m<cell line: 6>\u001b[0;34m()\u001b[0m\n\u001b[1;32m      4\u001b[0m \u001b[0;34m\u001b[0m\u001b[0m\n\u001b[1;32m      5\u001b[0m     \u001b[0;31m# fit model\u001b[0m\u001b[0;34m\u001b[0m\u001b[0;34m\u001b[0m\u001b[0m\n\u001b[0;32m----> 6\u001b[0;31m \u001b[0mmodel\u001b[0m \u001b[0;34m=\u001b[0m \u001b[0msm\u001b[0m\u001b[0;34m.\u001b[0m\u001b[0mGLM\u001b[0m\u001b[0;34m(\u001b[0m\u001b[0my\u001b[0m\u001b[0;34m,\u001b[0m \u001b[0mX\u001b[0m\u001b[0;34m,\u001b[0m \u001b[0mfamily\u001b[0m\u001b[0;34m=\u001b[0m\u001b[0msm\u001b[0m\u001b[0;34m.\u001b[0m\u001b[0mfamilies\u001b[0m\u001b[0;34m.\u001b[0m\u001b[0mPoisson\u001b[0m\u001b[0;34m(\u001b[0m\u001b[0;34m)\u001b[0m\u001b[0;34m)\u001b[0m\u001b[0;34m\u001b[0m\u001b[0;34m\u001b[0m\u001b[0m\n\u001b[0m\u001b[1;32m      7\u001b[0m \u001b[0mresults\u001b[0m \u001b[0;34m=\u001b[0m \u001b[0mmodel\u001b[0m\u001b[0;34m.\u001b[0m\u001b[0mfit\u001b[0m\u001b[0;34m(\u001b[0m\u001b[0;34m)\u001b[0m\u001b[0;34m\u001b[0m\u001b[0;34m\u001b[0m\u001b[0m\n\u001b[1;32m      8\u001b[0m \u001b[0mresults\u001b[0m\u001b[0;34m\u001b[0m\u001b[0;34m\u001b[0m\u001b[0m\n",
            "\u001b[0;31mNameError\u001b[0m: name 'y' is not defined"
          ]
        }
      ]
    },
    {
      "cell_type": "code",
      "source": [
        "\n"
      ],
      "metadata": {
        "id": "EsPp59HdH4zF"
      },
      "execution_count": null,
      "outputs": []
    }
  ]
}